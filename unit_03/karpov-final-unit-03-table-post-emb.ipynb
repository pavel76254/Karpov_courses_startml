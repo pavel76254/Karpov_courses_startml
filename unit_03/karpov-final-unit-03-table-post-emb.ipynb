{
 "cells": [
  {
   "cell_type": "markdown",
   "id": "7a4bd320",
   "metadata": {
    "papermill": {
     "duration": 0.006304,
     "end_time": "2023-04-12T09:49:22.445886",
     "exception": false,
     "start_time": "2023-04-12T09:49:22.439582",
     "status": "completed"
    },
    "tags": []
   },
   "source": [
    "# Генерация эмбеддингов постов при помощи моделей нейросетей.\n",
    "Ноутбук выполнялся в kaggle."
   ]
  },
  {
   "cell_type": "code",
   "execution_count": 1,
   "id": "6ef6cfeb",
   "metadata": {
    "execution": {
     "iopub.execute_input": "2023-04-12T09:49:22.459035Z",
     "iopub.status.busy": "2023-04-12T09:49:22.458209Z",
     "iopub.status.idle": "2023-04-12T09:49:33.953032Z",
     "shell.execute_reply": "2023-04-12T09:49:33.951762Z"
    },
    "papermill": {
     "duration": 11.504739,
     "end_time": "2023-04-12T09:49:33.956218",
     "exception": false,
     "start_time": "2023-04-12T09:49:22.451479",
     "status": "completed"
    },
    "tags": []
   },
   "outputs": [
    {
     "name": "stdout",
     "output_type": "stream",
     "text": [
      "Collecting psycopg2-binary\r\n",
      "  Downloading psycopg2_binary-2.9.6-cp37-cp37m-manylinux_2_17_x86_64.manylinux2014_x86_64.whl (3.0 MB)\r\n",
      "\u001b[2K     \u001b[90m━━━━━━━━━━━━━━━━━━━━━━━━━━━━━━━━━━━━━━━━\u001b[0m \u001b[32m3.0/3.0 MB\u001b[0m \u001b[31m27.7 MB/s\u001b[0m eta \u001b[36m0:00:00\u001b[0m\r\n",
      "\u001b[?25hInstalling collected packages: psycopg2-binary\r\n",
      "Successfully installed psycopg2-binary-2.9.6\r\n",
      "\u001b[33mWARNING: Running pip as the 'root' user can result in broken permissions and conflicting behaviour with the system package manager. It is recommended to use a virtual environment instead: https://pip.pypa.io/warnings/venv\u001b[0m\u001b[33m\r\n",
      "\u001b[0m"
     ]
    }
   ],
   "source": [
    "!pip install psycopg2-binary"
   ]
  },
  {
   "cell_type": "code",
   "execution_count": 2,
   "id": "0abc10c5",
   "metadata": {
    "execution": {
     "iopub.execute_input": "2023-04-12T09:49:33.970016Z",
     "iopub.status.busy": "2023-04-12T09:49:33.969683Z",
     "iopub.status.idle": "2023-04-12T09:49:55.318818Z",
     "shell.execute_reply": "2023-04-12T09:49:55.317400Z"
    },
    "papermill": {
     "duration": 21.35932,
     "end_time": "2023-04-12T09:49:55.321611",
     "exception": false,
     "start_time": "2023-04-12T09:49:33.962291",
     "status": "completed"
    },
    "tags": []
   },
   "outputs": [],
   "source": [
    "import pandas as pd\n",
    "import numpy as np\n",
    "\n",
    "from sqlalchemy import create_engine\n",
    "\n",
    "import re\n",
    "\n",
    "import sys\n",
    "import gc\n",
    "import os\n",
    "\n",
    "from dotenv import load_dotenv\n",
    "\n",
    "from tqdm import tqdm\n",
    "\n",
    "from transformers import AutoTokenizer\n",
    "from transformers import BertModel  # https://huggingface.co/docs/transformers/model_doc/bert#transformers.BertModel\n",
    "from transformers import RobertaModel  # https://huggingface.co/docs/transformers/model_doc/roberta#transformers.RobertaModel\n",
    "from transformers import DistilBertModel  # https://huggingface.co/docs/transformers/model_doc/distilbert#transformers.DistilBertModel\n",
    "\n",
    "import torch\n",
    "from torch.utils.data import Dataset\n",
    "from torch.utils.data import DataLoader\n",
    "from transformers import DataCollatorWithPadding"
   ]
  },
  {
   "cell_type": "code",
   "execution_count": 3,
   "id": "408c56cc",
   "metadata": {
    "execution": {
     "iopub.execute_input": "2023-04-12T09:49:55.335400Z",
     "iopub.status.busy": "2023-04-12T09:49:55.335051Z",
     "iopub.status.idle": "2023-04-12T09:49:55.342931Z",
     "shell.execute_reply": "2023-04-12T09:49:55.341720Z"
    },
    "papermill": {
     "duration": 0.017222,
     "end_time": "2023-04-12T09:49:55.344956",
     "exception": false,
     "start_time": "2023-04-12T09:49:55.327734",
     "status": "completed"
    },
    "tags": []
   },
   "outputs": [],
   "source": [
    "# Класс создаёт набор данных из токенизированных текстов.\n",
    "# Тексты токенизируется сразу же токенизатором tokenizer, при создании экземпляра класса.\n",
    "class PostDataset(Dataset):\n",
    "    def __init__(self, texts, tokenizer):\n",
    "        super().__init__()\n",
    "\n",
    "        self.texts = tokenizer.batch_encode_plus(\n",
    "            texts,\n",
    "            add_special_tokens=True,\n",
    "            return_token_type_ids=False,\n",
    "            return_tensors='pt',\n",
    "            truncation=True,\n",
    "            padding=True\n",
    "        )\n",
    "        self.tokenizer = tokenizer\n",
    "\n",
    "    def __getitem__(self, idx):\n",
    "        return {'input_ids': self.texts['input_ids'][idx], 'attention_mask': self.texts['attention_mask'][idx]}\n",
    "\n",
    "    def __len__(self):\n",
    "        return len(self.texts['input_ids'])"
   ]
  },
  {
   "cell_type": "code",
   "execution_count": 4,
   "id": "0adf50b2",
   "metadata": {
    "execution": {
     "iopub.execute_input": "2023-04-12T09:49:55.359250Z",
     "iopub.status.busy": "2023-04-12T09:49:55.358180Z",
     "iopub.status.idle": "2023-04-12T09:49:55.365614Z",
     "shell.execute_reply": "2023-04-12T09:49:55.364562Z"
    },
    "papermill": {
     "duration": 0.016425,
     "end_time": "2023-04-12T09:49:55.367662",
     "exception": false,
     "start_time": "2023-04-12T09:49:55.351237",
     "status": "completed"
    },
    "tags": []
   },
   "outputs": [],
   "source": [
    "# Функция для загрузки модели bert, roberta или distilbert из huggingface\n",
    "def get_model(model_name):\n",
    "    \n",
    "    assert model_name in ['bert', 'roberta', 'distilbert']\n",
    "\n",
    "    checkpoint_names = {\n",
    "        'bert': 'bert-base-cased',  # https://huggingface.co/bert-base-cased\n",
    "        'roberta': 'roberta-base',  # https://huggingface.co/roberta-base\n",
    "        'distilbert': 'distilbert-base-cased'  # https://huggingface.co/distilbert-base-cased\n",
    "    }\n",
    "\n",
    "    model_classes = {\n",
    "        'bert': BertModel,\n",
    "        'roberta': RobertaModel,\n",
    "        'distilbert': DistilBertModel\n",
    "    }\n",
    "\n",
    "    return AutoTokenizer.from_pretrained(checkpoint_names[model_name]), model_classes[model_name].from_pretrained(checkpoint_names[model_name])"
   ]
  },
  {
   "cell_type": "code",
   "execution_count": 5,
   "id": "22a78b72",
   "metadata": {
    "execution": {
     "iopub.execute_input": "2023-04-12T09:49:55.381198Z",
     "iopub.status.busy": "2023-04-12T09:49:55.380875Z",
     "iopub.status.idle": "2023-04-12T09:49:55.387621Z",
     "shell.execute_reply": "2023-04-12T09:49:55.386472Z"
    },
    "papermill": {
     "duration": 0.016277,
     "end_time": "2023-04-12T09:49:55.390139",
     "exception": false,
     "start_time": "2023-04-12T09:49:55.373862",
     "status": "completed"
    },
    "tags": []
   },
   "outputs": [],
   "source": [
    "# Подсчёт моделью эмбеддингов токенизированных текстов.\n",
    "# Эмбеддинги берутся с первого слоя last_hidden_state.\n",
    "@torch.inference_mode()\n",
    "def get_embeddings_labels(model, loader, device):\n",
    "    model.eval()\n",
    "    \n",
    "    total_embeddings = []\n",
    "    \n",
    "    for batch in tqdm(loader):\n",
    "        batch = {key: batch[key].to(device) for key in ['attention_mask', 'input_ids']}\n",
    "\n",
    "        embeddings = model(**batch)['last_hidden_state'][:, 0, :]\n",
    "\n",
    "        total_embeddings.append(embeddings.cpu())\n",
    "\n",
    "    return torch.cat(total_embeddings, dim=0)"
   ]
  },
  {
   "cell_type": "code",
   "execution_count": 6,
   "id": "e9c2e3fc",
   "metadata": {
    "execution": {
     "iopub.execute_input": "2023-04-12T09:49:55.403603Z",
     "iopub.status.busy": "2023-04-12T09:49:55.403271Z",
     "iopub.status.idle": "2023-04-12T09:49:55.421618Z",
     "shell.execute_reply": "2023-04-12T09:49:55.420493Z"
    },
    "papermill": {
     "duration": 0.027978,
     "end_time": "2023-04-12T09:49:55.424007",
     "exception": false,
     "start_time": "2023-04-12T09:49:55.396029",
     "status": "completed"
    },
    "tags": []
   },
   "outputs": [
    {
     "data": {
      "text/plain": [
       "True"
      ]
     },
     "execution_count": 6,
     "metadata": {},
     "output_type": "execute_result"
    }
   ],
   "source": [
    "# Загружаем доступы к базе данных соцальной сети Karpov Courses\n",
    "load_dotenv(r'/kaggle/input/karpov-startml-db/env')"
   ]
  },
  {
   "cell_type": "code",
   "execution_count": 7,
   "id": "5171a348",
   "metadata": {
    "execution": {
     "iopub.execute_input": "2023-04-12T09:49:55.438676Z",
     "iopub.status.busy": "2023-04-12T09:49:55.437810Z",
     "iopub.status.idle": "2023-04-12T09:49:55.444123Z",
     "shell.execute_reply": "2023-04-12T09:49:55.442900Z"
    },
    "papermill": {
     "duration": 0.016043,
     "end_time": "2023-04-12T09:49:55.446486",
     "exception": false,
     "start_time": "2023-04-12T09:49:55.430443",
     "status": "completed"
    },
    "tags": []
   },
   "outputs": [],
   "source": [
    "POSTGRESUSER = os.environ['POSTGRESUSER']\n",
    "POSTGRES_PASSWORD = os.environ['POSTGRES_PASSWORD']\n",
    "POSTGRES_HOST = os.environ['POSTGRES_HOST']\n",
    "POSTGRES_PORT = os.environ['POSTGRES_PORT']\n",
    "POSTGRES_DATABASE = os.environ['POSTGRES_DATABASE']"
   ]
  },
  {
   "cell_type": "code",
   "execution_count": 8,
   "id": "e0aa4e32",
   "metadata": {
    "execution": {
     "iopub.execute_input": "2023-04-12T09:49:55.461127Z",
     "iopub.status.busy": "2023-04-12T09:49:55.460248Z",
     "iopub.status.idle": "2023-04-12T09:49:55.465505Z",
     "shell.execute_reply": "2023-04-12T09:49:55.464472Z"
    },
    "papermill": {
     "duration": 0.015128,
     "end_time": "2023-04-12T09:49:55.467842",
     "exception": false,
     "start_time": "2023-04-12T09:49:55.452714",
     "status": "completed"
    },
    "tags": []
   },
   "outputs": [],
   "source": [
    "str_con_db = f'postgresql://{POSTGRESUSER}:{POSTGRES_PASSWORD}@{POSTGRES_HOST}:{POSTGRES_PORT}/{POSTGRES_DATABASE}'"
   ]
  },
  {
   "cell_type": "code",
   "execution_count": 9,
   "id": "765e0ffa",
   "metadata": {
    "execution": {
     "iopub.execute_input": "2023-04-12T09:49:55.481769Z",
     "iopub.status.busy": "2023-04-12T09:49:55.481256Z",
     "iopub.status.idle": "2023-04-12T09:49:55.819053Z",
     "shell.execute_reply": "2023-04-12T09:49:55.817941Z"
    },
    "papermill": {
     "duration": 0.348059,
     "end_time": "2023-04-12T09:49:55.821689",
     "exception": false,
     "start_time": "2023-04-12T09:49:55.473630",
     "status": "completed"
    },
    "tags": []
   },
   "outputs": [],
   "source": [
    "engine = create_engine(str_con_db)"
   ]
  },
  {
   "cell_type": "code",
   "execution_count": 10,
   "id": "e75df836",
   "metadata": {
    "execution": {
     "iopub.execute_input": "2023-04-12T09:49:55.834876Z",
     "iopub.status.busy": "2023-04-12T09:49:55.834578Z",
     "iopub.status.idle": "2023-04-12T09:49:59.644220Z",
     "shell.execute_reply": "2023-04-12T09:49:59.643079Z"
    },
    "papermill": {
     "duration": 3.819441,
     "end_time": "2023-04-12T09:49:59.647073",
     "exception": false,
     "start_time": "2023-04-12T09:49:55.827632",
     "status": "completed"
    },
    "tags": []
   },
   "outputs": [],
   "source": [
    "# Загрузка таблицы постов.\n",
    "posts_info = pd.read_sql(\"\"\"SELECT * FROM public.post_text_df\"\"\", con=engine)"
   ]
  },
  {
   "cell_type": "code",
   "execution_count": 11,
   "id": "cf6c7db1",
   "metadata": {
    "execution": {
     "iopub.execute_input": "2023-04-12T09:49:59.661179Z",
     "iopub.status.busy": "2023-04-12T09:49:59.660272Z",
     "iopub.status.idle": "2023-04-12T09:50:05.467281Z",
     "shell.execute_reply": "2023-04-12T09:50:05.466265Z"
    },
    "papermill": {
     "duration": 5.81643,
     "end_time": "2023-04-12T09:50:05.469727",
     "exception": false,
     "start_time": "2023-04-12T09:49:59.653297",
     "status": "completed"
    },
    "tags": []
   },
   "outputs": [
    {
     "data": {
      "application/vnd.jupyter.widget-view+json": {
       "model_id": "a39df78e43b9431d8dde6b33cf672ff5",
       "version_major": 2,
       "version_minor": 0
      },
      "text/plain": [
       "Downloading (…)okenizer_config.json:   0%|          | 0.00/29.0 [00:00<?, ?B/s]"
      ]
     },
     "metadata": {},
     "output_type": "display_data"
    },
    {
     "data": {
      "application/vnd.jupyter.widget-view+json": {
       "model_id": "ed8ea807fb9d4652b9e3f95ce240cb38",
       "version_major": 2,
       "version_minor": 0
      },
      "text/plain": [
       "Downloading (…)lve/main/config.json:   0%|          | 0.00/411 [00:00<?, ?B/s]"
      ]
     },
     "metadata": {},
     "output_type": "display_data"
    },
    {
     "data": {
      "application/vnd.jupyter.widget-view+json": {
       "model_id": "64d999b92fe6424c98ae447b274cedfe",
       "version_major": 2,
       "version_minor": 0
      },
      "text/plain": [
       "Downloading (…)solve/main/vocab.txt:   0%|          | 0.00/213k [00:00<?, ?B/s]"
      ]
     },
     "metadata": {},
     "output_type": "display_data"
    },
    {
     "data": {
      "application/vnd.jupyter.widget-view+json": {
       "model_id": "3e626e98e8a146209ad512a21b2deeaf",
       "version_major": 2,
       "version_minor": 0
      },
      "text/plain": [
       "Downloading (…)/main/tokenizer.json:   0%|          | 0.00/436k [00:00<?, ?B/s]"
      ]
     },
     "metadata": {},
     "output_type": "display_data"
    },
    {
     "data": {
      "application/vnd.jupyter.widget-view+json": {
       "model_id": "c001e59bbb2d41fb8ed96ff05534e0c3",
       "version_major": 2,
       "version_minor": 0
      },
      "text/plain": [
       "Downloading pytorch_model.bin:   0%|          | 0.00/263M [00:00<?, ?B/s]"
      ]
     },
     "metadata": {},
     "output_type": "display_data"
    },
    {
     "name": "stderr",
     "output_type": "stream",
     "text": [
      "Some weights of the model checkpoint at distilbert-base-cased were not used when initializing DistilBertModel: ['vocab_transform.bias', 'vocab_layer_norm.weight', 'vocab_projector.weight', 'vocab_transform.weight', 'vocab_projector.bias', 'vocab_layer_norm.bias']\n",
      "- This IS expected if you are initializing DistilBertModel from the checkpoint of a model trained on another task or with another architecture (e.g. initializing a BertForSequenceClassification model from a BertForPreTraining model).\n",
      "- This IS NOT expected if you are initializing DistilBertModel from the checkpoint of a model that you expect to be exactly identical (initializing a BertForSequenceClassification model from a BertForSequenceClassification model).\n"
     ]
    }
   ],
   "source": [
    "# Загрузка модели и токенайзера.\n",
    "tokenizer, model = get_model('distilbert')"
   ]
  },
  {
   "cell_type": "code",
   "execution_count": 12,
   "id": "cb6e1edc",
   "metadata": {
    "execution": {
     "iopub.execute_input": "2023-04-12T09:50:05.485490Z",
     "iopub.status.busy": "2023-04-12T09:50:05.483989Z",
     "iopub.status.idle": "2023-04-12T09:50:16.953599Z",
     "shell.execute_reply": "2023-04-12T09:50:16.952481Z"
    },
    "papermill": {
     "duration": 11.480261,
     "end_time": "2023-04-12T09:50:16.956477",
     "exception": false,
     "start_time": "2023-04-12T09:50:05.476216",
     "status": "completed"
    },
    "tags": []
   },
   "outputs": [
    {
     "name": "stderr",
     "output_type": "stream",
     "text": [
      "You're using a DistilBertTokenizerFast tokenizer. Please note that with a fast tokenizer, using the `__call__` method is faster than using a method to encode the text followed by a call to the `pad` method to get a padded encoding.\n"
     ]
    }
   ],
   "source": [
    "# Создаём набор данных из токенизированных текстов постов.\n",
    "dataset = PostDataset(posts_info['text'].values.tolist(), tokenizer)\n",
    "data_collator = DataCollatorWithPadding(tokenizer=tokenizer)\n",
    "\n",
    "loader = DataLoader(dataset, batch_size=32, collate_fn=data_collator, pin_memory=True, shuffle=False)\n",
    "batch_data = next(iter(loader))"
   ]
  },
  {
   "cell_type": "code",
   "execution_count": 13,
   "id": "afad67a9",
   "metadata": {
    "execution": {
     "iopub.execute_input": "2023-04-12T09:50:16.971495Z",
     "iopub.status.busy": "2023-04-12T09:50:16.971120Z",
     "iopub.status.idle": "2023-04-12T09:50:16.977015Z",
     "shell.execute_reply": "2023-04-12T09:50:16.975850Z"
    },
    "papermill": {
     "duration": 0.01755,
     "end_time": "2023-04-12T09:50:16.981106",
     "exception": false,
     "start_time": "2023-04-12T09:50:16.963556",
     "status": "completed"
    },
    "tags": []
   },
   "outputs": [
    {
     "name": "stdout",
     "output_type": "stream",
     "text": [
      "torch.Size([32, 512])\n",
      "torch.Size([32, 512])\n"
     ]
    }
   ],
   "source": [
    "# Проверка размера батча.\n",
    "print(batch_data['input_ids'].shape)\n",
    "print(batch_data['attention_mask'].shape)"
   ]
  },
  {
   "cell_type": "code",
   "execution_count": 14,
   "id": "87f34eef",
   "metadata": {
    "execution": {
     "iopub.execute_input": "2023-04-12T09:50:16.995897Z",
     "iopub.status.busy": "2023-04-12T09:50:16.995618Z",
     "iopub.status.idle": "2023-04-12T09:50:17.009327Z",
     "shell.execute_reply": "2023-04-12T09:50:17.008225Z"
    },
    "papermill": {
     "duration": 0.02396,
     "end_time": "2023-04-12T09:50:17.011639",
     "exception": false,
     "start_time": "2023-04-12T09:50:16.987679",
     "status": "completed"
    },
    "tags": []
   },
   "outputs": [
    {
     "data": {
      "text/plain": [
       "{'input_ids': tensor([  101,  4439,   118,  3398,  5093,  2239,  1120,  3187,  4439,  1116,\n",
       "          5151,  1107,  3398,  1116,  5093,  2380,  2736,  1383,  1106,  1129,\n",
       "         15420,  1170,  1157,  4583,  5093,  3016,  1486,  1157,  5151,  1175,\n",
       "         26551,  1118, 13904,   119,  3398,  1116,  6254,  4751,  1118,   170,\n",
       "          1415,  2656,  1106,  2195, 17037,  4661, 22494,  1116,  8219,  1107,\n",
       "           170,  1207,  5093,  2443,  1121,  3102,   110,  1106,  3927,   110,\n",
       "           119,  1109,  1815,   117,  1134,  1108, 16489,  1113,  1569,  2699,\n",
       "          4745,   117,  3226,  1126,  2206,  2992,  1118, 13904,  1106,  1660,\n",
       "          2310,   170, 27484,  1166,  2880, 12372,   119, 17037,  4661, 22494,\n",
       "          1163,  1103,  2383,  6986,  1103, 11040,  4309,  1106,  1103,  1933,\n",
       "           119,  1966,  1103,  1419,  1116,  4195,  1163,  1122,  1156,  2760,\n",
       "          1106,  8804,  9093,   117, 15793,  1163,  1152,  1354, 17037,  4661,\n",
       "         22494,  1108,  1383,  1106,  3373,  1149,  1104,  1103,   109,   124,\n",
       "          1830,  1179,  2239,   119,  1109,  5417,  1104,  4004,  1149,  1142,\n",
       "          1933,  1110,  1397,  1106,  6756,   117,  1163,  1335,  1394,  1665,\n",
       "         16075,  8752,   117, 14582,  1120, 19140,  5443, 13623,  1107, 10585,\n",
       "           119,  1409, 17037,  4661, 22494,  1674,  1171,  1149,   117,   150,\n",
       "          1942,  2249,   118,  1103,  1375,  2170,  3016,  1134,  1575,  1149,\n",
       "          1107,  1103,  1560,  8886,   118,  1336,  1218,  1129,  1171,  1107,\n",
       "          1103,  1919,   119,  1109,  1419,  1144,  1163,  1122,  1110,  4029,\n",
       "          1106,  4392,   170,  7309,  8219,  1191,  3398,  1209,  2574,  1122,\n",
       "          1103,  5093,  2239,   119, 17037,  4661, 22494,  1116,  5093,  2239,\n",
       "          1110,  1103,  1248,  4229,  5151,  1107,  3398,  1106,  1576,  1154,\n",
       "          3819,   119,  4229,   118,  5488, 17619,   157, 26390,  1108,  3468,\n",
       "          1106,  3076,  1105,  1576, 13857,  1116,  1207, 21765,   148, 25453,\n",
       "         20309,  1182,  1570,  3369,   118,  1133,  1103,  2306,  1804,  1122,\n",
       "          1198,  2005,  1170,  1122,  1533,  1107,  1318,  1516,   119,  1130,\n",
       "          1241,  2740,   117,  1103, 22647,  1144,  1151,  1569,  2699,   117,\n",
       "         15872,  9966,  1115,  1103,  4229,  9780,  1132,  1315,  1601,  1106,\n",
       "          3103,   119,  1109,  1662,  2568, 18229,  1678,  1118,  6254,   117,\n",
       "          1134,  1110,  6226,  1118,  2689,  6588,  1116,   117,  1180,  1870,\n",
       "          3772,  1168, 23120, 12372,   119,   102,     0,     0,     0,     0,\n",
       "             0,     0,     0,     0,     0,     0,     0,     0,     0,     0,\n",
       "             0,     0,     0,     0,     0,     0,     0,     0,     0,     0,\n",
       "             0,     0,     0,     0,     0,     0,     0,     0,     0,     0,\n",
       "             0,     0,     0,     0,     0,     0,     0,     0,     0,     0,\n",
       "             0,     0,     0,     0,     0,     0,     0,     0,     0,     0,\n",
       "             0,     0,     0,     0,     0,     0,     0,     0,     0,     0,\n",
       "             0,     0,     0,     0,     0,     0,     0,     0,     0,     0,\n",
       "             0,     0,     0,     0,     0,     0,     0,     0,     0,     0,\n",
       "             0,     0,     0,     0,     0,     0,     0,     0,     0,     0,\n",
       "             0,     0,     0,     0,     0,     0,     0,     0,     0,     0,\n",
       "             0,     0,     0,     0,     0,     0,     0,     0,     0,     0,\n",
       "             0,     0,     0,     0,     0,     0,     0,     0,     0,     0,\n",
       "             0,     0,     0,     0,     0,     0,     0,     0,     0,     0,\n",
       "             0,     0,     0,     0,     0,     0,     0,     0,     0,     0,\n",
       "             0,     0,     0,     0,     0,     0,     0,     0,     0,     0,\n",
       "             0,     0,     0,     0,     0,     0,     0,     0,     0,     0,\n",
       "             0,     0,     0,     0,     0,     0,     0,     0,     0,     0,\n",
       "             0,     0,     0,     0,     0,     0,     0,     0,     0,     0,\n",
       "             0,     0,     0,     0,     0,     0,     0,     0,     0,     0,\n",
       "             0,     0]),\n",
       " 'attention_mask': tensor([1, 1, 1, 1, 1, 1, 1, 1, 1, 1, 1, 1, 1, 1, 1, 1, 1, 1, 1, 1, 1, 1, 1, 1,\n",
       "         1, 1, 1, 1, 1, 1, 1, 1, 1, 1, 1, 1, 1, 1, 1, 1, 1, 1, 1, 1, 1, 1, 1, 1,\n",
       "         1, 1, 1, 1, 1, 1, 1, 1, 1, 1, 1, 1, 1, 1, 1, 1, 1, 1, 1, 1, 1, 1, 1, 1,\n",
       "         1, 1, 1, 1, 1, 1, 1, 1, 1, 1, 1, 1, 1, 1, 1, 1, 1, 1, 1, 1, 1, 1, 1, 1,\n",
       "         1, 1, 1, 1, 1, 1, 1, 1, 1, 1, 1, 1, 1, 1, 1, 1, 1, 1, 1, 1, 1, 1, 1, 1,\n",
       "         1, 1, 1, 1, 1, 1, 1, 1, 1, 1, 1, 1, 1, 1, 1, 1, 1, 1, 1, 1, 1, 1, 1, 1,\n",
       "         1, 1, 1, 1, 1, 1, 1, 1, 1, 1, 1, 1, 1, 1, 1, 1, 1, 1, 1, 1, 1, 1, 1, 1,\n",
       "         1, 1, 1, 1, 1, 1, 1, 1, 1, 1, 1, 1, 1, 1, 1, 1, 1, 1, 1, 1, 1, 1, 1, 1,\n",
       "         1, 1, 1, 1, 1, 1, 1, 1, 1, 1, 1, 1, 1, 1, 1, 1, 1, 1, 1, 1, 1, 1, 1, 1,\n",
       "         1, 1, 1, 1, 1, 1, 1, 1, 1, 1, 1, 1, 1, 1, 1, 1, 1, 1, 1, 1, 1, 1, 1, 1,\n",
       "         1, 1, 1, 1, 1, 1, 1, 1, 1, 1, 1, 1, 1, 1, 1, 1, 1, 1, 1, 1, 1, 1, 1, 1,\n",
       "         1, 1, 1, 1, 1, 1, 1, 1, 1, 1, 1, 1, 1, 1, 1, 1, 1, 1, 1, 1, 1, 1, 1, 1,\n",
       "         1, 1, 1, 1, 1, 1, 1, 1, 1, 1, 1, 1, 1, 1, 1, 1, 1, 1, 1, 1, 1, 1, 1, 1,\n",
       "         1, 1, 1, 1, 0, 0, 0, 0, 0, 0, 0, 0, 0, 0, 0, 0, 0, 0, 0, 0, 0, 0, 0, 0,\n",
       "         0, 0, 0, 0, 0, 0, 0, 0, 0, 0, 0, 0, 0, 0, 0, 0, 0, 0, 0, 0, 0, 0, 0, 0,\n",
       "         0, 0, 0, 0, 0, 0, 0, 0, 0, 0, 0, 0, 0, 0, 0, 0, 0, 0, 0, 0, 0, 0, 0, 0,\n",
       "         0, 0, 0, 0, 0, 0, 0, 0, 0, 0, 0, 0, 0, 0, 0, 0, 0, 0, 0, 0, 0, 0, 0, 0,\n",
       "         0, 0, 0, 0, 0, 0, 0, 0, 0, 0, 0, 0, 0, 0, 0, 0, 0, 0, 0, 0, 0, 0, 0, 0,\n",
       "         0, 0, 0, 0, 0, 0, 0, 0, 0, 0, 0, 0, 0, 0, 0, 0, 0, 0, 0, 0, 0, 0, 0, 0,\n",
       "         0, 0, 0, 0, 0, 0, 0, 0, 0, 0, 0, 0, 0, 0, 0, 0, 0, 0, 0, 0, 0, 0, 0, 0,\n",
       "         0, 0, 0, 0, 0, 0, 0, 0, 0, 0, 0, 0, 0, 0, 0, 0, 0, 0, 0, 0, 0, 0, 0, 0,\n",
       "         0, 0, 0, 0, 0, 0, 0, 0])}"
      ]
     },
     "execution_count": 14,
     "metadata": {},
     "output_type": "execute_result"
    }
   ],
   "source": [
    "# Элемент dataset имеет input_ids - токенизированный текст и\n",
    "# attention_mask - маску внимания.\n",
    "dataset[8]"
   ]
  },
  {
   "cell_type": "code",
   "execution_count": 15,
   "id": "e16f754d",
   "metadata": {
    "execution": {
     "iopub.execute_input": "2023-04-12T09:50:17.027325Z",
     "iopub.status.busy": "2023-04-12T09:50:17.026462Z",
     "iopub.status.idle": "2023-04-12T09:50:17.032777Z",
     "shell.execute_reply": "2023-04-12T09:50:17.031768Z"
    },
    "papermill": {
     "duration": 0.016355,
     "end_time": "2023-04-12T09:50:17.034858",
     "exception": false,
     "start_time": "2023-04-12T09:50:17.018503",
     "status": "completed"
    },
    "tags": []
   },
   "outputs": [
    {
     "name": "stdout",
     "output_type": "stream",
     "text": [
      "torch.Size([7023, 512])\n",
      "torch.Size([7023, 512])\n"
     ]
    }
   ],
   "source": [
    "# Размер датасета.\n",
    "print(dataset.texts['input_ids'].shape)\n",
    "print(dataset.texts['attention_mask'].shape)"
   ]
  },
  {
   "cell_type": "code",
   "execution_count": 16,
   "id": "dcd138e3",
   "metadata": {
    "execution": {
     "iopub.execute_input": "2023-04-12T09:50:17.050062Z",
     "iopub.status.busy": "2023-04-12T09:50:17.049781Z",
     "iopub.status.idle": "2023-04-12T09:50:43.225117Z",
     "shell.execute_reply": "2023-04-12T09:50:43.223820Z"
    },
    "papermill": {
     "duration": 26.18537,
     "end_time": "2023-04-12T09:50:43.227468",
     "exception": false,
     "start_time": "2023-04-12T09:50:17.042098",
     "status": "completed"
    },
    "tags": []
   },
   "outputs": [
    {
     "name": "stdout",
     "output_type": "stream",
     "text": [
      "torch.Size([32, 768])\n"
     ]
    }
   ],
   "source": [
    "# Проверка батча.\n",
    "# Каждый пост будет иметь эмбеддинг размерностью 768.\n",
    "out_batch = model(**batch_data)\n",
    "print(out_batch['last_hidden_state'][:, 0, :].shape)"
   ]
  },
  {
   "cell_type": "code",
   "execution_count": 17,
   "id": "34075f93",
   "metadata": {
    "execution": {
     "iopub.execute_input": "2023-04-12T09:50:43.243369Z",
     "iopub.status.busy": "2023-04-12T09:50:43.243077Z",
     "iopub.status.idle": "2023-04-12T09:50:43.351051Z",
     "shell.execute_reply": "2023-04-12T09:50:43.349685Z"
    },
    "papermill": {
     "duration": 0.118323,
     "end_time": "2023-04-12T09:50:43.353226",
     "exception": false,
     "start_time": "2023-04-12T09:50:43.234903",
     "status": "completed"
    },
    "tags": []
   },
   "outputs": [
    {
     "name": "stdout",
     "output_type": "stream",
     "text": [
      "cuda:0\n",
      "Tesla T4\n"
     ]
    }
   ],
   "source": [
    "device = torch.device('cuda:0' if torch.cuda.is_available() else 'cpu')\n",
    "print(device)\n",
    "\n",
    "if device.type == 'cuda':\n",
    "    print(torch.cuda.get_device_name())\n",
    "\n",
    "model = model.to(device)"
   ]
  },
  {
   "cell_type": "code",
   "execution_count": 18,
   "id": "6193718e",
   "metadata": {
    "execution": {
     "iopub.execute_input": "2023-04-12T09:50:43.368117Z",
     "iopub.status.busy": "2023-04-12T09:50:43.367830Z",
     "iopub.status.idle": "2023-04-12T09:52:43.479593Z",
     "shell.execute_reply": "2023-04-12T09:52:43.478250Z"
    },
    "papermill": {
     "duration": 120.122588,
     "end_time": "2023-04-12T09:52:43.482616",
     "exception": false,
     "start_time": "2023-04-12T09:50:43.360028",
     "status": "completed"
    },
    "tags": []
   },
   "outputs": [
    {
     "name": "stderr",
     "output_type": "stream",
     "text": [
      "100%|██████████| 220/220 [02:00<00:00,  1.83it/s]\n"
     ]
    }
   ],
   "source": [
    "embeddings = get_embeddings_labels(model, loader, device).numpy()"
   ]
  },
  {
   "cell_type": "code",
   "execution_count": 19,
   "id": "2682fd40",
   "metadata": {
    "execution": {
     "iopub.execute_input": "2023-04-12T09:52:43.520982Z",
     "iopub.status.busy": "2023-04-12T09:52:43.520675Z",
     "iopub.status.idle": "2023-04-12T09:52:43.594743Z",
     "shell.execute_reply": "2023-04-12T09:52:43.593694Z"
    },
    "papermill": {
     "duration": 0.095795,
     "end_time": "2023-04-12T09:52:43.597191",
     "exception": false,
     "start_time": "2023-04-12T09:52:43.501396",
     "status": "completed"
    },
    "tags": []
   },
   "outputs": [],
   "source": [
    "# Создадим pandas фрейм из таблицы эмбеддингов и объединим с таблицей постов.\n",
    "columns = [f'text_feat_{i}' for i in range(embeddings.shape[1])]\n",
    "embeddings = pd.DataFrame(embeddings, columns=columns)\n",
    "posts_info_data = pd.concat((posts_info, embeddings), axis=1)"
   ]
  },
  {
   "cell_type": "code",
   "execution_count": 20,
   "id": "35c3b2c9",
   "metadata": {
    "execution": {
     "iopub.execute_input": "2023-04-12T09:52:43.635112Z",
     "iopub.status.busy": "2023-04-12T09:52:43.634788Z",
     "iopub.status.idle": "2023-04-12T09:52:43.683078Z",
     "shell.execute_reply": "2023-04-12T09:52:43.681977Z"
    },
    "papermill": {
     "duration": 0.070239,
     "end_time": "2023-04-12T09:52:43.685856",
     "exception": false,
     "start_time": "2023-04-12T09:52:43.615617",
     "status": "completed"
    },
    "tags": []
   },
   "outputs": [
    {
     "data": {
      "text/html": [
       "<div>\n",
       "<style scoped>\n",
       "    .dataframe tbody tr th:only-of-type {\n",
       "        vertical-align: middle;\n",
       "    }\n",
       "\n",
       "    .dataframe tbody tr th {\n",
       "        vertical-align: top;\n",
       "    }\n",
       "\n",
       "    .dataframe thead th {\n",
       "        text-align: right;\n",
       "    }\n",
       "</style>\n",
       "<table border=\"1\" class=\"dataframe\">\n",
       "  <thead>\n",
       "    <tr style=\"text-align: right;\">\n",
       "      <th></th>\n",
       "      <th>post_id</th>\n",
       "      <th>text</th>\n",
       "      <th>topic</th>\n",
       "      <th>text_feat_0</th>\n",
       "      <th>text_feat_1</th>\n",
       "      <th>text_feat_2</th>\n",
       "      <th>text_feat_3</th>\n",
       "      <th>text_feat_4</th>\n",
       "      <th>text_feat_5</th>\n",
       "      <th>text_feat_6</th>\n",
       "      <th>...</th>\n",
       "      <th>text_feat_758</th>\n",
       "      <th>text_feat_759</th>\n",
       "      <th>text_feat_760</th>\n",
       "      <th>text_feat_761</th>\n",
       "      <th>text_feat_762</th>\n",
       "      <th>text_feat_763</th>\n",
       "      <th>text_feat_764</th>\n",
       "      <th>text_feat_765</th>\n",
       "      <th>text_feat_766</th>\n",
       "      <th>text_feat_767</th>\n",
       "    </tr>\n",
       "  </thead>\n",
       "  <tbody>\n",
       "    <tr>\n",
       "      <th>0</th>\n",
       "      <td>1</td>\n",
       "      <td>UK economy facing major risks\\n\\nThe UK manufa...</td>\n",
       "      <td>business</td>\n",
       "      <td>0.363151</td>\n",
       "      <td>0.048938</td>\n",
       "      <td>-0.264081</td>\n",
       "      <td>-0.160672</td>\n",
       "      <td>-0.211844</td>\n",
       "      <td>-0.207537</td>\n",
       "      <td>0.325393</td>\n",
       "      <td>...</td>\n",
       "      <td>0.349080</td>\n",
       "      <td>0.290132</td>\n",
       "      <td>-0.244970</td>\n",
       "      <td>0.078532</td>\n",
       "      <td>0.137399</td>\n",
       "      <td>0.208097</td>\n",
       "      <td>-0.058624</td>\n",
       "      <td>-0.141593</td>\n",
       "      <td>0.015918</td>\n",
       "      <td>0.000092</td>\n",
       "    </tr>\n",
       "    <tr>\n",
       "      <th>1</th>\n",
       "      <td>2</td>\n",
       "      <td>Aids and climate top Davos agenda\\n\\nClimate c...</td>\n",
       "      <td>business</td>\n",
       "      <td>0.236416</td>\n",
       "      <td>-0.159501</td>\n",
       "      <td>-0.327798</td>\n",
       "      <td>-0.372885</td>\n",
       "      <td>-0.292128</td>\n",
       "      <td>-0.019028</td>\n",
       "      <td>0.333677</td>\n",
       "      <td>...</td>\n",
       "      <td>0.311639</td>\n",
       "      <td>0.297819</td>\n",
       "      <td>-0.177003</td>\n",
       "      <td>0.130227</td>\n",
       "      <td>-0.063239</td>\n",
       "      <td>0.190171</td>\n",
       "      <td>-0.018153</td>\n",
       "      <td>-0.289936</td>\n",
       "      <td>0.119365</td>\n",
       "      <td>-0.001623</td>\n",
       "    </tr>\n",
       "    <tr>\n",
       "      <th>2</th>\n",
       "      <td>3</td>\n",
       "      <td>Asian quake hits European shares\\n\\nShares in ...</td>\n",
       "      <td>business</td>\n",
       "      <td>0.375191</td>\n",
       "      <td>-0.113944</td>\n",
       "      <td>-0.240547</td>\n",
       "      <td>-0.282425</td>\n",
       "      <td>-0.264252</td>\n",
       "      <td>0.061839</td>\n",
       "      <td>0.249180</td>\n",
       "      <td>...</td>\n",
       "      <td>0.353615</td>\n",
       "      <td>0.308457</td>\n",
       "      <td>-0.207151</td>\n",
       "      <td>0.056724</td>\n",
       "      <td>0.056596</td>\n",
       "      <td>0.125301</td>\n",
       "      <td>0.021575</td>\n",
       "      <td>-0.338920</td>\n",
       "      <td>0.058694</td>\n",
       "      <td>-0.021266</td>\n",
       "    </tr>\n",
       "    <tr>\n",
       "      <th>3</th>\n",
       "      <td>4</td>\n",
       "      <td>India power shares jump on debut\\n\\nShares in ...</td>\n",
       "      <td>business</td>\n",
       "      <td>0.273770</td>\n",
       "      <td>-0.048748</td>\n",
       "      <td>-0.440433</td>\n",
       "      <td>-0.189999</td>\n",
       "      <td>-0.410856</td>\n",
       "      <td>-0.100587</td>\n",
       "      <td>0.255757</td>\n",
       "      <td>...</td>\n",
       "      <td>0.321182</td>\n",
       "      <td>0.218213</td>\n",
       "      <td>-0.267988</td>\n",
       "      <td>-0.093801</td>\n",
       "      <td>0.176987</td>\n",
       "      <td>0.251617</td>\n",
       "      <td>0.028331</td>\n",
       "      <td>-0.155708</td>\n",
       "      <td>0.136188</td>\n",
       "      <td>0.044055</td>\n",
       "    </tr>\n",
       "    <tr>\n",
       "      <th>4</th>\n",
       "      <td>5</td>\n",
       "      <td>Lacroix label bought by US firm\\n\\nLuxury good...</td>\n",
       "      <td>business</td>\n",
       "      <td>0.297853</td>\n",
       "      <td>-0.073203</td>\n",
       "      <td>-0.146820</td>\n",
       "      <td>-0.127284</td>\n",
       "      <td>-0.133966</td>\n",
       "      <td>0.045766</td>\n",
       "      <td>0.176495</td>\n",
       "      <td>...</td>\n",
       "      <td>0.168949</td>\n",
       "      <td>0.208978</td>\n",
       "      <td>-0.051180</td>\n",
       "      <td>0.045685</td>\n",
       "      <td>0.173985</td>\n",
       "      <td>0.148893</td>\n",
       "      <td>0.097254</td>\n",
       "      <td>-0.239587</td>\n",
       "      <td>0.228066</td>\n",
       "      <td>0.189831</td>\n",
       "    </tr>\n",
       "    <tr>\n",
       "      <th>...</th>\n",
       "      <td>...</td>\n",
       "      <td>...</td>\n",
       "      <td>...</td>\n",
       "      <td>...</td>\n",
       "      <td>...</td>\n",
       "      <td>...</td>\n",
       "      <td>...</td>\n",
       "      <td>...</td>\n",
       "      <td>...</td>\n",
       "      <td>...</td>\n",
       "      <td>...</td>\n",
       "      <td>...</td>\n",
       "      <td>...</td>\n",
       "      <td>...</td>\n",
       "      <td>...</td>\n",
       "      <td>...</td>\n",
       "      <td>...</td>\n",
       "      <td>...</td>\n",
       "      <td>...</td>\n",
       "      <td>...</td>\n",
       "      <td>...</td>\n",
       "    </tr>\n",
       "    <tr>\n",
       "      <th>7018</th>\n",
       "      <td>7315</td>\n",
       "      <td>OK, I would not normally watch a Farrelly brot...</td>\n",
       "      <td>movie</td>\n",
       "      <td>0.338545</td>\n",
       "      <td>0.084620</td>\n",
       "      <td>-0.225981</td>\n",
       "      <td>-0.115433</td>\n",
       "      <td>-0.064816</td>\n",
       "      <td>-0.129863</td>\n",
       "      <td>0.358163</td>\n",
       "      <td>...</td>\n",
       "      <td>0.495477</td>\n",
       "      <td>0.203647</td>\n",
       "      <td>-0.138003</td>\n",
       "      <td>0.148754</td>\n",
       "      <td>0.138934</td>\n",
       "      <td>0.199463</td>\n",
       "      <td>0.054088</td>\n",
       "      <td>-0.110224</td>\n",
       "      <td>0.039229</td>\n",
       "      <td>-0.003550</td>\n",
       "    </tr>\n",
       "    <tr>\n",
       "      <th>7019</th>\n",
       "      <td>7316</td>\n",
       "      <td>I give this movie 2 stars purely because of it...</td>\n",
       "      <td>movie</td>\n",
       "      <td>0.354057</td>\n",
       "      <td>0.053933</td>\n",
       "      <td>-0.099446</td>\n",
       "      <td>-0.161002</td>\n",
       "      <td>0.009353</td>\n",
       "      <td>-0.190430</td>\n",
       "      <td>0.258928</td>\n",
       "      <td>...</td>\n",
       "      <td>0.322798</td>\n",
       "      <td>0.176826</td>\n",
       "      <td>-0.154205</td>\n",
       "      <td>-0.010798</td>\n",
       "      <td>0.100222</td>\n",
       "      <td>0.093780</td>\n",
       "      <td>0.051934</td>\n",
       "      <td>-0.119376</td>\n",
       "      <td>0.182106</td>\n",
       "      <td>0.072430</td>\n",
       "    </tr>\n",
       "    <tr>\n",
       "      <th>7020</th>\n",
       "      <td>7317</td>\n",
       "      <td>I cant believe this film was allowed to be mad...</td>\n",
       "      <td>movie</td>\n",
       "      <td>0.340383</td>\n",
       "      <td>0.066492</td>\n",
       "      <td>-0.163184</td>\n",
       "      <td>-0.115225</td>\n",
       "      <td>-0.102958</td>\n",
       "      <td>-0.181814</td>\n",
       "      <td>0.346562</td>\n",
       "      <td>...</td>\n",
       "      <td>0.372651</td>\n",
       "      <td>0.169435</td>\n",
       "      <td>-0.041522</td>\n",
       "      <td>-0.033723</td>\n",
       "      <td>0.047250</td>\n",
       "      <td>0.173592</td>\n",
       "      <td>-0.027378</td>\n",
       "      <td>-0.086563</td>\n",
       "      <td>0.203404</td>\n",
       "      <td>0.032091</td>\n",
       "    </tr>\n",
       "    <tr>\n",
       "      <th>7021</th>\n",
       "      <td>7318</td>\n",
       "      <td>The version I saw of this film was the Blockbu...</td>\n",
       "      <td>movie</td>\n",
       "      <td>0.432092</td>\n",
       "      <td>0.011092</td>\n",
       "      <td>-0.117306</td>\n",
       "      <td>-0.123570</td>\n",
       "      <td>0.066756</td>\n",
       "      <td>-0.103376</td>\n",
       "      <td>0.243298</td>\n",
       "      <td>...</td>\n",
       "      <td>0.468103</td>\n",
       "      <td>0.156609</td>\n",
       "      <td>-0.054083</td>\n",
       "      <td>0.210478</td>\n",
       "      <td>0.116214</td>\n",
       "      <td>0.064117</td>\n",
       "      <td>0.084667</td>\n",
       "      <td>0.075401</td>\n",
       "      <td>0.102739</td>\n",
       "      <td>0.015274</td>\n",
       "    </tr>\n",
       "    <tr>\n",
       "      <th>7022</th>\n",
       "      <td>7319</td>\n",
       "      <td>Piece of subtle art. Maybe a masterpiece. Doub...</td>\n",
       "      <td>movie</td>\n",
       "      <td>0.304277</td>\n",
       "      <td>-0.076216</td>\n",
       "      <td>-0.067759</td>\n",
       "      <td>-0.185642</td>\n",
       "      <td>-0.117768</td>\n",
       "      <td>-0.123015</td>\n",
       "      <td>0.242339</td>\n",
       "      <td>...</td>\n",
       "      <td>0.364039</td>\n",
       "      <td>0.138749</td>\n",
       "      <td>-0.110634</td>\n",
       "      <td>0.072081</td>\n",
       "      <td>-0.007445</td>\n",
       "      <td>0.211425</td>\n",
       "      <td>0.046455</td>\n",
       "      <td>-0.054349</td>\n",
       "      <td>0.244384</td>\n",
       "      <td>-0.014148</td>\n",
       "    </tr>\n",
       "  </tbody>\n",
       "</table>\n",
       "<p>7023 rows × 771 columns</p>\n",
       "</div>"
      ],
      "text/plain": [
       "      post_id                                               text     topic  \\\n",
       "0           1  UK economy facing major risks\\n\\nThe UK manufa...  business   \n",
       "1           2  Aids and climate top Davos agenda\\n\\nClimate c...  business   \n",
       "2           3  Asian quake hits European shares\\n\\nShares in ...  business   \n",
       "3           4  India power shares jump on debut\\n\\nShares in ...  business   \n",
       "4           5  Lacroix label bought by US firm\\n\\nLuxury good...  business   \n",
       "...       ...                                                ...       ...   \n",
       "7018     7315  OK, I would not normally watch a Farrelly brot...     movie   \n",
       "7019     7316  I give this movie 2 stars purely because of it...     movie   \n",
       "7020     7317  I cant believe this film was allowed to be mad...     movie   \n",
       "7021     7318  The version I saw of this film was the Blockbu...     movie   \n",
       "7022     7319  Piece of subtle art. Maybe a masterpiece. Doub...     movie   \n",
       "\n",
       "      text_feat_0  text_feat_1  text_feat_2  text_feat_3  text_feat_4  \\\n",
       "0        0.363151     0.048938    -0.264081    -0.160672    -0.211844   \n",
       "1        0.236416    -0.159501    -0.327798    -0.372885    -0.292128   \n",
       "2        0.375191    -0.113944    -0.240547    -0.282425    -0.264252   \n",
       "3        0.273770    -0.048748    -0.440433    -0.189999    -0.410856   \n",
       "4        0.297853    -0.073203    -0.146820    -0.127284    -0.133966   \n",
       "...           ...          ...          ...          ...          ...   \n",
       "7018     0.338545     0.084620    -0.225981    -0.115433    -0.064816   \n",
       "7019     0.354057     0.053933    -0.099446    -0.161002     0.009353   \n",
       "7020     0.340383     0.066492    -0.163184    -0.115225    -0.102958   \n",
       "7021     0.432092     0.011092    -0.117306    -0.123570     0.066756   \n",
       "7022     0.304277    -0.076216    -0.067759    -0.185642    -0.117768   \n",
       "\n",
       "      text_feat_5  text_feat_6  ...  text_feat_758  text_feat_759  \\\n",
       "0       -0.207537     0.325393  ...       0.349080       0.290132   \n",
       "1       -0.019028     0.333677  ...       0.311639       0.297819   \n",
       "2        0.061839     0.249180  ...       0.353615       0.308457   \n",
       "3       -0.100587     0.255757  ...       0.321182       0.218213   \n",
       "4        0.045766     0.176495  ...       0.168949       0.208978   \n",
       "...           ...          ...  ...            ...            ...   \n",
       "7018    -0.129863     0.358163  ...       0.495477       0.203647   \n",
       "7019    -0.190430     0.258928  ...       0.322798       0.176826   \n",
       "7020    -0.181814     0.346562  ...       0.372651       0.169435   \n",
       "7021    -0.103376     0.243298  ...       0.468103       0.156609   \n",
       "7022    -0.123015     0.242339  ...       0.364039       0.138749   \n",
       "\n",
       "      text_feat_760  text_feat_761  text_feat_762  text_feat_763  \\\n",
       "0         -0.244970       0.078532       0.137399       0.208097   \n",
       "1         -0.177003       0.130227      -0.063239       0.190171   \n",
       "2         -0.207151       0.056724       0.056596       0.125301   \n",
       "3         -0.267988      -0.093801       0.176987       0.251617   \n",
       "4         -0.051180       0.045685       0.173985       0.148893   \n",
       "...             ...            ...            ...            ...   \n",
       "7018      -0.138003       0.148754       0.138934       0.199463   \n",
       "7019      -0.154205      -0.010798       0.100222       0.093780   \n",
       "7020      -0.041522      -0.033723       0.047250       0.173592   \n",
       "7021      -0.054083       0.210478       0.116214       0.064117   \n",
       "7022      -0.110634       0.072081      -0.007445       0.211425   \n",
       "\n",
       "      text_feat_764  text_feat_765  text_feat_766  text_feat_767  \n",
       "0         -0.058624      -0.141593       0.015918       0.000092  \n",
       "1         -0.018153      -0.289936       0.119365      -0.001623  \n",
       "2          0.021575      -0.338920       0.058694      -0.021266  \n",
       "3          0.028331      -0.155708       0.136188       0.044055  \n",
       "4          0.097254      -0.239587       0.228066       0.189831  \n",
       "...             ...            ...            ...            ...  \n",
       "7018       0.054088      -0.110224       0.039229      -0.003550  \n",
       "7019       0.051934      -0.119376       0.182106       0.072430  \n",
       "7020      -0.027378      -0.086563       0.203404       0.032091  \n",
       "7021       0.084667       0.075401       0.102739       0.015274  \n",
       "7022       0.046455      -0.054349       0.244384      -0.014148  \n",
       "\n",
       "[7023 rows x 771 columns]"
      ]
     },
     "execution_count": 20,
     "metadata": {},
     "output_type": "execute_result"
    }
   ],
   "source": [
    "posts_info_data"
   ]
  },
  {
   "cell_type": "code",
   "execution_count": 21,
   "id": "a737b99e",
   "metadata": {
    "execution": {
     "iopub.execute_input": "2023-04-12T09:52:43.724485Z",
     "iopub.status.busy": "2023-04-12T09:52:43.724173Z",
     "iopub.status.idle": "2023-04-12T09:52:43.730652Z",
     "shell.execute_reply": "2023-04-12T09:52:43.729551Z"
    },
    "papermill": {
     "duration": 0.029118,
     "end_time": "2023-04-12T09:52:43.733946",
     "exception": false,
     "start_time": "2023-04-12T09:52:43.704828",
     "status": "completed"
    },
    "tags": []
   },
   "outputs": [
    {
     "data": {
      "text/plain": [
       "Index(['post_id', 'text', 'topic', 'text_feat_0', 'text_feat_1', 'text_feat_2',\n",
       "       'text_feat_3', 'text_feat_4', 'text_feat_5', 'text_feat_6',\n",
       "       ...\n",
       "       'text_feat_758', 'text_feat_759', 'text_feat_760', 'text_feat_761',\n",
       "       'text_feat_762', 'text_feat_763', 'text_feat_764', 'text_feat_765',\n",
       "       'text_feat_766', 'text_feat_767'],\n",
       "      dtype='object', length=771)"
      ]
     },
     "execution_count": 21,
     "metadata": {},
     "output_type": "execute_result"
    }
   ],
   "source": [
    "posts_info_data.columns"
   ]
  },
  {
   "cell_type": "code",
   "execution_count": 22,
   "id": "8752304a",
   "metadata": {
    "execution": {
     "iopub.execute_input": "2023-04-12T09:52:43.772025Z",
     "iopub.status.busy": "2023-04-12T09:52:43.771748Z",
     "iopub.status.idle": "2023-04-12T09:52:43.800571Z",
     "shell.execute_reply": "2023-04-12T09:52:43.799476Z"
    },
    "papermill": {
     "duration": 0.050279,
     "end_time": "2023-04-12T09:52:43.802818",
     "exception": false,
     "start_time": "2023-04-12T09:52:43.752539",
     "status": "completed"
    },
    "tags": []
   },
   "outputs": [
    {
     "data": {
      "text/plain": [
       "Series([], dtype: int64)"
      ]
     },
     "execution_count": 22,
     "metadata": {},
     "output_type": "execute_result"
    }
   ],
   "source": [
    "# Проверка на NaN значения.\n",
    "posts_info_is_na = posts_info_data.isna().sum()\n",
    "posts_info_is_na[posts_info_is_na > 0]"
   ]
  },
  {
   "cell_type": "code",
   "execution_count": 23,
   "id": "8af6e993",
   "metadata": {
    "execution": {
     "iopub.execute_input": "2023-04-12T09:52:43.840989Z",
     "iopub.status.busy": "2023-04-12T09:52:43.840717Z",
     "iopub.status.idle": "2023-04-12T09:57:36.967069Z",
     "shell.execute_reply": "2023-04-12T09:57:36.965819Z"
    },
    "papermill": {
     "duration": 293.148772,
     "end_time": "2023-04-12T09:57:36.970052",
     "exception": false,
     "start_time": "2023-04-12T09:52:43.821280",
     "status": "completed"
    },
    "tags": []
   },
   "outputs": [],
   "source": [
    "# Запись таблицы признаков постов в БД.\n",
    "posts_info_data.to_sql(\"pavel55645_posts_info_features_dl_emb\", con=engine, if_exists='replace')"
   ]
  },
  {
   "cell_type": "markdown",
   "id": "fcebd6c1",
   "metadata": {
    "papermill": {
     "duration": 0.018954,
     "end_time": "2023-04-12T09:57:37.009041",
     "exception": false,
     "start_time": "2023-04-12T09:57:36.990087",
     "status": "completed"
    },
    "tags": []
   },
   "source": [
    "В итоге создана таблица с эмбеддингами постов. Каждый пост представлен вектором размерности 768. Далее с этими признаками можно выполнить какие-либо преобразования, например, кластеризовать посты и подсчитать расстояния от каждого поста до кластеров."
   ]
  }
 ],
 "metadata": {
  "kernelspec": {
   "display_name": "Python 3",
   "language": "python",
   "name": "python3"
  },
  "language_info": {
   "codemirror_mode": {
    "name": "ipython",
    "version": 3
   },
   "file_extension": ".py",
   "mimetype": "text/x-python",
   "name": "python",
   "nbconvert_exporter": "python",
   "pygments_lexer": "ipython3",
   "version": "3.7.12"
  },
  "papermill": {
   "default_parameters": {},
   "duration": 509.890257,
   "end_time": "2023-04-12T09:57:40.056344",
   "environment_variables": {},
   "exception": null,
   "input_path": "__notebook__.ipynb",
   "output_path": "__notebook__.ipynb",
   "parameters": {},
   "start_time": "2023-04-12T09:49:10.166087",
   "version": "2.4.0"
  },
  "widgets": {
   "application/vnd.jupyter.widget-state+json": {
    "state": {
     "01722e2070064a5a853eba8ca216a3ae": {
      "model_module": "@jupyter-widgets/controls",
      "model_module_version": "1.5.0",
      "model_name": "ProgressStyleModel",
      "state": {
       "_model_module": "@jupyter-widgets/controls",
       "_model_module_version": "1.5.0",
       "_model_name": "ProgressStyleModel",
       "_view_count": null,
       "_view_module": "@jupyter-widgets/base",
       "_view_module_version": "1.2.0",
       "_view_name": "StyleView",
       "bar_color": null,
       "description_width": ""
      }
     },
     "04691e7c07e042e8962e11b302a92083": {
      "model_module": "@jupyter-widgets/controls",
      "model_module_version": "1.5.0",
      "model_name": "DescriptionStyleModel",
      "state": {
       "_model_module": "@jupyter-widgets/controls",
       "_model_module_version": "1.5.0",
       "_model_name": "DescriptionStyleModel",
       "_view_count": null,
       "_view_module": "@jupyter-widgets/base",
       "_view_module_version": "1.2.0",
       "_view_name": "StyleView",
       "description_width": ""
      }
     },
     "04ee4e31d62545e6a1565bdb80611d04": {
      "model_module": "@jupyter-widgets/base",
      "model_module_version": "1.2.0",
      "model_name": "LayoutModel",
      "state": {
       "_model_module": "@jupyter-widgets/base",
       "_model_module_version": "1.2.0",
       "_model_name": "LayoutModel",
       "_view_count": null,
       "_view_module": "@jupyter-widgets/base",
       "_view_module_version": "1.2.0",
       "_view_name": "LayoutView",
       "align_content": null,
       "align_items": null,
       "align_self": null,
       "border": null,
       "bottom": null,
       "display": null,
       "flex": null,
       "flex_flow": null,
       "grid_area": null,
       "grid_auto_columns": null,
       "grid_auto_flow": null,
       "grid_auto_rows": null,
       "grid_column": null,
       "grid_gap": null,
       "grid_row": null,
       "grid_template_areas": null,
       "grid_template_columns": null,
       "grid_template_rows": null,
       "height": null,
       "justify_content": null,
       "justify_items": null,
       "left": null,
       "margin": null,
       "max_height": null,
       "max_width": null,
       "min_height": null,
       "min_width": null,
       "object_fit": null,
       "object_position": null,
       "order": null,
       "overflow": null,
       "overflow_x": null,
       "overflow_y": null,
       "padding": null,
       "right": null,
       "top": null,
       "visibility": null,
       "width": null
      }
     },
     "07f1b72b605b497eae215c633d833bc5": {
      "model_module": "@jupyter-widgets/controls",
      "model_module_version": "1.5.0",
      "model_name": "DescriptionStyleModel",
      "state": {
       "_model_module": "@jupyter-widgets/controls",
       "_model_module_version": "1.5.0",
       "_model_name": "DescriptionStyleModel",
       "_view_count": null,
       "_view_module": "@jupyter-widgets/base",
       "_view_module_version": "1.2.0",
       "_view_name": "StyleView",
       "description_width": ""
      }
     },
     "0f48adad4a6742ffa03a48598cbf5697": {
      "model_module": "@jupyter-widgets/controls",
      "model_module_version": "1.5.0",
      "model_name": "DescriptionStyleModel",
      "state": {
       "_model_module": "@jupyter-widgets/controls",
       "_model_module_version": "1.5.0",
       "_model_name": "DescriptionStyleModel",
       "_view_count": null,
       "_view_module": "@jupyter-widgets/base",
       "_view_module_version": "1.2.0",
       "_view_name": "StyleView",
       "description_width": ""
      }
     },
     "0fea81fa62cb4ff287164f3e19dfd994": {
      "model_module": "@jupyter-widgets/base",
      "model_module_version": "1.2.0",
      "model_name": "LayoutModel",
      "state": {
       "_model_module": "@jupyter-widgets/base",
       "_model_module_version": "1.2.0",
       "_model_name": "LayoutModel",
       "_view_count": null,
       "_view_module": "@jupyter-widgets/base",
       "_view_module_version": "1.2.0",
       "_view_name": "LayoutView",
       "align_content": null,
       "align_items": null,
       "align_self": null,
       "border": null,
       "bottom": null,
       "display": null,
       "flex": null,
       "flex_flow": null,
       "grid_area": null,
       "grid_auto_columns": null,
       "grid_auto_flow": null,
       "grid_auto_rows": null,
       "grid_column": null,
       "grid_gap": null,
       "grid_row": null,
       "grid_template_areas": null,
       "grid_template_columns": null,
       "grid_template_rows": null,
       "height": null,
       "justify_content": null,
       "justify_items": null,
       "left": null,
       "margin": null,
       "max_height": null,
       "max_width": null,
       "min_height": null,
       "min_width": null,
       "object_fit": null,
       "object_position": null,
       "order": null,
       "overflow": null,
       "overflow_x": null,
       "overflow_y": null,
       "padding": null,
       "right": null,
       "top": null,
       "visibility": null,
       "width": null
      }
     },
     "112c05bd5afb4c35acf027e5e4e62fa6": {
      "model_module": "@jupyter-widgets/base",
      "model_module_version": "1.2.0",
      "model_name": "LayoutModel",
      "state": {
       "_model_module": "@jupyter-widgets/base",
       "_model_module_version": "1.2.0",
       "_model_name": "LayoutModel",
       "_view_count": null,
       "_view_module": "@jupyter-widgets/base",
       "_view_module_version": "1.2.0",
       "_view_name": "LayoutView",
       "align_content": null,
       "align_items": null,
       "align_self": null,
       "border": null,
       "bottom": null,
       "display": null,
       "flex": null,
       "flex_flow": null,
       "grid_area": null,
       "grid_auto_columns": null,
       "grid_auto_flow": null,
       "grid_auto_rows": null,
       "grid_column": null,
       "grid_gap": null,
       "grid_row": null,
       "grid_template_areas": null,
       "grid_template_columns": null,
       "grid_template_rows": null,
       "height": null,
       "justify_content": null,
       "justify_items": null,
       "left": null,
       "margin": null,
       "max_height": null,
       "max_width": null,
       "min_height": null,
       "min_width": null,
       "object_fit": null,
       "object_position": null,
       "order": null,
       "overflow": null,
       "overflow_x": null,
       "overflow_y": null,
       "padding": null,
       "right": null,
       "top": null,
       "visibility": null,
       "width": null
      }
     },
     "139fd5716d5c4656b149126cc84d307e": {
      "model_module": "@jupyter-widgets/base",
      "model_module_version": "1.2.0",
      "model_name": "LayoutModel",
      "state": {
       "_model_module": "@jupyter-widgets/base",
       "_model_module_version": "1.2.0",
       "_model_name": "LayoutModel",
       "_view_count": null,
       "_view_module": "@jupyter-widgets/base",
       "_view_module_version": "1.2.0",
       "_view_name": "LayoutView",
       "align_content": null,
       "align_items": null,
       "align_self": null,
       "border": null,
       "bottom": null,
       "display": null,
       "flex": null,
       "flex_flow": null,
       "grid_area": null,
       "grid_auto_columns": null,
       "grid_auto_flow": null,
       "grid_auto_rows": null,
       "grid_column": null,
       "grid_gap": null,
       "grid_row": null,
       "grid_template_areas": null,
       "grid_template_columns": null,
       "grid_template_rows": null,
       "height": null,
       "justify_content": null,
       "justify_items": null,
       "left": null,
       "margin": null,
       "max_height": null,
       "max_width": null,
       "min_height": null,
       "min_width": null,
       "object_fit": null,
       "object_position": null,
       "order": null,
       "overflow": null,
       "overflow_x": null,
       "overflow_y": null,
       "padding": null,
       "right": null,
       "top": null,
       "visibility": null,
       "width": null
      }
     },
     "165c30942886440aaa3f3c0e04537a9e": {
      "model_module": "@jupyter-widgets/base",
      "model_module_version": "1.2.0",
      "model_name": "LayoutModel",
      "state": {
       "_model_module": "@jupyter-widgets/base",
       "_model_module_version": "1.2.0",
       "_model_name": "LayoutModel",
       "_view_count": null,
       "_view_module": "@jupyter-widgets/base",
       "_view_module_version": "1.2.0",
       "_view_name": "LayoutView",
       "align_content": null,
       "align_items": null,
       "align_self": null,
       "border": null,
       "bottom": null,
       "display": null,
       "flex": null,
       "flex_flow": null,
       "grid_area": null,
       "grid_auto_columns": null,
       "grid_auto_flow": null,
       "grid_auto_rows": null,
       "grid_column": null,
       "grid_gap": null,
       "grid_row": null,
       "grid_template_areas": null,
       "grid_template_columns": null,
       "grid_template_rows": null,
       "height": null,
       "justify_content": null,
       "justify_items": null,
       "left": null,
       "margin": null,
       "max_height": null,
       "max_width": null,
       "min_height": null,
       "min_width": null,
       "object_fit": null,
       "object_position": null,
       "order": null,
       "overflow": null,
       "overflow_x": null,
       "overflow_y": null,
       "padding": null,
       "right": null,
       "top": null,
       "visibility": null,
       "width": null
      }
     },
     "1a3c01702da24106a7b52527895f41b6": {
      "model_module": "@jupyter-widgets/controls",
      "model_module_version": "1.5.0",
      "model_name": "ProgressStyleModel",
      "state": {
       "_model_module": "@jupyter-widgets/controls",
       "_model_module_version": "1.5.0",
       "_model_name": "ProgressStyleModel",
       "_view_count": null,
       "_view_module": "@jupyter-widgets/base",
       "_view_module_version": "1.2.0",
       "_view_name": "StyleView",
       "bar_color": null,
       "description_width": ""
      }
     },
     "2930b6a1438e4bac84797b0e4282176a": {
      "model_module": "@jupyter-widgets/base",
      "model_module_version": "1.2.0",
      "model_name": "LayoutModel",
      "state": {
       "_model_module": "@jupyter-widgets/base",
       "_model_module_version": "1.2.0",
       "_model_name": "LayoutModel",
       "_view_count": null,
       "_view_module": "@jupyter-widgets/base",
       "_view_module_version": "1.2.0",
       "_view_name": "LayoutView",
       "align_content": null,
       "align_items": null,
       "align_self": null,
       "border": null,
       "bottom": null,
       "display": null,
       "flex": null,
       "flex_flow": null,
       "grid_area": null,
       "grid_auto_columns": null,
       "grid_auto_flow": null,
       "grid_auto_rows": null,
       "grid_column": null,
       "grid_gap": null,
       "grid_row": null,
       "grid_template_areas": null,
       "grid_template_columns": null,
       "grid_template_rows": null,
       "height": null,
       "justify_content": null,
       "justify_items": null,
       "left": null,
       "margin": null,
       "max_height": null,
       "max_width": null,
       "min_height": null,
       "min_width": null,
       "object_fit": null,
       "object_position": null,
       "order": null,
       "overflow": null,
       "overflow_x": null,
       "overflow_y": null,
       "padding": null,
       "right": null,
       "top": null,
       "visibility": null,
       "width": null
      }
     },
     "2c3d7e92f21c4b1baec2411dea67e7c1": {
      "model_module": "@jupyter-widgets/controls",
      "model_module_version": "1.5.0",
      "model_name": "DescriptionStyleModel",
      "state": {
       "_model_module": "@jupyter-widgets/controls",
       "_model_module_version": "1.5.0",
       "_model_name": "DescriptionStyleModel",
       "_view_count": null,
       "_view_module": "@jupyter-widgets/base",
       "_view_module_version": "1.2.0",
       "_view_name": "StyleView",
       "description_width": ""
      }
     },
     "30c4bda033a84e79a9bde39dd809e87e": {
      "model_module": "@jupyter-widgets/controls",
      "model_module_version": "1.5.0",
      "model_name": "FloatProgressModel",
      "state": {
       "_dom_classes": [],
       "_model_module": "@jupyter-widgets/controls",
       "_model_module_version": "1.5.0",
       "_model_name": "FloatProgressModel",
       "_view_count": null,
       "_view_module": "@jupyter-widgets/controls",
       "_view_module_version": "1.5.0",
       "_view_name": "ProgressView",
       "bar_style": "success",
       "description": "",
       "description_tooltip": null,
       "layout": "IPY_MODEL_37604c9cb3c2430a8c04d72db30c9135",
       "max": 29.0,
       "min": 0.0,
       "orientation": "horizontal",
       "style": "IPY_MODEL_fe66d9a19389459e96084cb8b15de4ce",
       "value": 29.0
      }
     },
     "34ca69f95051462888a9afe5f1f99527": {
      "model_module": "@jupyter-widgets/base",
      "model_module_version": "1.2.0",
      "model_name": "LayoutModel",
      "state": {
       "_model_module": "@jupyter-widgets/base",
       "_model_module_version": "1.2.0",
       "_model_name": "LayoutModel",
       "_view_count": null,
       "_view_module": "@jupyter-widgets/base",
       "_view_module_version": "1.2.0",
       "_view_name": "LayoutView",
       "align_content": null,
       "align_items": null,
       "align_self": null,
       "border": null,
       "bottom": null,
       "display": null,
       "flex": null,
       "flex_flow": null,
       "grid_area": null,
       "grid_auto_columns": null,
       "grid_auto_flow": null,
       "grid_auto_rows": null,
       "grid_column": null,
       "grid_gap": null,
       "grid_row": null,
       "grid_template_areas": null,
       "grid_template_columns": null,
       "grid_template_rows": null,
       "height": null,
       "justify_content": null,
       "justify_items": null,
       "left": null,
       "margin": null,
       "max_height": null,
       "max_width": null,
       "min_height": null,
       "min_width": null,
       "object_fit": null,
       "object_position": null,
       "order": null,
       "overflow": null,
       "overflow_x": null,
       "overflow_y": null,
       "padding": null,
       "right": null,
       "top": null,
       "visibility": null,
       "width": null
      }
     },
     "37604c9cb3c2430a8c04d72db30c9135": {
      "model_module": "@jupyter-widgets/base",
      "model_module_version": "1.2.0",
      "model_name": "LayoutModel",
      "state": {
       "_model_module": "@jupyter-widgets/base",
       "_model_module_version": "1.2.0",
       "_model_name": "LayoutModel",
       "_view_count": null,
       "_view_module": "@jupyter-widgets/base",
       "_view_module_version": "1.2.0",
       "_view_name": "LayoutView",
       "align_content": null,
       "align_items": null,
       "align_self": null,
       "border": null,
       "bottom": null,
       "display": null,
       "flex": null,
       "flex_flow": null,
       "grid_area": null,
       "grid_auto_columns": null,
       "grid_auto_flow": null,
       "grid_auto_rows": null,
       "grid_column": null,
       "grid_gap": null,
       "grid_row": null,
       "grid_template_areas": null,
       "grid_template_columns": null,
       "grid_template_rows": null,
       "height": null,
       "justify_content": null,
       "justify_items": null,
       "left": null,
       "margin": null,
       "max_height": null,
       "max_width": null,
       "min_height": null,
       "min_width": null,
       "object_fit": null,
       "object_position": null,
       "order": null,
       "overflow": null,
       "overflow_x": null,
       "overflow_y": null,
       "padding": null,
       "right": null,
       "top": null,
       "visibility": null,
       "width": null
      }
     },
     "3d7fb154e13a40058cb88baaf77fca4c": {
      "model_module": "@jupyter-widgets/controls",
      "model_module_version": "1.5.0",
      "model_name": "HTMLModel",
      "state": {
       "_dom_classes": [],
       "_model_module": "@jupyter-widgets/controls",
       "_model_module_version": "1.5.0",
       "_model_name": "HTMLModel",
       "_view_count": null,
       "_view_module": "@jupyter-widgets/controls",
       "_view_module_version": "1.5.0",
       "_view_name": "HTMLView",
       "description": "",
       "description_tooltip": null,
       "layout": "IPY_MODEL_34ca69f95051462888a9afe5f1f99527",
       "placeholder": "​",
       "style": "IPY_MODEL_6eb63a190df540348ae14ddfde259b22",
       "value": "Downloading pytorch_model.bin: 100%"
      }
     },
     "3e626e98e8a146209ad512a21b2deeaf": {
      "model_module": "@jupyter-widgets/controls",
      "model_module_version": "1.5.0",
      "model_name": "HBoxModel",
      "state": {
       "_dom_classes": [],
       "_model_module": "@jupyter-widgets/controls",
       "_model_module_version": "1.5.0",
       "_model_name": "HBoxModel",
       "_view_count": null,
       "_view_module": "@jupyter-widgets/controls",
       "_view_module_version": "1.5.0",
       "_view_name": "HBoxView",
       "box_style": "",
       "children": [
        "IPY_MODEL_e1cd7f6a300b4b34a4cbd406c4076b8e",
        "IPY_MODEL_8ae9482db65642aa8ae0d91b3d86d048",
        "IPY_MODEL_5ec989206f064c86bafc7dbead9735f5"
       ],
       "layout": "IPY_MODEL_b09284f8fd1b455780e675f63424c204"
      }
     },
     "4caab6a209454d71a5a6df00eb9241e2": {
      "model_module": "@jupyter-widgets/base",
      "model_module_version": "1.2.0",
      "model_name": "LayoutModel",
      "state": {
       "_model_module": "@jupyter-widgets/base",
       "_model_module_version": "1.2.0",
       "_model_name": "LayoutModel",
       "_view_count": null,
       "_view_module": "@jupyter-widgets/base",
       "_view_module_version": "1.2.0",
       "_view_name": "LayoutView",
       "align_content": null,
       "align_items": null,
       "align_self": null,
       "border": null,
       "bottom": null,
       "display": null,
       "flex": null,
       "flex_flow": null,
       "grid_area": null,
       "grid_auto_columns": null,
       "grid_auto_flow": null,
       "grid_auto_rows": null,
       "grid_column": null,
       "grid_gap": null,
       "grid_row": null,
       "grid_template_areas": null,
       "grid_template_columns": null,
       "grid_template_rows": null,
       "height": null,
       "justify_content": null,
       "justify_items": null,
       "left": null,
       "margin": null,
       "max_height": null,
       "max_width": null,
       "min_height": null,
       "min_width": null,
       "object_fit": null,
       "object_position": null,
       "order": null,
       "overflow": null,
       "overflow_x": null,
       "overflow_y": null,
       "padding": null,
       "right": null,
       "top": null,
       "visibility": null,
       "width": null
      }
     },
     "5033d7cb49ea4466b74e7aea4750809a": {
      "model_module": "@jupyter-widgets/controls",
      "model_module_version": "1.5.0",
      "model_name": "HTMLModel",
      "state": {
       "_dom_classes": [],
       "_model_module": "@jupyter-widgets/controls",
       "_model_module_version": "1.5.0",
       "_model_name": "HTMLModel",
       "_view_count": null,
       "_view_module": "@jupyter-widgets/controls",
       "_view_module_version": "1.5.0",
       "_view_name": "HTMLView",
       "description": "",
       "description_tooltip": null,
       "layout": "IPY_MODEL_165c30942886440aaa3f3c0e04537a9e",
       "placeholder": "​",
       "style": "IPY_MODEL_ec46fcdc6fa24551b4314aa7bea958e9",
       "value": " 29.0/29.0 [00:00&lt;00:00, 1.18kB/s]"
      }
     },
     "59d7294201f34efe8e2113b37d475722": {
      "model_module": "@jupyter-widgets/base",
      "model_module_version": "1.2.0",
      "model_name": "LayoutModel",
      "state": {
       "_model_module": "@jupyter-widgets/base",
       "_model_module_version": "1.2.0",
       "_model_name": "LayoutModel",
       "_view_count": null,
       "_view_module": "@jupyter-widgets/base",
       "_view_module_version": "1.2.0",
       "_view_name": "LayoutView",
       "align_content": null,
       "align_items": null,
       "align_self": null,
       "border": null,
       "bottom": null,
       "display": null,
       "flex": null,
       "flex_flow": null,
       "grid_area": null,
       "grid_auto_columns": null,
       "grid_auto_flow": null,
       "grid_auto_rows": null,
       "grid_column": null,
       "grid_gap": null,
       "grid_row": null,
       "grid_template_areas": null,
       "grid_template_columns": null,
       "grid_template_rows": null,
       "height": null,
       "justify_content": null,
       "justify_items": null,
       "left": null,
       "margin": null,
       "max_height": null,
       "max_width": null,
       "min_height": null,
       "min_width": null,
       "object_fit": null,
       "object_position": null,
       "order": null,
       "overflow": null,
       "overflow_x": null,
       "overflow_y": null,
       "padding": null,
       "right": null,
       "top": null,
       "visibility": null,
       "width": null
      }
     },
     "5a9b9e11f4414f00aad7725a94beca6a": {
      "model_module": "@jupyter-widgets/base",
      "model_module_version": "1.2.0",
      "model_name": "LayoutModel",
      "state": {
       "_model_module": "@jupyter-widgets/base",
       "_model_module_version": "1.2.0",
       "_model_name": "LayoutModel",
       "_view_count": null,
       "_view_module": "@jupyter-widgets/base",
       "_view_module_version": "1.2.0",
       "_view_name": "LayoutView",
       "align_content": null,
       "align_items": null,
       "align_self": null,
       "border": null,
       "bottom": null,
       "display": null,
       "flex": null,
       "flex_flow": null,
       "grid_area": null,
       "grid_auto_columns": null,
       "grid_auto_flow": null,
       "grid_auto_rows": null,
       "grid_column": null,
       "grid_gap": null,
       "grid_row": null,
       "grid_template_areas": null,
       "grid_template_columns": null,
       "grid_template_rows": null,
       "height": null,
       "justify_content": null,
       "justify_items": null,
       "left": null,
       "margin": null,
       "max_height": null,
       "max_width": null,
       "min_height": null,
       "min_width": null,
       "object_fit": null,
       "object_position": null,
       "order": null,
       "overflow": null,
       "overflow_x": null,
       "overflow_y": null,
       "padding": null,
       "right": null,
       "top": null,
       "visibility": null,
       "width": null
      }
     },
     "5ec989206f064c86bafc7dbead9735f5": {
      "model_module": "@jupyter-widgets/controls",
      "model_module_version": "1.5.0",
      "model_name": "HTMLModel",
      "state": {
       "_dom_classes": [],
       "_model_module": "@jupyter-widgets/controls",
       "_model_module_version": "1.5.0",
       "_model_name": "HTMLModel",
       "_view_count": null,
       "_view_module": "@jupyter-widgets/controls",
       "_view_module_version": "1.5.0",
       "_view_name": "HTMLView",
       "description": "",
       "description_tooltip": null,
       "layout": "IPY_MODEL_112c05bd5afb4c35acf027e5e4e62fa6",
       "placeholder": "​",
       "style": "IPY_MODEL_07f1b72b605b497eae215c633d833bc5",
       "value": " 436k/436k [00:00&lt;00:00, 6.50MB/s]"
      }
     },
     "630665ba97dd447db769951d731a0d68": {
      "model_module": "@jupyter-widgets/base",
      "model_module_version": "1.2.0",
      "model_name": "LayoutModel",
      "state": {
       "_model_module": "@jupyter-widgets/base",
       "_model_module_version": "1.2.0",
       "_model_name": "LayoutModel",
       "_view_count": null,
       "_view_module": "@jupyter-widgets/base",
       "_view_module_version": "1.2.0",
       "_view_name": "LayoutView",
       "align_content": null,
       "align_items": null,
       "align_self": null,
       "border": null,
       "bottom": null,
       "display": null,
       "flex": null,
       "flex_flow": null,
       "grid_area": null,
       "grid_auto_columns": null,
       "grid_auto_flow": null,
       "grid_auto_rows": null,
       "grid_column": null,
       "grid_gap": null,
       "grid_row": null,
       "grid_template_areas": null,
       "grid_template_columns": null,
       "grid_template_rows": null,
       "height": null,
       "justify_content": null,
       "justify_items": null,
       "left": null,
       "margin": null,
       "max_height": null,
       "max_width": null,
       "min_height": null,
       "min_width": null,
       "object_fit": null,
       "object_position": null,
       "order": null,
       "overflow": null,
       "overflow_x": null,
       "overflow_y": null,
       "padding": null,
       "right": null,
       "top": null,
       "visibility": null,
       "width": null
      }
     },
     "64d999b92fe6424c98ae447b274cedfe": {
      "model_module": "@jupyter-widgets/controls",
      "model_module_version": "1.5.0",
      "model_name": "HBoxModel",
      "state": {
       "_dom_classes": [],
       "_model_module": "@jupyter-widgets/controls",
       "_model_module_version": "1.5.0",
       "_model_name": "HBoxModel",
       "_view_count": null,
       "_view_module": "@jupyter-widgets/controls",
       "_view_module_version": "1.5.0",
       "_view_name": "HBoxView",
       "box_style": "",
       "children": [
        "IPY_MODEL_792900211ae74211b54f9191245ef4be",
        "IPY_MODEL_a807b04f6cfd4a30a5117956a840c8d6",
        "IPY_MODEL_aa3184d612eb48cb9e5183fe30eea678"
       ],
       "layout": "IPY_MODEL_b5fead80c09e484686ad6fd3c78b55fc"
      }
     },
     "66c32bfe9d14484cadab703c41e635d9": {
      "model_module": "@jupyter-widgets/controls",
      "model_module_version": "1.5.0",
      "model_name": "ProgressStyleModel",
      "state": {
       "_model_module": "@jupyter-widgets/controls",
       "_model_module_version": "1.5.0",
       "_model_name": "ProgressStyleModel",
       "_view_count": null,
       "_view_module": "@jupyter-widgets/base",
       "_view_module_version": "1.2.0",
       "_view_name": "StyleView",
       "bar_color": null,
       "description_width": ""
      }
     },
     "6bce6d7418c0493eafa0dfa73f2237eb": {
      "model_module": "@jupyter-widgets/controls",
      "model_module_version": "1.5.0",
      "model_name": "FloatProgressModel",
      "state": {
       "_dom_classes": [],
       "_model_module": "@jupyter-widgets/controls",
       "_model_module_version": "1.5.0",
       "_model_name": "FloatProgressModel",
       "_view_count": null,
       "_view_module": "@jupyter-widgets/controls",
       "_view_module_version": "1.5.0",
       "_view_name": "ProgressView",
       "bar_style": "success",
       "description": "",
       "description_tooltip": null,
       "layout": "IPY_MODEL_945eb2d195c44ce2ace6c1b2a0c9af5a",
       "max": 411.0,
       "min": 0.0,
       "orientation": "horizontal",
       "style": "IPY_MODEL_9049c68c4425417f94f908deb752ecfc",
       "value": 411.0
      }
     },
     "6e3670a013e84d7ca20a1d5f0a3537da": {
      "model_module": "@jupyter-widgets/base",
      "model_module_version": "1.2.0",
      "model_name": "LayoutModel",
      "state": {
       "_model_module": "@jupyter-widgets/base",
       "_model_module_version": "1.2.0",
       "_model_name": "LayoutModel",
       "_view_count": null,
       "_view_module": "@jupyter-widgets/base",
       "_view_module_version": "1.2.0",
       "_view_name": "LayoutView",
       "align_content": null,
       "align_items": null,
       "align_self": null,
       "border": null,
       "bottom": null,
       "display": null,
       "flex": null,
       "flex_flow": null,
       "grid_area": null,
       "grid_auto_columns": null,
       "grid_auto_flow": null,
       "grid_auto_rows": null,
       "grid_column": null,
       "grid_gap": null,
       "grid_row": null,
       "grid_template_areas": null,
       "grid_template_columns": null,
       "grid_template_rows": null,
       "height": null,
       "justify_content": null,
       "justify_items": null,
       "left": null,
       "margin": null,
       "max_height": null,
       "max_width": null,
       "min_height": null,
       "min_width": null,
       "object_fit": null,
       "object_position": null,
       "order": null,
       "overflow": null,
       "overflow_x": null,
       "overflow_y": null,
       "padding": null,
       "right": null,
       "top": null,
       "visibility": null,
       "width": null
      }
     },
     "6eb63a190df540348ae14ddfde259b22": {
      "model_module": "@jupyter-widgets/controls",
      "model_module_version": "1.5.0",
      "model_name": "DescriptionStyleModel",
      "state": {
       "_model_module": "@jupyter-widgets/controls",
       "_model_module_version": "1.5.0",
       "_model_name": "DescriptionStyleModel",
       "_view_count": null,
       "_view_module": "@jupyter-widgets/base",
       "_view_module_version": "1.2.0",
       "_view_name": "StyleView",
       "description_width": ""
      }
     },
     "792900211ae74211b54f9191245ef4be": {
      "model_module": "@jupyter-widgets/controls",
      "model_module_version": "1.5.0",
      "model_name": "HTMLModel",
      "state": {
       "_dom_classes": [],
       "_model_module": "@jupyter-widgets/controls",
       "_model_module_version": "1.5.0",
       "_model_name": "HTMLModel",
       "_view_count": null,
       "_view_module": "@jupyter-widgets/controls",
       "_view_module_version": "1.5.0",
       "_view_name": "HTMLView",
       "description": "",
       "description_tooltip": null,
       "layout": "IPY_MODEL_da83c9558b9e446894129659789ae1f0",
       "placeholder": "​",
       "style": "IPY_MODEL_c9a6c0bd98d047c790750ac739fdb608",
       "value": "Downloading (…)solve/main/vocab.txt: 100%"
      }
     },
     "7929237dfeb94fcea2626af773889a1b": {
      "model_module": "@jupyter-widgets/controls",
      "model_module_version": "1.5.0",
      "model_name": "HTMLModel",
      "state": {
       "_dom_classes": [],
       "_model_module": "@jupyter-widgets/controls",
       "_model_module_version": "1.5.0",
       "_model_name": "HTMLModel",
       "_view_count": null,
       "_view_module": "@jupyter-widgets/controls",
       "_view_module_version": "1.5.0",
       "_view_name": "HTMLView",
       "description": "",
       "description_tooltip": null,
       "layout": "IPY_MODEL_139fd5716d5c4656b149126cc84d307e",
       "placeholder": "​",
       "style": "IPY_MODEL_04691e7c07e042e8962e11b302a92083",
       "value": "Downloading (…)lve/main/config.json: 100%"
      }
     },
     "85ed9490a0f74721a3b339396078d26a": {
      "model_module": "@jupyter-widgets/controls",
      "model_module_version": "1.5.0",
      "model_name": "FloatProgressModel",
      "state": {
       "_dom_classes": [],
       "_model_module": "@jupyter-widgets/controls",
       "_model_module_version": "1.5.0",
       "_model_name": "FloatProgressModel",
       "_view_count": null,
       "_view_module": "@jupyter-widgets/controls",
       "_view_module_version": "1.5.0",
       "_view_name": "ProgressView",
       "bar_style": "success",
       "description": "",
       "description_tooltip": null,
       "layout": "IPY_MODEL_6e3670a013e84d7ca20a1d5f0a3537da",
       "max": 263273408.0,
       "min": 0.0,
       "orientation": "horizontal",
       "style": "IPY_MODEL_1a3c01702da24106a7b52527895f41b6",
       "value": 263273408.0
      }
     },
     "8a12400589844a0bb0d2a84c9a7cf3f4": {
      "model_module": "@jupyter-widgets/controls",
      "model_module_version": "1.5.0",
      "model_name": "HTMLModel",
      "state": {
       "_dom_classes": [],
       "_model_module": "@jupyter-widgets/controls",
       "_model_module_version": "1.5.0",
       "_model_name": "HTMLModel",
       "_view_count": null,
       "_view_module": "@jupyter-widgets/controls",
       "_view_module_version": "1.5.0",
       "_view_name": "HTMLView",
       "description": "",
       "description_tooltip": null,
       "layout": "IPY_MODEL_630665ba97dd447db769951d731a0d68",
       "placeholder": "​",
       "style": "IPY_MODEL_0f48adad4a6742ffa03a48598cbf5697",
       "value": "Downloading (…)okenizer_config.json: 100%"
      }
     },
     "8ae9482db65642aa8ae0d91b3d86d048": {
      "model_module": "@jupyter-widgets/controls",
      "model_module_version": "1.5.0",
      "model_name": "FloatProgressModel",
      "state": {
       "_dom_classes": [],
       "_model_module": "@jupyter-widgets/controls",
       "_model_module_version": "1.5.0",
       "_model_name": "FloatProgressModel",
       "_view_count": null,
       "_view_module": "@jupyter-widgets/controls",
       "_view_module_version": "1.5.0",
       "_view_name": "ProgressView",
       "bar_style": "success",
       "description": "",
       "description_tooltip": null,
       "layout": "IPY_MODEL_04ee4e31d62545e6a1565bdb80611d04",
       "max": 435797.0,
       "min": 0.0,
       "orientation": "horizontal",
       "style": "IPY_MODEL_66c32bfe9d14484cadab703c41e635d9",
       "value": 435797.0
      }
     },
     "9049c68c4425417f94f908deb752ecfc": {
      "model_module": "@jupyter-widgets/controls",
      "model_module_version": "1.5.0",
      "model_name": "ProgressStyleModel",
      "state": {
       "_model_module": "@jupyter-widgets/controls",
       "_model_module_version": "1.5.0",
       "_model_name": "ProgressStyleModel",
       "_view_count": null,
       "_view_module": "@jupyter-widgets/base",
       "_view_module_version": "1.2.0",
       "_view_name": "StyleView",
       "bar_color": null,
       "description_width": ""
      }
     },
     "945eb2d195c44ce2ace6c1b2a0c9af5a": {
      "model_module": "@jupyter-widgets/base",
      "model_module_version": "1.2.0",
      "model_name": "LayoutModel",
      "state": {
       "_model_module": "@jupyter-widgets/base",
       "_model_module_version": "1.2.0",
       "_model_name": "LayoutModel",
       "_view_count": null,
       "_view_module": "@jupyter-widgets/base",
       "_view_module_version": "1.2.0",
       "_view_name": "LayoutView",
       "align_content": null,
       "align_items": null,
       "align_self": null,
       "border": null,
       "bottom": null,
       "display": null,
       "flex": null,
       "flex_flow": null,
       "grid_area": null,
       "grid_auto_columns": null,
       "grid_auto_flow": null,
       "grid_auto_rows": null,
       "grid_column": null,
       "grid_gap": null,
       "grid_row": null,
       "grid_template_areas": null,
       "grid_template_columns": null,
       "grid_template_rows": null,
       "height": null,
       "justify_content": null,
       "justify_items": null,
       "left": null,
       "margin": null,
       "max_height": null,
       "max_width": null,
       "min_height": null,
       "min_width": null,
       "object_fit": null,
       "object_position": null,
       "order": null,
       "overflow": null,
       "overflow_x": null,
       "overflow_y": null,
       "padding": null,
       "right": null,
       "top": null,
       "visibility": null,
       "width": null
      }
     },
     "a39df78e43b9431d8dde6b33cf672ff5": {
      "model_module": "@jupyter-widgets/controls",
      "model_module_version": "1.5.0",
      "model_name": "HBoxModel",
      "state": {
       "_dom_classes": [],
       "_model_module": "@jupyter-widgets/controls",
       "_model_module_version": "1.5.0",
       "_model_name": "HBoxModel",
       "_view_count": null,
       "_view_module": "@jupyter-widgets/controls",
       "_view_module_version": "1.5.0",
       "_view_name": "HBoxView",
       "box_style": "",
       "children": [
        "IPY_MODEL_8a12400589844a0bb0d2a84c9a7cf3f4",
        "IPY_MODEL_30c4bda033a84e79a9bde39dd809e87e",
        "IPY_MODEL_5033d7cb49ea4466b74e7aea4750809a"
       ],
       "layout": "IPY_MODEL_5a9b9e11f4414f00aad7725a94beca6a"
      }
     },
     "a4f1830804174986ae44083ca53b3829": {
      "model_module": "@jupyter-widgets/base",
      "model_module_version": "1.2.0",
      "model_name": "LayoutModel",
      "state": {
       "_model_module": "@jupyter-widgets/base",
       "_model_module_version": "1.2.0",
       "_model_name": "LayoutModel",
       "_view_count": null,
       "_view_module": "@jupyter-widgets/base",
       "_view_module_version": "1.2.0",
       "_view_name": "LayoutView",
       "align_content": null,
       "align_items": null,
       "align_self": null,
       "border": null,
       "bottom": null,
       "display": null,
       "flex": null,
       "flex_flow": null,
       "grid_area": null,
       "grid_auto_columns": null,
       "grid_auto_flow": null,
       "grid_auto_rows": null,
       "grid_column": null,
       "grid_gap": null,
       "grid_row": null,
       "grid_template_areas": null,
       "grid_template_columns": null,
       "grid_template_rows": null,
       "height": null,
       "justify_content": null,
       "justify_items": null,
       "left": null,
       "margin": null,
       "max_height": null,
       "max_width": null,
       "min_height": null,
       "min_width": null,
       "object_fit": null,
       "object_position": null,
       "order": null,
       "overflow": null,
       "overflow_x": null,
       "overflow_y": null,
       "padding": null,
       "right": null,
       "top": null,
       "visibility": null,
       "width": null
      }
     },
     "a807b04f6cfd4a30a5117956a840c8d6": {
      "model_module": "@jupyter-widgets/controls",
      "model_module_version": "1.5.0",
      "model_name": "FloatProgressModel",
      "state": {
       "_dom_classes": [],
       "_model_module": "@jupyter-widgets/controls",
       "_model_module_version": "1.5.0",
       "_model_name": "FloatProgressModel",
       "_view_count": null,
       "_view_module": "@jupyter-widgets/controls",
       "_view_module_version": "1.5.0",
       "_view_name": "ProgressView",
       "bar_style": "success",
       "description": "",
       "description_tooltip": null,
       "layout": "IPY_MODEL_2930b6a1438e4bac84797b0e4282176a",
       "max": 213450.0,
       "min": 0.0,
       "orientation": "horizontal",
       "style": "IPY_MODEL_01722e2070064a5a853eba8ca216a3ae",
       "value": 213450.0
      }
     },
     "aa3184d612eb48cb9e5183fe30eea678": {
      "model_module": "@jupyter-widgets/controls",
      "model_module_version": "1.5.0",
      "model_name": "HTMLModel",
      "state": {
       "_dom_classes": [],
       "_model_module": "@jupyter-widgets/controls",
       "_model_module_version": "1.5.0",
       "_model_name": "HTMLModel",
       "_view_count": null,
       "_view_module": "@jupyter-widgets/controls",
       "_view_module_version": "1.5.0",
       "_view_name": "HTMLView",
       "description": "",
       "description_tooltip": null,
       "layout": "IPY_MODEL_d2d690cc04cd4b2dab3008dc10e97bda",
       "placeholder": "​",
       "style": "IPY_MODEL_e5c235e47d3c4036888bacd3c473eb8e",
       "value": " 213k/213k [00:00&lt;00:00, 3.73MB/s]"
      }
     },
     "b09284f8fd1b455780e675f63424c204": {
      "model_module": "@jupyter-widgets/base",
      "model_module_version": "1.2.0",
      "model_name": "LayoutModel",
      "state": {
       "_model_module": "@jupyter-widgets/base",
       "_model_module_version": "1.2.0",
       "_model_name": "LayoutModel",
       "_view_count": null,
       "_view_module": "@jupyter-widgets/base",
       "_view_module_version": "1.2.0",
       "_view_name": "LayoutView",
       "align_content": null,
       "align_items": null,
       "align_self": null,
       "border": null,
       "bottom": null,
       "display": null,
       "flex": null,
       "flex_flow": null,
       "grid_area": null,
       "grid_auto_columns": null,
       "grid_auto_flow": null,
       "grid_auto_rows": null,
       "grid_column": null,
       "grid_gap": null,
       "grid_row": null,
       "grid_template_areas": null,
       "grid_template_columns": null,
       "grid_template_rows": null,
       "height": null,
       "justify_content": null,
       "justify_items": null,
       "left": null,
       "margin": null,
       "max_height": null,
       "max_width": null,
       "min_height": null,
       "min_width": null,
       "object_fit": null,
       "object_position": null,
       "order": null,
       "overflow": null,
       "overflow_x": null,
       "overflow_y": null,
       "padding": null,
       "right": null,
       "top": null,
       "visibility": null,
       "width": null
      }
     },
     "b5fead80c09e484686ad6fd3c78b55fc": {
      "model_module": "@jupyter-widgets/base",
      "model_module_version": "1.2.0",
      "model_name": "LayoutModel",
      "state": {
       "_model_module": "@jupyter-widgets/base",
       "_model_module_version": "1.2.0",
       "_model_name": "LayoutModel",
       "_view_count": null,
       "_view_module": "@jupyter-widgets/base",
       "_view_module_version": "1.2.0",
       "_view_name": "LayoutView",
       "align_content": null,
       "align_items": null,
       "align_self": null,
       "border": null,
       "bottom": null,
       "display": null,
       "flex": null,
       "flex_flow": null,
       "grid_area": null,
       "grid_auto_columns": null,
       "grid_auto_flow": null,
       "grid_auto_rows": null,
       "grid_column": null,
       "grid_gap": null,
       "grid_row": null,
       "grid_template_areas": null,
       "grid_template_columns": null,
       "grid_template_rows": null,
       "height": null,
       "justify_content": null,
       "justify_items": null,
       "left": null,
       "margin": null,
       "max_height": null,
       "max_width": null,
       "min_height": null,
       "min_width": null,
       "object_fit": null,
       "object_position": null,
       "order": null,
       "overflow": null,
       "overflow_x": null,
       "overflow_y": null,
       "padding": null,
       "right": null,
       "top": null,
       "visibility": null,
       "width": null
      }
     },
     "c001e59bbb2d41fb8ed96ff05534e0c3": {
      "model_module": "@jupyter-widgets/controls",
      "model_module_version": "1.5.0",
      "model_name": "HBoxModel",
      "state": {
       "_dom_classes": [],
       "_model_module": "@jupyter-widgets/controls",
       "_model_module_version": "1.5.0",
       "_model_name": "HBoxModel",
       "_view_count": null,
       "_view_module": "@jupyter-widgets/controls",
       "_view_module_version": "1.5.0",
       "_view_name": "HBoxView",
       "box_style": "",
       "children": [
        "IPY_MODEL_3d7fb154e13a40058cb88baaf77fca4c",
        "IPY_MODEL_85ed9490a0f74721a3b339396078d26a",
        "IPY_MODEL_f9ec6af675d9442eb1b730c16214b089"
       ],
       "layout": "IPY_MODEL_4caab6a209454d71a5a6df00eb9241e2"
      }
     },
     "c9a6c0bd98d047c790750ac739fdb608": {
      "model_module": "@jupyter-widgets/controls",
      "model_module_version": "1.5.0",
      "model_name": "DescriptionStyleModel",
      "state": {
       "_model_module": "@jupyter-widgets/controls",
       "_model_module_version": "1.5.0",
       "_model_name": "DescriptionStyleModel",
       "_view_count": null,
       "_view_module": "@jupyter-widgets/base",
       "_view_module_version": "1.2.0",
       "_view_name": "StyleView",
       "description_width": ""
      }
     },
     "d1634908447e4b1f8ef103add5b2ae34": {
      "model_module": "@jupyter-widgets/base",
      "model_module_version": "1.2.0",
      "model_name": "LayoutModel",
      "state": {
       "_model_module": "@jupyter-widgets/base",
       "_model_module_version": "1.2.0",
       "_model_name": "LayoutModel",
       "_view_count": null,
       "_view_module": "@jupyter-widgets/base",
       "_view_module_version": "1.2.0",
       "_view_name": "LayoutView",
       "align_content": null,
       "align_items": null,
       "align_self": null,
       "border": null,
       "bottom": null,
       "display": null,
       "flex": null,
       "flex_flow": null,
       "grid_area": null,
       "grid_auto_columns": null,
       "grid_auto_flow": null,
       "grid_auto_rows": null,
       "grid_column": null,
       "grid_gap": null,
       "grid_row": null,
       "grid_template_areas": null,
       "grid_template_columns": null,
       "grid_template_rows": null,
       "height": null,
       "justify_content": null,
       "justify_items": null,
       "left": null,
       "margin": null,
       "max_height": null,
       "max_width": null,
       "min_height": null,
       "min_width": null,
       "object_fit": null,
       "object_position": null,
       "order": null,
       "overflow": null,
       "overflow_x": null,
       "overflow_y": null,
       "padding": null,
       "right": null,
       "top": null,
       "visibility": null,
       "width": null
      }
     },
     "d2d690cc04cd4b2dab3008dc10e97bda": {
      "model_module": "@jupyter-widgets/base",
      "model_module_version": "1.2.0",
      "model_name": "LayoutModel",
      "state": {
       "_model_module": "@jupyter-widgets/base",
       "_model_module_version": "1.2.0",
       "_model_name": "LayoutModel",
       "_view_count": null,
       "_view_module": "@jupyter-widgets/base",
       "_view_module_version": "1.2.0",
       "_view_name": "LayoutView",
       "align_content": null,
       "align_items": null,
       "align_self": null,
       "border": null,
       "bottom": null,
       "display": null,
       "flex": null,
       "flex_flow": null,
       "grid_area": null,
       "grid_auto_columns": null,
       "grid_auto_flow": null,
       "grid_auto_rows": null,
       "grid_column": null,
       "grid_gap": null,
       "grid_row": null,
       "grid_template_areas": null,
       "grid_template_columns": null,
       "grid_template_rows": null,
       "height": null,
       "justify_content": null,
       "justify_items": null,
       "left": null,
       "margin": null,
       "max_height": null,
       "max_width": null,
       "min_height": null,
       "min_width": null,
       "object_fit": null,
       "object_position": null,
       "order": null,
       "overflow": null,
       "overflow_x": null,
       "overflow_y": null,
       "padding": null,
       "right": null,
       "top": null,
       "visibility": null,
       "width": null
      }
     },
     "da83c9558b9e446894129659789ae1f0": {
      "model_module": "@jupyter-widgets/base",
      "model_module_version": "1.2.0",
      "model_name": "LayoutModel",
      "state": {
       "_model_module": "@jupyter-widgets/base",
       "_model_module_version": "1.2.0",
       "_model_name": "LayoutModel",
       "_view_count": null,
       "_view_module": "@jupyter-widgets/base",
       "_view_module_version": "1.2.0",
       "_view_name": "LayoutView",
       "align_content": null,
       "align_items": null,
       "align_self": null,
       "border": null,
       "bottom": null,
       "display": null,
       "flex": null,
       "flex_flow": null,
       "grid_area": null,
       "grid_auto_columns": null,
       "grid_auto_flow": null,
       "grid_auto_rows": null,
       "grid_column": null,
       "grid_gap": null,
       "grid_row": null,
       "grid_template_areas": null,
       "grid_template_columns": null,
       "grid_template_rows": null,
       "height": null,
       "justify_content": null,
       "justify_items": null,
       "left": null,
       "margin": null,
       "max_height": null,
       "max_width": null,
       "min_height": null,
       "min_width": null,
       "object_fit": null,
       "object_position": null,
       "order": null,
       "overflow": null,
       "overflow_x": null,
       "overflow_y": null,
       "padding": null,
       "right": null,
       "top": null,
       "visibility": null,
       "width": null
      }
     },
     "de5509e104984e37abc726df63c1a94f": {
      "model_module": "@jupyter-widgets/controls",
      "model_module_version": "1.5.0",
      "model_name": "DescriptionStyleModel",
      "state": {
       "_model_module": "@jupyter-widgets/controls",
       "_model_module_version": "1.5.0",
       "_model_name": "DescriptionStyleModel",
       "_view_count": null,
       "_view_module": "@jupyter-widgets/base",
       "_view_module_version": "1.2.0",
       "_view_name": "StyleView",
       "description_width": ""
      }
     },
     "e1cd7f6a300b4b34a4cbd406c4076b8e": {
      "model_module": "@jupyter-widgets/controls",
      "model_module_version": "1.5.0",
      "model_name": "HTMLModel",
      "state": {
       "_dom_classes": [],
       "_model_module": "@jupyter-widgets/controls",
       "_model_module_version": "1.5.0",
       "_model_name": "HTMLModel",
       "_view_count": null,
       "_view_module": "@jupyter-widgets/controls",
       "_view_module_version": "1.5.0",
       "_view_name": "HTMLView",
       "description": "",
       "description_tooltip": null,
       "layout": "IPY_MODEL_a4f1830804174986ae44083ca53b3829",
       "placeholder": "​",
       "style": "IPY_MODEL_de5509e104984e37abc726df63c1a94f",
       "value": "Downloading (…)/main/tokenizer.json: 100%"
      }
     },
     "e5c235e47d3c4036888bacd3c473eb8e": {
      "model_module": "@jupyter-widgets/controls",
      "model_module_version": "1.5.0",
      "model_name": "DescriptionStyleModel",
      "state": {
       "_model_module": "@jupyter-widgets/controls",
       "_model_module_version": "1.5.0",
       "_model_name": "DescriptionStyleModel",
       "_view_count": null,
       "_view_module": "@jupyter-widgets/base",
       "_view_module_version": "1.2.0",
       "_view_name": "StyleView",
       "description_width": ""
      }
     },
     "eb2ecca5504c42cb9edf4efdf60595d9": {
      "model_module": "@jupyter-widgets/controls",
      "model_module_version": "1.5.0",
      "model_name": "HTMLModel",
      "state": {
       "_dom_classes": [],
       "_model_module": "@jupyter-widgets/controls",
       "_model_module_version": "1.5.0",
       "_model_name": "HTMLModel",
       "_view_count": null,
       "_view_module": "@jupyter-widgets/controls",
       "_view_module_version": "1.5.0",
       "_view_name": "HTMLView",
       "description": "",
       "description_tooltip": null,
       "layout": "IPY_MODEL_59d7294201f34efe8e2113b37d475722",
       "placeholder": "​",
       "style": "IPY_MODEL_2c3d7e92f21c4b1baec2411dea67e7c1",
       "value": " 411/411 [00:00&lt;00:00, 17.5kB/s]"
      }
     },
     "ec46fcdc6fa24551b4314aa7bea958e9": {
      "model_module": "@jupyter-widgets/controls",
      "model_module_version": "1.5.0",
      "model_name": "DescriptionStyleModel",
      "state": {
       "_model_module": "@jupyter-widgets/controls",
       "_model_module_version": "1.5.0",
       "_model_name": "DescriptionStyleModel",
       "_view_count": null,
       "_view_module": "@jupyter-widgets/base",
       "_view_module_version": "1.2.0",
       "_view_name": "StyleView",
       "description_width": ""
      }
     },
     "ed8ea807fb9d4652b9e3f95ce240cb38": {
      "model_module": "@jupyter-widgets/controls",
      "model_module_version": "1.5.0",
      "model_name": "HBoxModel",
      "state": {
       "_dom_classes": [],
       "_model_module": "@jupyter-widgets/controls",
       "_model_module_version": "1.5.0",
       "_model_name": "HBoxModel",
       "_view_count": null,
       "_view_module": "@jupyter-widgets/controls",
       "_view_module_version": "1.5.0",
       "_view_name": "HBoxView",
       "box_style": "",
       "children": [
        "IPY_MODEL_7929237dfeb94fcea2626af773889a1b",
        "IPY_MODEL_6bce6d7418c0493eafa0dfa73f2237eb",
        "IPY_MODEL_eb2ecca5504c42cb9edf4efdf60595d9"
       ],
       "layout": "IPY_MODEL_0fea81fa62cb4ff287164f3e19dfd994"
      }
     },
     "ee4386f980944351bc66cce3bbf25753": {
      "model_module": "@jupyter-widgets/controls",
      "model_module_version": "1.5.0",
      "model_name": "DescriptionStyleModel",
      "state": {
       "_model_module": "@jupyter-widgets/controls",
       "_model_module_version": "1.5.0",
       "_model_name": "DescriptionStyleModel",
       "_view_count": null,
       "_view_module": "@jupyter-widgets/base",
       "_view_module_version": "1.2.0",
       "_view_name": "StyleView",
       "description_width": ""
      }
     },
     "f9ec6af675d9442eb1b730c16214b089": {
      "model_module": "@jupyter-widgets/controls",
      "model_module_version": "1.5.0",
      "model_name": "HTMLModel",
      "state": {
       "_dom_classes": [],
       "_model_module": "@jupyter-widgets/controls",
       "_model_module_version": "1.5.0",
       "_model_name": "HTMLModel",
       "_view_count": null,
       "_view_module": "@jupyter-widgets/controls",
       "_view_module_version": "1.5.0",
       "_view_name": "HTMLView",
       "description": "",
       "description_tooltip": null,
       "layout": "IPY_MODEL_d1634908447e4b1f8ef103add5b2ae34",
       "placeholder": "​",
       "style": "IPY_MODEL_ee4386f980944351bc66cce3bbf25753",
       "value": " 263M/263M [00:03&lt;00:00, 88.9MB/s]"
      }
     },
     "fe66d9a19389459e96084cb8b15de4ce": {
      "model_module": "@jupyter-widgets/controls",
      "model_module_version": "1.5.0",
      "model_name": "ProgressStyleModel",
      "state": {
       "_model_module": "@jupyter-widgets/controls",
       "_model_module_version": "1.5.0",
       "_model_name": "ProgressStyleModel",
       "_view_count": null,
       "_view_module": "@jupyter-widgets/base",
       "_view_module_version": "1.2.0",
       "_view_name": "StyleView",
       "bar_color": null,
       "description_width": ""
      }
     }
    },
    "version_major": 2,
    "version_minor": 0
   }
  }
 },
 "nbformat": 4,
 "nbformat_minor": 5
}
