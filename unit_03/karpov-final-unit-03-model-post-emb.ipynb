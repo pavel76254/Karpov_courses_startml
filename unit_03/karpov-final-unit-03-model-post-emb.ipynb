{
 "cells": [
  {
   "cell_type": "markdown",
   "id": "85f8e9e7",
   "metadata": {
    "papermill": {
     "duration": 0.012787,
     "end_time": "2023-04-14T11:41:56.997472",
     "exception": false,
     "start_time": "2023-04-14T11:41:56.984685",
     "status": "completed"
    },
    "tags": []
   },
   "source": [
    "# Обучение модели, с использованием эмбеддингов постов. \n",
    "Ноутбук выполнялся в kaggle."
   ]
  },
  {
   "cell_type": "code",
   "execution_count": 1,
   "id": "a069e023",
   "metadata": {
    "execution": {
     "iopub.execute_input": "2023-04-14T11:41:57.022807Z",
     "iopub.status.busy": "2023-04-14T11:41:57.021601Z",
     "iopub.status.idle": "2023-04-14T11:42:07.523855Z",
     "shell.execute_reply": "2023-04-14T11:42:07.522647Z"
    },
    "papermill": {
     "duration": 10.518168,
     "end_time": "2023-04-14T11:42:07.526841",
     "exception": false,
     "start_time": "2023-04-14T11:41:57.008673",
     "status": "completed"
    },
    "tags": []
   },
   "outputs": [
    {
     "name": "stdout",
     "output_type": "stream",
     "text": [
      "Collecting psycopg2-binary\r\n",
      "  Downloading psycopg2_binary-2.9.6-cp37-cp37m-manylinux_2_17_x86_64.manylinux2014_x86_64.whl (3.0 MB)\r\n",
      "\u001b[2K     \u001b[90m━━━━━━━━━━━━━━━━━━━━━━━━━━━━━━━━━━━━━━━━\u001b[0m \u001b[32m3.0/3.0 MB\u001b[0m \u001b[31m44.3 MB/s\u001b[0m eta \u001b[36m0:00:00\u001b[0m\r\n",
      "\u001b[?25hInstalling collected packages: psycopg2-binary\r\n",
      "Successfully installed psycopg2-binary-2.9.6\r\n",
      "\u001b[33mWARNING: Running pip as the 'root' user can result in broken permissions and conflicting behaviour with the system package manager. It is recommended to use a virtual environment instead: https://pip.pypa.io/warnings/venv\u001b[0m\u001b[33m\r\n",
      "\u001b[0m"
     ]
    }
   ],
   "source": [
    "!pip install psycopg2-binary"
   ]
  },
  {
   "cell_type": "code",
   "execution_count": 2,
   "id": "8298d2f2",
   "metadata": {
    "execution": {
     "iopub.execute_input": "2023-04-14T11:42:07.552489Z",
     "iopub.status.busy": "2023-04-14T11:42:07.551478Z",
     "iopub.status.idle": "2023-04-14T11:42:09.206898Z",
     "shell.execute_reply": "2023-04-14T11:42:09.205881Z"
    },
    "papermill": {
     "duration": 1.67114,
     "end_time": "2023-04-14T11:42:09.209749",
     "exception": false,
     "start_time": "2023-04-14T11:42:07.538609",
     "status": "completed"
    },
    "tags": []
   },
   "outputs": [],
   "source": [
    "import pandas as pd\n",
    "import numpy as np\n",
    "\n",
    "from sqlalchemy import create_engine\n",
    "\n",
    "import re\n",
    "import sys\n",
    "import gc\n",
    "import os\n",
    "from dotenv import load_dotenv\n",
    "\n",
    "from tqdm import tqdm\n",
    "\n",
    "from sklearn.cluster import KMeans\n",
    "from catboost import CatBoostClassifier\n",
    "from sklearn.metrics import roc_auc_score\n",
    "from sklearn.metrics import accuracy_score\n",
    "from sklearn.decomposition import PCA\n",
    "\n",
    "import seaborn as sns\n",
    "import matplotlib.pyplot as plt"
   ]
  },
  {
   "cell_type": "code",
   "execution_count": 3,
   "id": "1e4ffe77",
   "metadata": {
    "execution": {
     "iopub.execute_input": "2023-04-14T11:42:09.236110Z",
     "iopub.status.busy": "2023-04-14T11:42:09.235183Z",
     "iopub.status.idle": "2023-04-14T11:42:09.241993Z",
     "shell.execute_reply": "2023-04-14T11:42:09.241001Z"
    },
    "papermill": {
     "duration": 0.021539,
     "end_time": "2023-04-14T11:42:09.244178",
     "exception": false,
     "start_time": "2023-04-14T11:42:09.222639",
     "status": "completed"
    },
    "tags": []
   },
   "outputs": [],
   "source": [
    "def get_catboost_model(params, X_train, y_train, X_test, y_test, object_cols):\n",
    "    \"\"\" Создание,обучение и проверка модели CatBoostClassifier. \"\"\"\n",
    "    catboost = CatBoostClassifier(**params)\n",
    "    catboost.fit(X_train, y_train, object_cols)\n",
    "    \n",
    "    print(f\"ROC_AUC на трейне: {roc_auc_score(y_train, catboost.predict_proba(X_train)[:, 1])}\")\n",
    "    print(f\"ROC_AUC на тесте: {roc_auc_score(y_test, catboost.predict_proba(X_test)[:, 1])}\")\n",
    "\n",
    "    y_pred = catboost.predict(X_test)\n",
    "    y_pred_train = catboost.predict(X_train)\n",
    "    print(f'Accuracy test {accuracy_score(y_test, y_pred)}, Accuracy train {accuracy_score(y_train, y_pred_train)}')\n",
    "    \n",
    "    return catboost"
   ]
  },
  {
   "cell_type": "code",
   "execution_count": 4,
   "id": "ef41d137",
   "metadata": {
    "execution": {
     "iopub.execute_input": "2023-04-14T11:42:09.268918Z",
     "iopub.status.busy": "2023-04-14T11:42:09.268070Z",
     "iopub.status.idle": "2023-04-14T11:42:09.275183Z",
     "shell.execute_reply": "2023-04-14T11:42:09.274277Z"
    },
    "papermill": {
     "duration": 0.021576,
     "end_time": "2023-04-14T11:42:09.277274",
     "exception": false,
     "start_time": "2023-04-14T11:42:09.255698",
     "status": "completed"
    },
    "tags": []
   },
   "outputs": [],
   "source": [
    "def plot_feature_importance(importance,names,model_type):\n",
    "    \n",
    "    #Create arrays from feature importance and feature names\n",
    "    feature_importance = np.array(importance)\n",
    "    feature_names = np.array(names)\n",
    "    \n",
    "    #Create a DataFrame using a Dictionary\n",
    "    data={'feature_names':feature_names,'feature_importance':feature_importance}\n",
    "    fi_df = pd.DataFrame(data)\n",
    "    \n",
    "    #Sort the DataFrame in order decreasing feature importance\n",
    "    fi_df.sort_values(by=['feature_importance'], ascending=False,inplace=True)\n",
    "    \n",
    "    #Define size of bar plot\n",
    "    plt.figure(figsize=(10,10))\n",
    "    \n",
    "    #Plot Searborn bar chart\n",
    "    sns.barplot(x=fi_df['feature_importance'], y=fi_df['feature_names'])\n",
    "    \n",
    "    #Add chart labels\n",
    "    plt.title(model_type + 'FEATURE IMPORTANCE')\n",
    "    plt.xlabel('FEATURE IMPORTANCE')\n",
    "    plt.ylabel('FEATURE NAMES')"
   ]
  },
  {
   "cell_type": "code",
   "execution_count": 5,
   "id": "4352f6d8",
   "metadata": {
    "execution": {
     "iopub.execute_input": "2023-04-14T11:42:09.301799Z",
     "iopub.status.busy": "2023-04-14T11:42:09.300990Z",
     "iopub.status.idle": "2023-04-14T11:42:09.317656Z",
     "shell.execute_reply": "2023-04-14T11:42:09.316654Z"
    },
    "papermill": {
     "duration": 0.031048,
     "end_time": "2023-04-14T11:42:09.319713",
     "exception": false,
     "start_time": "2023-04-14T11:42:09.288665",
     "status": "completed"
    },
    "tags": []
   },
   "outputs": [
    {
     "data": {
      "text/plain": [
       "True"
      ]
     },
     "execution_count": 5,
     "metadata": {},
     "output_type": "execute_result"
    }
   ],
   "source": [
    "# Загружаем доступы к базе данных соцальной сети Karpov Courses\n",
    "load_dotenv(r'/kaggle/input/karpov-startml-db/env')"
   ]
  },
  {
   "cell_type": "code",
   "execution_count": 6,
   "id": "af7cb23b",
   "metadata": {
    "execution": {
     "iopub.execute_input": "2023-04-14T11:42:09.344535Z",
     "iopub.status.busy": "2023-04-14T11:42:09.343595Z",
     "iopub.status.idle": "2023-04-14T11:42:09.349110Z",
     "shell.execute_reply": "2023-04-14T11:42:09.348225Z"
    },
    "papermill": {
     "duration": 0.020128,
     "end_time": "2023-04-14T11:42:09.351275",
     "exception": false,
     "start_time": "2023-04-14T11:42:09.331147",
     "status": "completed"
    },
    "tags": []
   },
   "outputs": [],
   "source": [
    "POSTGRESUSER = os.environ['POSTGRESUSER']\n",
    "POSTGRES_PASSWORD = os.environ['POSTGRES_PASSWORD']\n",
    "POSTGRES_HOST = os.environ['POSTGRES_HOST']\n",
    "POSTGRES_PORT = os.environ['POSTGRES_PORT']\n",
    "POSTGRES_DATABASE = os.environ['POSTGRES_DATABASE']"
   ]
  },
  {
   "cell_type": "code",
   "execution_count": 7,
   "id": "3f838777",
   "metadata": {
    "execution": {
     "iopub.execute_input": "2023-04-14T11:42:09.375800Z",
     "iopub.status.busy": "2023-04-14T11:42:09.375016Z",
     "iopub.status.idle": "2023-04-14T11:42:09.379863Z",
     "shell.execute_reply": "2023-04-14T11:42:09.378977Z"
    },
    "papermill": {
     "duration": 0.019212,
     "end_time": "2023-04-14T11:42:09.381954",
     "exception": false,
     "start_time": "2023-04-14T11:42:09.362742",
     "status": "completed"
    },
    "tags": []
   },
   "outputs": [],
   "source": [
    "str_con_db = f'postgresql://{POSTGRESUSER}:{POSTGRES_PASSWORD}@{POSTGRES_HOST}:{POSTGRES_PORT}/{POSTGRES_DATABASE}'"
   ]
  },
  {
   "cell_type": "code",
   "execution_count": 8,
   "id": "53dc2019",
   "metadata": {
    "execution": {
     "iopub.execute_input": "2023-04-14T11:42:09.405804Z",
     "iopub.status.busy": "2023-04-14T11:42:09.405538Z",
     "iopub.status.idle": "2023-04-14T11:42:09.475080Z",
     "shell.execute_reply": "2023-04-14T11:42:09.474134Z"
    },
    "papermill": {
     "duration": 0.084215,
     "end_time": "2023-04-14T11:42:09.477496",
     "exception": false,
     "start_time": "2023-04-14T11:42:09.393281",
     "status": "completed"
    },
    "tags": []
   },
   "outputs": [],
   "source": [
    "engine = create_engine(str_con_db)"
   ]
  },
  {
   "cell_type": "markdown",
   "id": "abc7e307",
   "metadata": {
    "papermill": {
     "duration": 0.011357,
     "end_time": "2023-04-14T11:42:09.500510",
     "exception": false,
     "start_time": "2023-04-14T11:42:09.489153",
     "status": "completed"
    },
    "tags": []
   },
   "source": [
    "## Загрузка таблиц признаков пользователей и эмбеддингов постов."
   ]
  },
  {
   "cell_type": "code",
   "execution_count": 9,
   "id": "6bdd3d21",
   "metadata": {
    "execution": {
     "iopub.execute_input": "2023-04-14T11:42:09.524983Z",
     "iopub.status.busy": "2023-04-14T11:42:09.524651Z",
     "iopub.status.idle": "2023-04-14T11:42:24.992651Z",
     "shell.execute_reply": "2023-04-14T11:42:24.991392Z"
    },
    "papermill": {
     "duration": 15.483704,
     "end_time": "2023-04-14T11:42:24.995796",
     "exception": false,
     "start_time": "2023-04-14T11:42:09.512092",
     "status": "completed"
    },
    "tags": []
   },
   "outputs": [],
   "source": [
    "# Загрузка таблицы признаков пользователей.\n",
    "df_user_data = pd.read_sql(\"\"\"SELECT * FROM pavel55645_users_lesson_22\"\"\", con=engine)\n",
    "df_user_data = df_user_data.drop(['index'], axis=1)"
   ]
  },
  {
   "cell_type": "code",
   "execution_count": 10,
   "id": "4175f381",
   "metadata": {
    "execution": {
     "iopub.execute_input": "2023-04-14T11:42:25.025384Z",
     "iopub.status.busy": "2023-04-14T11:42:25.025019Z",
     "iopub.status.idle": "2023-04-14T11:42:25.047665Z",
     "shell.execute_reply": "2023-04-14T11:42:25.046386Z"
    },
    "papermill": {
     "duration": 0.040453,
     "end_time": "2023-04-14T11:42:25.050541",
     "exception": false,
     "start_time": "2023-04-14T11:42:25.010088",
     "status": "completed"
    },
    "tags": []
   },
   "outputs": [
    {
     "data": {
      "text/html": [
       "<div>\n",
       "<style scoped>\n",
       "    .dataframe tbody tr th:only-of-type {\n",
       "        vertical-align: middle;\n",
       "    }\n",
       "\n",
       "    .dataframe tbody tr th {\n",
       "        vertical-align: top;\n",
       "    }\n",
       "\n",
       "    .dataframe thead th {\n",
       "        text-align: right;\n",
       "    }\n",
       "</style>\n",
       "<table border=\"1\" class=\"dataframe\">\n",
       "  <thead>\n",
       "    <tr style=\"text-align: right;\">\n",
       "      <th></th>\n",
       "      <th>user_id</th>\n",
       "      <th>gender</th>\n",
       "      <th>age</th>\n",
       "      <th>country</th>\n",
       "      <th>city</th>\n",
       "      <th>exp_group</th>\n",
       "      <th>business</th>\n",
       "      <th>covid</th>\n",
       "      <th>entertainment</th>\n",
       "      <th>movie</th>\n",
       "      <th>politics</th>\n",
       "      <th>sport</th>\n",
       "      <th>tech</th>\n",
       "    </tr>\n",
       "  </thead>\n",
       "  <tbody>\n",
       "    <tr>\n",
       "      <th>0</th>\n",
       "      <td>200</td>\n",
       "      <td>1</td>\n",
       "      <td>34</td>\n",
       "      <td>Russia</td>\n",
       "      <td>Degtyarsk</td>\n",
       "      <td>3</td>\n",
       "      <td>0.071429</td>\n",
       "      <td>0.096774</td>\n",
       "      <td>0.285714</td>\n",
       "      <td>0.170455</td>\n",
       "      <td>0.068966</td>\n",
       "      <td>0.109375</td>\n",
       "      <td>0.153846</td>\n",
       "    </tr>\n",
       "    <tr>\n",
       "      <th>1</th>\n",
       "      <td>201</td>\n",
       "      <td>0</td>\n",
       "      <td>37</td>\n",
       "      <td>Russia</td>\n",
       "      <td>Abakan</td>\n",
       "      <td>0</td>\n",
       "      <td>0.103448</td>\n",
       "      <td>0.063953</td>\n",
       "      <td>0.121212</td>\n",
       "      <td>0.122677</td>\n",
       "      <td>0.013889</td>\n",
       "      <td>0.023256</td>\n",
       "      <td>0.137931</td>\n",
       "    </tr>\n",
       "    <tr>\n",
       "      <th>2</th>\n",
       "      <td>202</td>\n",
       "      <td>1</td>\n",
       "      <td>17</td>\n",
       "      <td>Russia</td>\n",
       "      <td>Smolensk</td>\n",
       "      <td>4</td>\n",
       "      <td>0.052632</td>\n",
       "      <td>0.139241</td>\n",
       "      <td>0.037037</td>\n",
       "      <td>0.126812</td>\n",
       "      <td>0.254237</td>\n",
       "      <td>0.168831</td>\n",
       "      <td>0.000000</td>\n",
       "    </tr>\n",
       "    <tr>\n",
       "      <th>3</th>\n",
       "      <td>203</td>\n",
       "      <td>0</td>\n",
       "      <td>18</td>\n",
       "      <td>Russia</td>\n",
       "      <td>Moscow</td>\n",
       "      <td>1</td>\n",
       "      <td>0.157895</td>\n",
       "      <td>0.183099</td>\n",
       "      <td>0.181818</td>\n",
       "      <td>0.182482</td>\n",
       "      <td>0.200000</td>\n",
       "      <td>0.224490</td>\n",
       "      <td>0.222222</td>\n",
       "    </tr>\n",
       "    <tr>\n",
       "      <th>4</th>\n",
       "      <td>204</td>\n",
       "      <td>0</td>\n",
       "      <td>36</td>\n",
       "      <td>Russia</td>\n",
       "      <td>Anzhero-Sudzhensk</td>\n",
       "      <td>3</td>\n",
       "      <td>0.125000</td>\n",
       "      <td>0.258065</td>\n",
       "      <td>0.200000</td>\n",
       "      <td>0.140625</td>\n",
       "      <td>0.100000</td>\n",
       "      <td>0.117647</td>\n",
       "      <td>0.333333</td>\n",
       "    </tr>\n",
       "  </tbody>\n",
       "</table>\n",
       "</div>"
      ],
      "text/plain": [
       "   user_id  gender  age country               city  exp_group  business  \\\n",
       "0      200       1   34  Russia          Degtyarsk          3  0.071429   \n",
       "1      201       0   37  Russia             Abakan          0  0.103448   \n",
       "2      202       1   17  Russia           Smolensk          4  0.052632   \n",
       "3      203       0   18  Russia             Moscow          1  0.157895   \n",
       "4      204       0   36  Russia  Anzhero-Sudzhensk          3  0.125000   \n",
       "\n",
       "      covid  entertainment     movie  politics     sport      tech  \n",
       "0  0.096774       0.285714  0.170455  0.068966  0.109375  0.153846  \n",
       "1  0.063953       0.121212  0.122677  0.013889  0.023256  0.137931  \n",
       "2  0.139241       0.037037  0.126812  0.254237  0.168831  0.000000  \n",
       "3  0.183099       0.181818  0.182482  0.200000  0.224490  0.222222  \n",
       "4  0.258065       0.200000  0.140625  0.100000  0.117647  0.333333  "
      ]
     },
     "execution_count": 10,
     "metadata": {},
     "output_type": "execute_result"
    }
   ],
   "source": [
    "df_user_data.head()"
   ]
  },
  {
   "cell_type": "code",
   "execution_count": 11,
   "id": "793157b8",
   "metadata": {
    "execution": {
     "iopub.execute_input": "2023-04-14T11:42:25.079001Z",
     "iopub.status.busy": "2023-04-14T11:42:25.078666Z",
     "iopub.status.idle": "2023-04-14T11:42:47.871311Z",
     "shell.execute_reply": "2023-04-14T11:42:47.870234Z"
    },
    "papermill": {
     "duration": 22.810085,
     "end_time": "2023-04-14T11:42:47.874265",
     "exception": false,
     "start_time": "2023-04-14T11:42:25.064180",
     "status": "completed"
    },
    "tags": []
   },
   "outputs": [],
   "source": [
    "# Загрузка таблицы эмбеддингов постов.\n",
    "df_post_text_emb = pd.read_sql(\"\"\"SELECT * FROM pavel55645_posts_info_features_dl_emb\"\"\", con=engine)\n",
    "df_post_text_emb = df_post_text_emb.drop(['index'], axis = 1)"
   ]
  },
  {
   "cell_type": "code",
   "execution_count": 12,
   "id": "e83660ae",
   "metadata": {
    "execution": {
     "iopub.execute_input": "2023-04-14T11:42:47.899491Z",
     "iopub.status.busy": "2023-04-14T11:42:47.899177Z",
     "iopub.status.idle": "2023-04-14T11:42:47.922966Z",
     "shell.execute_reply": "2023-04-14T11:42:47.921399Z"
    },
    "papermill": {
     "duration": 0.038756,
     "end_time": "2023-04-14T11:42:47.925102",
     "exception": false,
     "start_time": "2023-04-14T11:42:47.886346",
     "status": "completed"
    },
    "tags": []
   },
   "outputs": [
    {
     "data": {
      "text/html": [
       "<div>\n",
       "<style scoped>\n",
       "    .dataframe tbody tr th:only-of-type {\n",
       "        vertical-align: middle;\n",
       "    }\n",
       "\n",
       "    .dataframe tbody tr th {\n",
       "        vertical-align: top;\n",
       "    }\n",
       "\n",
       "    .dataframe thead th {\n",
       "        text-align: right;\n",
       "    }\n",
       "</style>\n",
       "<table border=\"1\" class=\"dataframe\">\n",
       "  <thead>\n",
       "    <tr style=\"text-align: right;\">\n",
       "      <th></th>\n",
       "      <th>post_id</th>\n",
       "      <th>text</th>\n",
       "      <th>topic</th>\n",
       "      <th>text_feat_0</th>\n",
       "      <th>text_feat_1</th>\n",
       "      <th>text_feat_2</th>\n",
       "      <th>text_feat_3</th>\n",
       "      <th>text_feat_4</th>\n",
       "      <th>text_feat_5</th>\n",
       "      <th>text_feat_6</th>\n",
       "      <th>...</th>\n",
       "      <th>text_feat_758</th>\n",
       "      <th>text_feat_759</th>\n",
       "      <th>text_feat_760</th>\n",
       "      <th>text_feat_761</th>\n",
       "      <th>text_feat_762</th>\n",
       "      <th>text_feat_763</th>\n",
       "      <th>text_feat_764</th>\n",
       "      <th>text_feat_765</th>\n",
       "      <th>text_feat_766</th>\n",
       "      <th>text_feat_767</th>\n",
       "    </tr>\n",
       "  </thead>\n",
       "  <tbody>\n",
       "    <tr>\n",
       "      <th>0</th>\n",
       "      <td>1</td>\n",
       "      <td>UK economy facing major risks\\n\\nThe UK manufa...</td>\n",
       "      <td>business</td>\n",
       "      <td>0.363151</td>\n",
       "      <td>0.048938</td>\n",
       "      <td>-0.264081</td>\n",
       "      <td>-0.160672</td>\n",
       "      <td>-0.211844</td>\n",
       "      <td>-0.207537</td>\n",
       "      <td>0.325393</td>\n",
       "      <td>...</td>\n",
       "      <td>0.349080</td>\n",
       "      <td>0.290132</td>\n",
       "      <td>-0.244970</td>\n",
       "      <td>0.078532</td>\n",
       "      <td>0.137399</td>\n",
       "      <td>0.208097</td>\n",
       "      <td>-0.058624</td>\n",
       "      <td>-0.141593</td>\n",
       "      <td>0.015918</td>\n",
       "      <td>0.000092</td>\n",
       "    </tr>\n",
       "    <tr>\n",
       "      <th>1</th>\n",
       "      <td>2</td>\n",
       "      <td>Aids and climate top Davos agenda\\n\\nClimate c...</td>\n",
       "      <td>business</td>\n",
       "      <td>0.236416</td>\n",
       "      <td>-0.159501</td>\n",
       "      <td>-0.327798</td>\n",
       "      <td>-0.372885</td>\n",
       "      <td>-0.292128</td>\n",
       "      <td>-0.019028</td>\n",
       "      <td>0.333677</td>\n",
       "      <td>...</td>\n",
       "      <td>0.311639</td>\n",
       "      <td>0.297819</td>\n",
       "      <td>-0.177003</td>\n",
       "      <td>0.130227</td>\n",
       "      <td>-0.063239</td>\n",
       "      <td>0.190171</td>\n",
       "      <td>-0.018153</td>\n",
       "      <td>-0.289936</td>\n",
       "      <td>0.119365</td>\n",
       "      <td>-0.001623</td>\n",
       "    </tr>\n",
       "    <tr>\n",
       "      <th>2</th>\n",
       "      <td>3</td>\n",
       "      <td>Asian quake hits European shares\\n\\nShares in ...</td>\n",
       "      <td>business</td>\n",
       "      <td>0.375191</td>\n",
       "      <td>-0.113944</td>\n",
       "      <td>-0.240547</td>\n",
       "      <td>-0.282425</td>\n",
       "      <td>-0.264252</td>\n",
       "      <td>0.061839</td>\n",
       "      <td>0.249180</td>\n",
       "      <td>...</td>\n",
       "      <td>0.353616</td>\n",
       "      <td>0.308457</td>\n",
       "      <td>-0.207151</td>\n",
       "      <td>0.056724</td>\n",
       "      <td>0.056596</td>\n",
       "      <td>0.125301</td>\n",
       "      <td>0.021575</td>\n",
       "      <td>-0.338920</td>\n",
       "      <td>0.058694</td>\n",
       "      <td>-0.021266</td>\n",
       "    </tr>\n",
       "    <tr>\n",
       "      <th>3</th>\n",
       "      <td>4</td>\n",
       "      <td>India power shares jump on debut\\n\\nShares in ...</td>\n",
       "      <td>business</td>\n",
       "      <td>0.273770</td>\n",
       "      <td>-0.048748</td>\n",
       "      <td>-0.440433</td>\n",
       "      <td>-0.189999</td>\n",
       "      <td>-0.410856</td>\n",
       "      <td>-0.100587</td>\n",
       "      <td>0.255757</td>\n",
       "      <td>...</td>\n",
       "      <td>0.321182</td>\n",
       "      <td>0.218213</td>\n",
       "      <td>-0.267988</td>\n",
       "      <td>-0.093801</td>\n",
       "      <td>0.176987</td>\n",
       "      <td>0.251617</td>\n",
       "      <td>0.028331</td>\n",
       "      <td>-0.155708</td>\n",
       "      <td>0.136188</td>\n",
       "      <td>0.044055</td>\n",
       "    </tr>\n",
       "    <tr>\n",
       "      <th>4</th>\n",
       "      <td>5</td>\n",
       "      <td>Lacroix label bought by US firm\\n\\nLuxury good...</td>\n",
       "      <td>business</td>\n",
       "      <td>0.297853</td>\n",
       "      <td>-0.073203</td>\n",
       "      <td>-0.146820</td>\n",
       "      <td>-0.127284</td>\n",
       "      <td>-0.133966</td>\n",
       "      <td>0.045766</td>\n",
       "      <td>0.176495</td>\n",
       "      <td>...</td>\n",
       "      <td>0.168949</td>\n",
       "      <td>0.208978</td>\n",
       "      <td>-0.051180</td>\n",
       "      <td>0.045685</td>\n",
       "      <td>0.173985</td>\n",
       "      <td>0.148893</td>\n",
       "      <td>0.097254</td>\n",
       "      <td>-0.239587</td>\n",
       "      <td>0.228066</td>\n",
       "      <td>0.189831</td>\n",
       "    </tr>\n",
       "  </tbody>\n",
       "</table>\n",
       "<p>5 rows × 771 columns</p>\n",
       "</div>"
      ],
      "text/plain": [
       "   post_id                                               text     topic  \\\n",
       "0        1  UK economy facing major risks\\n\\nThe UK manufa...  business   \n",
       "1        2  Aids and climate top Davos agenda\\n\\nClimate c...  business   \n",
       "2        3  Asian quake hits European shares\\n\\nShares in ...  business   \n",
       "3        4  India power shares jump on debut\\n\\nShares in ...  business   \n",
       "4        5  Lacroix label bought by US firm\\n\\nLuxury good...  business   \n",
       "\n",
       "   text_feat_0  text_feat_1  text_feat_2  text_feat_3  text_feat_4  \\\n",
       "0     0.363151     0.048938    -0.264081    -0.160672    -0.211844   \n",
       "1     0.236416    -0.159501    -0.327798    -0.372885    -0.292128   \n",
       "2     0.375191    -0.113944    -0.240547    -0.282425    -0.264252   \n",
       "3     0.273770    -0.048748    -0.440433    -0.189999    -0.410856   \n",
       "4     0.297853    -0.073203    -0.146820    -0.127284    -0.133966   \n",
       "\n",
       "   text_feat_5  text_feat_6  ...  text_feat_758  text_feat_759  text_feat_760  \\\n",
       "0    -0.207537     0.325393  ...       0.349080       0.290132      -0.244970   \n",
       "1    -0.019028     0.333677  ...       0.311639       0.297819      -0.177003   \n",
       "2     0.061839     0.249180  ...       0.353616       0.308457      -0.207151   \n",
       "3    -0.100587     0.255757  ...       0.321182       0.218213      -0.267988   \n",
       "4     0.045766     0.176495  ...       0.168949       0.208978      -0.051180   \n",
       "\n",
       "   text_feat_761  text_feat_762  text_feat_763  text_feat_764  text_feat_765  \\\n",
       "0       0.078532       0.137399       0.208097      -0.058624      -0.141593   \n",
       "1       0.130227      -0.063239       0.190171      -0.018153      -0.289936   \n",
       "2       0.056724       0.056596       0.125301       0.021575      -0.338920   \n",
       "3      -0.093801       0.176987       0.251617       0.028331      -0.155708   \n",
       "4       0.045685       0.173985       0.148893       0.097254      -0.239587   \n",
       "\n",
       "   text_feat_766  text_feat_767  \n",
       "0       0.015918       0.000092  \n",
       "1       0.119365      -0.001623  \n",
       "2       0.058694      -0.021266  \n",
       "3       0.136188       0.044055  \n",
       "4       0.228066       0.189831  \n",
       "\n",
       "[5 rows x 771 columns]"
      ]
     },
     "execution_count": 12,
     "metadata": {},
     "output_type": "execute_result"
    }
   ],
   "source": [
    "df_post_text_emb.head()"
   ]
  },
  {
   "cell_type": "code",
   "execution_count": 13,
   "id": "0c8b76cb",
   "metadata": {
    "execution": {
     "iopub.execute_input": "2023-04-14T11:42:47.950255Z",
     "iopub.status.busy": "2023-04-14T11:42:47.949979Z",
     "iopub.status.idle": "2023-04-14T11:42:50.451879Z",
     "shell.execute_reply": "2023-04-14T11:42:50.450764Z"
    },
    "papermill": {
     "duration": 2.517282,
     "end_time": "2023-04-14T11:42:50.454550",
     "exception": false,
     "start_time": "2023-04-14T11:42:47.937268",
     "status": "completed"
    },
    "tags": []
   },
   "outputs": [],
   "source": [
    "df_feed_data = pd.read_csv(r'/kaggle/input/karpov-startml-feed-data/feed_data.csv')"
   ]
  },
  {
   "cell_type": "code",
   "execution_count": 14,
   "id": "b06830a3",
   "metadata": {
    "execution": {
     "iopub.execute_input": "2023-04-14T11:42:50.482465Z",
     "iopub.status.busy": "2023-04-14T11:42:50.481578Z",
     "iopub.status.idle": "2023-04-14T11:42:50.491983Z",
     "shell.execute_reply": "2023-04-14T11:42:50.490863Z"
    },
    "papermill": {
     "duration": 0.026327,
     "end_time": "2023-04-14T11:42:50.494702",
     "exception": false,
     "start_time": "2023-04-14T11:42:50.468375",
     "status": "completed"
    },
    "tags": []
   },
   "outputs": [
    {
     "data": {
      "text/html": [
       "<div>\n",
       "<style scoped>\n",
       "    .dataframe tbody tr th:only-of-type {\n",
       "        vertical-align: middle;\n",
       "    }\n",
       "\n",
       "    .dataframe tbody tr th {\n",
       "        vertical-align: top;\n",
       "    }\n",
       "\n",
       "    .dataframe thead th {\n",
       "        text-align: right;\n",
       "    }\n",
       "</style>\n",
       "<table border=\"1\" class=\"dataframe\">\n",
       "  <thead>\n",
       "    <tr style=\"text-align: right;\">\n",
       "      <th></th>\n",
       "      <th>timestamp</th>\n",
       "      <th>user_id</th>\n",
       "      <th>post_id</th>\n",
       "      <th>target</th>\n",
       "    </tr>\n",
       "  </thead>\n",
       "  <tbody>\n",
       "    <tr>\n",
       "      <th>0</th>\n",
       "      <td>2021-12-15 12:19:13</td>\n",
       "      <td>15743</td>\n",
       "      <td>3907</td>\n",
       "      <td>0</td>\n",
       "    </tr>\n",
       "    <tr>\n",
       "      <th>1</th>\n",
       "      <td>2021-10-27 16:36:43</td>\n",
       "      <td>11962</td>\n",
       "      <td>222</td>\n",
       "      <td>1</td>\n",
       "    </tr>\n",
       "    <tr>\n",
       "      <th>2</th>\n",
       "      <td>2021-10-30 14:39:36</td>\n",
       "      <td>12328</td>\n",
       "      <td>1342</td>\n",
       "      <td>0</td>\n",
       "    </tr>\n",
       "    <tr>\n",
       "      <th>3</th>\n",
       "      <td>2021-10-02 12:58:57</td>\n",
       "      <td>12635</td>\n",
       "      <td>4313</td>\n",
       "      <td>0</td>\n",
       "    </tr>\n",
       "    <tr>\n",
       "      <th>4</th>\n",
       "      <td>2021-10-02 11:26:53</td>\n",
       "      <td>17258</td>\n",
       "      <td>4880</td>\n",
       "      <td>1</td>\n",
       "    </tr>\n",
       "  </tbody>\n",
       "</table>\n",
       "</div>"
      ],
      "text/plain": [
       "             timestamp  user_id  post_id  target\n",
       "0  2021-12-15 12:19:13    15743     3907       0\n",
       "1  2021-10-27 16:36:43    11962      222       1\n",
       "2  2021-10-30 14:39:36    12328     1342       0\n",
       "3  2021-10-02 12:58:57    12635     4313       0\n",
       "4  2021-10-02 11:26:53    17258     4880       1"
      ]
     },
     "execution_count": 14,
     "metadata": {},
     "output_type": "execute_result"
    }
   ],
   "source": [
    "df_feed_data.head()"
   ]
  },
  {
   "cell_type": "markdown",
   "id": "75a44053",
   "metadata": {
    "papermill": {
     "duration": 0.011938,
     "end_time": "2023-04-14T11:42:50.518656",
     "exception": false,
     "start_time": "2023-04-14T11:42:50.506718",
     "status": "completed"
    },
    "tags": []
   },
   "source": [
    "## Обработка эмбеддингов постов таблицы df_post_text_emb."
   ]
  },
  {
   "cell_type": "code",
   "execution_count": 15,
   "id": "251c8222",
   "metadata": {
    "execution": {
     "iopub.execute_input": "2023-04-14T11:42:50.544012Z",
     "iopub.status.busy": "2023-04-14T11:42:50.543723Z",
     "iopub.status.idle": "2023-04-14T11:42:50.562863Z",
     "shell.execute_reply": "2023-04-14T11:42:50.561898Z"
    },
    "papermill": {
     "duration": 0.034264,
     "end_time": "2023-04-14T11:42:50.565020",
     "exception": false,
     "start_time": "2023-04-14T11:42:50.530756",
     "status": "completed"
    },
    "tags": []
   },
   "outputs": [],
   "source": [
    "# Получаем эмбеддинги постов.\n",
    "df_post_text_emb_ = df_post_text_emb.drop(['post_id', 'text', 'topic'], axis=1)"
   ]
  },
  {
   "cell_type": "code",
   "execution_count": 16,
   "id": "71ec43e5",
   "metadata": {
    "execution": {
     "iopub.execute_input": "2023-04-14T11:42:50.590845Z",
     "iopub.status.busy": "2023-04-14T11:42:50.590536Z",
     "iopub.status.idle": "2023-04-14T11:42:50.614539Z",
     "shell.execute_reply": "2023-04-14T11:42:50.613623Z"
    },
    "papermill": {
     "duration": 0.039254,
     "end_time": "2023-04-14T11:42:50.616590",
     "exception": false,
     "start_time": "2023-04-14T11:42:50.577336",
     "status": "completed"
    },
    "tags": []
   },
   "outputs": [
    {
     "data": {
      "text/html": [
       "<div>\n",
       "<style scoped>\n",
       "    .dataframe tbody tr th:only-of-type {\n",
       "        vertical-align: middle;\n",
       "    }\n",
       "\n",
       "    .dataframe tbody tr th {\n",
       "        vertical-align: top;\n",
       "    }\n",
       "\n",
       "    .dataframe thead th {\n",
       "        text-align: right;\n",
       "    }\n",
       "</style>\n",
       "<table border=\"1\" class=\"dataframe\">\n",
       "  <thead>\n",
       "    <tr style=\"text-align: right;\">\n",
       "      <th></th>\n",
       "      <th>text_feat_0</th>\n",
       "      <th>text_feat_1</th>\n",
       "      <th>text_feat_2</th>\n",
       "      <th>text_feat_3</th>\n",
       "      <th>text_feat_4</th>\n",
       "      <th>text_feat_5</th>\n",
       "      <th>text_feat_6</th>\n",
       "      <th>text_feat_7</th>\n",
       "      <th>text_feat_8</th>\n",
       "      <th>text_feat_9</th>\n",
       "      <th>...</th>\n",
       "      <th>text_feat_758</th>\n",
       "      <th>text_feat_759</th>\n",
       "      <th>text_feat_760</th>\n",
       "      <th>text_feat_761</th>\n",
       "      <th>text_feat_762</th>\n",
       "      <th>text_feat_763</th>\n",
       "      <th>text_feat_764</th>\n",
       "      <th>text_feat_765</th>\n",
       "      <th>text_feat_766</th>\n",
       "      <th>text_feat_767</th>\n",
       "    </tr>\n",
       "  </thead>\n",
       "  <tbody>\n",
       "    <tr>\n",
       "      <th>0</th>\n",
       "      <td>0.363151</td>\n",
       "      <td>0.048938</td>\n",
       "      <td>-0.264081</td>\n",
       "      <td>-0.160672</td>\n",
       "      <td>-0.211844</td>\n",
       "      <td>-0.207537</td>\n",
       "      <td>0.325393</td>\n",
       "      <td>-0.026139</td>\n",
       "      <td>0.087267</td>\n",
       "      <td>-1.041421</td>\n",
       "      <td>...</td>\n",
       "      <td>0.349080</td>\n",
       "      <td>0.290132</td>\n",
       "      <td>-0.244970</td>\n",
       "      <td>0.078532</td>\n",
       "      <td>0.137399</td>\n",
       "      <td>0.208097</td>\n",
       "      <td>-0.058624</td>\n",
       "      <td>-0.141593</td>\n",
       "      <td>0.015918</td>\n",
       "      <td>0.000092</td>\n",
       "    </tr>\n",
       "    <tr>\n",
       "      <th>1</th>\n",
       "      <td>0.236416</td>\n",
       "      <td>-0.159501</td>\n",
       "      <td>-0.327798</td>\n",
       "      <td>-0.372885</td>\n",
       "      <td>-0.292128</td>\n",
       "      <td>-0.019028</td>\n",
       "      <td>0.333677</td>\n",
       "      <td>-0.179642</td>\n",
       "      <td>0.004258</td>\n",
       "      <td>-1.027000</td>\n",
       "      <td>...</td>\n",
       "      <td>0.311639</td>\n",
       "      <td>0.297819</td>\n",
       "      <td>-0.177003</td>\n",
       "      <td>0.130227</td>\n",
       "      <td>-0.063239</td>\n",
       "      <td>0.190171</td>\n",
       "      <td>-0.018153</td>\n",
       "      <td>-0.289936</td>\n",
       "      <td>0.119365</td>\n",
       "      <td>-0.001623</td>\n",
       "    </tr>\n",
       "    <tr>\n",
       "      <th>2</th>\n",
       "      <td>0.375191</td>\n",
       "      <td>-0.113944</td>\n",
       "      <td>-0.240547</td>\n",
       "      <td>-0.282425</td>\n",
       "      <td>-0.264252</td>\n",
       "      <td>0.061839</td>\n",
       "      <td>0.249180</td>\n",
       "      <td>0.019152</td>\n",
       "      <td>-0.072067</td>\n",
       "      <td>-0.992547</td>\n",
       "      <td>...</td>\n",
       "      <td>0.353616</td>\n",
       "      <td>0.308457</td>\n",
       "      <td>-0.207151</td>\n",
       "      <td>0.056724</td>\n",
       "      <td>0.056596</td>\n",
       "      <td>0.125301</td>\n",
       "      <td>0.021575</td>\n",
       "      <td>-0.338920</td>\n",
       "      <td>0.058694</td>\n",
       "      <td>-0.021266</td>\n",
       "    </tr>\n",
       "    <tr>\n",
       "      <th>3</th>\n",
       "      <td>0.273770</td>\n",
       "      <td>-0.048748</td>\n",
       "      <td>-0.440433</td>\n",
       "      <td>-0.189999</td>\n",
       "      <td>-0.410856</td>\n",
       "      <td>-0.100587</td>\n",
       "      <td>0.255757</td>\n",
       "      <td>0.036902</td>\n",
       "      <td>0.044896</td>\n",
       "      <td>-0.798384</td>\n",
       "      <td>...</td>\n",
       "      <td>0.321182</td>\n",
       "      <td>0.218213</td>\n",
       "      <td>-0.267988</td>\n",
       "      <td>-0.093801</td>\n",
       "      <td>0.176987</td>\n",
       "      <td>0.251617</td>\n",
       "      <td>0.028331</td>\n",
       "      <td>-0.155708</td>\n",
       "      <td>0.136188</td>\n",
       "      <td>0.044055</td>\n",
       "    </tr>\n",
       "    <tr>\n",
       "      <th>4</th>\n",
       "      <td>0.297853</td>\n",
       "      <td>-0.073203</td>\n",
       "      <td>-0.146820</td>\n",
       "      <td>-0.127284</td>\n",
       "      <td>-0.133966</td>\n",
       "      <td>0.045766</td>\n",
       "      <td>0.176495</td>\n",
       "      <td>-0.218839</td>\n",
       "      <td>0.191195</td>\n",
       "      <td>-1.062085</td>\n",
       "      <td>...</td>\n",
       "      <td>0.168949</td>\n",
       "      <td>0.208978</td>\n",
       "      <td>-0.051180</td>\n",
       "      <td>0.045685</td>\n",
       "      <td>0.173985</td>\n",
       "      <td>0.148893</td>\n",
       "      <td>0.097254</td>\n",
       "      <td>-0.239587</td>\n",
       "      <td>0.228066</td>\n",
       "      <td>0.189831</td>\n",
       "    </tr>\n",
       "  </tbody>\n",
       "</table>\n",
       "<p>5 rows × 768 columns</p>\n",
       "</div>"
      ],
      "text/plain": [
       "   text_feat_0  text_feat_1  text_feat_2  text_feat_3  text_feat_4  \\\n",
       "0     0.363151     0.048938    -0.264081    -0.160672    -0.211844   \n",
       "1     0.236416    -0.159501    -0.327798    -0.372885    -0.292128   \n",
       "2     0.375191    -0.113944    -0.240547    -0.282425    -0.264252   \n",
       "3     0.273770    -0.048748    -0.440433    -0.189999    -0.410856   \n",
       "4     0.297853    -0.073203    -0.146820    -0.127284    -0.133966   \n",
       "\n",
       "   text_feat_5  text_feat_6  text_feat_7  text_feat_8  text_feat_9  ...  \\\n",
       "0    -0.207537     0.325393    -0.026139     0.087267    -1.041421  ...   \n",
       "1    -0.019028     0.333677    -0.179642     0.004258    -1.027000  ...   \n",
       "2     0.061839     0.249180     0.019152    -0.072067    -0.992547  ...   \n",
       "3    -0.100587     0.255757     0.036902     0.044896    -0.798384  ...   \n",
       "4     0.045766     0.176495    -0.218839     0.191195    -1.062085  ...   \n",
       "\n",
       "   text_feat_758  text_feat_759  text_feat_760  text_feat_761  text_feat_762  \\\n",
       "0       0.349080       0.290132      -0.244970       0.078532       0.137399   \n",
       "1       0.311639       0.297819      -0.177003       0.130227      -0.063239   \n",
       "2       0.353616       0.308457      -0.207151       0.056724       0.056596   \n",
       "3       0.321182       0.218213      -0.267988      -0.093801       0.176987   \n",
       "4       0.168949       0.208978      -0.051180       0.045685       0.173985   \n",
       "\n",
       "   text_feat_763  text_feat_764  text_feat_765  text_feat_766  text_feat_767  \n",
       "0       0.208097      -0.058624      -0.141593       0.015918       0.000092  \n",
       "1       0.190171      -0.018153      -0.289936       0.119365      -0.001623  \n",
       "2       0.125301       0.021575      -0.338920       0.058694      -0.021266  \n",
       "3       0.251617       0.028331      -0.155708       0.136188       0.044055  \n",
       "4       0.148893       0.097254      -0.239587       0.228066       0.189831  \n",
       "\n",
       "[5 rows x 768 columns]"
      ]
     },
     "execution_count": 16,
     "metadata": {},
     "output_type": "execute_result"
    }
   ],
   "source": [
    "df_post_text_emb_.head()"
   ]
  },
  {
   "cell_type": "markdown",
   "id": "c07749e1",
   "metadata": {
    "papermill": {
     "duration": 0.012261,
     "end_time": "2023-04-14T11:42:50.641102",
     "exception": false,
     "start_time": "2023-04-14T11:42:50.628841",
     "status": "completed"
    },
    "tags": []
   },
   "source": [
    "Эмбеддинги постов - это представление каждого поста в 768-мерном пространстве, поэтому введём новый признак постов - длина вектора из координат эмбеддингов. Считать будем по l2 норме. "
   ]
  },
  {
   "cell_type": "code",
   "execution_count": 17,
   "id": "7dda33b7",
   "metadata": {
    "execution": {
     "iopub.execute_input": "2023-04-14T11:42:50.666878Z",
     "iopub.status.busy": "2023-04-14T11:42:50.666603Z",
     "iopub.status.idle": "2023-04-14T11:42:50.799011Z",
     "shell.execute_reply": "2023-04-14T11:42:50.797941Z"
    },
    "papermill": {
     "duration": 0.148081,
     "end_time": "2023-04-14T11:42:50.801505",
     "exception": false,
     "start_time": "2023-04-14T11:42:50.653424",
     "status": "completed"
    },
    "tags": []
   },
   "outputs": [],
   "source": [
    "sum_sqr = np.power(df_post_text_emb_.values, 2).sum(axis=1)\n",
    "l2_norm = np.power(sum_sqr, 0.5)"
   ]
  },
  {
   "cell_type": "code",
   "execution_count": 18,
   "id": "c987e868",
   "metadata": {
    "execution": {
     "iopub.execute_input": "2023-04-14T11:42:50.827977Z",
     "iopub.status.busy": "2023-04-14T11:42:50.827642Z",
     "iopub.status.idle": "2023-04-14T11:42:50.863567Z",
     "shell.execute_reply": "2023-04-14T11:42:50.862383Z"
    },
    "papermill": {
     "duration": 0.051877,
     "end_time": "2023-04-14T11:42:50.866077",
     "exception": false,
     "start_time": "2023-04-14T11:42:50.814200",
     "status": "completed"
    },
    "tags": []
   },
   "outputs": [],
   "source": [
    "# Центруем значения эмбеддингов.\n",
    "df_post_text_emb_ = df_post_text_emb_ - df_post_text_emb_.mean()"
   ]
  },
  {
   "cell_type": "markdown",
   "id": "ba95830e",
   "metadata": {
    "papermill": {
     "duration": 0.01217,
     "end_time": "2023-04-14T11:42:50.891135",
     "exception": false,
     "start_time": "2023-04-14T11:42:50.878965",
     "status": "completed"
    },
    "tags": []
   },
   "source": [
    "Понизим размерность эмбеддингов постов при помощи метода главных компонент."
   ]
  },
  {
   "cell_type": "code",
   "execution_count": 19,
   "id": "1771b2a7",
   "metadata": {
    "execution": {
     "iopub.execute_input": "2023-04-14T11:42:50.917426Z",
     "iopub.status.busy": "2023-04-14T11:42:50.917099Z",
     "iopub.status.idle": "2023-04-14T11:42:51.568164Z",
     "shell.execute_reply": "2023-04-14T11:42:51.566501Z"
    },
    "papermill": {
     "duration": 0.66855,
     "end_time": "2023-04-14T11:42:51.572382",
     "exception": false,
     "start_time": "2023-04-14T11:42:50.903832",
     "status": "completed"
    },
    "tags": []
   },
   "outputs": [],
   "source": [
    "n_components = 40\n",
    "pca = PCA(n_components=n_components)\n",
    "pca_decomp = pca.fit_transform(df_post_text_emb_)"
   ]
  },
  {
   "cell_type": "code",
   "execution_count": 20,
   "id": "591d6c12",
   "metadata": {
    "execution": {
     "iopub.execute_input": "2023-04-14T11:42:51.640333Z",
     "iopub.status.busy": "2023-04-14T11:42:51.639677Z",
     "iopub.status.idle": "2023-04-14T11:42:51.649723Z",
     "shell.execute_reply": "2023-04-14T11:42:51.648276Z"
    },
    "papermill": {
     "duration": 0.047672,
     "end_time": "2023-04-14T11:42:51.653265",
     "exception": false,
     "start_time": "2023-04-14T11:42:51.605593",
     "status": "completed"
    },
    "tags": []
   },
   "outputs": [],
   "source": [
    "# Генерим названия новых признаков.\n",
    "dists_columns = [f'feature_{i}' for i in range(1, n_components + 1)]"
   ]
  },
  {
   "cell_type": "code",
   "execution_count": 21,
   "id": "62ab1649",
   "metadata": {
    "execution": {
     "iopub.execute_input": "2023-04-14T11:42:51.680422Z",
     "iopub.status.busy": "2023-04-14T11:42:51.680132Z",
     "iopub.status.idle": "2023-04-14T11:42:51.685185Z",
     "shell.execute_reply": "2023-04-14T11:42:51.684112Z"
    },
    "papermill": {
     "duration": 0.020717,
     "end_time": "2023-04-14T11:42:51.687574",
     "exception": false,
     "start_time": "2023-04-14T11:42:51.666857",
     "status": "completed"
    },
    "tags": []
   },
   "outputs": [],
   "source": [
    "# Создаём датафрейм из новых признаков.\n",
    "dists_df = pd.DataFrame(\n",
    "    data=pca_decomp,\n",
    "    columns=dists_columns\n",
    ")"
   ]
  },
  {
   "cell_type": "code",
   "execution_count": 22,
   "id": "2098bbeb",
   "metadata": {
    "execution": {
     "iopub.execute_input": "2023-04-14T11:42:51.713210Z",
     "iopub.status.busy": "2023-04-14T11:42:51.712936Z",
     "iopub.status.idle": "2023-04-14T11:42:51.739533Z",
     "shell.execute_reply": "2023-04-14T11:42:51.738470Z"
    },
    "papermill": {
     "duration": 0.042252,
     "end_time": "2023-04-14T11:42:51.742075",
     "exception": false,
     "start_time": "2023-04-14T11:42:51.699823",
     "status": "completed"
    },
    "tags": []
   },
   "outputs": [
    {
     "data": {
      "text/html": [
       "<div>\n",
       "<style scoped>\n",
       "    .dataframe tbody tr th:only-of-type {\n",
       "        vertical-align: middle;\n",
       "    }\n",
       "\n",
       "    .dataframe tbody tr th {\n",
       "        vertical-align: top;\n",
       "    }\n",
       "\n",
       "    .dataframe thead th {\n",
       "        text-align: right;\n",
       "    }\n",
       "</style>\n",
       "<table border=\"1\" class=\"dataframe\">\n",
       "  <thead>\n",
       "    <tr style=\"text-align: right;\">\n",
       "      <th></th>\n",
       "      <th>feature_1</th>\n",
       "      <th>feature_2</th>\n",
       "      <th>feature_3</th>\n",
       "      <th>feature_4</th>\n",
       "      <th>feature_5</th>\n",
       "      <th>feature_6</th>\n",
       "      <th>feature_7</th>\n",
       "      <th>feature_8</th>\n",
       "      <th>feature_9</th>\n",
       "      <th>feature_10</th>\n",
       "      <th>...</th>\n",
       "      <th>feature_31</th>\n",
       "      <th>feature_32</th>\n",
       "      <th>feature_33</th>\n",
       "      <th>feature_34</th>\n",
       "      <th>feature_35</th>\n",
       "      <th>feature_36</th>\n",
       "      <th>feature_37</th>\n",
       "      <th>feature_38</th>\n",
       "      <th>feature_39</th>\n",
       "      <th>feature_40</th>\n",
       "    </tr>\n",
       "  </thead>\n",
       "  <tbody>\n",
       "    <tr>\n",
       "      <th>0</th>\n",
       "      <td>0.789075</td>\n",
       "      <td>1.578995</td>\n",
       "      <td>-1.421158</td>\n",
       "      <td>-0.292831</td>\n",
       "      <td>0.196379</td>\n",
       "      <td>-0.482332</td>\n",
       "      <td>-0.172336</td>\n",
       "      <td>-0.252791</td>\n",
       "      <td>0.128665</td>\n",
       "      <td>-0.029781</td>\n",
       "      <td>...</td>\n",
       "      <td>0.251957</td>\n",
       "      <td>-0.063520</td>\n",
       "      <td>-0.163439</td>\n",
       "      <td>0.073538</td>\n",
       "      <td>0.063788</td>\n",
       "      <td>0.161548</td>\n",
       "      <td>-0.103752</td>\n",
       "      <td>0.005139</td>\n",
       "      <td>-0.076488</td>\n",
       "      <td>0.091042</td>\n",
       "    </tr>\n",
       "    <tr>\n",
       "      <th>1</th>\n",
       "      <td>0.792764</td>\n",
       "      <td>1.521056</td>\n",
       "      <td>-0.897744</td>\n",
       "      <td>0.228620</td>\n",
       "      <td>0.109586</td>\n",
       "      <td>0.125361</td>\n",
       "      <td>-0.163200</td>\n",
       "      <td>0.005960</td>\n",
       "      <td>-0.349689</td>\n",
       "      <td>-0.423536</td>\n",
       "      <td>...</td>\n",
       "      <td>0.250747</td>\n",
       "      <td>-0.023789</td>\n",
       "      <td>0.242521</td>\n",
       "      <td>-0.117724</td>\n",
       "      <td>-0.096343</td>\n",
       "      <td>-0.138300</td>\n",
       "      <td>0.030694</td>\n",
       "      <td>0.208030</td>\n",
       "      <td>-0.202167</td>\n",
       "      <td>0.169255</td>\n",
       "    </tr>\n",
       "    <tr>\n",
       "      <th>2</th>\n",
       "      <td>0.801291</td>\n",
       "      <td>1.223608</td>\n",
       "      <td>-0.669453</td>\n",
       "      <td>1.323420</td>\n",
       "      <td>-0.081454</td>\n",
       "      <td>0.550803</td>\n",
       "      <td>0.049820</td>\n",
       "      <td>-0.241445</td>\n",
       "      <td>-0.509031</td>\n",
       "      <td>-0.007894</td>\n",
       "      <td>...</td>\n",
       "      <td>0.087442</td>\n",
       "      <td>-0.289171</td>\n",
       "      <td>-0.148392</td>\n",
       "      <td>0.091134</td>\n",
       "      <td>-0.195753</td>\n",
       "      <td>0.005321</td>\n",
       "      <td>0.296334</td>\n",
       "      <td>-0.203689</td>\n",
       "      <td>-0.016341</td>\n",
       "      <td>-0.087571</td>\n",
       "    </tr>\n",
       "    <tr>\n",
       "      <th>3</th>\n",
       "      <td>0.867123</td>\n",
       "      <td>0.971223</td>\n",
       "      <td>-1.577186</td>\n",
       "      <td>0.833193</td>\n",
       "      <td>0.841215</td>\n",
       "      <td>-0.292207</td>\n",
       "      <td>0.742463</td>\n",
       "      <td>0.886729</td>\n",
       "      <td>-0.494613</td>\n",
       "      <td>0.055691</td>\n",
       "      <td>...</td>\n",
       "      <td>-0.140944</td>\n",
       "      <td>0.002015</td>\n",
       "      <td>-0.068738</td>\n",
       "      <td>-0.161402</td>\n",
       "      <td>0.085419</td>\n",
       "      <td>-0.145812</td>\n",
       "      <td>-0.124585</td>\n",
       "      <td>0.186925</td>\n",
       "      <td>0.113004</td>\n",
       "      <td>-0.056141</td>\n",
       "    </tr>\n",
       "    <tr>\n",
       "      <th>4</th>\n",
       "      <td>0.411659</td>\n",
       "      <td>0.809848</td>\n",
       "      <td>-0.682364</td>\n",
       "      <td>0.790953</td>\n",
       "      <td>-0.186109</td>\n",
       "      <td>-0.596705</td>\n",
       "      <td>0.169845</td>\n",
       "      <td>-0.758110</td>\n",
       "      <td>-0.193142</td>\n",
       "      <td>0.064081</td>\n",
       "      <td>...</td>\n",
       "      <td>-0.215925</td>\n",
       "      <td>-0.190245</td>\n",
       "      <td>0.303868</td>\n",
       "      <td>0.195219</td>\n",
       "      <td>-0.255649</td>\n",
       "      <td>-0.011422</td>\n",
       "      <td>-0.278761</td>\n",
       "      <td>-0.014764</td>\n",
       "      <td>-0.087644</td>\n",
       "      <td>-0.064519</td>\n",
       "    </tr>\n",
       "    <tr>\n",
       "      <th>...</th>\n",
       "      <td>...</td>\n",
       "      <td>...</td>\n",
       "      <td>...</td>\n",
       "      <td>...</td>\n",
       "      <td>...</td>\n",
       "      <td>...</td>\n",
       "      <td>...</td>\n",
       "      <td>...</td>\n",
       "      <td>...</td>\n",
       "      <td>...</td>\n",
       "      <td>...</td>\n",
       "      <td>...</td>\n",
       "      <td>...</td>\n",
       "      <td>...</td>\n",
       "      <td>...</td>\n",
       "      <td>...</td>\n",
       "      <td>...</td>\n",
       "      <td>...</td>\n",
       "      <td>...</td>\n",
       "      <td>...</td>\n",
       "      <td>...</td>\n",
       "    </tr>\n",
       "    <tr>\n",
       "      <th>7018</th>\n",
       "      <td>-0.983509</td>\n",
       "      <td>-0.483879</td>\n",
       "      <td>0.001965</td>\n",
       "      <td>0.066759</td>\n",
       "      <td>0.059192</td>\n",
       "      <td>0.342649</td>\n",
       "      <td>0.026167</td>\n",
       "      <td>-0.575165</td>\n",
       "      <td>-0.049808</td>\n",
       "      <td>0.668215</td>\n",
       "      <td>...</td>\n",
       "      <td>-0.313466</td>\n",
       "      <td>-0.003342</td>\n",
       "      <td>-0.213637</td>\n",
       "      <td>-0.050142</td>\n",
       "      <td>-0.054273</td>\n",
       "      <td>-0.001573</td>\n",
       "      <td>0.026577</td>\n",
       "      <td>0.016752</td>\n",
       "      <td>0.257352</td>\n",
       "      <td>0.041964</td>\n",
       "    </tr>\n",
       "    <tr>\n",
       "      <th>7019</th>\n",
       "      <td>-0.821776</td>\n",
       "      <td>-0.706064</td>\n",
       "      <td>-0.164486</td>\n",
       "      <td>-0.391023</td>\n",
       "      <td>0.029570</td>\n",
       "      <td>0.233315</td>\n",
       "      <td>0.336856</td>\n",
       "      <td>-0.425722</td>\n",
       "      <td>0.112190</td>\n",
       "      <td>0.308404</td>\n",
       "      <td>...</td>\n",
       "      <td>0.059800</td>\n",
       "      <td>0.107318</td>\n",
       "      <td>0.078140</td>\n",
       "      <td>-0.166076</td>\n",
       "      <td>0.120878</td>\n",
       "      <td>-0.216552</td>\n",
       "      <td>-0.147680</td>\n",
       "      <td>0.066259</td>\n",
       "      <td>0.001334</td>\n",
       "      <td>0.136187</td>\n",
       "    </tr>\n",
       "    <tr>\n",
       "      <th>7020</th>\n",
       "      <td>-0.469401</td>\n",
       "      <td>-0.874857</td>\n",
       "      <td>0.482076</td>\n",
       "      <td>-0.138474</td>\n",
       "      <td>-0.257594</td>\n",
       "      <td>0.545993</td>\n",
       "      <td>-0.031881</td>\n",
       "      <td>-0.287170</td>\n",
       "      <td>-0.504231</td>\n",
       "      <td>0.519211</td>\n",
       "      <td>...</td>\n",
       "      <td>-0.157143</td>\n",
       "      <td>0.164933</td>\n",
       "      <td>-0.146034</td>\n",
       "      <td>-0.168101</td>\n",
       "      <td>0.088343</td>\n",
       "      <td>0.056899</td>\n",
       "      <td>-0.071881</td>\n",
       "      <td>0.342068</td>\n",
       "      <td>-0.100681</td>\n",
       "      <td>0.012120</td>\n",
       "    </tr>\n",
       "    <tr>\n",
       "      <th>7021</th>\n",
       "      <td>-1.579793</td>\n",
       "      <td>-0.448613</td>\n",
       "      <td>0.126693</td>\n",
       "      <td>0.100854</td>\n",
       "      <td>0.284516</td>\n",
       "      <td>-0.370504</td>\n",
       "      <td>-0.190615</td>\n",
       "      <td>-0.049478</td>\n",
       "      <td>-0.189615</td>\n",
       "      <td>0.021910</td>\n",
       "      <td>...</td>\n",
       "      <td>0.041570</td>\n",
       "      <td>-0.081723</td>\n",
       "      <td>-0.099853</td>\n",
       "      <td>0.103991</td>\n",
       "      <td>0.032033</td>\n",
       "      <td>0.045465</td>\n",
       "      <td>0.007511</td>\n",
       "      <td>-0.094698</td>\n",
       "      <td>0.094536</td>\n",
       "      <td>-0.125428</td>\n",
       "    </tr>\n",
       "    <tr>\n",
       "      <th>7022</th>\n",
       "      <td>-0.894469</td>\n",
       "      <td>-0.534901</td>\n",
       "      <td>0.199914</td>\n",
       "      <td>0.521650</td>\n",
       "      <td>-0.014378</td>\n",
       "      <td>0.511432</td>\n",
       "      <td>-0.252079</td>\n",
       "      <td>0.414812</td>\n",
       "      <td>-0.226353</td>\n",
       "      <td>-0.789539</td>\n",
       "      <td>...</td>\n",
       "      <td>-0.227064</td>\n",
       "      <td>-0.029281</td>\n",
       "      <td>-0.075238</td>\n",
       "      <td>-0.117114</td>\n",
       "      <td>-0.450094</td>\n",
       "      <td>-0.261853</td>\n",
       "      <td>0.149927</td>\n",
       "      <td>-0.078989</td>\n",
       "      <td>-0.228871</td>\n",
       "      <td>-0.130217</td>\n",
       "    </tr>\n",
       "  </tbody>\n",
       "</table>\n",
       "<p>7023 rows × 40 columns</p>\n",
       "</div>"
      ],
      "text/plain": [
       "      feature_1  feature_2  feature_3  feature_4  feature_5  feature_6  \\\n",
       "0      0.789075   1.578995  -1.421158  -0.292831   0.196379  -0.482332   \n",
       "1      0.792764   1.521056  -0.897744   0.228620   0.109586   0.125361   \n",
       "2      0.801291   1.223608  -0.669453   1.323420  -0.081454   0.550803   \n",
       "3      0.867123   0.971223  -1.577186   0.833193   0.841215  -0.292207   \n",
       "4      0.411659   0.809848  -0.682364   0.790953  -0.186109  -0.596705   \n",
       "...         ...        ...        ...        ...        ...        ...   \n",
       "7018  -0.983509  -0.483879   0.001965   0.066759   0.059192   0.342649   \n",
       "7019  -0.821776  -0.706064  -0.164486  -0.391023   0.029570   0.233315   \n",
       "7020  -0.469401  -0.874857   0.482076  -0.138474  -0.257594   0.545993   \n",
       "7021  -1.579793  -0.448613   0.126693   0.100854   0.284516  -0.370504   \n",
       "7022  -0.894469  -0.534901   0.199914   0.521650  -0.014378   0.511432   \n",
       "\n",
       "      feature_7  feature_8  feature_9  feature_10  ...  feature_31  \\\n",
       "0     -0.172336  -0.252791   0.128665   -0.029781  ...    0.251957   \n",
       "1     -0.163200   0.005960  -0.349689   -0.423536  ...    0.250747   \n",
       "2      0.049820  -0.241445  -0.509031   -0.007894  ...    0.087442   \n",
       "3      0.742463   0.886729  -0.494613    0.055691  ...   -0.140944   \n",
       "4      0.169845  -0.758110  -0.193142    0.064081  ...   -0.215925   \n",
       "...         ...        ...        ...         ...  ...         ...   \n",
       "7018   0.026167  -0.575165  -0.049808    0.668215  ...   -0.313466   \n",
       "7019   0.336856  -0.425722   0.112190    0.308404  ...    0.059800   \n",
       "7020  -0.031881  -0.287170  -0.504231    0.519211  ...   -0.157143   \n",
       "7021  -0.190615  -0.049478  -0.189615    0.021910  ...    0.041570   \n",
       "7022  -0.252079   0.414812  -0.226353   -0.789539  ...   -0.227064   \n",
       "\n",
       "      feature_32  feature_33  feature_34  feature_35  feature_36  feature_37  \\\n",
       "0      -0.063520   -0.163439    0.073538    0.063788    0.161548   -0.103752   \n",
       "1      -0.023789    0.242521   -0.117724   -0.096343   -0.138300    0.030694   \n",
       "2      -0.289171   -0.148392    0.091134   -0.195753    0.005321    0.296334   \n",
       "3       0.002015   -0.068738   -0.161402    0.085419   -0.145812   -0.124585   \n",
       "4      -0.190245    0.303868    0.195219   -0.255649   -0.011422   -0.278761   \n",
       "...          ...         ...         ...         ...         ...         ...   \n",
       "7018   -0.003342   -0.213637   -0.050142   -0.054273   -0.001573    0.026577   \n",
       "7019    0.107318    0.078140   -0.166076    0.120878   -0.216552   -0.147680   \n",
       "7020    0.164933   -0.146034   -0.168101    0.088343    0.056899   -0.071881   \n",
       "7021   -0.081723   -0.099853    0.103991    0.032033    0.045465    0.007511   \n",
       "7022   -0.029281   -0.075238   -0.117114   -0.450094   -0.261853    0.149927   \n",
       "\n",
       "      feature_38  feature_39  feature_40  \n",
       "0       0.005139   -0.076488    0.091042  \n",
       "1       0.208030   -0.202167    0.169255  \n",
       "2      -0.203689   -0.016341   -0.087571  \n",
       "3       0.186925    0.113004   -0.056141  \n",
       "4      -0.014764   -0.087644   -0.064519  \n",
       "...          ...         ...         ...  \n",
       "7018    0.016752    0.257352    0.041964  \n",
       "7019    0.066259    0.001334    0.136187  \n",
       "7020    0.342068   -0.100681    0.012120  \n",
       "7021   -0.094698    0.094536   -0.125428  \n",
       "7022   -0.078989   -0.228871   -0.130217  \n",
       "\n",
       "[7023 rows x 40 columns]"
      ]
     },
     "execution_count": 22,
     "metadata": {},
     "output_type": "execute_result"
    }
   ],
   "source": [
    "dists_df"
   ]
  },
  {
   "cell_type": "code",
   "execution_count": 23,
   "id": "0888f7de",
   "metadata": {
    "execution": {
     "iopub.execute_input": "2023-04-14T11:42:51.769096Z",
     "iopub.status.busy": "2023-04-14T11:42:51.768363Z",
     "iopub.status.idle": "2023-04-14T11:42:51.789709Z",
     "shell.execute_reply": "2023-04-14T11:42:51.788747Z"
    },
    "papermill": {
     "duration": 0.036854,
     "end_time": "2023-04-14T11:42:51.791724",
     "exception": false,
     "start_time": "2023-04-14T11:42:51.754870",
     "status": "completed"
    },
    "tags": []
   },
   "outputs": [
    {
     "data": {
      "text/html": [
       "<div>\n",
       "<style scoped>\n",
       "    .dataframe tbody tr th:only-of-type {\n",
       "        vertical-align: middle;\n",
       "    }\n",
       "\n",
       "    .dataframe tbody tr th {\n",
       "        vertical-align: top;\n",
       "    }\n",
       "\n",
       "    .dataframe thead th {\n",
       "        text-align: right;\n",
       "    }\n",
       "</style>\n",
       "<table border=\"1\" class=\"dataframe\">\n",
       "  <thead>\n",
       "    <tr style=\"text-align: right;\">\n",
       "      <th></th>\n",
       "      <th>post_id</th>\n",
       "      <th>text</th>\n",
       "      <th>topic</th>\n",
       "      <th>text_feat_0</th>\n",
       "      <th>text_feat_1</th>\n",
       "      <th>text_feat_2</th>\n",
       "      <th>text_feat_3</th>\n",
       "      <th>text_feat_4</th>\n",
       "      <th>text_feat_5</th>\n",
       "      <th>text_feat_6</th>\n",
       "      <th>...</th>\n",
       "      <th>text_feat_758</th>\n",
       "      <th>text_feat_759</th>\n",
       "      <th>text_feat_760</th>\n",
       "      <th>text_feat_761</th>\n",
       "      <th>text_feat_762</th>\n",
       "      <th>text_feat_763</th>\n",
       "      <th>text_feat_764</th>\n",
       "      <th>text_feat_765</th>\n",
       "      <th>text_feat_766</th>\n",
       "      <th>text_feat_767</th>\n",
       "    </tr>\n",
       "  </thead>\n",
       "  <tbody>\n",
       "    <tr>\n",
       "      <th>0</th>\n",
       "      <td>1</td>\n",
       "      <td>UK economy facing major risks\\n\\nThe UK manufa...</td>\n",
       "      <td>business</td>\n",
       "      <td>0.363151</td>\n",
       "      <td>0.048938</td>\n",
       "      <td>-0.264081</td>\n",
       "      <td>-0.160672</td>\n",
       "      <td>-0.211844</td>\n",
       "      <td>-0.207537</td>\n",
       "      <td>0.325393</td>\n",
       "      <td>...</td>\n",
       "      <td>0.349080</td>\n",
       "      <td>0.290132</td>\n",
       "      <td>-0.244970</td>\n",
       "      <td>0.078532</td>\n",
       "      <td>0.137399</td>\n",
       "      <td>0.208097</td>\n",
       "      <td>-0.058624</td>\n",
       "      <td>-0.141593</td>\n",
       "      <td>0.015918</td>\n",
       "      <td>0.000092</td>\n",
       "    </tr>\n",
       "    <tr>\n",
       "      <th>1</th>\n",
       "      <td>2</td>\n",
       "      <td>Aids and climate top Davos agenda\\n\\nClimate c...</td>\n",
       "      <td>business</td>\n",
       "      <td>0.236416</td>\n",
       "      <td>-0.159501</td>\n",
       "      <td>-0.327798</td>\n",
       "      <td>-0.372885</td>\n",
       "      <td>-0.292128</td>\n",
       "      <td>-0.019028</td>\n",
       "      <td>0.333677</td>\n",
       "      <td>...</td>\n",
       "      <td>0.311639</td>\n",
       "      <td>0.297819</td>\n",
       "      <td>-0.177003</td>\n",
       "      <td>0.130227</td>\n",
       "      <td>-0.063239</td>\n",
       "      <td>0.190171</td>\n",
       "      <td>-0.018153</td>\n",
       "      <td>-0.289936</td>\n",
       "      <td>0.119365</td>\n",
       "      <td>-0.001623</td>\n",
       "    </tr>\n",
       "    <tr>\n",
       "      <th>2</th>\n",
       "      <td>3</td>\n",
       "      <td>Asian quake hits European shares\\n\\nShares in ...</td>\n",
       "      <td>business</td>\n",
       "      <td>0.375191</td>\n",
       "      <td>-0.113944</td>\n",
       "      <td>-0.240547</td>\n",
       "      <td>-0.282425</td>\n",
       "      <td>-0.264252</td>\n",
       "      <td>0.061839</td>\n",
       "      <td>0.249180</td>\n",
       "      <td>...</td>\n",
       "      <td>0.353616</td>\n",
       "      <td>0.308457</td>\n",
       "      <td>-0.207151</td>\n",
       "      <td>0.056724</td>\n",
       "      <td>0.056596</td>\n",
       "      <td>0.125301</td>\n",
       "      <td>0.021575</td>\n",
       "      <td>-0.338920</td>\n",
       "      <td>0.058694</td>\n",
       "      <td>-0.021266</td>\n",
       "    </tr>\n",
       "    <tr>\n",
       "      <th>3</th>\n",
       "      <td>4</td>\n",
       "      <td>India power shares jump on debut\\n\\nShares in ...</td>\n",
       "      <td>business</td>\n",
       "      <td>0.273770</td>\n",
       "      <td>-0.048748</td>\n",
       "      <td>-0.440433</td>\n",
       "      <td>-0.189999</td>\n",
       "      <td>-0.410856</td>\n",
       "      <td>-0.100587</td>\n",
       "      <td>0.255757</td>\n",
       "      <td>...</td>\n",
       "      <td>0.321182</td>\n",
       "      <td>0.218213</td>\n",
       "      <td>-0.267988</td>\n",
       "      <td>-0.093801</td>\n",
       "      <td>0.176987</td>\n",
       "      <td>0.251617</td>\n",
       "      <td>0.028331</td>\n",
       "      <td>-0.155708</td>\n",
       "      <td>0.136188</td>\n",
       "      <td>0.044055</td>\n",
       "    </tr>\n",
       "    <tr>\n",
       "      <th>4</th>\n",
       "      <td>5</td>\n",
       "      <td>Lacroix label bought by US firm\\n\\nLuxury good...</td>\n",
       "      <td>business</td>\n",
       "      <td>0.297853</td>\n",
       "      <td>-0.073203</td>\n",
       "      <td>-0.146820</td>\n",
       "      <td>-0.127284</td>\n",
       "      <td>-0.133966</td>\n",
       "      <td>0.045766</td>\n",
       "      <td>0.176495</td>\n",
       "      <td>...</td>\n",
       "      <td>0.168949</td>\n",
       "      <td>0.208978</td>\n",
       "      <td>-0.051180</td>\n",
       "      <td>0.045685</td>\n",
       "      <td>0.173985</td>\n",
       "      <td>0.148893</td>\n",
       "      <td>0.097254</td>\n",
       "      <td>-0.239587</td>\n",
       "      <td>0.228066</td>\n",
       "      <td>0.189831</td>\n",
       "    </tr>\n",
       "  </tbody>\n",
       "</table>\n",
       "<p>5 rows × 771 columns</p>\n",
       "</div>"
      ],
      "text/plain": [
       "   post_id                                               text     topic  \\\n",
       "0        1  UK economy facing major risks\\n\\nThe UK manufa...  business   \n",
       "1        2  Aids and climate top Davos agenda\\n\\nClimate c...  business   \n",
       "2        3  Asian quake hits European shares\\n\\nShares in ...  business   \n",
       "3        4  India power shares jump on debut\\n\\nShares in ...  business   \n",
       "4        5  Lacroix label bought by US firm\\n\\nLuxury good...  business   \n",
       "\n",
       "   text_feat_0  text_feat_1  text_feat_2  text_feat_3  text_feat_4  \\\n",
       "0     0.363151     0.048938    -0.264081    -0.160672    -0.211844   \n",
       "1     0.236416    -0.159501    -0.327798    -0.372885    -0.292128   \n",
       "2     0.375191    -0.113944    -0.240547    -0.282425    -0.264252   \n",
       "3     0.273770    -0.048748    -0.440433    -0.189999    -0.410856   \n",
       "4     0.297853    -0.073203    -0.146820    -0.127284    -0.133966   \n",
       "\n",
       "   text_feat_5  text_feat_6  ...  text_feat_758  text_feat_759  text_feat_760  \\\n",
       "0    -0.207537     0.325393  ...       0.349080       0.290132      -0.244970   \n",
       "1    -0.019028     0.333677  ...       0.311639       0.297819      -0.177003   \n",
       "2     0.061839     0.249180  ...       0.353616       0.308457      -0.207151   \n",
       "3    -0.100587     0.255757  ...       0.321182       0.218213      -0.267988   \n",
       "4     0.045766     0.176495  ...       0.168949       0.208978      -0.051180   \n",
       "\n",
       "   text_feat_761  text_feat_762  text_feat_763  text_feat_764  text_feat_765  \\\n",
       "0       0.078532       0.137399       0.208097      -0.058624      -0.141593   \n",
       "1       0.130227      -0.063239       0.190171      -0.018153      -0.289936   \n",
       "2       0.056724       0.056596       0.125301       0.021575      -0.338920   \n",
       "3      -0.093801       0.176987       0.251617       0.028331      -0.155708   \n",
       "4       0.045685       0.173985       0.148893       0.097254      -0.239587   \n",
       "\n",
       "   text_feat_766  text_feat_767  \n",
       "0       0.015918       0.000092  \n",
       "1       0.119365      -0.001623  \n",
       "2       0.058694      -0.021266  \n",
       "3       0.136188       0.044055  \n",
       "4       0.228066       0.189831  \n",
       "\n",
       "[5 rows x 771 columns]"
      ]
     },
     "execution_count": 23,
     "metadata": {},
     "output_type": "execute_result"
    }
   ],
   "source": [
    "df_post_text_emb.head()"
   ]
  },
  {
   "cell_type": "code",
   "execution_count": 24,
   "id": "5f45740e",
   "metadata": {
    "execution": {
     "iopub.execute_input": "2023-04-14T11:42:51.819588Z",
     "iopub.status.busy": "2023-04-14T11:42:51.818782Z",
     "iopub.status.idle": "2023-04-14T11:42:51.824286Z",
     "shell.execute_reply": "2023-04-14T11:42:51.823318Z"
    },
    "papermill": {
     "duration": 0.021377,
     "end_time": "2023-04-14T11:42:51.826322",
     "exception": false,
     "start_time": "2023-04-14T11:42:51.804945",
     "status": "completed"
    },
    "tags": []
   },
   "outputs": [],
   "source": [
    "# Заменим эмбединги постов новыми признаками. \n",
    "df_post_data = df_post_text_emb[['post_id', 'topic']]"
   ]
  },
  {
   "cell_type": "code",
   "execution_count": 25,
   "id": "36164a14",
   "metadata": {
    "execution": {
     "iopub.execute_input": "2023-04-14T11:42:51.853273Z",
     "iopub.status.busy": "2023-04-14T11:42:51.853008Z",
     "iopub.status.idle": "2023-04-14T11:42:51.861435Z",
     "shell.execute_reply": "2023-04-14T11:42:51.860323Z"
    },
    "papermill": {
     "duration": 0.024176,
     "end_time": "2023-04-14T11:42:51.863476",
     "exception": false,
     "start_time": "2023-04-14T11:42:51.839300",
     "status": "completed"
    },
    "tags": []
   },
   "outputs": [
    {
     "data": {
      "text/html": [
       "<div>\n",
       "<style scoped>\n",
       "    .dataframe tbody tr th:only-of-type {\n",
       "        vertical-align: middle;\n",
       "    }\n",
       "\n",
       "    .dataframe tbody tr th {\n",
       "        vertical-align: top;\n",
       "    }\n",
       "\n",
       "    .dataframe thead th {\n",
       "        text-align: right;\n",
       "    }\n",
       "</style>\n",
       "<table border=\"1\" class=\"dataframe\">\n",
       "  <thead>\n",
       "    <tr style=\"text-align: right;\">\n",
       "      <th></th>\n",
       "      <th>post_id</th>\n",
       "      <th>topic</th>\n",
       "    </tr>\n",
       "  </thead>\n",
       "  <tbody>\n",
       "    <tr>\n",
       "      <th>0</th>\n",
       "      <td>1</td>\n",
       "      <td>business</td>\n",
       "    </tr>\n",
       "    <tr>\n",
       "      <th>1</th>\n",
       "      <td>2</td>\n",
       "      <td>business</td>\n",
       "    </tr>\n",
       "    <tr>\n",
       "      <th>2</th>\n",
       "      <td>3</td>\n",
       "      <td>business</td>\n",
       "    </tr>\n",
       "    <tr>\n",
       "      <th>3</th>\n",
       "      <td>4</td>\n",
       "      <td>business</td>\n",
       "    </tr>\n",
       "    <tr>\n",
       "      <th>4</th>\n",
       "      <td>5</td>\n",
       "      <td>business</td>\n",
       "    </tr>\n",
       "  </tbody>\n",
       "</table>\n",
       "</div>"
      ],
      "text/plain": [
       "   post_id     topic\n",
       "0        1  business\n",
       "1        2  business\n",
       "2        3  business\n",
       "3        4  business\n",
       "4        5  business"
      ]
     },
     "execution_count": 25,
     "metadata": {},
     "output_type": "execute_result"
    }
   ],
   "source": [
    "df_post_data.head()"
   ]
  },
  {
   "cell_type": "code",
   "execution_count": 26,
   "id": "3f2196db",
   "metadata": {
    "execution": {
     "iopub.execute_input": "2023-04-14T11:42:51.890732Z",
     "iopub.status.busy": "2023-04-14T11:42:51.890461Z",
     "iopub.status.idle": "2023-04-14T11:42:51.899311Z",
     "shell.execute_reply": "2023-04-14T11:42:51.898196Z"
    },
    "papermill": {
     "duration": 0.025302,
     "end_time": "2023-04-14T11:42:51.901799",
     "exception": false,
     "start_time": "2023-04-14T11:42:51.876497",
     "status": "completed"
    },
    "tags": []
   },
   "outputs": [],
   "source": [
    "df_post_data = pd.merge(df_post_data, dists_df, left_index=True, right_index=True)"
   ]
  },
  {
   "cell_type": "code",
   "execution_count": 27,
   "id": "f92b10bd",
   "metadata": {
    "execution": {
     "iopub.execute_input": "2023-04-14T11:42:51.928946Z",
     "iopub.status.busy": "2023-04-14T11:42:51.928676Z",
     "iopub.status.idle": "2023-04-14T11:42:51.950693Z",
     "shell.execute_reply": "2023-04-14T11:42:51.949614Z"
    },
    "papermill": {
     "duration": 0.038236,
     "end_time": "2023-04-14T11:42:51.953034",
     "exception": false,
     "start_time": "2023-04-14T11:42:51.914798",
     "status": "completed"
    },
    "tags": []
   },
   "outputs": [
    {
     "data": {
      "text/html": [
       "<div>\n",
       "<style scoped>\n",
       "    .dataframe tbody tr th:only-of-type {\n",
       "        vertical-align: middle;\n",
       "    }\n",
       "\n",
       "    .dataframe tbody tr th {\n",
       "        vertical-align: top;\n",
       "    }\n",
       "\n",
       "    .dataframe thead th {\n",
       "        text-align: right;\n",
       "    }\n",
       "</style>\n",
       "<table border=\"1\" class=\"dataframe\">\n",
       "  <thead>\n",
       "    <tr style=\"text-align: right;\">\n",
       "      <th></th>\n",
       "      <th>post_id</th>\n",
       "      <th>topic</th>\n",
       "      <th>feature_1</th>\n",
       "      <th>feature_2</th>\n",
       "      <th>feature_3</th>\n",
       "      <th>feature_4</th>\n",
       "      <th>feature_5</th>\n",
       "      <th>feature_6</th>\n",
       "      <th>feature_7</th>\n",
       "      <th>feature_8</th>\n",
       "      <th>...</th>\n",
       "      <th>feature_31</th>\n",
       "      <th>feature_32</th>\n",
       "      <th>feature_33</th>\n",
       "      <th>feature_34</th>\n",
       "      <th>feature_35</th>\n",
       "      <th>feature_36</th>\n",
       "      <th>feature_37</th>\n",
       "      <th>feature_38</th>\n",
       "      <th>feature_39</th>\n",
       "      <th>feature_40</th>\n",
       "    </tr>\n",
       "  </thead>\n",
       "  <tbody>\n",
       "    <tr>\n",
       "      <th>0</th>\n",
       "      <td>1</td>\n",
       "      <td>business</td>\n",
       "      <td>0.789075</td>\n",
       "      <td>1.578995</td>\n",
       "      <td>-1.421158</td>\n",
       "      <td>-0.292831</td>\n",
       "      <td>0.196379</td>\n",
       "      <td>-0.482332</td>\n",
       "      <td>-0.172336</td>\n",
       "      <td>-0.252791</td>\n",
       "      <td>...</td>\n",
       "      <td>0.251957</td>\n",
       "      <td>-0.063520</td>\n",
       "      <td>-0.163439</td>\n",
       "      <td>0.073538</td>\n",
       "      <td>0.063788</td>\n",
       "      <td>0.161548</td>\n",
       "      <td>-0.103752</td>\n",
       "      <td>0.005139</td>\n",
       "      <td>-0.076488</td>\n",
       "      <td>0.091042</td>\n",
       "    </tr>\n",
       "    <tr>\n",
       "      <th>1</th>\n",
       "      <td>2</td>\n",
       "      <td>business</td>\n",
       "      <td>0.792764</td>\n",
       "      <td>1.521056</td>\n",
       "      <td>-0.897744</td>\n",
       "      <td>0.228620</td>\n",
       "      <td>0.109586</td>\n",
       "      <td>0.125361</td>\n",
       "      <td>-0.163200</td>\n",
       "      <td>0.005960</td>\n",
       "      <td>...</td>\n",
       "      <td>0.250747</td>\n",
       "      <td>-0.023789</td>\n",
       "      <td>0.242521</td>\n",
       "      <td>-0.117724</td>\n",
       "      <td>-0.096343</td>\n",
       "      <td>-0.138300</td>\n",
       "      <td>0.030694</td>\n",
       "      <td>0.208030</td>\n",
       "      <td>-0.202167</td>\n",
       "      <td>0.169255</td>\n",
       "    </tr>\n",
       "    <tr>\n",
       "      <th>2</th>\n",
       "      <td>3</td>\n",
       "      <td>business</td>\n",
       "      <td>0.801291</td>\n",
       "      <td>1.223608</td>\n",
       "      <td>-0.669453</td>\n",
       "      <td>1.323420</td>\n",
       "      <td>-0.081454</td>\n",
       "      <td>0.550803</td>\n",
       "      <td>0.049820</td>\n",
       "      <td>-0.241445</td>\n",
       "      <td>...</td>\n",
       "      <td>0.087442</td>\n",
       "      <td>-0.289171</td>\n",
       "      <td>-0.148392</td>\n",
       "      <td>0.091134</td>\n",
       "      <td>-0.195753</td>\n",
       "      <td>0.005321</td>\n",
       "      <td>0.296334</td>\n",
       "      <td>-0.203689</td>\n",
       "      <td>-0.016341</td>\n",
       "      <td>-0.087571</td>\n",
       "    </tr>\n",
       "    <tr>\n",
       "      <th>3</th>\n",
       "      <td>4</td>\n",
       "      <td>business</td>\n",
       "      <td>0.867123</td>\n",
       "      <td>0.971223</td>\n",
       "      <td>-1.577186</td>\n",
       "      <td>0.833193</td>\n",
       "      <td>0.841215</td>\n",
       "      <td>-0.292207</td>\n",
       "      <td>0.742463</td>\n",
       "      <td>0.886729</td>\n",
       "      <td>...</td>\n",
       "      <td>-0.140944</td>\n",
       "      <td>0.002015</td>\n",
       "      <td>-0.068738</td>\n",
       "      <td>-0.161402</td>\n",
       "      <td>0.085419</td>\n",
       "      <td>-0.145812</td>\n",
       "      <td>-0.124585</td>\n",
       "      <td>0.186925</td>\n",
       "      <td>0.113004</td>\n",
       "      <td>-0.056141</td>\n",
       "    </tr>\n",
       "    <tr>\n",
       "      <th>4</th>\n",
       "      <td>5</td>\n",
       "      <td>business</td>\n",
       "      <td>0.411659</td>\n",
       "      <td>0.809848</td>\n",
       "      <td>-0.682364</td>\n",
       "      <td>0.790953</td>\n",
       "      <td>-0.186109</td>\n",
       "      <td>-0.596705</td>\n",
       "      <td>0.169845</td>\n",
       "      <td>-0.758110</td>\n",
       "      <td>...</td>\n",
       "      <td>-0.215925</td>\n",
       "      <td>-0.190245</td>\n",
       "      <td>0.303868</td>\n",
       "      <td>0.195219</td>\n",
       "      <td>-0.255649</td>\n",
       "      <td>-0.011422</td>\n",
       "      <td>-0.278761</td>\n",
       "      <td>-0.014764</td>\n",
       "      <td>-0.087644</td>\n",
       "      <td>-0.064519</td>\n",
       "    </tr>\n",
       "  </tbody>\n",
       "</table>\n",
       "<p>5 rows × 42 columns</p>\n",
       "</div>"
      ],
      "text/plain": [
       "   post_id     topic  feature_1  feature_2  feature_3  feature_4  feature_5  \\\n",
       "0        1  business   0.789075   1.578995  -1.421158  -0.292831   0.196379   \n",
       "1        2  business   0.792764   1.521056  -0.897744   0.228620   0.109586   \n",
       "2        3  business   0.801291   1.223608  -0.669453   1.323420  -0.081454   \n",
       "3        4  business   0.867123   0.971223  -1.577186   0.833193   0.841215   \n",
       "4        5  business   0.411659   0.809848  -0.682364   0.790953  -0.186109   \n",
       "\n",
       "   feature_6  feature_7  feature_8  ...  feature_31  feature_32  feature_33  \\\n",
       "0  -0.482332  -0.172336  -0.252791  ...    0.251957   -0.063520   -0.163439   \n",
       "1   0.125361  -0.163200   0.005960  ...    0.250747   -0.023789    0.242521   \n",
       "2   0.550803   0.049820  -0.241445  ...    0.087442   -0.289171   -0.148392   \n",
       "3  -0.292207   0.742463   0.886729  ...   -0.140944    0.002015   -0.068738   \n",
       "4  -0.596705   0.169845  -0.758110  ...   -0.215925   -0.190245    0.303868   \n",
       "\n",
       "   feature_34  feature_35  feature_36  feature_37  feature_38  feature_39  \\\n",
       "0    0.073538    0.063788    0.161548   -0.103752    0.005139   -0.076488   \n",
       "1   -0.117724   -0.096343   -0.138300    0.030694    0.208030   -0.202167   \n",
       "2    0.091134   -0.195753    0.005321    0.296334   -0.203689   -0.016341   \n",
       "3   -0.161402    0.085419   -0.145812   -0.124585    0.186925    0.113004   \n",
       "4    0.195219   -0.255649   -0.011422   -0.278761   -0.014764   -0.087644   \n",
       "\n",
       "   feature_40  \n",
       "0    0.091042  \n",
       "1    0.169255  \n",
       "2   -0.087571  \n",
       "3   -0.056141  \n",
       "4   -0.064519  \n",
       "\n",
       "[5 rows x 42 columns]"
      ]
     },
     "execution_count": 27,
     "metadata": {},
     "output_type": "execute_result"
    }
   ],
   "source": [
    "df_post_data.head()"
   ]
  },
  {
   "cell_type": "code",
   "execution_count": 28,
   "id": "2e5b8b95",
   "metadata": {
    "execution": {
     "iopub.execute_input": "2023-04-14T11:42:51.980781Z",
     "iopub.status.busy": "2023-04-14T11:42:51.980510Z",
     "iopub.status.idle": "2023-04-14T11:42:51.985967Z",
     "shell.execute_reply": "2023-04-14T11:42:51.984388Z"
    },
    "papermill": {
     "duration": 0.02169,
     "end_time": "2023-04-14T11:42:51.988085",
     "exception": false,
     "start_time": "2023-04-14T11:42:51.966395",
     "status": "completed"
    },
    "tags": []
   },
   "outputs": [],
   "source": [
    "# Добавим вычисленную для эмбеддингов постов норму l2.\n",
    "df_post_data['l2_norm'] = l2_norm"
   ]
  },
  {
   "cell_type": "code",
   "execution_count": 29,
   "id": "1411b646",
   "metadata": {
    "execution": {
     "iopub.execute_input": "2023-04-14T11:42:52.015980Z",
     "iopub.status.busy": "2023-04-14T11:42:52.015699Z",
     "iopub.status.idle": "2023-04-14T11:42:52.022116Z",
     "shell.execute_reply": "2023-04-14T11:42:52.021046Z"
    },
    "papermill": {
     "duration": 0.023622,
     "end_time": "2023-04-14T11:42:52.025092",
     "exception": false,
     "start_time": "2023-04-14T11:42:52.001470",
     "status": "completed"
    },
    "tags": []
   },
   "outputs": [
    {
     "data": {
      "text/plain": [
       "Index(['post_id', 'topic', 'feature_1', 'feature_2', 'feature_3', 'feature_4',\n",
       "       'feature_5', 'feature_6', 'feature_7', 'feature_8', 'feature_9',\n",
       "       'feature_10', 'feature_11', 'feature_12', 'feature_13', 'feature_14',\n",
       "       'feature_15', 'feature_16', 'feature_17', 'feature_18', 'feature_19',\n",
       "       'feature_20', 'feature_21', 'feature_22', 'feature_23', 'feature_24',\n",
       "       'feature_25', 'feature_26', 'feature_27', 'feature_28', 'feature_29',\n",
       "       'feature_30', 'feature_31', 'feature_32', 'feature_33', 'feature_34',\n",
       "       'feature_35', 'feature_36', 'feature_37', 'feature_38', 'feature_39',\n",
       "       'feature_40', 'l2_norm'],\n",
       "      dtype='object')"
      ]
     },
     "execution_count": 29,
     "metadata": {},
     "output_type": "execute_result"
    }
   ],
   "source": [
    "# Все признаки постов, которые буду использованы для обучения модели.\n",
    "df_post_data.columns"
   ]
  },
  {
   "cell_type": "markdown",
   "id": "5d979761",
   "metadata": {
    "papermill": {
     "duration": 0.013496,
     "end_time": "2023-04-14T11:42:52.052016",
     "exception": false,
     "start_time": "2023-04-14T11:42:52.038520",
     "status": "completed"
    },
    "tags": []
   },
   "source": [
    "## Подготовка данных для обучения модели."
   ]
  },
  {
   "cell_type": "code",
   "execution_count": 30,
   "id": "fa209644",
   "metadata": {
    "execution": {
     "iopub.execute_input": "2023-04-14T11:42:52.080425Z",
     "iopub.status.busy": "2023-04-14T11:42:52.080127Z",
     "iopub.status.idle": "2023-04-14T11:42:52.925532Z",
     "shell.execute_reply": "2023-04-14T11:42:52.924459Z"
    },
    "papermill": {
     "duration": 0.862365,
     "end_time": "2023-04-14T11:42:52.928159",
     "exception": false,
     "start_time": "2023-04-14T11:42:52.065794",
     "status": "completed"
    },
    "tags": []
   },
   "outputs": [],
   "source": [
    "# Объединяем feed_data с таблицей признаков постов.\n",
    "df = pd.merge(df_feed_data,\n",
    "              df_post_data,\n",
    "              on='post_id',\n",
    "              how='left')"
   ]
  },
  {
   "cell_type": "code",
   "execution_count": 31,
   "id": "dedc214e",
   "metadata": {
    "execution": {
     "iopub.execute_input": "2023-04-14T11:42:52.960270Z",
     "iopub.status.busy": "2023-04-14T11:42:52.959658Z",
     "iopub.status.idle": "2023-04-14T11:42:52.982914Z",
     "shell.execute_reply": "2023-04-14T11:42:52.981853Z"
    },
    "papermill": {
     "duration": 0.04193,
     "end_time": "2023-04-14T11:42:52.985196",
     "exception": false,
     "start_time": "2023-04-14T11:42:52.943266",
     "status": "completed"
    },
    "tags": []
   },
   "outputs": [
    {
     "data": {
      "text/html": [
       "<div>\n",
       "<style scoped>\n",
       "    .dataframe tbody tr th:only-of-type {\n",
       "        vertical-align: middle;\n",
       "    }\n",
       "\n",
       "    .dataframe tbody tr th {\n",
       "        vertical-align: top;\n",
       "    }\n",
       "\n",
       "    .dataframe thead th {\n",
       "        text-align: right;\n",
       "    }\n",
       "</style>\n",
       "<table border=\"1\" class=\"dataframe\">\n",
       "  <thead>\n",
       "    <tr style=\"text-align: right;\">\n",
       "      <th></th>\n",
       "      <th>timestamp</th>\n",
       "      <th>user_id</th>\n",
       "      <th>post_id</th>\n",
       "      <th>target</th>\n",
       "      <th>topic</th>\n",
       "      <th>feature_1</th>\n",
       "      <th>feature_2</th>\n",
       "      <th>feature_3</th>\n",
       "      <th>feature_4</th>\n",
       "      <th>feature_5</th>\n",
       "      <th>...</th>\n",
       "      <th>feature_32</th>\n",
       "      <th>feature_33</th>\n",
       "      <th>feature_34</th>\n",
       "      <th>feature_35</th>\n",
       "      <th>feature_36</th>\n",
       "      <th>feature_37</th>\n",
       "      <th>feature_38</th>\n",
       "      <th>feature_39</th>\n",
       "      <th>feature_40</th>\n",
       "      <th>l2_norm</th>\n",
       "    </tr>\n",
       "  </thead>\n",
       "  <tbody>\n",
       "    <tr>\n",
       "      <th>0</th>\n",
       "      <td>2021-12-15 12:19:13</td>\n",
       "      <td>15743</td>\n",
       "      <td>3907</td>\n",
       "      <td>0</td>\n",
       "      <td>covid</td>\n",
       "      <td>1.017625</td>\n",
       "      <td>-0.324778</td>\n",
       "      <td>-0.424421</td>\n",
       "      <td>-0.291089</td>\n",
       "      <td>0.482863</td>\n",
       "      <td>...</td>\n",
       "      <td>0.211988</td>\n",
       "      <td>0.143132</td>\n",
       "      <td>-0.149670</td>\n",
       "      <td>0.001605</td>\n",
       "      <td>0.171504</td>\n",
       "      <td>-0.128765</td>\n",
       "      <td>0.007195</td>\n",
       "      <td>0.088742</td>\n",
       "      <td>-0.112787</td>\n",
       "      <td>15.033412</td>\n",
       "    </tr>\n",
       "    <tr>\n",
       "      <th>1</th>\n",
       "      <td>2021-10-27 16:36:43</td>\n",
       "      <td>11962</td>\n",
       "      <td>222</td>\n",
       "      <td>1</td>\n",
       "      <td>business</td>\n",
       "      <td>1.137062</td>\n",
       "      <td>0.709519</td>\n",
       "      <td>-0.985033</td>\n",
       "      <td>0.962760</td>\n",
       "      <td>0.133574</td>\n",
       "      <td>...</td>\n",
       "      <td>0.117574</td>\n",
       "      <td>0.099037</td>\n",
       "      <td>0.067993</td>\n",
       "      <td>-0.037782</td>\n",
       "      <td>-0.007102</td>\n",
       "      <td>-0.209867</td>\n",
       "      <td>0.257773</td>\n",
       "      <td>-0.244952</td>\n",
       "      <td>0.103926</td>\n",
       "      <td>14.860547</td>\n",
       "    </tr>\n",
       "    <tr>\n",
       "      <th>2</th>\n",
       "      <td>2021-10-30 14:39:36</td>\n",
       "      <td>12328</td>\n",
       "      <td>1342</td>\n",
       "      <td>0</td>\n",
       "      <td>politics</td>\n",
       "      <td>0.249199</td>\n",
       "      <td>2.179357</td>\n",
       "      <td>0.096070</td>\n",
       "      <td>-1.269081</td>\n",
       "      <td>-0.117696</td>\n",
       "      <td>...</td>\n",
       "      <td>0.035963</td>\n",
       "      <td>0.103836</td>\n",
       "      <td>-0.065297</td>\n",
       "      <td>-0.085873</td>\n",
       "      <td>-0.105648</td>\n",
       "      <td>-0.068185</td>\n",
       "      <td>0.133343</td>\n",
       "      <td>0.066853</td>\n",
       "      <td>0.223006</td>\n",
       "      <td>15.317628</td>\n",
       "    </tr>\n",
       "    <tr>\n",
       "      <th>3</th>\n",
       "      <td>2021-10-02 12:58:57</td>\n",
       "      <td>12635</td>\n",
       "      <td>4313</td>\n",
       "      <td>0</td>\n",
       "      <td>movie</td>\n",
       "      <td>-0.821095</td>\n",
       "      <td>-0.295738</td>\n",
       "      <td>0.521038</td>\n",
       "      <td>-0.015616</td>\n",
       "      <td>-0.415983</td>\n",
       "      <td>...</td>\n",
       "      <td>-0.168228</td>\n",
       "      <td>-0.261768</td>\n",
       "      <td>-0.176893</td>\n",
       "      <td>0.311770</td>\n",
       "      <td>-0.071112</td>\n",
       "      <td>-0.048002</td>\n",
       "      <td>0.167446</td>\n",
       "      <td>0.153990</td>\n",
       "      <td>0.138930</td>\n",
       "      <td>14.941447</td>\n",
       "    </tr>\n",
       "    <tr>\n",
       "      <th>4</th>\n",
       "      <td>2021-10-02 11:26:53</td>\n",
       "      <td>17258</td>\n",
       "      <td>4880</td>\n",
       "      <td>1</td>\n",
       "      <td>movie</td>\n",
       "      <td>-1.368403</td>\n",
       "      <td>0.178556</td>\n",
       "      <td>0.075622</td>\n",
       "      <td>0.025908</td>\n",
       "      <td>-0.293359</td>\n",
       "      <td>...</td>\n",
       "      <td>-0.131031</td>\n",
       "      <td>0.144334</td>\n",
       "      <td>0.141955</td>\n",
       "      <td>0.156920</td>\n",
       "      <td>0.067232</td>\n",
       "      <td>0.085747</td>\n",
       "      <td>-0.053174</td>\n",
       "      <td>-0.054248</td>\n",
       "      <td>-0.089488</td>\n",
       "      <td>15.203295</td>\n",
       "    </tr>\n",
       "  </tbody>\n",
       "</table>\n",
       "<p>5 rows × 46 columns</p>\n",
       "</div>"
      ],
      "text/plain": [
       "             timestamp  user_id  post_id  target     topic  feature_1  \\\n",
       "0  2021-12-15 12:19:13    15743     3907       0     covid   1.017625   \n",
       "1  2021-10-27 16:36:43    11962      222       1  business   1.137062   \n",
       "2  2021-10-30 14:39:36    12328     1342       0  politics   0.249199   \n",
       "3  2021-10-02 12:58:57    12635     4313       0     movie  -0.821095   \n",
       "4  2021-10-02 11:26:53    17258     4880       1     movie  -1.368403   \n",
       "\n",
       "   feature_2  feature_3  feature_4  feature_5  ...  feature_32  feature_33  \\\n",
       "0  -0.324778  -0.424421  -0.291089   0.482863  ...    0.211988    0.143132   \n",
       "1   0.709519  -0.985033   0.962760   0.133574  ...    0.117574    0.099037   \n",
       "2   2.179357   0.096070  -1.269081  -0.117696  ...    0.035963    0.103836   \n",
       "3  -0.295738   0.521038  -0.015616  -0.415983  ...   -0.168228   -0.261768   \n",
       "4   0.178556   0.075622   0.025908  -0.293359  ...   -0.131031    0.144334   \n",
       "\n",
       "   feature_34  feature_35  feature_36  feature_37  feature_38  feature_39  \\\n",
       "0   -0.149670    0.001605    0.171504   -0.128765    0.007195    0.088742   \n",
       "1    0.067993   -0.037782   -0.007102   -0.209867    0.257773   -0.244952   \n",
       "2   -0.065297   -0.085873   -0.105648   -0.068185    0.133343    0.066853   \n",
       "3   -0.176893    0.311770   -0.071112   -0.048002    0.167446    0.153990   \n",
       "4    0.141955    0.156920    0.067232    0.085747   -0.053174   -0.054248   \n",
       "\n",
       "   feature_40    l2_norm  \n",
       "0   -0.112787  15.033412  \n",
       "1    0.103926  14.860547  \n",
       "2    0.223006  15.317628  \n",
       "3    0.138930  14.941447  \n",
       "4   -0.089488  15.203295  \n",
       "\n",
       "[5 rows x 46 columns]"
      ]
     },
     "execution_count": 31,
     "metadata": {},
     "output_type": "execute_result"
    }
   ],
   "source": [
    "df.head()"
   ]
  },
  {
   "cell_type": "code",
   "execution_count": 32,
   "id": "5e7a6833",
   "metadata": {
    "execution": {
     "iopub.execute_input": "2023-04-14T11:42:53.015058Z",
     "iopub.status.busy": "2023-04-14T11:42:53.014739Z",
     "iopub.status.idle": "2023-04-14T11:42:54.118029Z",
     "shell.execute_reply": "2023-04-14T11:42:54.116680Z"
    },
    "papermill": {
     "duration": 1.122207,
     "end_time": "2023-04-14T11:42:54.122138",
     "exception": false,
     "start_time": "2023-04-14T11:42:52.999931",
     "status": "completed"
    },
    "tags": []
   },
   "outputs": [],
   "source": [
    "# Объединяем полученные данные с таблицей признаков пользователей.\n",
    "df = pd.merge(df,\n",
    "              df_user_data,\n",
    "              on='user_id',\n",
    "              how='left')"
   ]
  },
  {
   "cell_type": "code",
   "execution_count": 33,
   "id": "864ece8a",
   "metadata": {
    "execution": {
     "iopub.execute_input": "2023-04-14T11:42:54.156228Z",
     "iopub.status.busy": "2023-04-14T11:42:54.155912Z",
     "iopub.status.idle": "2023-04-14T11:42:54.178915Z",
     "shell.execute_reply": "2023-04-14T11:42:54.177925Z"
    },
    "papermill": {
     "duration": 0.039833,
     "end_time": "2023-04-14T11:42:54.181087",
     "exception": false,
     "start_time": "2023-04-14T11:42:54.141254",
     "status": "completed"
    },
    "tags": []
   },
   "outputs": [
    {
     "data": {
      "text/html": [
       "<div>\n",
       "<style scoped>\n",
       "    .dataframe tbody tr th:only-of-type {\n",
       "        vertical-align: middle;\n",
       "    }\n",
       "\n",
       "    .dataframe tbody tr th {\n",
       "        vertical-align: top;\n",
       "    }\n",
       "\n",
       "    .dataframe thead th {\n",
       "        text-align: right;\n",
       "    }\n",
       "</style>\n",
       "<table border=\"1\" class=\"dataframe\">\n",
       "  <thead>\n",
       "    <tr style=\"text-align: right;\">\n",
       "      <th></th>\n",
       "      <th>timestamp</th>\n",
       "      <th>user_id</th>\n",
       "      <th>post_id</th>\n",
       "      <th>target</th>\n",
       "      <th>topic</th>\n",
       "      <th>feature_1</th>\n",
       "      <th>feature_2</th>\n",
       "      <th>feature_3</th>\n",
       "      <th>feature_4</th>\n",
       "      <th>feature_5</th>\n",
       "      <th>...</th>\n",
       "      <th>country</th>\n",
       "      <th>city</th>\n",
       "      <th>exp_group</th>\n",
       "      <th>business</th>\n",
       "      <th>covid</th>\n",
       "      <th>entertainment</th>\n",
       "      <th>movie</th>\n",
       "      <th>politics</th>\n",
       "      <th>sport</th>\n",
       "      <th>tech</th>\n",
       "    </tr>\n",
       "  </thead>\n",
       "  <tbody>\n",
       "    <tr>\n",
       "      <th>0</th>\n",
       "      <td>2021-12-15 12:19:13</td>\n",
       "      <td>15743</td>\n",
       "      <td>3907</td>\n",
       "      <td>0</td>\n",
       "      <td>covid</td>\n",
       "      <td>1.017625</td>\n",
       "      <td>-0.324778</td>\n",
       "      <td>-0.424421</td>\n",
       "      <td>-0.291089</td>\n",
       "      <td>0.482863</td>\n",
       "      <td>...</td>\n",
       "      <td>Russia</td>\n",
       "      <td>Sergiyev Posad</td>\n",
       "      <td>1</td>\n",
       "      <td>0.078431</td>\n",
       "      <td>0.093023</td>\n",
       "      <td>0.043478</td>\n",
       "      <td>0.173913</td>\n",
       "      <td>0.043103</td>\n",
       "      <td>0.020000</td>\n",
       "      <td>0.133333</td>\n",
       "    </tr>\n",
       "    <tr>\n",
       "      <th>1</th>\n",
       "      <td>2021-10-27 16:36:43</td>\n",
       "      <td>11962</td>\n",
       "      <td>222</td>\n",
       "      <td>1</td>\n",
       "      <td>business</td>\n",
       "      <td>1.137062</td>\n",
       "      <td>0.709519</td>\n",
       "      <td>-0.985033</td>\n",
       "      <td>0.962760</td>\n",
       "      <td>0.133574</td>\n",
       "      <td>...</td>\n",
       "      <td>Russia</td>\n",
       "      <td>Nevinnomyssk</td>\n",
       "      <td>4</td>\n",
       "      <td>0.166667</td>\n",
       "      <td>0.142857</td>\n",
       "      <td>0.145455</td>\n",
       "      <td>0.099010</td>\n",
       "      <td>0.226415</td>\n",
       "      <td>0.140625</td>\n",
       "      <td>0.050000</td>\n",
       "    </tr>\n",
       "    <tr>\n",
       "      <th>2</th>\n",
       "      <td>2021-10-30 14:39:36</td>\n",
       "      <td>12328</td>\n",
       "      <td>1342</td>\n",
       "      <td>0</td>\n",
       "      <td>politics</td>\n",
       "      <td>0.249199</td>\n",
       "      <td>2.179357</td>\n",
       "      <td>0.096070</td>\n",
       "      <td>-1.269081</td>\n",
       "      <td>-0.117696</td>\n",
       "      <td>...</td>\n",
       "      <td>Russia</td>\n",
       "      <td>Moscow</td>\n",
       "      <td>2</td>\n",
       "      <td>0.066667</td>\n",
       "      <td>0.174419</td>\n",
       "      <td>0.076923</td>\n",
       "      <td>0.160305</td>\n",
       "      <td>0.074074</td>\n",
       "      <td>0.157895</td>\n",
       "      <td>0.000000</td>\n",
       "    </tr>\n",
       "    <tr>\n",
       "      <th>3</th>\n",
       "      <td>2021-10-02 12:58:57</td>\n",
       "      <td>12635</td>\n",
       "      <td>4313</td>\n",
       "      <td>0</td>\n",
       "      <td>movie</td>\n",
       "      <td>-0.821095</td>\n",
       "      <td>-0.295738</td>\n",
       "      <td>0.521038</td>\n",
       "      <td>-0.015616</td>\n",
       "      <td>-0.415983</td>\n",
       "      <td>...</td>\n",
       "      <td>Turkey</td>\n",
       "      <td>Bartın</td>\n",
       "      <td>4</td>\n",
       "      <td>0.157895</td>\n",
       "      <td>0.161765</td>\n",
       "      <td>0.111111</td>\n",
       "      <td>0.134615</td>\n",
       "      <td>0.163265</td>\n",
       "      <td>0.250000</td>\n",
       "      <td>0.100000</td>\n",
       "    </tr>\n",
       "    <tr>\n",
       "      <th>4</th>\n",
       "      <td>2021-10-02 11:26:53</td>\n",
       "      <td>17258</td>\n",
       "      <td>4880</td>\n",
       "      <td>1</td>\n",
       "      <td>movie</td>\n",
       "      <td>-1.368403</td>\n",
       "      <td>0.178556</td>\n",
       "      <td>0.075622</td>\n",
       "      <td>0.025908</td>\n",
       "      <td>-0.293359</td>\n",
       "      <td>...</td>\n",
       "      <td>Russia</td>\n",
       "      <td>Rostov</td>\n",
       "      <td>1</td>\n",
       "      <td>0.208333</td>\n",
       "      <td>0.210084</td>\n",
       "      <td>0.000000</td>\n",
       "      <td>0.184783</td>\n",
       "      <td>0.155556</td>\n",
       "      <td>0.204082</td>\n",
       "      <td>0.136364</td>\n",
       "    </tr>\n",
       "  </tbody>\n",
       "</table>\n",
       "<p>5 rows × 58 columns</p>\n",
       "</div>"
      ],
      "text/plain": [
       "             timestamp  user_id  post_id  target     topic  feature_1  \\\n",
       "0  2021-12-15 12:19:13    15743     3907       0     covid   1.017625   \n",
       "1  2021-10-27 16:36:43    11962      222       1  business   1.137062   \n",
       "2  2021-10-30 14:39:36    12328     1342       0  politics   0.249199   \n",
       "3  2021-10-02 12:58:57    12635     4313       0     movie  -0.821095   \n",
       "4  2021-10-02 11:26:53    17258     4880       1     movie  -1.368403   \n",
       "\n",
       "   feature_2  feature_3  feature_4  feature_5  ...  country            city  \\\n",
       "0  -0.324778  -0.424421  -0.291089   0.482863  ...   Russia  Sergiyev Posad   \n",
       "1   0.709519  -0.985033   0.962760   0.133574  ...   Russia    Nevinnomyssk   \n",
       "2   2.179357   0.096070  -1.269081  -0.117696  ...   Russia          Moscow   \n",
       "3  -0.295738   0.521038  -0.015616  -0.415983  ...   Turkey          Bartın   \n",
       "4   0.178556   0.075622   0.025908  -0.293359  ...   Russia          Rostov   \n",
       "\n",
       "   exp_group  business     covid  entertainment     movie  politics     sport  \\\n",
       "0          1  0.078431  0.093023       0.043478  0.173913  0.043103  0.020000   \n",
       "1          4  0.166667  0.142857       0.145455  0.099010  0.226415  0.140625   \n",
       "2          2  0.066667  0.174419       0.076923  0.160305  0.074074  0.157895   \n",
       "3          4  0.157895  0.161765       0.111111  0.134615  0.163265  0.250000   \n",
       "4          1  0.208333  0.210084       0.000000  0.184783  0.155556  0.204082   \n",
       "\n",
       "       tech  \n",
       "0  0.133333  \n",
       "1  0.050000  \n",
       "2  0.000000  \n",
       "3  0.100000  \n",
       "4  0.136364  \n",
       "\n",
       "[5 rows x 58 columns]"
      ]
     },
     "execution_count": 33,
     "metadata": {},
     "output_type": "execute_result"
    }
   ],
   "source": [
    "df.head()"
   ]
  },
  {
   "cell_type": "code",
   "execution_count": 34,
   "id": "e843935a",
   "metadata": {
    "execution": {
     "iopub.execute_input": "2023-04-14T11:42:54.210461Z",
     "iopub.status.busy": "2023-04-14T11:42:54.210159Z",
     "iopub.status.idle": "2023-04-14T11:43:13.681653Z",
     "shell.execute_reply": "2023-04-14T11:43:13.680592Z"
    },
    "papermill": {
     "duration": 19.488988,
     "end_time": "2023-04-14T11:43:13.684222",
     "exception": false,
     "start_time": "2023-04-14T11:42:54.195234",
     "status": "completed"
    },
    "tags": []
   },
   "outputs": [],
   "source": [
    "# Выделяем признаки из даты.\n",
    "df['hour'] = pd.to_datetime(df['timestamp']).apply(lambda x: x.hour)\n",
    "df['month'] = pd.to_datetime(df['timestamp']).apply(lambda x: x.month)"
   ]
  },
  {
   "cell_type": "code",
   "execution_count": 35,
   "id": "cb2d722b",
   "metadata": {
    "execution": {
     "iopub.execute_input": "2023-04-14T11:43:13.714106Z",
     "iopub.status.busy": "2023-04-14T11:43:13.713795Z",
     "iopub.status.idle": "2023-04-14T11:43:15.353113Z",
     "shell.execute_reply": "2023-04-14T11:43:15.352054Z"
    },
    "papermill": {
     "duration": 1.656729,
     "end_time": "2023-04-14T11:43:15.355564",
     "exception": false,
     "start_time": "2023-04-14T11:43:13.698835",
     "status": "completed"
    },
    "tags": []
   },
   "outputs": [],
   "source": [
    "df = df.drop(['user_id', 'post_id'], axis=1)"
   ]
  },
  {
   "cell_type": "code",
   "execution_count": 36,
   "id": "a2e9e1df",
   "metadata": {
    "execution": {
     "iopub.execute_input": "2023-04-14T11:43:15.385691Z",
     "iopub.status.busy": "2023-04-14T11:43:15.385361Z",
     "iopub.status.idle": "2023-04-14T11:43:15.392250Z",
     "shell.execute_reply": "2023-04-14T11:43:15.391160Z"
    },
    "papermill": {
     "duration": 0.025238,
     "end_time": "2023-04-14T11:43:15.395497",
     "exception": false,
     "start_time": "2023-04-14T11:43:15.370259",
     "status": "completed"
    },
    "tags": []
   },
   "outputs": [
    {
     "data": {
      "text/plain": [
       "Index(['timestamp', 'target', 'topic', 'feature_1', 'feature_2', 'feature_3',\n",
       "       'feature_4', 'feature_5', 'feature_6', 'feature_7', 'feature_8',\n",
       "       'feature_9', 'feature_10', 'feature_11', 'feature_12', 'feature_13',\n",
       "       'feature_14', 'feature_15', 'feature_16', 'feature_17', 'feature_18',\n",
       "       'feature_19', 'feature_20', 'feature_21', 'feature_22', 'feature_23',\n",
       "       'feature_24', 'feature_25', 'feature_26', 'feature_27', 'feature_28',\n",
       "       'feature_29', 'feature_30', 'feature_31', 'feature_32', 'feature_33',\n",
       "       'feature_34', 'feature_35', 'feature_36', 'feature_37', 'feature_38',\n",
       "       'feature_39', 'feature_40', 'l2_norm', 'gender', 'age', 'country',\n",
       "       'city', 'exp_group', 'business', 'covid', 'entertainment', 'movie',\n",
       "       'politics', 'sport', 'tech', 'hour', 'month'],\n",
       "      dtype='object')"
      ]
     },
     "execution_count": 36,
     "metadata": {},
     "output_type": "execute_result"
    }
   ],
   "source": [
    "df.columns"
   ]
  },
  {
   "cell_type": "markdown",
   "id": "e0c0e9a1",
   "metadata": {
    "papermill": {
     "duration": 0.013901,
     "end_time": "2023-04-14T11:43:15.423392",
     "exception": false,
     "start_time": "2023-04-14T11:43:15.409491",
     "status": "completed"
    },
    "tags": []
   },
   "source": [
    "Разделим данные на тренировочную и тестовую части по времени поста. За отсечку возьмем, например 2021-12-15."
   ]
  },
  {
   "cell_type": "code",
   "execution_count": 37,
   "id": "cd45eef6",
   "metadata": {
    "execution": {
     "iopub.execute_input": "2023-04-14T11:43:15.453098Z",
     "iopub.status.busy": "2023-04-14T11:43:15.452255Z",
     "iopub.status.idle": "2023-04-14T11:43:17.414170Z",
     "shell.execute_reply": "2023-04-14T11:43:17.413226Z"
    },
    "papermill": {
     "duration": 1.979224,
     "end_time": "2023-04-14T11:43:17.416584",
     "exception": false,
     "start_time": "2023-04-14T11:43:15.437360",
     "status": "completed"
    },
    "tags": []
   },
   "outputs": [
    {
     "data": {
      "text/plain": [
       "((1975667,), (424823,))"
      ]
     },
     "execution_count": 37,
     "metadata": {},
     "output_type": "execute_result"
    }
   ],
   "source": [
    "df_train = df[df.timestamp < '2021-12-15']\n",
    "df_test = df[df.timestamp >= '2021-12-15']\n",
    "\n",
    "df_train = df_train.drop('timestamp', axis=1)\n",
    "df_test = df_test.drop('timestamp', axis=1)\n",
    "\n",
    "X_train = df_train.drop('target', axis=1)\n",
    "X_test = df_test.drop('target', axis=1)\n",
    "\n",
    "y_train = df_train['target']\n",
    "y_test = df_test['target']\n",
    "\n",
    "y_train.shape, y_test.shape"
   ]
  },
  {
   "cell_type": "markdown",
   "id": "f68b7037",
   "metadata": {
    "papermill": {
     "duration": 0.014128,
     "end_time": "2023-04-14T11:43:17.445234",
     "exception": false,
     "start_time": "2023-04-14T11:43:17.431106",
     "status": "completed"
    },
    "tags": []
   },
   "source": [
    "Проверим балансы классов для тренировочной и тестовой выборок."
   ]
  },
  {
   "cell_type": "code",
   "execution_count": 38,
   "id": "bddd2cd5",
   "metadata": {
    "execution": {
     "iopub.execute_input": "2023-04-14T11:43:17.475212Z",
     "iopub.status.busy": "2023-04-14T11:43:17.474894Z",
     "iopub.status.idle": "2023-04-14T11:43:17.498334Z",
     "shell.execute_reply": "2023-04-14T11:43:17.497255Z"
    },
    "papermill": {
     "duration": 0.040892,
     "end_time": "2023-04-14T11:43:17.500459",
     "exception": false,
     "start_time": "2023-04-14T11:43:17.459567",
     "status": "completed"
    },
    "tags": []
   },
   "outputs": [
    {
     "data": {
      "text/plain": [
       "0    1008441\n",
       "1     967226\n",
       "Name: target, dtype: int64"
      ]
     },
     "execution_count": 38,
     "metadata": {},
     "output_type": "execute_result"
    }
   ],
   "source": [
    "y_train.value_counts()"
   ]
  },
  {
   "cell_type": "code",
   "execution_count": 39,
   "id": "cfa1a977",
   "metadata": {
    "execution": {
     "iopub.execute_input": "2023-04-14T11:43:17.530621Z",
     "iopub.status.busy": "2023-04-14T11:43:17.529791Z",
     "iopub.status.idle": "2023-04-14T11:43:17.540277Z",
     "shell.execute_reply": "2023-04-14T11:43:17.539260Z"
    },
    "papermill": {
     "duration": 0.02748,
     "end_time": "2023-04-14T11:43:17.542309",
     "exception": false,
     "start_time": "2023-04-14T11:43:17.514829",
     "status": "completed"
    },
    "tags": []
   },
   "outputs": [
    {
     "data": {
      "text/plain": [
       "1    228617\n",
       "0    196206\n",
       "Name: target, dtype: int64"
      ]
     },
     "execution_count": 39,
     "metadata": {},
     "output_type": "execute_result"
    }
   ],
   "source": [
    "y_test.value_counts()"
   ]
  },
  {
   "cell_type": "code",
   "execution_count": 40,
   "id": "8e1be0b9",
   "metadata": {
    "execution": {
     "iopub.execute_input": "2023-04-14T11:43:17.573075Z",
     "iopub.status.busy": "2023-04-14T11:43:17.572789Z",
     "iopub.status.idle": "2023-04-14T11:43:17.579213Z",
     "shell.execute_reply": "2023-04-14T11:43:17.578231Z"
    },
    "papermill": {
     "duration": 0.023975,
     "end_time": "2023-04-14T11:43:17.581276",
     "exception": false,
     "start_time": "2023-04-14T11:43:17.557301",
     "status": "completed"
    },
    "tags": []
   },
   "outputs": [
    {
     "data": {
      "text/plain": [
       "Index(['topic', 'feature_1', 'feature_2', 'feature_3', 'feature_4',\n",
       "       'feature_5', 'feature_6', 'feature_7', 'feature_8', 'feature_9',\n",
       "       'feature_10', 'feature_11', 'feature_12', 'feature_13', 'feature_14',\n",
       "       'feature_15', 'feature_16', 'feature_17', 'feature_18', 'feature_19',\n",
       "       'feature_20', 'feature_21', 'feature_22', 'feature_23', 'feature_24',\n",
       "       'feature_25', 'feature_26', 'feature_27', 'feature_28', 'feature_29',\n",
       "       'feature_30', 'feature_31', 'feature_32', 'feature_33', 'feature_34',\n",
       "       'feature_35', 'feature_36', 'feature_37', 'feature_38', 'feature_39',\n",
       "       'feature_40', 'l2_norm', 'gender', 'age', 'country', 'city',\n",
       "       'exp_group', 'business', 'covid', 'entertainment', 'movie', 'politics',\n",
       "       'sport', 'tech', 'hour', 'month'],\n",
       "      dtype='object')"
      ]
     },
     "execution_count": 40,
     "metadata": {},
     "output_type": "execute_result"
    }
   ],
   "source": [
    "# Все признаки обучающей выборки.\n",
    "X_train.columns"
   ]
  },
  {
   "cell_type": "code",
   "execution_count": 41,
   "id": "8d66ce8e",
   "metadata": {
    "execution": {
     "iopub.execute_input": "2023-04-14T11:43:17.611916Z",
     "iopub.status.busy": "2023-04-14T11:43:17.610988Z",
     "iopub.status.idle": "2023-04-14T11:43:17.615661Z",
     "shell.execute_reply": "2023-04-14T11:43:17.614617Z"
    },
    "papermill": {
     "duration": 0.021866,
     "end_time": "2023-04-14T11:43:17.617680",
     "exception": false,
     "start_time": "2023-04-14T11:43:17.595814",
     "status": "completed"
    },
    "tags": []
   },
   "outputs": [],
   "source": [
    "# Определим категориальные признаки.\n",
    "object_cols = ['topic', 'gender', 'country', 'city', 'exp_group']"
   ]
  },
  {
   "cell_type": "markdown",
   "id": "15648fdb",
   "metadata": {
    "papermill": {
     "duration": 0.014162,
     "end_time": "2023-04-14T11:43:17.646262",
     "exception": false,
     "start_time": "2023-04-14T11:43:17.632100",
     "status": "completed"
    },
    "tags": []
   },
   "source": [
    "## Обучение модели."
   ]
  },
  {
   "cell_type": "markdown",
   "id": "c6213848",
   "metadata": {
    "papermill": {
     "duration": 0.014336,
     "end_time": "2023-04-14T11:43:17.676541",
     "exception": false,
     "start_time": "2023-04-14T11:43:17.662205",
     "status": "completed"
    },
    "tags": []
   },
   "source": [
    "Посмотрим как меняется качество модели от глубины деревьев."
   ]
  },
  {
   "cell_type": "code",
   "execution_count": 42,
   "id": "b2e1bd7a",
   "metadata": {
    "execution": {
     "iopub.execute_input": "2023-04-14T11:43:17.706577Z",
     "iopub.status.busy": "2023-04-14T11:43:17.706261Z",
     "iopub.status.idle": "2023-04-14T11:46:38.122877Z",
     "shell.execute_reply": "2023-04-14T11:46:38.120069Z"
    },
    "papermill": {
     "duration": 200.435453,
     "end_time": "2023-04-14T11:46:38.126255",
     "exception": false,
     "start_time": "2023-04-14T11:43:17.690802",
     "status": "completed"
    },
    "tags": []
   },
   "outputs": [
    {
     "name": "stdout",
     "output_type": "stream",
     "text": [
      "ROC_AUC на трейне: 0.744355679250196\n",
      "ROC_AUC на тесте: 0.713172446620304\n",
      "Accuracy test 0.6632644654361934, Accuracy train 0.6773484600390652\n"
     ]
    }
   ],
   "source": [
    "n_depth = 5\n",
    "params = {'iterations':1000,\n",
    "          'learning_rate':0.5,\n",
    "          'loss_function':'Logloss',\n",
    "          'custom_loss':'Accuracy',\n",
    "          'task_type':\"GPU\",\n",
    "          'devices':'0:1',\n",
    "          'logging_level':'Silent',\n",
    "          'random_seed':42,\n",
    "          'depth':n_depth}\n",
    "\n",
    "catboost_5 = get_catboost_model(params, X_train, y_train, X_test, y_test, object_cols)\n",
    "catboost_5.save_model('catboost_model_5',format=\"cbm\")"
   ]
  },
  {
   "cell_type": "code",
   "execution_count": 43,
   "id": "270ff408",
   "metadata": {
    "execution": {
     "iopub.execute_input": "2023-04-14T11:46:38.172905Z",
     "iopub.status.busy": "2023-04-14T11:46:38.172423Z",
     "iopub.status.idle": "2023-04-14T11:46:39.437094Z",
     "shell.execute_reply": "2023-04-14T11:46:39.436086Z"
    },
    "papermill": {
     "duration": 1.290389,
     "end_time": "2023-04-14T11:46:39.439488",
     "exception": false,
     "start_time": "2023-04-14T11:46:38.149099",
     "status": "completed"
    },
    "tags": []
   },
   "outputs": [
    {
     "data": {
      "image/png": "[encoded data removed]",
      "text/plain": [
       "<Figure size 1000x1000 with 1 Axes>"
      ]
     },
     "metadata": {},
     "output_type": "display_data"
    }
   ],
   "source": [
    "plot_feature_importance(catboost_5.feature_importances_,X_train.columns,'Catboost')"
   ]
  },
  {
   "cell_type": "code",
   "execution_count": 44,
   "id": "07368c4d",
   "metadata": {
    "execution": {
     "iopub.execute_input": "2023-04-14T11:46:39.474081Z",
     "iopub.status.busy": "2023-04-14T11:46:39.473767Z",
     "iopub.status.idle": "2023-04-14T11:49:06.084317Z",
     "shell.execute_reply": "2023-04-14T11:49:06.083090Z"
    },
    "papermill": {
     "duration": 146.630167,
     "end_time": "2023-04-14T11:49:06.086823",
     "exception": false,
     "start_time": "2023-04-14T11:46:39.456656",
     "status": "completed"
    },
    "tags": []
   },
   "outputs": [
    {
     "name": "stdout",
     "output_type": "stream",
     "text": [
      "ROC_AUC на трейне: 0.7530139679979782\n",
      "ROC_AUC на тесте: 0.7128114444641571\n",
      "Accuracy test 0.6638670693441739, Accuracy train 0.6836324137620358\n"
     ]
    }
   ],
   "source": [
    "n_depth = 6\n",
    "params = {'iterations':1000,\n",
    "          'learning_rate':0.5,\n",
    "          'loss_function':'Logloss',\n",
    "          'custom_loss':'Accuracy',\n",
    "          'task_type':\"GPU\",\n",
    "          'devices':'0:1',\n",
    "          'logging_level':'Silent',\n",
    "          'random_seed':42,\n",
    "          'depth':n_depth}\n",
    "\n",
    "catboost_6 = get_catboost_model(params, X_train, y_train, X_test, y_test, object_cols)\n",
    "catboost_6.save_model('catboost_model_6',format=\"cbm\")"
   ]
  },
  {
   "cell_type": "code",
   "execution_count": 45,
   "id": "18cf7a58",
   "metadata": {
    "execution": {
     "iopub.execute_input": "2023-04-14T11:49:06.122607Z",
     "iopub.status.busy": "2023-04-14T11:49:06.120773Z",
     "iopub.status.idle": "2023-04-14T11:49:07.141312Z",
     "shell.execute_reply": "2023-04-14T11:49:07.140358Z"
    },
    "papermill": {
     "duration": 1.040433,
     "end_time": "2023-04-14T11:49:07.143663",
     "exception": false,
     "start_time": "2023-04-14T11:49:06.103230",
     "status": "completed"
    },
    "tags": []
   },
   "outputs": [
    {
     "data": {
      "image/png": "[encoded data removed]",
      "text/plain": [
       "<Figure size 1000x1000 with 1 Axes>"
      ]
     },
     "metadata": {},
     "output_type": "display_data"
    }
   ],
   "source": [
    "plot_feature_importance(catboost_6.feature_importances_,X_train.columns,'Catboost')"
   ]
  },
  {
   "cell_type": "code",
   "execution_count": 46,
   "id": "8c7d9536",
   "metadata": {
    "execution": {
     "iopub.execute_input": "2023-04-14T11:49:07.182133Z",
     "iopub.status.busy": "2023-04-14T11:49:07.181066Z",
     "iopub.status.idle": "2023-04-14T11:52:01.760708Z",
     "shell.execute_reply": "2023-04-14T11:52:01.759106Z"
    },
    "papermill": {
     "duration": 174.60079,
     "end_time": "2023-04-14T11:52:01.762982",
     "exception": false,
     "start_time": "2023-04-14T11:49:07.162192",
     "status": "completed"
    },
    "tags": []
   },
   "outputs": [
    {
     "name": "stdout",
     "output_type": "stream",
     "text": [
      "ROC_AUC на трейне: 0.7654348330455404\n",
      "ROC_AUC на тесте: 0.7110082608960699\n",
      "Accuracy test 0.6631114605376828, Accuracy train 0.6928050121806965\n"
     ]
    }
   ],
   "source": [
    "n_depth = 7\n",
    "params = {'iterations':1000,\n",
    "          'learning_rate':0.5,\n",
    "          'loss_function':'CrossEntropy',\n",
    "          'custom_loss':'Accuracy',\n",
    "          'task_type':\"GPU\",\n",
    "          'devices':'0:1',\n",
    "          'logging_level':'Silent',\n",
    "          'random_seed':42,\n",
    "          'depth':n_depth}\n",
    "\n",
    "catboost_7 = get_catboost_model(params, X_train, y_train, X_test, y_test, object_cols)\n",
    "catboost_7.save_model('catboost_model_7',format=\"cbm\")"
   ]
  },
  {
   "cell_type": "code",
   "execution_count": 47,
   "id": "1040934d",
   "metadata": {
    "execution": {
     "iopub.execute_input": "2023-04-14T11:52:01.799980Z",
     "iopub.status.busy": "2023-04-14T11:52:01.799647Z",
     "iopub.status.idle": "2023-04-14T11:52:02.802258Z",
     "shell.execute_reply": "2023-04-14T11:52:02.801360Z"
    },
    "papermill": {
     "duration": 1.023444,
     "end_time": "2023-04-14T11:52:02.804360",
     "exception": false,
     "start_time": "2023-04-14T11:52:01.780916",
     "status": "completed"
    },
    "tags": []
   },
   "outputs": [
    {
     "data": {
      "image/png": "[encoded data removed]",
      "text/plain": [
       "<Figure size 1000x1000 with 1 Axes>"
      ]
     },
     "metadata": {},
     "output_type": "display_data"
    }
   ],
   "source": [
    "plot_feature_importance(catboost_7.feature_importances_,X_train.columns,'Catboost')"
   ]
  },
  {
   "cell_type": "code",
   "execution_count": 48,
   "id": "e811f27e",
   "metadata": {
    "execution": {
     "iopub.execute_input": "2023-04-14T11:52:02.844478Z",
     "iopub.status.busy": "2023-04-14T11:52:02.844134Z",
     "iopub.status.idle": "2023-04-14T11:55:28.359805Z",
     "shell.execute_reply": "2023-04-14T11:55:28.358767Z"
    },
    "papermill": {
     "duration": 205.538586,
     "end_time": "2023-04-14T11:55:28.362273",
     "exception": false,
     "start_time": "2023-04-14T11:52:02.823687",
     "status": "completed"
    },
    "tags": []
   },
   "outputs": [
    {
     "name": "stdout",
     "output_type": "stream",
     "text": [
      "ROC_AUC на трейне: 0.7859920167331584\n",
      "ROC_AUC на тесте: 0.7054395309585748\n",
      "Accuracy test 0.6590085753360811, Accuracy train 0.7079411661985547\n"
     ]
    }
   ],
   "source": [
    "n_depth = 8\n",
    "params = {'iterations':1000,\n",
    "          'learning_rate':0.5,\n",
    "          'loss_function':'Logloss',\n",
    "          'custom_loss':'Accuracy',\n",
    "          'task_type':\"GPU\",\n",
    "          'devices':'0:1',\n",
    "          'logging_level':'Silent',\n",
    "          'random_seed':42,\n",
    "          'depth':n_depth}\n",
    "\n",
    "catboost_8 = get_catboost_model(params, X_train, y_train, X_test, y_test, object_cols)\n",
    "catboost_8.save_model('catboost_model_8',format=\"cbm\")"
   ]
  },
  {
   "cell_type": "code",
   "execution_count": 49,
   "id": "d78b3474",
   "metadata": {
    "execution": {
     "iopub.execute_input": "2023-04-14T11:55:28.403392Z",
     "iopub.status.busy": "2023-04-14T11:55:28.403056Z",
     "iopub.status.idle": "2023-04-14T11:55:29.407282Z",
     "shell.execute_reply": "2023-04-14T11:55:29.406316Z"
    },
    "papermill": {
     "duration": 1.028,
     "end_time": "2023-04-14T11:55:29.410011",
     "exception": false,
     "start_time": "2023-04-14T11:55:28.382011",
     "status": "completed"
    },
    "tags": []
   },
   "outputs": [
    {
     "data": {
      "image/png": "[encoded data removed]",
      "text/plain": [
       "<Figure size 1000x1000 with 1 Axes>"
      ]
     },
     "metadata": {},
     "output_type": "display_data"
    }
   ],
   "source": [
    "plot_feature_importance(catboost_8.feature_importances_,X_train.columns,'Catboost')"
   ]
  },
  {
   "cell_type": "markdown",
   "id": "1df9ccb9",
   "metadata": {
    "papermill": {
     "duration": 0.020787,
     "end_time": "2023-04-14T11:55:29.452367",
     "exception": false,
     "start_time": "2023-04-14T11:55:29.431580",
     "status": "completed"
    },
    "tags": []
   },
   "source": [
    "Как видно с ростом глубины деревьев качество на трейне растёт, а на тесте падает, происходит переобучение модели. Оптимальная глубина деревьев - 6.  \n",
    "К сожалению, после вычисления эмбеддингов постов и выделения новых признаков, по сравнению с работой по unit_02, качество модели не улучшилось.  \n",
    "Как и в обучении модели, в работе по unit_02, первый по важности признак - topic, затем age. Т.е. пользователь ставит лайк посту в зависимости от темы поста и возраста самого пользователя. Признак l2_norm, по важности играет меньшую роль, что признаки feature_xx."
   ]
  },
  {
   "cell_type": "markdown",
   "id": "75155607",
   "metadata": {
    "papermill": {
     "duration": 0.021924,
     "end_time": "2023-04-14T11:55:29.495121",
     "exception": false,
     "start_time": "2023-04-14T11:55:29.473197",
     "status": "completed"
    },
    "tags": []
   },
   "source": [
    "Запишем таблицу с новыми признаками постов в БД, предварительно присоединим к ней тексты постов."
   ]
  },
  {
   "cell_type": "code",
   "execution_count": 50,
   "id": "adba6b54",
   "metadata": {
    "execution": {
     "iopub.execute_input": "2023-04-14T11:55:29.539517Z",
     "iopub.status.busy": "2023-04-14T11:55:29.539138Z",
     "iopub.status.idle": "2023-04-14T11:55:29.563178Z",
     "shell.execute_reply": "2023-04-14T11:55:29.562117Z"
    },
    "papermill": {
     "duration": 0.048704,
     "end_time": "2023-04-14T11:55:29.565266",
     "exception": false,
     "start_time": "2023-04-14T11:55:29.516562",
     "status": "completed"
    },
    "tags": []
   },
   "outputs": [
    {
     "data": {
      "text/html": [
       "<div>\n",
       "<style scoped>\n",
       "    .dataframe tbody tr th:only-of-type {\n",
       "        vertical-align: middle;\n",
       "    }\n",
       "\n",
       "    .dataframe tbody tr th {\n",
       "        vertical-align: top;\n",
       "    }\n",
       "\n",
       "    .dataframe thead th {\n",
       "        text-align: right;\n",
       "    }\n",
       "</style>\n",
       "<table border=\"1\" class=\"dataframe\">\n",
       "  <thead>\n",
       "    <tr style=\"text-align: right;\">\n",
       "      <th></th>\n",
       "      <th>post_id</th>\n",
       "      <th>topic</th>\n",
       "      <th>feature_1</th>\n",
       "      <th>feature_2</th>\n",
       "      <th>feature_3</th>\n",
       "      <th>feature_4</th>\n",
       "      <th>feature_5</th>\n",
       "      <th>feature_6</th>\n",
       "      <th>feature_7</th>\n",
       "      <th>feature_8</th>\n",
       "      <th>...</th>\n",
       "      <th>feature_32</th>\n",
       "      <th>feature_33</th>\n",
       "      <th>feature_34</th>\n",
       "      <th>feature_35</th>\n",
       "      <th>feature_36</th>\n",
       "      <th>feature_37</th>\n",
       "      <th>feature_38</th>\n",
       "      <th>feature_39</th>\n",
       "      <th>feature_40</th>\n",
       "      <th>l2_norm</th>\n",
       "    </tr>\n",
       "  </thead>\n",
       "  <tbody>\n",
       "    <tr>\n",
       "      <th>0</th>\n",
       "      <td>1</td>\n",
       "      <td>business</td>\n",
       "      <td>0.789075</td>\n",
       "      <td>1.578995</td>\n",
       "      <td>-1.421158</td>\n",
       "      <td>-0.292831</td>\n",
       "      <td>0.196379</td>\n",
       "      <td>-0.482332</td>\n",
       "      <td>-0.172336</td>\n",
       "      <td>-0.252791</td>\n",
       "      <td>...</td>\n",
       "      <td>-0.063520</td>\n",
       "      <td>-0.163439</td>\n",
       "      <td>0.073538</td>\n",
       "      <td>0.063788</td>\n",
       "      <td>0.161548</td>\n",
       "      <td>-0.103752</td>\n",
       "      <td>0.005139</td>\n",
       "      <td>-0.076488</td>\n",
       "      <td>0.091042</td>\n",
       "      <td>15.530115</td>\n",
       "    </tr>\n",
       "    <tr>\n",
       "      <th>1</th>\n",
       "      <td>2</td>\n",
       "      <td>business</td>\n",
       "      <td>0.792764</td>\n",
       "      <td>1.521056</td>\n",
       "      <td>-0.897744</td>\n",
       "      <td>0.228620</td>\n",
       "      <td>0.109586</td>\n",
       "      <td>0.125361</td>\n",
       "      <td>-0.163200</td>\n",
       "      <td>0.005960</td>\n",
       "      <td>...</td>\n",
       "      <td>-0.023789</td>\n",
       "      <td>0.242521</td>\n",
       "      <td>-0.117724</td>\n",
       "      <td>-0.096343</td>\n",
       "      <td>-0.138300</td>\n",
       "      <td>0.030694</td>\n",
       "      <td>0.208030</td>\n",
       "      <td>-0.202167</td>\n",
       "      <td>0.169255</td>\n",
       "      <td>15.354099</td>\n",
       "    </tr>\n",
       "    <tr>\n",
       "      <th>2</th>\n",
       "      <td>3</td>\n",
       "      <td>business</td>\n",
       "      <td>0.801291</td>\n",
       "      <td>1.223608</td>\n",
       "      <td>-0.669453</td>\n",
       "      <td>1.323420</td>\n",
       "      <td>-0.081454</td>\n",
       "      <td>0.550803</td>\n",
       "      <td>0.049820</td>\n",
       "      <td>-0.241445</td>\n",
       "      <td>...</td>\n",
       "      <td>-0.289171</td>\n",
       "      <td>-0.148392</td>\n",
       "      <td>0.091134</td>\n",
       "      <td>-0.195753</td>\n",
       "      <td>0.005321</td>\n",
       "      <td>0.296334</td>\n",
       "      <td>-0.203689</td>\n",
       "      <td>-0.016341</td>\n",
       "      <td>-0.087571</td>\n",
       "      <td>14.781029</td>\n",
       "    </tr>\n",
       "    <tr>\n",
       "      <th>3</th>\n",
       "      <td>4</td>\n",
       "      <td>business</td>\n",
       "      <td>0.867123</td>\n",
       "      <td>0.971223</td>\n",
       "      <td>-1.577186</td>\n",
       "      <td>0.833193</td>\n",
       "      <td>0.841215</td>\n",
       "      <td>-0.292207</td>\n",
       "      <td>0.742463</td>\n",
       "      <td>0.886729</td>\n",
       "      <td>...</td>\n",
       "      <td>0.002015</td>\n",
       "      <td>-0.068738</td>\n",
       "      <td>-0.161402</td>\n",
       "      <td>0.085419</td>\n",
       "      <td>-0.145812</td>\n",
       "      <td>-0.124585</td>\n",
       "      <td>0.186925</td>\n",
       "      <td>0.113004</td>\n",
       "      <td>-0.056141</td>\n",
       "      <td>15.485599</td>\n",
       "    </tr>\n",
       "    <tr>\n",
       "      <th>4</th>\n",
       "      <td>5</td>\n",
       "      <td>business</td>\n",
       "      <td>0.411659</td>\n",
       "      <td>0.809848</td>\n",
       "      <td>-0.682364</td>\n",
       "      <td>0.790953</td>\n",
       "      <td>-0.186109</td>\n",
       "      <td>-0.596705</td>\n",
       "      <td>0.169845</td>\n",
       "      <td>-0.758110</td>\n",
       "      <td>...</td>\n",
       "      <td>-0.190245</td>\n",
       "      <td>0.303868</td>\n",
       "      <td>0.195219</td>\n",
       "      <td>-0.255649</td>\n",
       "      <td>-0.011422</td>\n",
       "      <td>-0.278761</td>\n",
       "      <td>-0.014764</td>\n",
       "      <td>-0.087644</td>\n",
       "      <td>-0.064519</td>\n",
       "      <td>15.176049</td>\n",
       "    </tr>\n",
       "  </tbody>\n",
       "</table>\n",
       "<p>5 rows × 43 columns</p>\n",
       "</div>"
      ],
      "text/plain": [
       "   post_id     topic  feature_1  feature_2  feature_3  feature_4  feature_5  \\\n",
       "0        1  business   0.789075   1.578995  -1.421158  -0.292831   0.196379   \n",
       "1        2  business   0.792764   1.521056  -0.897744   0.228620   0.109586   \n",
       "2        3  business   0.801291   1.223608  -0.669453   1.323420  -0.081454   \n",
       "3        4  business   0.867123   0.971223  -1.577186   0.833193   0.841215   \n",
       "4        5  business   0.411659   0.809848  -0.682364   0.790953  -0.186109   \n",
       "\n",
       "   feature_6  feature_7  feature_8  ...  feature_32  feature_33  feature_34  \\\n",
       "0  -0.482332  -0.172336  -0.252791  ...   -0.063520   -0.163439    0.073538   \n",
       "1   0.125361  -0.163200   0.005960  ...   -0.023789    0.242521   -0.117724   \n",
       "2   0.550803   0.049820  -0.241445  ...   -0.289171   -0.148392    0.091134   \n",
       "3  -0.292207   0.742463   0.886729  ...    0.002015   -0.068738   -0.161402   \n",
       "4  -0.596705   0.169845  -0.758110  ...   -0.190245    0.303868    0.195219   \n",
       "\n",
       "   feature_35  feature_36  feature_37  feature_38  feature_39  feature_40  \\\n",
       "0    0.063788    0.161548   -0.103752    0.005139   -0.076488    0.091042   \n",
       "1   -0.096343   -0.138300    0.030694    0.208030   -0.202167    0.169255   \n",
       "2   -0.195753    0.005321    0.296334   -0.203689   -0.016341   -0.087571   \n",
       "3    0.085419   -0.145812   -0.124585    0.186925    0.113004   -0.056141   \n",
       "4   -0.255649   -0.011422   -0.278761   -0.014764   -0.087644   -0.064519   \n",
       "\n",
       "     l2_norm  \n",
       "0  15.530115  \n",
       "1  15.354099  \n",
       "2  14.781029  \n",
       "3  15.485599  \n",
       "4  15.176049  \n",
       "\n",
       "[5 rows x 43 columns]"
      ]
     },
     "execution_count": 50,
     "metadata": {},
     "output_type": "execute_result"
    }
   ],
   "source": [
    "df_post_data.head()"
   ]
  },
  {
   "cell_type": "code",
   "execution_count": 51,
   "id": "1bb23e6c",
   "metadata": {
    "execution": {
     "iopub.execute_input": "2023-04-14T11:55:29.610313Z",
     "iopub.status.busy": "2023-04-14T11:55:29.609272Z",
     "iopub.status.idle": "2023-04-14T11:55:29.617093Z",
     "shell.execute_reply": "2023-04-14T11:55:29.616191Z"
    },
    "papermill": {
     "duration": 0.032516,
     "end_time": "2023-04-14T11:55:29.619201",
     "exception": false,
     "start_time": "2023-04-14T11:55:29.586685",
     "status": "completed"
    },
    "tags": []
   },
   "outputs": [],
   "source": [
    "df_post_data = pd.merge(df_post_data, df_post_text_emb['text'], left_index=True, right_index=True)"
   ]
  },
  {
   "cell_type": "code",
   "execution_count": 52,
   "id": "9265abc7",
   "metadata": {
    "execution": {
     "iopub.execute_input": "2023-04-14T11:55:29.664610Z",
     "iopub.status.busy": "2023-04-14T11:55:29.663488Z",
     "iopub.status.idle": "2023-04-14T11:55:29.687035Z",
     "shell.execute_reply": "2023-04-14T11:55:29.685927Z"
    },
    "papermill": {
     "duration": 0.048414,
     "end_time": "2023-04-14T11:55:29.689150",
     "exception": false,
     "start_time": "2023-04-14T11:55:29.640736",
     "status": "completed"
    },
    "tags": []
   },
   "outputs": [
    {
     "data": {
      "text/html": [
       "<div>\n",
       "<style scoped>\n",
       "    .dataframe tbody tr th:only-of-type {\n",
       "        vertical-align: middle;\n",
       "    }\n",
       "\n",
       "    .dataframe tbody tr th {\n",
       "        vertical-align: top;\n",
       "    }\n",
       "\n",
       "    .dataframe thead th {\n",
       "        text-align: right;\n",
       "    }\n",
       "</style>\n",
       "<table border=\"1\" class=\"dataframe\">\n",
       "  <thead>\n",
       "    <tr style=\"text-align: right;\">\n",
       "      <th></th>\n",
       "      <th>post_id</th>\n",
       "      <th>topic</th>\n",
       "      <th>feature_1</th>\n",
       "      <th>feature_2</th>\n",
       "      <th>feature_3</th>\n",
       "      <th>feature_4</th>\n",
       "      <th>feature_5</th>\n",
       "      <th>feature_6</th>\n",
       "      <th>feature_7</th>\n",
       "      <th>feature_8</th>\n",
       "      <th>...</th>\n",
       "      <th>feature_33</th>\n",
       "      <th>feature_34</th>\n",
       "      <th>feature_35</th>\n",
       "      <th>feature_36</th>\n",
       "      <th>feature_37</th>\n",
       "      <th>feature_38</th>\n",
       "      <th>feature_39</th>\n",
       "      <th>feature_40</th>\n",
       "      <th>l2_norm</th>\n",
       "      <th>text</th>\n",
       "    </tr>\n",
       "  </thead>\n",
       "  <tbody>\n",
       "    <tr>\n",
       "      <th>0</th>\n",
       "      <td>1</td>\n",
       "      <td>business</td>\n",
       "      <td>0.789075</td>\n",
       "      <td>1.578995</td>\n",
       "      <td>-1.421158</td>\n",
       "      <td>-0.292831</td>\n",
       "      <td>0.196379</td>\n",
       "      <td>-0.482332</td>\n",
       "      <td>-0.172336</td>\n",
       "      <td>-0.252791</td>\n",
       "      <td>...</td>\n",
       "      <td>-0.163439</td>\n",
       "      <td>0.073538</td>\n",
       "      <td>0.063788</td>\n",
       "      <td>0.161548</td>\n",
       "      <td>-0.103752</td>\n",
       "      <td>0.005139</td>\n",
       "      <td>-0.076488</td>\n",
       "      <td>0.091042</td>\n",
       "      <td>15.530115</td>\n",
       "      <td>UK economy facing major risks\\n\\nThe UK manufa...</td>\n",
       "    </tr>\n",
       "    <tr>\n",
       "      <th>1</th>\n",
       "      <td>2</td>\n",
       "      <td>business</td>\n",
       "      <td>0.792764</td>\n",
       "      <td>1.521056</td>\n",
       "      <td>-0.897744</td>\n",
       "      <td>0.228620</td>\n",
       "      <td>0.109586</td>\n",
       "      <td>0.125361</td>\n",
       "      <td>-0.163200</td>\n",
       "      <td>0.005960</td>\n",
       "      <td>...</td>\n",
       "      <td>0.242521</td>\n",
       "      <td>-0.117724</td>\n",
       "      <td>-0.096343</td>\n",
       "      <td>-0.138300</td>\n",
       "      <td>0.030694</td>\n",
       "      <td>0.208030</td>\n",
       "      <td>-0.202167</td>\n",
       "      <td>0.169255</td>\n",
       "      <td>15.354099</td>\n",
       "      <td>Aids and climate top Davos agenda\\n\\nClimate c...</td>\n",
       "    </tr>\n",
       "    <tr>\n",
       "      <th>2</th>\n",
       "      <td>3</td>\n",
       "      <td>business</td>\n",
       "      <td>0.801291</td>\n",
       "      <td>1.223608</td>\n",
       "      <td>-0.669453</td>\n",
       "      <td>1.323420</td>\n",
       "      <td>-0.081454</td>\n",
       "      <td>0.550803</td>\n",
       "      <td>0.049820</td>\n",
       "      <td>-0.241445</td>\n",
       "      <td>...</td>\n",
       "      <td>-0.148392</td>\n",
       "      <td>0.091134</td>\n",
       "      <td>-0.195753</td>\n",
       "      <td>0.005321</td>\n",
       "      <td>0.296334</td>\n",
       "      <td>-0.203689</td>\n",
       "      <td>-0.016341</td>\n",
       "      <td>-0.087571</td>\n",
       "      <td>14.781029</td>\n",
       "      <td>Asian quake hits European shares\\n\\nShares in ...</td>\n",
       "    </tr>\n",
       "    <tr>\n",
       "      <th>3</th>\n",
       "      <td>4</td>\n",
       "      <td>business</td>\n",
       "      <td>0.867123</td>\n",
       "      <td>0.971223</td>\n",
       "      <td>-1.577186</td>\n",
       "      <td>0.833193</td>\n",
       "      <td>0.841215</td>\n",
       "      <td>-0.292207</td>\n",
       "      <td>0.742463</td>\n",
       "      <td>0.886729</td>\n",
       "      <td>...</td>\n",
       "      <td>-0.068738</td>\n",
       "      <td>-0.161402</td>\n",
       "      <td>0.085419</td>\n",
       "      <td>-0.145812</td>\n",
       "      <td>-0.124585</td>\n",
       "      <td>0.186925</td>\n",
       "      <td>0.113004</td>\n",
       "      <td>-0.056141</td>\n",
       "      <td>15.485599</td>\n",
       "      <td>India power shares jump on debut\\n\\nShares in ...</td>\n",
       "    </tr>\n",
       "    <tr>\n",
       "      <th>4</th>\n",
       "      <td>5</td>\n",
       "      <td>business</td>\n",
       "      <td>0.411659</td>\n",
       "      <td>0.809848</td>\n",
       "      <td>-0.682364</td>\n",
       "      <td>0.790953</td>\n",
       "      <td>-0.186109</td>\n",
       "      <td>-0.596705</td>\n",
       "      <td>0.169845</td>\n",
       "      <td>-0.758110</td>\n",
       "      <td>...</td>\n",
       "      <td>0.303868</td>\n",
       "      <td>0.195219</td>\n",
       "      <td>-0.255649</td>\n",
       "      <td>-0.011422</td>\n",
       "      <td>-0.278761</td>\n",
       "      <td>-0.014764</td>\n",
       "      <td>-0.087644</td>\n",
       "      <td>-0.064519</td>\n",
       "      <td>15.176049</td>\n",
       "      <td>Lacroix label bought by US firm\\n\\nLuxury good...</td>\n",
       "    </tr>\n",
       "  </tbody>\n",
       "</table>\n",
       "<p>5 rows × 44 columns</p>\n",
       "</div>"
      ],
      "text/plain": [
       "   post_id     topic  feature_1  feature_2  feature_3  feature_4  feature_5  \\\n",
       "0        1  business   0.789075   1.578995  -1.421158  -0.292831   0.196379   \n",
       "1        2  business   0.792764   1.521056  -0.897744   0.228620   0.109586   \n",
       "2        3  business   0.801291   1.223608  -0.669453   1.323420  -0.081454   \n",
       "3        4  business   0.867123   0.971223  -1.577186   0.833193   0.841215   \n",
       "4        5  business   0.411659   0.809848  -0.682364   0.790953  -0.186109   \n",
       "\n",
       "   feature_6  feature_7  feature_8  ...  feature_33  feature_34  feature_35  \\\n",
       "0  -0.482332  -0.172336  -0.252791  ...   -0.163439    0.073538    0.063788   \n",
       "1   0.125361  -0.163200   0.005960  ...    0.242521   -0.117724   -0.096343   \n",
       "2   0.550803   0.049820  -0.241445  ...   -0.148392    0.091134   -0.195753   \n",
       "3  -0.292207   0.742463   0.886729  ...   -0.068738   -0.161402    0.085419   \n",
       "4  -0.596705   0.169845  -0.758110  ...    0.303868    0.195219   -0.255649   \n",
       "\n",
       "   feature_36  feature_37  feature_38  feature_39  feature_40    l2_norm  \\\n",
       "0    0.161548   -0.103752    0.005139   -0.076488    0.091042  15.530115   \n",
       "1   -0.138300    0.030694    0.208030   -0.202167    0.169255  15.354099   \n",
       "2    0.005321    0.296334   -0.203689   -0.016341   -0.087571  14.781029   \n",
       "3   -0.145812   -0.124585    0.186925    0.113004   -0.056141  15.485599   \n",
       "4   -0.011422   -0.278761   -0.014764   -0.087644   -0.064519  15.176049   \n",
       "\n",
       "                                                text  \n",
       "0  UK economy facing major risks\\n\\nThe UK manufa...  \n",
       "1  Aids and climate top Davos agenda\\n\\nClimate c...  \n",
       "2  Asian quake hits European shares\\n\\nShares in ...  \n",
       "3  India power shares jump on debut\\n\\nShares in ...  \n",
       "4  Lacroix label bought by US firm\\n\\nLuxury good...  \n",
       "\n",
       "[5 rows x 44 columns]"
      ]
     },
     "execution_count": 52,
     "metadata": {},
     "output_type": "execute_result"
    }
   ],
   "source": [
    "df_post_data.head()"
   ]
  },
  {
   "cell_type": "code",
   "execution_count": 53,
   "id": "39ff23b7",
   "metadata": {
    "execution": {
     "iopub.execute_input": "2023-04-14T11:55:29.735252Z",
     "iopub.status.busy": "2023-04-14T11:55:29.734712Z",
     "iopub.status.idle": "2023-04-14T11:56:09.138900Z",
     "shell.execute_reply": "2023-04-14T11:56:09.137820Z"
    },
    "papermill": {
     "duration": 39.43059,
     "end_time": "2023-04-14T11:56:09.141573",
     "exception": false,
     "start_time": "2023-04-14T11:55:29.710983",
     "status": "completed"
    },
    "tags": []
   },
   "outputs": [],
   "source": [
    "# Запись таблицы признаков постов в БД.\n",
    "df_post_data.to_sql(\"pavel55645_posts_info_features_dl\", con=engine, if_exists='replace')"
   ]
  }
 ],
 "metadata": {
  "kernelspec": {
   "display_name": "Python 3",
   "language": "python",
   "name": "python3"
  },
  "language_info": {
   "codemirror_mode": {
    "name": "ipython",
    "version": 3
   },
   "file_extension": ".py",
   "mimetype": "text/x-python",
   "name": "python",
   "nbconvert_exporter": "python",
   "pygments_lexer": "ipython3",
   "version": "3.7.12"
  },
  "papermill": {
   "default_parameters": {},
   "duration": 862.702531,
   "end_time": "2023-04-14T11:56:10.187484",
   "environment_variables": {},
   "exception": null,
   "input_path": "__notebook__.ipynb",
   "output_path": "__notebook__.ipynb",
   "parameters": {},
   "start_time": "2023-04-14T11:41:47.484953",
   "version": "2.4.0"
  }
 },
 "nbformat": 4,
 "nbformat_minor": 5
}
