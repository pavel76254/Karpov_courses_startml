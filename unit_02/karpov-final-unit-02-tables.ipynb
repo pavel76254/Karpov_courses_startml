{
 "cells": [
  {
   "cell_type": "markdown",
   "id": "83544f7d",
   "metadata": {
    "papermill": {
     "duration": 0.018213,
     "end_time": "2023-04-09T10:30:06.044462",
     "exception": false,
     "start_time": "2023-04-09T10:30:06.026249",
     "status": "completed"
    },
    "tags": []
   },
   "source": [
    "# Выделение признаков и подготовка таблиц для обучения модели для рекомендации постов в социальной сети Karpov Courses.\n",
    "Ноутбук выполнялся в kaggle."
   ]
  },
  {
   "cell_type": "code",
   "execution_count": 1,
   "id": "0eca4141",
   "metadata": {
    "execution": {
     "iopub.execute_input": "2023-04-09T10:30:06.082948Z",
     "iopub.status.busy": "2023-04-09T10:30:06.082341Z",
     "iopub.status.idle": "2023-04-09T10:30:18.866787Z",
     "shell.execute_reply": "2023-04-09T10:30:18.865391Z"
    },
    "papermill": {
     "duration": 12.808281,
     "end_time": "2023-04-09T10:30:18.869851",
     "exception": false,
     "start_time": "2023-04-09T10:30:06.061570",
     "status": "completed"
    },
    "tags": []
   },
   "outputs": [
    {
     "name": "stdout",
     "output_type": "stream",
     "text": [
      "Collecting psycopg2-binary\r\n",
      "  Downloading psycopg2_binary-2.9.6-cp37-cp37m-manylinux_2_17_x86_64.manylinux2014_x86_64.whl (3.0 MB)\r\n",
      "\u001b[2K     \u001b[90m━━━━━━━━━━━━━━━━━━━━━━━━━━━━━━━━━━━━━━━━\u001b[0m \u001b[32m3.0/3.0 MB\u001b[0m \u001b[31m28.9 MB/s\u001b[0m eta \u001b[36m0:00:00\u001b[0m\r\n",
      "\u001b[?25hInstalling collected packages: psycopg2-binary\r\n",
      "Successfully installed psycopg2-binary-2.9.6\r\n",
      "\u001b[33mWARNING: Running pip as the 'root' user can result in broken permissions and conflicting behaviour with the system package manager. It is recommended to use a virtual environment instead: https://pip.pypa.io/warnings/venv\u001b[0m\u001b[33m\r\n",
      "\u001b[0m"
     ]
    }
   ],
   "source": [
    "!pip install psycopg2-binary"
   ]
  },
  {
   "cell_type": "code",
   "execution_count": 2,
   "id": "facfe9cd",
   "metadata": {
    "execution": {
     "iopub.execute_input": "2023-04-09T10:30:18.907260Z",
     "iopub.status.busy": "2023-04-09T10:30:18.906832Z",
     "iopub.status.idle": "2023-04-09T10:30:21.248079Z",
     "shell.execute_reply": "2023-04-09T10:30:21.246855Z"
    },
    "papermill": {
     "duration": 2.36349,
     "end_time": "2023-04-09T10:30:21.251068",
     "exception": false,
     "start_time": "2023-04-09T10:30:18.887578",
     "status": "completed"
    },
    "tags": []
   },
   "outputs": [],
   "source": [
    "import pandas as pd\n",
    "import numpy as np\n",
    "import seaborn as sns\n",
    "from sqlalchemy import create_engine\n",
    "\n",
    "from sklearn.utils import shuffle\n",
    "\n",
    "import re\n",
    "import string\n",
    "\n",
    "from nltk.stem import WordNetLemmatizer\n",
    "import nltk\n",
    "\n",
    "from sklearn.feature_extraction.text import TfidfVectorizer\n",
    "from sklearn.decomposition import PCA\n",
    "from sklearn.cluster import KMeans\n",
    "\n",
    "import sys\n",
    "import gc\n",
    "\n",
    "from dotenv import load_dotenv\n",
    "import os"
   ]
  },
  {
   "cell_type": "code",
   "execution_count": 3,
   "id": "02d1a001",
   "metadata": {
    "execution": {
     "iopub.execute_input": "2023-04-09T10:30:21.288026Z",
     "iopub.status.busy": "2023-04-09T10:30:21.287568Z",
     "iopub.status.idle": "2023-04-09T10:30:21.449224Z",
     "shell.execute_reply": "2023-04-09T10:30:21.447683Z"
    },
    "papermill": {
     "duration": 0.183581,
     "end_time": "2023-04-09T10:30:21.452153",
     "exception": false,
     "start_time": "2023-04-09T10:30:21.268572",
     "status": "completed"
    },
    "tags": []
   },
   "outputs": [
    {
     "name": "stdout",
     "output_type": "stream",
     "text": [
      "[nltk_data] Downloading package wordnet to /usr/share/nltk_data...\n",
      "[nltk_data]   Package wordnet is already up-to-date!\n"
     ]
    },
    {
     "data": {
      "text/plain": [
       "True"
      ]
     },
     "execution_count": 3,
     "metadata": {},
     "output_type": "execute_result"
    }
   ],
   "source": [
    "nltk.download('wordnet')"
   ]
  },
  {
   "cell_type": "code",
   "execution_count": 4,
   "id": "8b7c7007",
   "metadata": {
    "execution": {
     "iopub.execute_input": "2023-04-09T10:30:21.492047Z",
     "iopub.status.busy": "2023-04-09T10:30:21.491629Z",
     "iopub.status.idle": "2023-04-09T10:30:22.942470Z",
     "shell.execute_reply": "2023-04-09T10:30:22.940769Z"
    },
    "papermill": {
     "duration": 1.474836,
     "end_time": "2023-04-09T10:30:22.945838",
     "exception": false,
     "start_time": "2023-04-09T10:30:21.471002",
     "status": "completed"
    },
    "tags": []
   },
   "outputs": [
    {
     "name": "stdout",
     "output_type": "stream",
     "text": [
      "Archive:  /usr/share/nltk_data/corpora/wordnet.zip\r\n",
      "   creating: /usr/share/nltk_data/corpora/wordnet/\r\n",
      "  inflating: /usr/share/nltk_data/corpora/wordnet/lexnames  \r\n",
      "  inflating: /usr/share/nltk_data/corpora/wordnet/data.verb  \r\n",
      "  inflating: /usr/share/nltk_data/corpora/wordnet/index.adv  \r\n",
      "  inflating: /usr/share/nltk_data/corpora/wordnet/adv.exc  \r\n",
      "  inflating: /usr/share/nltk_data/corpora/wordnet/index.verb  \r\n",
      "  inflating: /usr/share/nltk_data/corpora/wordnet/cntlist.rev  \r\n",
      "  inflating: /usr/share/nltk_data/corpora/wordnet/data.adj  \r\n",
      "  inflating: /usr/share/nltk_data/corpora/wordnet/index.adj  \r\n",
      "  inflating: /usr/share/nltk_data/corpora/wordnet/LICENSE  \r\n",
      "  inflating: /usr/share/nltk_data/corpora/wordnet/citation.bib  \r\n",
      "  inflating: /usr/share/nltk_data/corpora/wordnet/noun.exc  \r\n",
      "  inflating: /usr/share/nltk_data/corpora/wordnet/verb.exc  \r\n",
      "  inflating: /usr/share/nltk_data/corpora/wordnet/README  \r\n",
      "  inflating: /usr/share/nltk_data/corpora/wordnet/index.sense  \r\n",
      "  inflating: /usr/share/nltk_data/corpora/wordnet/data.noun  \r\n",
      "  inflating: /usr/share/nltk_data/corpora/wordnet/data.adv  \r\n",
      "  inflating: /usr/share/nltk_data/corpora/wordnet/index.noun  \r\n",
      "  inflating: /usr/share/nltk_data/corpora/wordnet/adj.exc  \r\n"
     ]
    }
   ],
   "source": [
    "!unzip /usr/share/nltk_data/corpora/wordnet.zip -d /usr/share/nltk_data/corpora/"
   ]
  },
  {
   "cell_type": "code",
   "execution_count": 5,
   "id": "e6a4a167",
   "metadata": {
    "execution": {
     "iopub.execute_input": "2023-04-09T10:30:22.986017Z",
     "iopub.status.busy": "2023-04-09T10:30:22.985589Z",
     "iopub.status.idle": "2023-04-09T10:30:22.999283Z",
     "shell.execute_reply": "2023-04-09T10:30:22.998023Z"
    },
    "papermill": {
     "duration": 0.036983,
     "end_time": "2023-04-09T10:30:23.001827",
     "exception": false,
     "start_time": "2023-04-09T10:30:22.964844",
     "status": "completed"
    },
    "tags": []
   },
   "outputs": [
    {
     "data": {
      "text/plain": [
       "True"
      ]
     },
     "execution_count": 5,
     "metadata": {},
     "output_type": "execute_result"
    }
   ],
   "source": [
    "# Загружаем доступы к базе данных соцальной сети Karpov Courses\n",
    "load_dotenv(r'/kaggle/input/karpov-startml-db/env')"
   ]
  },
  {
   "cell_type": "code",
   "execution_count": 6,
   "id": "0a8aa0cb",
   "metadata": {
    "execution": {
     "iopub.execute_input": "2023-04-09T10:30:23.041404Z",
     "iopub.status.busy": "2023-04-09T10:30:23.040406Z",
     "iopub.status.idle": "2023-04-09T10:30:23.046863Z",
     "shell.execute_reply": "2023-04-09T10:30:23.045622Z"
    },
    "papermill": {
     "duration": 0.029877,
     "end_time": "2023-04-09T10:30:23.049772",
     "exception": false,
     "start_time": "2023-04-09T10:30:23.019895",
     "status": "completed"
    },
    "tags": []
   },
   "outputs": [],
   "source": [
    "POSTGRESUSER = os.environ['POSTGRESUSER']\n",
    "POSTGRES_PASSWORD = os.environ['POSTGRES_PASSWORD']\n",
    "POSTGRES_HOST = os.environ['POSTGRES_HOST']\n",
    "POSTGRES_PORT = os.environ['POSTGRES_PORT']\n",
    "POSTGRES_DATABASE = os.environ['POSTGRES_DATABASE']"
   ]
  },
  {
   "cell_type": "code",
   "execution_count": 7,
   "id": "0c941d92",
   "metadata": {
    "execution": {
     "iopub.execute_input": "2023-04-09T10:30:23.087619Z",
     "iopub.status.busy": "2023-04-09T10:30:23.087176Z",
     "iopub.status.idle": "2023-04-09T10:30:23.092934Z",
     "shell.execute_reply": "2023-04-09T10:30:23.091515Z"
    },
    "papermill": {
     "duration": 0.027926,
     "end_time": "2023-04-09T10:30:23.095653",
     "exception": false,
     "start_time": "2023-04-09T10:30:23.067727",
     "status": "completed"
    },
    "tags": []
   },
   "outputs": [],
   "source": [
    "str_con_db = f'postgresql://{POSTGRESUSER}:{POSTGRES_PASSWORD}@{POSTGRES_HOST}:{POSTGRES_PORT}/{POSTGRES_DATABASE}'"
   ]
  },
  {
   "cell_type": "code",
   "execution_count": 8,
   "id": "ce892cca",
   "metadata": {
    "execution": {
     "iopub.execute_input": "2023-04-09T10:30:23.134631Z",
     "iopub.status.busy": "2023-04-09T10:30:23.134178Z",
     "iopub.status.idle": "2023-04-09T10:30:23.234261Z",
     "shell.execute_reply": "2023-04-09T10:30:23.233213Z"
    },
    "papermill": {
     "duration": 0.123165,
     "end_time": "2023-04-09T10:30:23.237121",
     "exception": false,
     "start_time": "2023-04-09T10:30:23.113956",
     "status": "completed"
    },
    "tags": []
   },
   "outputs": [],
   "source": [
    "engine = create_engine(str_con_db)"
   ]
  },
  {
   "cell_type": "code",
   "execution_count": 9,
   "id": "02841dd7",
   "metadata": {
    "execution": {
     "iopub.execute_input": "2023-04-09T10:30:23.276190Z",
     "iopub.status.busy": "2023-04-09T10:30:23.275526Z",
     "iopub.status.idle": "2023-04-09T10:30:23.284331Z",
     "shell.execute_reply": "2023-04-09T10:30:23.282961Z"
    },
    "papermill": {
     "duration": 0.032076,
     "end_time": "2023-04-09T10:30:23.287391",
     "exception": false,
     "start_time": "2023-04-09T10:30:23.255315",
     "status": "completed"
    },
    "tags": []
   },
   "outputs": [],
   "source": [
    "def load_feed_data(CHUNKSIZE: int = 1000000, limit:int = 1000, engine=engine) -> pd.DataFrame:\n",
    "    \"\"\"Выгрузка таблицы feed_data, по чанкам.\"\"\"\n",
    "    sql_text = \"SELECT timestamp, user_id, post_id, target \\\n",
    "            FROM public.feed_data \\\n",
    "            WHERE action='view' \\\n",
    "            ORDER BY user_id, timestamp LIMIT {};\"\n",
    "    \n",
    "    chunks = []\n",
    "    conn = engine.connect().execution_options(stream_results=True)\n",
    "    \n",
    "    for indx, chunk_dataframe in enumerate(pd.read_sql(sql_text.format(limit), con=conn, chunksize=CHUNKSIZE)):\n",
    "        chunks.append(chunk_dataframe)\n",
    "        print(f'{indx} загрузка данных по чанкам {CHUNKSIZE}')\n",
    "    \n",
    "    conn.close()\n",
    "    all_chunks = pd.concat(chunks, ignore_index=True)\n",
    "    \n",
    "    return all_chunks"
   ]
  },
  {
   "cell_type": "code",
   "execution_count": 10,
   "id": "c90b63bd",
   "metadata": {
    "execution": {
     "iopub.execute_input": "2023-04-09T10:30:23.326118Z",
     "iopub.status.busy": "2023-04-09T10:30:23.325660Z",
     "iopub.status.idle": "2023-04-09T10:30:23.333084Z",
     "shell.execute_reply": "2023-04-09T10:30:23.331653Z"
    },
    "papermill": {
     "duration": 0.029916,
     "end_time": "2023-04-09T10:30:23.335976",
     "exception": false,
     "start_time": "2023-04-09T10:30:23.306060",
     "status": "completed"
    },
    "tags": []
   },
   "outputs": [],
   "source": [
    "def batch_load_sql(query: str, CHUNKSIZE: int = 1000000, engine=engine) -> pd.DataFrame:\n",
    "    \"\"\"Выполнение sql-запроса query и выгрузка результата, по чанкам.\"\"\"\n",
    "    conn = engine.connect().execution_options(stream_results=True)\n",
    "    chunks = []\n",
    "    for chunk_dataframe in pd.read_sql(query, conn, chunksize=CHUNKSIZE):\n",
    "        chunks.append(chunk_dataframe)\n",
    "    conn.close()\n",
    "    return pd.concat(chunks, ignore_index=True)"
   ]
  },
  {
   "cell_type": "markdown",
   "id": "43fbe23b",
   "metadata": {
    "papermill": {
     "duration": 0.017816,
     "end_time": "2023-04-09T10:30:23.371950",
     "exception": false,
     "start_time": "2023-04-09T10:30:23.354134",
     "status": "completed"
    },
    "tags": []
   },
   "source": [
    "# Таблица с пользователями."
   ]
  },
  {
   "cell_type": "code",
   "execution_count": 11,
   "id": "a08a4814",
   "metadata": {
    "execution": {
     "iopub.execute_input": "2023-04-09T10:30:23.411055Z",
     "iopub.status.busy": "2023-04-09T10:30:23.409651Z",
     "iopub.status.idle": "2023-04-09T10:30:31.594228Z",
     "shell.execute_reply": "2023-04-09T10:30:31.591933Z"
    },
    "papermill": {
     "duration": 8.207222,
     "end_time": "2023-04-09T10:30:31.597220",
     "exception": false,
     "start_time": "2023-04-09T10:30:23.389998",
     "status": "completed"
    },
    "tags": []
   },
   "outputs": [
    {
     "data": {
      "text/html": [
       "<div>\n",
       "<style scoped>\n",
       "    .dataframe tbody tr th:only-of-type {\n",
       "        vertical-align: middle;\n",
       "    }\n",
       "\n",
       "    .dataframe tbody tr th {\n",
       "        vertical-align: top;\n",
       "    }\n",
       "\n",
       "    .dataframe thead th {\n",
       "        text-align: right;\n",
       "    }\n",
       "</style>\n",
       "<table border=\"1\" class=\"dataframe\">\n",
       "  <thead>\n",
       "    <tr style=\"text-align: right;\">\n",
       "      <th></th>\n",
       "      <th>user_id</th>\n",
       "      <th>gender</th>\n",
       "      <th>age</th>\n",
       "      <th>country</th>\n",
       "      <th>city</th>\n",
       "      <th>exp_group</th>\n",
       "      <th>os</th>\n",
       "      <th>source</th>\n",
       "    </tr>\n",
       "  </thead>\n",
       "  <tbody>\n",
       "    <tr>\n",
       "      <th>0</th>\n",
       "      <td>200</td>\n",
       "      <td>1</td>\n",
       "      <td>34</td>\n",
       "      <td>Russia</td>\n",
       "      <td>Degtyarsk</td>\n",
       "      <td>3</td>\n",
       "      <td>Android</td>\n",
       "      <td>ads</td>\n",
       "    </tr>\n",
       "    <tr>\n",
       "      <th>1</th>\n",
       "      <td>201</td>\n",
       "      <td>0</td>\n",
       "      <td>37</td>\n",
       "      <td>Russia</td>\n",
       "      <td>Abakan</td>\n",
       "      <td>0</td>\n",
       "      <td>Android</td>\n",
       "      <td>ads</td>\n",
       "    </tr>\n",
       "    <tr>\n",
       "      <th>2</th>\n",
       "      <td>202</td>\n",
       "      <td>1</td>\n",
       "      <td>17</td>\n",
       "      <td>Russia</td>\n",
       "      <td>Smolensk</td>\n",
       "      <td>4</td>\n",
       "      <td>Android</td>\n",
       "      <td>ads</td>\n",
       "    </tr>\n",
       "    <tr>\n",
       "      <th>3</th>\n",
       "      <td>203</td>\n",
       "      <td>0</td>\n",
       "      <td>18</td>\n",
       "      <td>Russia</td>\n",
       "      <td>Moscow</td>\n",
       "      <td>1</td>\n",
       "      <td>iOS</td>\n",
       "      <td>ads</td>\n",
       "    </tr>\n",
       "    <tr>\n",
       "      <th>4</th>\n",
       "      <td>204</td>\n",
       "      <td>0</td>\n",
       "      <td>36</td>\n",
       "      <td>Russia</td>\n",
       "      <td>Anzhero-Sudzhensk</td>\n",
       "      <td>3</td>\n",
       "      <td>Android</td>\n",
       "      <td>ads</td>\n",
       "    </tr>\n",
       "  </tbody>\n",
       "</table>\n",
       "</div>"
      ],
      "text/plain": [
       "   user_id  gender  age country               city  exp_group       os source\n",
       "0      200       1   34  Russia          Degtyarsk          3  Android    ads\n",
       "1      201       0   37  Russia             Abakan          0  Android    ads\n",
       "2      202       1   17  Russia           Smolensk          4  Android    ads\n",
       "3      203       0   18  Russia             Moscow          1      iOS    ads\n",
       "4      204       0   36  Russia  Anzhero-Sudzhensk          3  Android    ads"
      ]
     },
     "execution_count": 11,
     "metadata": {},
     "output_type": "execute_result"
    }
   ],
   "source": [
    "user_info = pd.read_sql(\"\"\"SELECT * FROM public.user_data\"\"\", con=engine)\n",
    "user_info.head()"
   ]
  },
  {
   "cell_type": "code",
   "execution_count": 12,
   "id": "a6765ac4",
   "metadata": {
    "execution": {
     "iopub.execute_input": "2023-04-09T10:30:31.636728Z",
     "iopub.status.busy": "2023-04-09T10:30:31.636202Z",
     "iopub.status.idle": "2023-04-09T10:30:31.644561Z",
     "shell.execute_reply": "2023-04-09T10:30:31.643161Z"
    },
    "papermill": {
     "duration": 0.031519,
     "end_time": "2023-04-09T10:30:31.647521",
     "exception": false,
     "start_time": "2023-04-09T10:30:31.616002",
     "status": "completed"
    },
    "tags": []
   },
   "outputs": [
    {
     "data": {
      "text/plain": [
       "(163205, 8)"
      ]
     },
     "execution_count": 12,
     "metadata": {},
     "output_type": "execute_result"
    }
   ],
   "source": [
    "user_info.shape"
   ]
  },
  {
   "cell_type": "markdown",
   "id": "09dc3295",
   "metadata": {
    "papermill": {
     "duration": 0.018105,
     "end_time": "2023-04-09T10:30:31.684861",
     "exception": false,
     "start_time": "2023-04-09T10:30:31.666756",
     "status": "completed"
    },
    "tags": []
   },
   "source": [
    "Всего 163205 пользователей."
   ]
  },
  {
   "cell_type": "markdown",
   "id": "e9e36c36",
   "metadata": {
    "papermill": {
     "duration": 0.018215,
     "end_time": "2023-04-09T10:30:31.721476",
     "exception": false,
     "start_time": "2023-04-09T10:30:31.703261",
     "status": "completed"
    },
    "tags": []
   },
   "source": [
    "# Таблица с постами."
   ]
  },
  {
   "cell_type": "code",
   "execution_count": 13,
   "id": "a72ab36f",
   "metadata": {
    "execution": {
     "iopub.execute_input": "2023-04-09T10:30:31.762899Z",
     "iopub.status.busy": "2023-04-09T10:30:31.762081Z",
     "iopub.status.idle": "2023-04-09T10:30:33.997377Z",
     "shell.execute_reply": "2023-04-09T10:30:33.996061Z"
    },
    "papermill": {
     "duration": 2.259281,
     "end_time": "2023-04-09T10:30:34.000592",
     "exception": false,
     "start_time": "2023-04-09T10:30:31.741311",
     "status": "completed"
    },
    "tags": []
   },
   "outputs": [
    {
     "data": {
      "text/html": [
       "<div>\n",
       "<style scoped>\n",
       "    .dataframe tbody tr th:only-of-type {\n",
       "        vertical-align: middle;\n",
       "    }\n",
       "\n",
       "    .dataframe tbody tr th {\n",
       "        vertical-align: top;\n",
       "    }\n",
       "\n",
       "    .dataframe thead th {\n",
       "        text-align: right;\n",
       "    }\n",
       "</style>\n",
       "<table border=\"1\" class=\"dataframe\">\n",
       "  <thead>\n",
       "    <tr style=\"text-align: right;\">\n",
       "      <th></th>\n",
       "      <th>post_id</th>\n",
       "      <th>text</th>\n",
       "      <th>topic</th>\n",
       "    </tr>\n",
       "  </thead>\n",
       "  <tbody>\n",
       "    <tr>\n",
       "      <th>0</th>\n",
       "      <td>1</td>\n",
       "      <td>UK economy facing major risks\\n\\nThe UK manufa...</td>\n",
       "      <td>business</td>\n",
       "    </tr>\n",
       "    <tr>\n",
       "      <th>1</th>\n",
       "      <td>2</td>\n",
       "      <td>Aids and climate top Davos agenda\\n\\nClimate c...</td>\n",
       "      <td>business</td>\n",
       "    </tr>\n",
       "    <tr>\n",
       "      <th>2</th>\n",
       "      <td>3</td>\n",
       "      <td>Asian quake hits European shares\\n\\nShares in ...</td>\n",
       "      <td>business</td>\n",
       "    </tr>\n",
       "    <tr>\n",
       "      <th>3</th>\n",
       "      <td>4</td>\n",
       "      <td>India power shares jump on debut\\n\\nShares in ...</td>\n",
       "      <td>business</td>\n",
       "    </tr>\n",
       "    <tr>\n",
       "      <th>4</th>\n",
       "      <td>5</td>\n",
       "      <td>Lacroix label bought by US firm\\n\\nLuxury good...</td>\n",
       "      <td>business</td>\n",
       "    </tr>\n",
       "  </tbody>\n",
       "</table>\n",
       "</div>"
      ],
      "text/plain": [
       "   post_id                                               text     topic\n",
       "0        1  UK economy facing major risks\\n\\nThe UK manufa...  business\n",
       "1        2  Aids and climate top Davos agenda\\n\\nClimate c...  business\n",
       "2        3  Asian quake hits European shares\\n\\nShares in ...  business\n",
       "3        4  India power shares jump on debut\\n\\nShares in ...  business\n",
       "4        5  Lacroix label bought by US firm\\n\\nLuxury good...  business"
      ]
     },
     "execution_count": 13,
     "metadata": {},
     "output_type": "execute_result"
    }
   ],
   "source": [
    "posts_info = pd.read_sql(\"\"\"SELECT * FROM public.post_text_df\"\"\", con=engine)\n",
    "posts_info.head()"
   ]
  },
  {
   "cell_type": "code",
   "execution_count": 14,
   "id": "f11d2d24",
   "metadata": {
    "execution": {
     "iopub.execute_input": "2023-04-09T10:30:34.041990Z",
     "iopub.status.busy": "2023-04-09T10:30:34.041527Z",
     "iopub.status.idle": "2023-04-09T10:30:34.049301Z",
     "shell.execute_reply": "2023-04-09T10:30:34.048037Z"
    },
    "papermill": {
     "duration": 0.031462,
     "end_time": "2023-04-09T10:30:34.052002",
     "exception": false,
     "start_time": "2023-04-09T10:30:34.020540",
     "status": "completed"
    },
    "tags": []
   },
   "outputs": [
    {
     "data": {
      "text/plain": [
       "(7023, 3)"
      ]
     },
     "execution_count": 14,
     "metadata": {},
     "output_type": "execute_result"
    }
   ],
   "source": [
    "posts_info.shape"
   ]
  },
  {
   "cell_type": "markdown",
   "id": "fe4efcdc",
   "metadata": {
    "papermill": {
     "duration": 0.018737,
     "end_time": "2023-04-09T10:30:34.089326",
     "exception": false,
     "start_time": "2023-04-09T10:30:34.070589",
     "status": "completed"
    },
    "tags": []
   },
   "source": [
    "7023 постов."
   ]
  },
  {
   "cell_type": "markdown",
   "id": "e98d5dd3",
   "metadata": {
    "papermill": {
     "duration": 0.018366,
     "end_time": "2023-04-09T10:30:34.127046",
     "exception": false,
     "start_time": "2023-04-09T10:30:34.108680",
     "status": "completed"
    },
    "tags": []
   },
   "source": [
    "# Таблица feed_data"
   ]
  },
  {
   "cell_type": "markdown",
   "id": "e5ab1dc5",
   "metadata": {
    "papermill": {
     "duration": 0.018374,
     "end_time": "2023-04-09T10:30:34.165169",
     "exception": false,
     "start_time": "2023-04-09T10:30:34.146795",
     "status": "completed"
    },
    "tags": []
   },
   "source": [
    "Таблица очень большая, выгрузка всей таблицы приведёт к использованию всей оперативной памяти и падению ядра."
   ]
  },
  {
   "cell_type": "code",
   "execution_count": 15,
   "id": "0acaa396",
   "metadata": {
    "execution": {
     "iopub.execute_input": "2023-04-09T10:30:34.205630Z",
     "iopub.status.busy": "2023-04-09T10:30:34.204681Z",
     "iopub.status.idle": "2023-04-09T10:30:40.186458Z",
     "shell.execute_reply": "2023-04-09T10:30:40.185168Z"
    },
    "papermill": {
     "duration": 6.005278,
     "end_time": "2023-04-09T10:30:40.189097",
     "exception": false,
     "start_time": "2023-04-09T10:30:34.183819",
     "status": "completed"
    },
    "tags": []
   },
   "outputs": [
    {
     "data": {
      "text/html": [
       "<div>\n",
       "<style scoped>\n",
       "    .dataframe tbody tr th:only-of-type {\n",
       "        vertical-align: middle;\n",
       "    }\n",
       "\n",
       "    .dataframe tbody tr th {\n",
       "        vertical-align: top;\n",
       "    }\n",
       "\n",
       "    .dataframe thead th {\n",
       "        text-align: right;\n",
       "    }\n",
       "</style>\n",
       "<table border=\"1\" class=\"dataframe\">\n",
       "  <thead>\n",
       "    <tr style=\"text-align: right;\">\n",
       "      <th></th>\n",
       "      <th>count</th>\n",
       "    </tr>\n",
       "  </thead>\n",
       "  <tbody>\n",
       "    <tr>\n",
       "      <th>0</th>\n",
       "      <td>76892800</td>\n",
       "    </tr>\n",
       "  </tbody>\n",
       "</table>\n",
       "</div>"
      ],
      "text/plain": [
       "      count\n",
       "0  76892800"
      ]
     },
     "execution_count": 15,
     "metadata": {},
     "output_type": "execute_result"
    }
   ],
   "source": [
    "count_feed_data = pd.read_sql(\"\"\"SELECT count(*) FROM public.feed_data\"\"\", con=engine)\n",
    "count_feed_data.head()"
   ]
  },
  {
   "cell_type": "markdown",
   "id": "2e056a54",
   "metadata": {
    "papermill": {
     "duration": 0.018796,
     "end_time": "2023-04-09T10:30:40.226764",
     "exception": false,
     "start_time": "2023-04-09T10:30:40.207968",
     "status": "completed"
    },
    "tags": []
   },
   "source": [
    "В таблице более 76 миллионов записей."
   ]
  },
  {
   "cell_type": "markdown",
   "id": "53a1ea0f",
   "metadata": {
    "papermill": {
     "duration": 0.018537,
     "end_time": "2023-04-09T10:30:40.265086",
     "exception": false,
     "start_time": "2023-04-09T10:30:40.246549",
     "status": "completed"
    },
    "tags": []
   },
   "source": [
    "Таблица feed_data является основной таблицей для анализа постов, которые лайкают пользователи. Из условий задачи важны посты у которых в поле action == 'view' и поле target == 1. Загрузим 10_000_000 записей этой таблицы, где action == 'view', будем использовать специальную функцию, которая загружает данные частями, по чанкам, т.к. функция pd.read_sql при загрузке данных потребляет в 4 раза больше памяти."
   ]
  },
  {
   "cell_type": "code",
   "execution_count": 16,
   "id": "7c3b9bb1",
   "metadata": {
    "execution": {
     "iopub.execute_input": "2023-04-09T10:30:40.305365Z",
     "iopub.status.busy": "2023-04-09T10:30:40.304505Z",
     "iopub.status.idle": "2023-04-09T10:33:45.292962Z",
     "shell.execute_reply": "2023-04-09T10:33:45.291668Z"
    },
    "papermill": {
     "duration": 185.012268,
     "end_time": "2023-04-09T10:33:45.296192",
     "exception": false,
     "start_time": "2023-04-09T10:30:40.283924",
     "status": "completed"
    },
    "tags": []
   },
   "outputs": [
    {
     "name": "stdout",
     "output_type": "stream",
     "text": [
      "0 загрузка данных по чанкам 1000000\n",
      "1 загрузка данных по чанкам 1000000\n",
      "2 загрузка данных по чанкам 1000000\n",
      "3 загрузка данных по чанкам 1000000\n",
      "4 загрузка данных по чанкам 1000000\n",
      "5 загрузка данных по чанкам 1000000\n",
      "6 загрузка данных по чанкам 1000000\n",
      "7 загрузка данных по чанкам 1000000\n",
      "8 загрузка данных по чанкам 1000000\n",
      "9 загрузка данных по чанкам 1000000\n"
     ]
    }
   ],
   "source": [
    "feed_data_chunk = load_feed_data(limit = 10_000_000)"
   ]
  },
  {
   "cell_type": "code",
   "execution_count": 17,
   "id": "2ff577d7",
   "metadata": {
    "execution": {
     "iopub.execute_input": "2023-04-09T10:33:45.337609Z",
     "iopub.status.busy": "2023-04-09T10:33:45.337161Z",
     "iopub.status.idle": "2023-04-09T10:33:45.431984Z",
     "shell.execute_reply": "2023-04-09T10:33:45.430784Z"
    },
    "papermill": {
     "duration": 0.118835,
     "end_time": "2023-04-09T10:33:45.434597",
     "exception": false,
     "start_time": "2023-04-09T10:33:45.315762",
     "status": "completed"
    },
    "tags": []
   },
   "outputs": [
    {
     "data": {
      "text/plain": [
       "0    8804157\n",
       "1    1195843\n",
       "Name: target, dtype: int64"
      ]
     },
     "execution_count": 17,
     "metadata": {},
     "output_type": "execute_result"
    }
   ],
   "source": [
    "feed_data_chunk.target.value_counts()"
   ]
  },
  {
   "cell_type": "markdown",
   "id": "30787c49",
   "metadata": {
    "papermill": {
     "duration": 0.020406,
     "end_time": "2023-04-09T10:33:45.476144",
     "exception": false,
     "start_time": "2023-04-09T10:33:45.455738",
     "status": "completed"
    },
    "tags": []
   },
   "source": [
    "Выборка не сбалансирована. Больше данных с target == 0. Сделаем выборку с примерно равным кол-вом target."
   ]
  },
  {
   "cell_type": "code",
   "execution_count": 18,
   "id": "2db89e5a",
   "metadata": {
    "execution": {
     "iopub.execute_input": "2023-04-09T10:33:45.518401Z",
     "iopub.status.busy": "2023-04-09T10:33:45.517601Z",
     "iopub.status.idle": "2023-04-09T10:33:45.893102Z",
     "shell.execute_reply": "2023-04-09T10:33:45.891654Z"
    },
    "papermill": {
     "duration": 0.399916,
     "end_time": "2023-04-09T10:33:45.896008",
     "exception": false,
     "start_time": "2023-04-09T10:33:45.496092",
     "status": "completed"
    },
    "tags": []
   },
   "outputs": [],
   "source": [
    "feed_data_1 = feed_data_chunk[feed_data_chunk.target == 1]\n",
    "feed_data_0 = feed_data_chunk[feed_data_chunk.target == 0]"
   ]
  },
  {
   "cell_type": "code",
   "execution_count": 19,
   "id": "c2b7eb80",
   "metadata": {
    "execution": {
     "iopub.execute_input": "2023-04-09T10:33:45.937462Z",
     "iopub.status.busy": "2023-04-09T10:33:45.937006Z",
     "iopub.status.idle": "2023-04-09T10:33:45.944004Z",
     "shell.execute_reply": "2023-04-09T10:33:45.942755Z"
    },
    "papermill": {
     "duration": 0.031252,
     "end_time": "2023-04-09T10:33:45.946735",
     "exception": false,
     "start_time": "2023-04-09T10:33:45.915483",
     "status": "completed"
    },
    "tags": []
   },
   "outputs": [
    {
     "data": {
      "text/plain": [
       "(8804157, 4)"
      ]
     },
     "execution_count": 19,
     "metadata": {},
     "output_type": "execute_result"
    }
   ],
   "source": [
    "feed_data_0.shape"
   ]
  },
  {
   "cell_type": "code",
   "execution_count": 20,
   "id": "2190ef6a",
   "metadata": {
    "execution": {
     "iopub.execute_input": "2023-04-09T10:33:45.989992Z",
     "iopub.status.busy": "2023-04-09T10:33:45.989577Z",
     "iopub.status.idle": "2023-04-09T10:33:46.539492Z",
     "shell.execute_reply": "2023-04-09T10:33:46.538514Z"
    },
    "papermill": {
     "duration": 0.575343,
     "end_time": "2023-04-09T10:33:46.542302",
     "exception": false,
     "start_time": "2023-04-09T10:33:45.966959",
     "status": "completed"
    },
    "tags": []
   },
   "outputs": [
    {
     "data": {
      "text/plain": [
       "(1204647, 4)"
      ]
     },
     "execution_count": 20,
     "metadata": {},
     "output_type": "execute_result"
    }
   ],
   "source": [
    "# Выкинем часть данных с target == 0\n",
    "frac =  feed_data_1.shape[0] / feed_data_0.shape[0] + 0.001\n",
    "feed_data_0_lim = feed_data_0.sample(frac=frac)\n",
    "feed_data_0_lim.shape"
   ]
  },
  {
   "cell_type": "code",
   "execution_count": 21,
   "id": "0229105c",
   "metadata": {
    "execution": {
     "iopub.execute_input": "2023-04-09T10:33:46.589622Z",
     "iopub.status.busy": "2023-04-09T10:33:46.589150Z",
     "iopub.status.idle": "2023-04-09T10:33:46.949567Z",
     "shell.execute_reply": "2023-04-09T10:33:46.947969Z"
    },
    "papermill": {
     "duration": 0.389564,
     "end_time": "2023-04-09T10:33:46.952485",
     "exception": false,
     "start_time": "2023-04-09T10:33:46.562921",
     "status": "completed"
    },
    "tags": []
   },
   "outputs": [],
   "source": [
    "# Объединим две выборки с target == 1 и target == 0 и перемешаем\n",
    "feed_data_new = pd.concat([feed_data_0_lim, feed_data_1])\n",
    "feed_data_new = shuffle(feed_data_new, random_state=0)"
   ]
  },
  {
   "cell_type": "code",
   "execution_count": 22,
   "id": "a05482a6",
   "metadata": {
    "execution": {
     "iopub.execute_input": "2023-04-09T10:33:46.995899Z",
     "iopub.status.busy": "2023-04-09T10:33:46.995205Z",
     "iopub.status.idle": "2023-04-09T10:33:47.006190Z",
     "shell.execute_reply": "2023-04-09T10:33:47.004868Z"
    },
    "papermill": {
     "duration": 0.035692,
     "end_time": "2023-04-09T10:33:47.008838",
     "exception": false,
     "start_time": "2023-04-09T10:33:46.973146",
     "status": "completed"
    },
    "tags": []
   },
   "outputs": [
    {
     "data": {
      "text/plain": [
       "0    51\n",
       "1    49\n",
       "Name: target, dtype: int64"
      ]
     },
     "execution_count": 22,
     "metadata": {},
     "output_type": "execute_result"
    }
   ],
   "source": [
    "# Проверим сбалансированность выборки при её различном кол-ве \n",
    "feed_data_new.iloc[:100].target.value_counts()"
   ]
  },
  {
   "cell_type": "code",
   "execution_count": 23,
   "id": "40410d3c",
   "metadata": {
    "execution": {
     "iopub.execute_input": "2023-04-09T10:33:47.051405Z",
     "iopub.status.busy": "2023-04-09T10:33:47.050977Z",
     "iopub.status.idle": "2023-04-09T10:33:47.060909Z",
     "shell.execute_reply": "2023-04-09T10:33:47.059644Z"
    },
    "papermill": {
     "duration": 0.034341,
     "end_time": "2023-04-09T10:33:47.063523",
     "exception": false,
     "start_time": "2023-04-09T10:33:47.029182",
     "status": "completed"
    },
    "tags": []
   },
   "outputs": [
    {
     "data": {
      "text/plain": [
       "1    511\n",
       "0    489\n",
       "Name: target, dtype: int64"
      ]
     },
     "execution_count": 23,
     "metadata": {},
     "output_type": "execute_result"
    }
   ],
   "source": [
    "feed_data_new.iloc[:1000].target.value_counts()"
   ]
  },
  {
   "cell_type": "code",
   "execution_count": 24,
   "id": "5554ab68",
   "metadata": {
    "execution": {
     "iopub.execute_input": "2023-04-09T10:33:47.106923Z",
     "iopub.status.busy": "2023-04-09T10:33:47.106504Z",
     "iopub.status.idle": "2023-04-09T10:33:47.117711Z",
     "shell.execute_reply": "2023-04-09T10:33:47.116291Z"
    },
    "papermill": {
     "duration": 0.035526,
     "end_time": "2023-04-09T10:33:47.120146",
     "exception": false,
     "start_time": "2023-04-09T10:33:47.084620",
     "status": "completed"
    },
    "tags": []
   },
   "outputs": [
    {
     "data": {
      "text/plain": [
       "0    50106\n",
       "1    49894\n",
       "Name: target, dtype: int64"
      ]
     },
     "execution_count": 24,
     "metadata": {},
     "output_type": "execute_result"
    }
   ],
   "source": [
    "feed_data_new.iloc[:100000].target.value_counts()"
   ]
  },
  {
   "cell_type": "code",
   "execution_count": 25,
   "id": "4bc53faf",
   "metadata": {
    "execution": {
     "iopub.execute_input": "2023-04-09T10:33:47.162871Z",
     "iopub.status.busy": "2023-04-09T10:33:47.162444Z",
     "iopub.status.idle": "2023-04-09T10:33:47.181127Z",
     "shell.execute_reply": "2023-04-09T10:33:47.179884Z"
    },
    "papermill": {
     "duration": 0.043617,
     "end_time": "2023-04-09T10:33:47.183775",
     "exception": false,
     "start_time": "2023-04-09T10:33:47.140158",
     "status": "completed"
    },
    "tags": []
   },
   "outputs": [
    {
     "data": {
      "text/plain": [
       "0    501702\n",
       "1    498298\n",
       "Name: target, dtype: int64"
      ]
     },
     "execution_count": 25,
     "metadata": {},
     "output_type": "execute_result"
    }
   ],
   "source": [
    "feed_data_new.iloc[:1000000].target.value_counts()"
   ]
  },
  {
   "cell_type": "code",
   "execution_count": 26,
   "id": "8df630c2",
   "metadata": {
    "execution": {
     "iopub.execute_input": "2023-04-09T10:33:47.226258Z",
     "iopub.status.busy": "2023-04-09T10:33:47.225845Z",
     "iopub.status.idle": "2023-04-09T10:33:47.256169Z",
     "shell.execute_reply": "2023-04-09T10:33:47.254710Z"
    },
    "papermill": {
     "duration": 0.054794,
     "end_time": "2023-04-09T10:33:47.259011",
     "exception": false,
     "start_time": "2023-04-09T10:33:47.204217",
     "status": "completed"
    },
    "tags": []
   },
   "outputs": [
    {
     "data": {
      "text/plain": [
       "0    1204647\n",
       "1    1195843\n",
       "Name: target, dtype: int64"
      ]
     },
     "execution_count": 26,
     "metadata": {},
     "output_type": "execute_result"
    }
   ],
   "source": [
    "feed_data_new.iloc[:10000000].target.value_counts()"
   ]
  },
  {
   "cell_type": "code",
   "execution_count": 27,
   "id": "d40b546c",
   "metadata": {
    "execution": {
     "iopub.execute_input": "2023-04-09T10:33:47.302199Z",
     "iopub.status.busy": "2023-04-09T10:33:47.301778Z",
     "iopub.status.idle": "2023-04-09T10:33:54.460825Z",
     "shell.execute_reply": "2023-04-09T10:33:54.459484Z"
    },
    "papermill": {
     "duration": 7.183763,
     "end_time": "2023-04-09T10:33:54.463672",
     "exception": false,
     "start_time": "2023-04-09T10:33:47.279909",
     "status": "completed"
    },
    "tags": []
   },
   "outputs": [],
   "source": [
    "# Сохраним выборку в csv-файл.\n",
    "feed_data_new.to_csv('feed_data.csv', index=False)"
   ]
  },
  {
   "cell_type": "code",
   "execution_count": 28,
   "id": "a360e475",
   "metadata": {
    "execution": {
     "iopub.execute_input": "2023-04-09T10:33:54.507549Z",
     "iopub.status.busy": "2023-04-09T10:33:54.506557Z",
     "iopub.status.idle": "2023-04-09T10:33:54.657645Z",
     "shell.execute_reply": "2023-04-09T10:33:54.656295Z"
    },
    "papermill": {
     "duration": 0.176172,
     "end_time": "2023-04-09T10:33:54.660383",
     "exception": false,
     "start_time": "2023-04-09T10:33:54.484211",
     "status": "completed"
    },
    "tags": []
   },
   "outputs": [
    {
     "data": {
      "text/plain": [
       "42"
      ]
     },
     "execution_count": 28,
     "metadata": {},
     "output_type": "execute_result"
    }
   ],
   "source": [
    "# Очищаем память\n",
    "del feed_data_new, feed_data_chunk, feed_data_1, feed_data_0, feed_data_0_lim\n",
    "gc.collect()"
   ]
  },
  {
   "cell_type": "markdown",
   "id": "6fb78f47",
   "metadata": {
    "papermill": {
     "duration": 0.020538,
     "end_time": "2023-04-09T10:33:54.702509",
     "exception": false,
     "start_time": "2023-04-09T10:33:54.681971",
     "status": "completed"
    },
    "tags": []
   },
   "source": [
    "# Выделение признаков пользователей."
   ]
  },
  {
   "cell_type": "code",
   "execution_count": 29,
   "id": "e1ee53fd",
   "metadata": {
    "execution": {
     "iopub.execute_input": "2023-04-09T10:33:54.748620Z",
     "iopub.status.busy": "2023-04-09T10:33:54.748180Z",
     "iopub.status.idle": "2023-04-09T10:33:54.763014Z",
     "shell.execute_reply": "2023-04-09T10:33:54.761771Z"
    },
    "papermill": {
     "duration": 0.040652,
     "end_time": "2023-04-09T10:33:54.765775",
     "exception": false,
     "start_time": "2023-04-09T10:33:54.725123",
     "status": "completed"
    },
    "tags": []
   },
   "outputs": [
    {
     "data": {
      "text/html": [
       "<div>\n",
       "<style scoped>\n",
       "    .dataframe tbody tr th:only-of-type {\n",
       "        vertical-align: middle;\n",
       "    }\n",
       "\n",
       "    .dataframe tbody tr th {\n",
       "        vertical-align: top;\n",
       "    }\n",
       "\n",
       "    .dataframe thead th {\n",
       "        text-align: right;\n",
       "    }\n",
       "</style>\n",
       "<table border=\"1\" class=\"dataframe\">\n",
       "  <thead>\n",
       "    <tr style=\"text-align: right;\">\n",
       "      <th></th>\n",
       "      <th>user_id</th>\n",
       "      <th>gender</th>\n",
       "      <th>age</th>\n",
       "      <th>country</th>\n",
       "      <th>city</th>\n",
       "      <th>exp_group</th>\n",
       "      <th>os</th>\n",
       "      <th>source</th>\n",
       "    </tr>\n",
       "  </thead>\n",
       "  <tbody>\n",
       "    <tr>\n",
       "      <th>0</th>\n",
       "      <td>200</td>\n",
       "      <td>1</td>\n",
       "      <td>34</td>\n",
       "      <td>Russia</td>\n",
       "      <td>Degtyarsk</td>\n",
       "      <td>3</td>\n",
       "      <td>Android</td>\n",
       "      <td>ads</td>\n",
       "    </tr>\n",
       "    <tr>\n",
       "      <th>1</th>\n",
       "      <td>201</td>\n",
       "      <td>0</td>\n",
       "      <td>37</td>\n",
       "      <td>Russia</td>\n",
       "      <td>Abakan</td>\n",
       "      <td>0</td>\n",
       "      <td>Android</td>\n",
       "      <td>ads</td>\n",
       "    </tr>\n",
       "    <tr>\n",
       "      <th>2</th>\n",
       "      <td>202</td>\n",
       "      <td>1</td>\n",
       "      <td>17</td>\n",
       "      <td>Russia</td>\n",
       "      <td>Smolensk</td>\n",
       "      <td>4</td>\n",
       "      <td>Android</td>\n",
       "      <td>ads</td>\n",
       "    </tr>\n",
       "    <tr>\n",
       "      <th>3</th>\n",
       "      <td>203</td>\n",
       "      <td>0</td>\n",
       "      <td>18</td>\n",
       "      <td>Russia</td>\n",
       "      <td>Moscow</td>\n",
       "      <td>1</td>\n",
       "      <td>iOS</td>\n",
       "      <td>ads</td>\n",
       "    </tr>\n",
       "    <tr>\n",
       "      <th>4</th>\n",
       "      <td>204</td>\n",
       "      <td>0</td>\n",
       "      <td>36</td>\n",
       "      <td>Russia</td>\n",
       "      <td>Anzhero-Sudzhensk</td>\n",
       "      <td>3</td>\n",
       "      <td>Android</td>\n",
       "      <td>ads</td>\n",
       "    </tr>\n",
       "  </tbody>\n",
       "</table>\n",
       "</div>"
      ],
      "text/plain": [
       "   user_id  gender  age country               city  exp_group       os source\n",
       "0      200       1   34  Russia          Degtyarsk          3  Android    ads\n",
       "1      201       0   37  Russia             Abakan          0  Android    ads\n",
       "2      202       1   17  Russia           Smolensk          4  Android    ads\n",
       "3      203       0   18  Russia             Moscow          1      iOS    ads\n",
       "4      204       0   36  Russia  Anzhero-Sudzhensk          3  Android    ads"
      ]
     },
     "execution_count": 29,
     "metadata": {},
     "output_type": "execute_result"
    }
   ],
   "source": [
    "user_info.head()"
   ]
  },
  {
   "cell_type": "markdown",
   "id": "d68cd7a7",
   "metadata": {
    "papermill": {
     "duration": 0.020317,
     "end_time": "2023-04-09T10:33:54.806708",
     "exception": false,
     "start_time": "2023-04-09T10:33:54.786391",
     "status": "completed"
    },
    "tags": []
   },
   "source": [
    "Очевидно, что предпочтение постов пользователя не зависят от того какая операционная система на его устройстве и с какого ресурса он пришёл. Удалим эти признаки."
   ]
  },
  {
   "cell_type": "code",
   "execution_count": 30,
   "id": "e24b03d2",
   "metadata": {
    "execution": {
     "iopub.execute_input": "2023-04-09T10:33:54.849357Z",
     "iopub.status.busy": "2023-04-09T10:33:54.848958Z",
     "iopub.status.idle": "2023-04-09T10:33:54.862785Z",
     "shell.execute_reply": "2023-04-09T10:33:54.861514Z"
    },
    "papermill": {
     "duration": 0.038172,
     "end_time": "2023-04-09T10:33:54.865390",
     "exception": false,
     "start_time": "2023-04-09T10:33:54.827218",
     "status": "completed"
    },
    "tags": []
   },
   "outputs": [],
   "source": [
    "user_info_data = user_info.drop(['os', 'source'], axis=1)"
   ]
  },
  {
   "cell_type": "markdown",
   "id": "c5aeabd7",
   "metadata": {
    "papermill": {
     "duration": 0.02018,
     "end_time": "2023-04-09T10:33:54.906252",
     "exception": false,
     "start_time": "2023-04-09T10:33:54.886072",
     "status": "completed"
    },
    "tags": []
   },
   "source": [
    "Выделим новые признаки пользователей. Добавим колонки со средним значением лайка пользователя, каждого топика поста. Т.е. доля лайкнутых постов в каждом топике, для каждого пользователя. Выпорлним SQL запросом к БД."
   ]
  },
  {
   "cell_type": "code",
   "execution_count": 31,
   "id": "bc28d778",
   "metadata": {
    "execution": {
     "iopub.execute_input": "2023-04-09T10:33:54.949814Z",
     "iopub.status.busy": "2023-04-09T10:33:54.948540Z",
     "iopub.status.idle": "2023-04-09T10:33:54.954628Z",
     "shell.execute_reply": "2023-04-09T10:33:54.953299Z"
    },
    "papermill": {
     "duration": 0.030527,
     "end_time": "2023-04-09T10:33:54.957213",
     "exception": false,
     "start_time": "2023-04-09T10:33:54.926686",
     "status": "completed"
    },
    "tags": []
   },
   "outputs": [],
   "source": [
    "sql_text = \"SELECT public.feed_data.user_id, public.post_text_df.topic, avg(public.feed_data.target) \\\n",
    "            FROM public.feed_data \\\n",
    "            JOIN public.post_text_df ON public.feed_data.post_id=public.post_text_df.post_id \\\n",
    "            WHERE public.feed_data.action='view' \\\n",
    "            GROUP BY public.feed_data.user_id, public.post_text_df.topic;\""
   ]
  },
  {
   "cell_type": "code",
   "execution_count": 32,
   "id": "3445c229",
   "metadata": {
    "execution": {
     "iopub.execute_input": "2023-04-09T10:33:55.000988Z",
     "iopub.status.busy": "2023-04-09T10:33:55.000051Z",
     "iopub.status.idle": "2023-04-09T10:35:39.254924Z",
     "shell.execute_reply": "2023-04-09T10:35:39.253421Z"
    },
    "papermill": {
     "duration": 104.279811,
     "end_time": "2023-04-09T10:35:39.258043",
     "exception": false,
     "start_time": "2023-04-09T10:33:54.978232",
     "status": "completed"
    },
    "tags": []
   },
   "outputs": [],
   "source": [
    "user_like = batch_load_sql(sql_text)"
   ]
  },
  {
   "cell_type": "code",
   "execution_count": 33,
   "id": "eb8e240e",
   "metadata": {
    "execution": {
     "iopub.execute_input": "2023-04-09T10:35:39.302626Z",
     "iopub.status.busy": "2023-04-09T10:35:39.302013Z",
     "iopub.status.idle": "2023-04-09T10:35:39.317868Z",
     "shell.execute_reply": "2023-04-09T10:35:39.316663Z"
    },
    "papermill": {
     "duration": 0.040961,
     "end_time": "2023-04-09T10:35:39.320600",
     "exception": false,
     "start_time": "2023-04-09T10:35:39.279639",
     "status": "completed"
    },
    "tags": []
   },
   "outputs": [
    {
     "data": {
      "text/html": [
       "<div>\n",
       "<style scoped>\n",
       "    .dataframe tbody tr th:only-of-type {\n",
       "        vertical-align: middle;\n",
       "    }\n",
       "\n",
       "    .dataframe tbody tr th {\n",
       "        vertical-align: top;\n",
       "    }\n",
       "\n",
       "    .dataframe thead th {\n",
       "        text-align: right;\n",
       "    }\n",
       "</style>\n",
       "<table border=\"1\" class=\"dataframe\">\n",
       "  <thead>\n",
       "    <tr style=\"text-align: right;\">\n",
       "      <th></th>\n",
       "      <th>user_id</th>\n",
       "      <th>topic</th>\n",
       "      <th>avg</th>\n",
       "    </tr>\n",
       "  </thead>\n",
       "  <tbody>\n",
       "    <tr>\n",
       "      <th>0</th>\n",
       "      <td>200</td>\n",
       "      <td>business</td>\n",
       "      <td>0.071429</td>\n",
       "    </tr>\n",
       "    <tr>\n",
       "      <th>1</th>\n",
       "      <td>200</td>\n",
       "      <td>covid</td>\n",
       "      <td>0.096774</td>\n",
       "    </tr>\n",
       "    <tr>\n",
       "      <th>2</th>\n",
       "      <td>200</td>\n",
       "      <td>entertainment</td>\n",
       "      <td>0.285714</td>\n",
       "    </tr>\n",
       "    <tr>\n",
       "      <th>3</th>\n",
       "      <td>200</td>\n",
       "      <td>movie</td>\n",
       "      <td>0.170455</td>\n",
       "    </tr>\n",
       "    <tr>\n",
       "      <th>4</th>\n",
       "      <td>200</td>\n",
       "      <td>politics</td>\n",
       "      <td>0.068966</td>\n",
       "    </tr>\n",
       "    <tr>\n",
       "      <th>...</th>\n",
       "      <td>...</td>\n",
       "      <td>...</td>\n",
       "      <td>...</td>\n",
       "    </tr>\n",
       "    <tr>\n",
       "      <th>1142350</th>\n",
       "      <td>168552</td>\n",
       "      <td>entertainment</td>\n",
       "      <td>0.000000</td>\n",
       "    </tr>\n",
       "    <tr>\n",
       "      <th>1142351</th>\n",
       "      <td>168552</td>\n",
       "      <td>movie</td>\n",
       "      <td>0.039216</td>\n",
       "    </tr>\n",
       "    <tr>\n",
       "      <th>1142352</th>\n",
       "      <td>168552</td>\n",
       "      <td>politics</td>\n",
       "      <td>0.000000</td>\n",
       "    </tr>\n",
       "    <tr>\n",
       "      <th>1142353</th>\n",
       "      <td>168552</td>\n",
       "      <td>sport</td>\n",
       "      <td>0.185185</td>\n",
       "    </tr>\n",
       "    <tr>\n",
       "      <th>1142354</th>\n",
       "      <td>168552</td>\n",
       "      <td>tech</td>\n",
       "      <td>0.000000</td>\n",
       "    </tr>\n",
       "  </tbody>\n",
       "</table>\n",
       "<p>1142355 rows × 3 columns</p>\n",
       "</div>"
      ],
      "text/plain": [
       "         user_id          topic       avg\n",
       "0            200       business  0.071429\n",
       "1            200          covid  0.096774\n",
       "2            200  entertainment  0.285714\n",
       "3            200          movie  0.170455\n",
       "4            200       politics  0.068966\n",
       "...          ...            ...       ...\n",
       "1142350   168552  entertainment  0.000000\n",
       "1142351   168552          movie  0.039216\n",
       "1142352   168552       politics  0.000000\n",
       "1142353   168552          sport  0.185185\n",
       "1142354   168552           tech  0.000000\n",
       "\n",
       "[1142355 rows x 3 columns]"
      ]
     },
     "execution_count": 33,
     "metadata": {},
     "output_type": "execute_result"
    }
   ],
   "source": [
    "user_like"
   ]
  },
  {
   "cell_type": "markdown",
   "id": "d9dd2cc8",
   "metadata": {
    "papermill": {
     "duration": 0.020992,
     "end_time": "2023-04-09T10:35:39.362781",
     "exception": false,
     "start_time": "2023-04-09T10:35:39.341789",
     "status": "completed"
    },
    "tags": []
   },
   "source": [
    "Преобразуем полученную таблицу в более удобный формат."
   ]
  },
  {
   "cell_type": "code",
   "execution_count": 34,
   "id": "71b42645",
   "metadata": {
    "execution": {
     "iopub.execute_input": "2023-04-09T10:35:39.406564Z",
     "iopub.status.busy": "2023-04-09T10:35:39.406058Z",
     "iopub.status.idle": "2023-04-09T10:35:40.092004Z",
     "shell.execute_reply": "2023-04-09T10:35:40.090567Z"
    },
    "papermill": {
     "duration": 0.711485,
     "end_time": "2023-04-09T10:35:40.095000",
     "exception": false,
     "start_time": "2023-04-09T10:35:39.383515",
     "status": "completed"
    },
    "tags": []
   },
   "outputs": [],
   "source": [
    "user_like = user_like.pivot_table('avg', index='user_id', columns='topic')"
   ]
  },
  {
   "cell_type": "code",
   "execution_count": 35,
   "id": "6fd10057",
   "metadata": {
    "execution": {
     "iopub.execute_input": "2023-04-09T10:35:40.140007Z",
     "iopub.status.busy": "2023-04-09T10:35:40.139566Z",
     "iopub.status.idle": "2023-04-09T10:35:40.158372Z",
     "shell.execute_reply": "2023-04-09T10:35:40.157146Z"
    },
    "papermill": {
     "duration": 0.044496,
     "end_time": "2023-04-09T10:35:40.160851",
     "exception": false,
     "start_time": "2023-04-09T10:35:40.116355",
     "status": "completed"
    },
    "tags": []
   },
   "outputs": [
    {
     "data": {
      "text/html": [
       "<div>\n",
       "<style scoped>\n",
       "    .dataframe tbody tr th:only-of-type {\n",
       "        vertical-align: middle;\n",
       "    }\n",
       "\n",
       "    .dataframe tbody tr th {\n",
       "        vertical-align: top;\n",
       "    }\n",
       "\n",
       "    .dataframe thead th {\n",
       "        text-align: right;\n",
       "    }\n",
       "</style>\n",
       "<table border=\"1\" class=\"dataframe\">\n",
       "  <thead>\n",
       "    <tr style=\"text-align: right;\">\n",
       "      <th>topic</th>\n",
       "      <th>business</th>\n",
       "      <th>covid</th>\n",
       "      <th>entertainment</th>\n",
       "      <th>movie</th>\n",
       "      <th>politics</th>\n",
       "      <th>sport</th>\n",
       "      <th>tech</th>\n",
       "    </tr>\n",
       "    <tr>\n",
       "      <th>user_id</th>\n",
       "      <th></th>\n",
       "      <th></th>\n",
       "      <th></th>\n",
       "      <th></th>\n",
       "      <th></th>\n",
       "      <th></th>\n",
       "      <th></th>\n",
       "    </tr>\n",
       "  </thead>\n",
       "  <tbody>\n",
       "    <tr>\n",
       "      <th>200</th>\n",
       "      <td>0.071429</td>\n",
       "      <td>0.096774</td>\n",
       "      <td>0.285714</td>\n",
       "      <td>0.170455</td>\n",
       "      <td>0.068966</td>\n",
       "      <td>0.109375</td>\n",
       "      <td>0.153846</td>\n",
       "    </tr>\n",
       "    <tr>\n",
       "      <th>201</th>\n",
       "      <td>0.103448</td>\n",
       "      <td>0.063953</td>\n",
       "      <td>0.121212</td>\n",
       "      <td>0.122677</td>\n",
       "      <td>0.013889</td>\n",
       "      <td>0.023256</td>\n",
       "      <td>0.137931</td>\n",
       "    </tr>\n",
       "    <tr>\n",
       "      <th>202</th>\n",
       "      <td>0.052632</td>\n",
       "      <td>0.139241</td>\n",
       "      <td>0.037037</td>\n",
       "      <td>0.126812</td>\n",
       "      <td>0.254237</td>\n",
       "      <td>0.168831</td>\n",
       "      <td>0.000000</td>\n",
       "    </tr>\n",
       "    <tr>\n",
       "      <th>203</th>\n",
       "      <td>0.157895</td>\n",
       "      <td>0.183099</td>\n",
       "      <td>0.181818</td>\n",
       "      <td>0.182482</td>\n",
       "      <td>0.200000</td>\n",
       "      <td>0.224490</td>\n",
       "      <td>0.222222</td>\n",
       "    </tr>\n",
       "    <tr>\n",
       "      <th>204</th>\n",
       "      <td>0.125000</td>\n",
       "      <td>0.258065</td>\n",
       "      <td>0.200000</td>\n",
       "      <td>0.140625</td>\n",
       "      <td>0.100000</td>\n",
       "      <td>0.117647</td>\n",
       "      <td>0.333333</td>\n",
       "    </tr>\n",
       "    <tr>\n",
       "      <th>...</th>\n",
       "      <td>...</td>\n",
       "      <td>...</td>\n",
       "      <td>...</td>\n",
       "      <td>...</td>\n",
       "      <td>...</td>\n",
       "      <td>...</td>\n",
       "      <td>...</td>\n",
       "    </tr>\n",
       "    <tr>\n",
       "      <th>168548</th>\n",
       "      <td>0.083333</td>\n",
       "      <td>0.072289</td>\n",
       "      <td>0.105263</td>\n",
       "      <td>0.047945</td>\n",
       "      <td>0.025641</td>\n",
       "      <td>0.000000</td>\n",
       "      <td>0.250000</td>\n",
       "    </tr>\n",
       "    <tr>\n",
       "      <th>168549</th>\n",
       "      <td>0.000000</td>\n",
       "      <td>0.074627</td>\n",
       "      <td>0.000000</td>\n",
       "      <td>0.063158</td>\n",
       "      <td>0.225806</td>\n",
       "      <td>0.160000</td>\n",
       "      <td>0.000000</td>\n",
       "    </tr>\n",
       "    <tr>\n",
       "      <th>168550</th>\n",
       "      <td>0.034483</td>\n",
       "      <td>0.117647</td>\n",
       "      <td>0.086957</td>\n",
       "      <td>0.135802</td>\n",
       "      <td>0.000000</td>\n",
       "      <td>0.030303</td>\n",
       "      <td>0.142857</td>\n",
       "    </tr>\n",
       "    <tr>\n",
       "      <th>168551</th>\n",
       "      <td>0.047619</td>\n",
       "      <td>0.131148</td>\n",
       "      <td>0.176471</td>\n",
       "      <td>0.110000</td>\n",
       "      <td>0.026316</td>\n",
       "      <td>0.062500</td>\n",
       "      <td>0.066667</td>\n",
       "    </tr>\n",
       "    <tr>\n",
       "      <th>168552</th>\n",
       "      <td>0.000000</td>\n",
       "      <td>0.060606</td>\n",
       "      <td>0.000000</td>\n",
       "      <td>0.039216</td>\n",
       "      <td>0.000000</td>\n",
       "      <td>0.185185</td>\n",
       "      <td>0.000000</td>\n",
       "    </tr>\n",
       "  </tbody>\n",
       "</table>\n",
       "<p>163205 rows × 7 columns</p>\n",
       "</div>"
      ],
      "text/plain": [
       "topic    business     covid  entertainment     movie  politics     sport  \\\n",
       "user_id                                                                    \n",
       "200      0.071429  0.096774       0.285714  0.170455  0.068966  0.109375   \n",
       "201      0.103448  0.063953       0.121212  0.122677  0.013889  0.023256   \n",
       "202      0.052632  0.139241       0.037037  0.126812  0.254237  0.168831   \n",
       "203      0.157895  0.183099       0.181818  0.182482  0.200000  0.224490   \n",
       "204      0.125000  0.258065       0.200000  0.140625  0.100000  0.117647   \n",
       "...           ...       ...            ...       ...       ...       ...   \n",
       "168548   0.083333  0.072289       0.105263  0.047945  0.025641  0.000000   \n",
       "168549   0.000000  0.074627       0.000000  0.063158  0.225806  0.160000   \n",
       "168550   0.034483  0.117647       0.086957  0.135802  0.000000  0.030303   \n",
       "168551   0.047619  0.131148       0.176471  0.110000  0.026316  0.062500   \n",
       "168552   0.000000  0.060606       0.000000  0.039216  0.000000  0.185185   \n",
       "\n",
       "topic        tech  \n",
       "user_id            \n",
       "200      0.153846  \n",
       "201      0.137931  \n",
       "202      0.000000  \n",
       "203      0.222222  \n",
       "204      0.333333  \n",
       "...           ...  \n",
       "168548   0.250000  \n",
       "168549   0.000000  \n",
       "168550   0.142857  \n",
       "168551   0.066667  \n",
       "168552   0.000000  \n",
       "\n",
       "[163205 rows x 7 columns]"
      ]
     },
     "execution_count": 35,
     "metadata": {},
     "output_type": "execute_result"
    }
   ],
   "source": [
    "user_like"
   ]
  },
  {
   "cell_type": "code",
   "execution_count": 36,
   "id": "6f068858",
   "metadata": {
    "execution": {
     "iopub.execute_input": "2023-04-09T10:35:40.205554Z",
     "iopub.status.busy": "2023-04-09T10:35:40.204704Z",
     "iopub.status.idle": "2023-04-09T10:35:40.213290Z",
     "shell.execute_reply": "2023-04-09T10:35:40.212086Z"
    },
    "papermill": {
     "duration": 0.033784,
     "end_time": "2023-04-09T10:35:40.216038",
     "exception": false,
     "start_time": "2023-04-09T10:35:40.182254",
     "status": "completed"
    },
    "tags": []
   },
   "outputs": [],
   "source": [
    "user_like.columns.name = None\n",
    "user_like = user_like.reset_index()"
   ]
  },
  {
   "cell_type": "code",
   "execution_count": 37,
   "id": "a558a47f",
   "metadata": {
    "execution": {
     "iopub.execute_input": "2023-04-09T10:35:40.260337Z",
     "iopub.status.busy": "2023-04-09T10:35:40.259892Z",
     "iopub.status.idle": "2023-04-09T10:35:40.278852Z",
     "shell.execute_reply": "2023-04-09T10:35:40.277602Z"
    },
    "papermill": {
     "duration": 0.044083,
     "end_time": "2023-04-09T10:35:40.281356",
     "exception": false,
     "start_time": "2023-04-09T10:35:40.237273",
     "status": "completed"
    },
    "tags": []
   },
   "outputs": [
    {
     "data": {
      "text/html": [
       "<div>\n",
       "<style scoped>\n",
       "    .dataframe tbody tr th:only-of-type {\n",
       "        vertical-align: middle;\n",
       "    }\n",
       "\n",
       "    .dataframe tbody tr th {\n",
       "        vertical-align: top;\n",
       "    }\n",
       "\n",
       "    .dataframe thead th {\n",
       "        text-align: right;\n",
       "    }\n",
       "</style>\n",
       "<table border=\"1\" class=\"dataframe\">\n",
       "  <thead>\n",
       "    <tr style=\"text-align: right;\">\n",
       "      <th></th>\n",
       "      <th>user_id</th>\n",
       "      <th>business</th>\n",
       "      <th>covid</th>\n",
       "      <th>entertainment</th>\n",
       "      <th>movie</th>\n",
       "      <th>politics</th>\n",
       "      <th>sport</th>\n",
       "      <th>tech</th>\n",
       "    </tr>\n",
       "  </thead>\n",
       "  <tbody>\n",
       "    <tr>\n",
       "      <th>0</th>\n",
       "      <td>200</td>\n",
       "      <td>0.071429</td>\n",
       "      <td>0.096774</td>\n",
       "      <td>0.285714</td>\n",
       "      <td>0.170455</td>\n",
       "      <td>0.068966</td>\n",
       "      <td>0.109375</td>\n",
       "      <td>0.153846</td>\n",
       "    </tr>\n",
       "    <tr>\n",
       "      <th>1</th>\n",
       "      <td>201</td>\n",
       "      <td>0.103448</td>\n",
       "      <td>0.063953</td>\n",
       "      <td>0.121212</td>\n",
       "      <td>0.122677</td>\n",
       "      <td>0.013889</td>\n",
       "      <td>0.023256</td>\n",
       "      <td>0.137931</td>\n",
       "    </tr>\n",
       "    <tr>\n",
       "      <th>2</th>\n",
       "      <td>202</td>\n",
       "      <td>0.052632</td>\n",
       "      <td>0.139241</td>\n",
       "      <td>0.037037</td>\n",
       "      <td>0.126812</td>\n",
       "      <td>0.254237</td>\n",
       "      <td>0.168831</td>\n",
       "      <td>0.000000</td>\n",
       "    </tr>\n",
       "    <tr>\n",
       "      <th>3</th>\n",
       "      <td>203</td>\n",
       "      <td>0.157895</td>\n",
       "      <td>0.183099</td>\n",
       "      <td>0.181818</td>\n",
       "      <td>0.182482</td>\n",
       "      <td>0.200000</td>\n",
       "      <td>0.224490</td>\n",
       "      <td>0.222222</td>\n",
       "    </tr>\n",
       "    <tr>\n",
       "      <th>4</th>\n",
       "      <td>204</td>\n",
       "      <td>0.125000</td>\n",
       "      <td>0.258065</td>\n",
       "      <td>0.200000</td>\n",
       "      <td>0.140625</td>\n",
       "      <td>0.100000</td>\n",
       "      <td>0.117647</td>\n",
       "      <td>0.333333</td>\n",
       "    </tr>\n",
       "    <tr>\n",
       "      <th>...</th>\n",
       "      <td>...</td>\n",
       "      <td>...</td>\n",
       "      <td>...</td>\n",
       "      <td>...</td>\n",
       "      <td>...</td>\n",
       "      <td>...</td>\n",
       "      <td>...</td>\n",
       "      <td>...</td>\n",
       "    </tr>\n",
       "    <tr>\n",
       "      <th>163200</th>\n",
       "      <td>168548</td>\n",
       "      <td>0.083333</td>\n",
       "      <td>0.072289</td>\n",
       "      <td>0.105263</td>\n",
       "      <td>0.047945</td>\n",
       "      <td>0.025641</td>\n",
       "      <td>0.000000</td>\n",
       "      <td>0.250000</td>\n",
       "    </tr>\n",
       "    <tr>\n",
       "      <th>163201</th>\n",
       "      <td>168549</td>\n",
       "      <td>0.000000</td>\n",
       "      <td>0.074627</td>\n",
       "      <td>0.000000</td>\n",
       "      <td>0.063158</td>\n",
       "      <td>0.225806</td>\n",
       "      <td>0.160000</td>\n",
       "      <td>0.000000</td>\n",
       "    </tr>\n",
       "    <tr>\n",
       "      <th>163202</th>\n",
       "      <td>168550</td>\n",
       "      <td>0.034483</td>\n",
       "      <td>0.117647</td>\n",
       "      <td>0.086957</td>\n",
       "      <td>0.135802</td>\n",
       "      <td>0.000000</td>\n",
       "      <td>0.030303</td>\n",
       "      <td>0.142857</td>\n",
       "    </tr>\n",
       "    <tr>\n",
       "      <th>163203</th>\n",
       "      <td>168551</td>\n",
       "      <td>0.047619</td>\n",
       "      <td>0.131148</td>\n",
       "      <td>0.176471</td>\n",
       "      <td>0.110000</td>\n",
       "      <td>0.026316</td>\n",
       "      <td>0.062500</td>\n",
       "      <td>0.066667</td>\n",
       "    </tr>\n",
       "    <tr>\n",
       "      <th>163204</th>\n",
       "      <td>168552</td>\n",
       "      <td>0.000000</td>\n",
       "      <td>0.060606</td>\n",
       "      <td>0.000000</td>\n",
       "      <td>0.039216</td>\n",
       "      <td>0.000000</td>\n",
       "      <td>0.185185</td>\n",
       "      <td>0.000000</td>\n",
       "    </tr>\n",
       "  </tbody>\n",
       "</table>\n",
       "<p>163205 rows × 8 columns</p>\n",
       "</div>"
      ],
      "text/plain": [
       "        user_id  business     covid  entertainment     movie  politics  \\\n",
       "0           200  0.071429  0.096774       0.285714  0.170455  0.068966   \n",
       "1           201  0.103448  0.063953       0.121212  0.122677  0.013889   \n",
       "2           202  0.052632  0.139241       0.037037  0.126812  0.254237   \n",
       "3           203  0.157895  0.183099       0.181818  0.182482  0.200000   \n",
       "4           204  0.125000  0.258065       0.200000  0.140625  0.100000   \n",
       "...         ...       ...       ...            ...       ...       ...   \n",
       "163200   168548  0.083333  0.072289       0.105263  0.047945  0.025641   \n",
       "163201   168549  0.000000  0.074627       0.000000  0.063158  0.225806   \n",
       "163202   168550  0.034483  0.117647       0.086957  0.135802  0.000000   \n",
       "163203   168551  0.047619  0.131148       0.176471  0.110000  0.026316   \n",
       "163204   168552  0.000000  0.060606       0.000000  0.039216  0.000000   \n",
       "\n",
       "           sport      tech  \n",
       "0       0.109375  0.153846  \n",
       "1       0.023256  0.137931  \n",
       "2       0.168831  0.000000  \n",
       "3       0.224490  0.222222  \n",
       "4       0.117647  0.333333  \n",
       "...          ...       ...  \n",
       "163200  0.000000  0.250000  \n",
       "163201  0.160000  0.000000  \n",
       "163202  0.030303  0.142857  \n",
       "163203  0.062500  0.066667  \n",
       "163204  0.185185  0.000000  \n",
       "\n",
       "[163205 rows x 8 columns]"
      ]
     },
     "execution_count": 37,
     "metadata": {},
     "output_type": "execute_result"
    }
   ],
   "source": [
    "user_like"
   ]
  },
  {
   "cell_type": "markdown",
   "id": "4af203ea",
   "metadata": {
    "papermill": {
     "duration": 0.021089,
     "end_time": "2023-04-09T10:35:40.324895",
     "exception": false,
     "start_time": "2023-04-09T10:35:40.303806",
     "status": "completed"
    },
    "tags": []
   },
   "source": [
    "Данная таблица содержит значения nan. Они появились из-за того, что некоторые пользователи просто не смотрели, не интересовались постами определённых топиков."
   ]
  },
  {
   "cell_type": "code",
   "execution_count": 38,
   "id": "a7d69615",
   "metadata": {
    "execution": {
     "iopub.execute_input": "2023-04-09T10:35:40.370363Z",
     "iopub.status.busy": "2023-04-09T10:35:40.369945Z",
     "iopub.status.idle": "2023-04-09T10:35:40.382994Z",
     "shell.execute_reply": "2023-04-09T10:35:40.381761Z"
    },
    "papermill": {
     "duration": 0.039706,
     "end_time": "2023-04-09T10:35:40.385968",
     "exception": false,
     "start_time": "2023-04-09T10:35:40.346262",
     "status": "completed"
    },
    "tags": []
   },
   "outputs": [
    {
     "data": {
      "text/plain": [
       "user_id           0\n",
       "business          6\n",
       "covid             0\n",
       "entertainment    20\n",
       "movie             0\n",
       "politics          0\n",
       "sport             0\n",
       "tech             54\n",
       "dtype: int64"
      ]
     },
     "execution_count": 38,
     "metadata": {},
     "output_type": "execute_result"
    }
   ],
   "source": [
    "user_like.isna().sum()"
   ]
  },
  {
   "cell_type": "code",
   "execution_count": 39,
   "id": "f644c8b1",
   "metadata": {
    "execution": {
     "iopub.execute_input": "2023-04-09T10:35:40.432234Z",
     "iopub.status.busy": "2023-04-09T10:35:40.431704Z",
     "iopub.status.idle": "2023-04-09T10:35:40.439766Z",
     "shell.execute_reply": "2023-04-09T10:35:40.438370Z"
    },
    "papermill": {
     "duration": 0.034334,
     "end_time": "2023-04-09T10:35:40.442547",
     "exception": false,
     "start_time": "2023-04-09T10:35:40.408213",
     "status": "completed"
    },
    "tags": []
   },
   "outputs": [],
   "source": [
    "# Заполним nan нулём\n",
    "user_like.fillna(value=0, inplace=True)"
   ]
  },
  {
   "cell_type": "code",
   "execution_count": 40,
   "id": "22801fdb",
   "metadata": {
    "execution": {
     "iopub.execute_input": "2023-04-09T10:35:40.488541Z",
     "iopub.status.busy": "2023-04-09T10:35:40.488117Z",
     "iopub.status.idle": "2023-04-09T10:35:40.500889Z",
     "shell.execute_reply": "2023-04-09T10:35:40.499454Z"
    },
    "papermill": {
     "duration": 0.039112,
     "end_time": "2023-04-09T10:35:40.503350",
     "exception": false,
     "start_time": "2023-04-09T10:35:40.464238",
     "status": "completed"
    },
    "tags": []
   },
   "outputs": [
    {
     "data": {
      "text/plain": [
       "user_id          0\n",
       "business         0\n",
       "covid            0\n",
       "entertainment    0\n",
       "movie            0\n",
       "politics         0\n",
       "sport            0\n",
       "tech             0\n",
       "dtype: int64"
      ]
     },
     "execution_count": 40,
     "metadata": {},
     "output_type": "execute_result"
    }
   ],
   "source": [
    "user_like.isna().sum()"
   ]
  },
  {
   "cell_type": "code",
   "execution_count": 41,
   "id": "fc2dadac",
   "metadata": {
    "execution": {
     "iopub.execute_input": "2023-04-09T10:35:40.551211Z",
     "iopub.status.busy": "2023-04-09T10:35:40.550060Z",
     "iopub.status.idle": "2023-04-09T10:35:40.615914Z",
     "shell.execute_reply": "2023-04-09T10:35:40.614526Z"
    },
    "papermill": {
     "duration": 0.092649,
     "end_time": "2023-04-09T10:35:40.619009",
     "exception": false,
     "start_time": "2023-04-09T10:35:40.526360",
     "status": "completed"
    },
    "tags": []
   },
   "outputs": [],
   "source": [
    "# Объединим полученную таблицу с таблицей признаков пользователей\n",
    "user_info_data = user_info_data.merge(user_like, left_on='user_id', right_on='user_id')"
   ]
  },
  {
   "cell_type": "code",
   "execution_count": 42,
   "id": "96e0b8a3",
   "metadata": {
    "execution": {
     "iopub.execute_input": "2023-04-09T10:35:40.666482Z",
     "iopub.status.busy": "2023-04-09T10:35:40.665205Z",
     "iopub.status.idle": "2023-04-09T10:35:40.688285Z",
     "shell.execute_reply": "2023-04-09T10:35:40.687100Z"
    },
    "papermill": {
     "duration": 0.04973,
     "end_time": "2023-04-09T10:35:40.690602",
     "exception": false,
     "start_time": "2023-04-09T10:35:40.640872",
     "status": "completed"
    },
    "tags": []
   },
   "outputs": [
    {
     "data": {
      "text/html": [
       "<div>\n",
       "<style scoped>\n",
       "    .dataframe tbody tr th:only-of-type {\n",
       "        vertical-align: middle;\n",
       "    }\n",
       "\n",
       "    .dataframe tbody tr th {\n",
       "        vertical-align: top;\n",
       "    }\n",
       "\n",
       "    .dataframe thead th {\n",
       "        text-align: right;\n",
       "    }\n",
       "</style>\n",
       "<table border=\"1\" class=\"dataframe\">\n",
       "  <thead>\n",
       "    <tr style=\"text-align: right;\">\n",
       "      <th></th>\n",
       "      <th>user_id</th>\n",
       "      <th>gender</th>\n",
       "      <th>age</th>\n",
       "      <th>country</th>\n",
       "      <th>city</th>\n",
       "      <th>exp_group</th>\n",
       "      <th>business</th>\n",
       "      <th>covid</th>\n",
       "      <th>entertainment</th>\n",
       "      <th>movie</th>\n",
       "      <th>politics</th>\n",
       "      <th>sport</th>\n",
       "      <th>tech</th>\n",
       "    </tr>\n",
       "  </thead>\n",
       "  <tbody>\n",
       "    <tr>\n",
       "      <th>0</th>\n",
       "      <td>200</td>\n",
       "      <td>1</td>\n",
       "      <td>34</td>\n",
       "      <td>Russia</td>\n",
       "      <td>Degtyarsk</td>\n",
       "      <td>3</td>\n",
       "      <td>0.071429</td>\n",
       "      <td>0.096774</td>\n",
       "      <td>0.285714</td>\n",
       "      <td>0.170455</td>\n",
       "      <td>0.068966</td>\n",
       "      <td>0.109375</td>\n",
       "      <td>0.153846</td>\n",
       "    </tr>\n",
       "    <tr>\n",
       "      <th>1</th>\n",
       "      <td>201</td>\n",
       "      <td>0</td>\n",
       "      <td>37</td>\n",
       "      <td>Russia</td>\n",
       "      <td>Abakan</td>\n",
       "      <td>0</td>\n",
       "      <td>0.103448</td>\n",
       "      <td>0.063953</td>\n",
       "      <td>0.121212</td>\n",
       "      <td>0.122677</td>\n",
       "      <td>0.013889</td>\n",
       "      <td>0.023256</td>\n",
       "      <td>0.137931</td>\n",
       "    </tr>\n",
       "    <tr>\n",
       "      <th>2</th>\n",
       "      <td>202</td>\n",
       "      <td>1</td>\n",
       "      <td>17</td>\n",
       "      <td>Russia</td>\n",
       "      <td>Smolensk</td>\n",
       "      <td>4</td>\n",
       "      <td>0.052632</td>\n",
       "      <td>0.139241</td>\n",
       "      <td>0.037037</td>\n",
       "      <td>0.126812</td>\n",
       "      <td>0.254237</td>\n",
       "      <td>0.168831</td>\n",
       "      <td>0.000000</td>\n",
       "    </tr>\n",
       "    <tr>\n",
       "      <th>3</th>\n",
       "      <td>203</td>\n",
       "      <td>0</td>\n",
       "      <td>18</td>\n",
       "      <td>Russia</td>\n",
       "      <td>Moscow</td>\n",
       "      <td>1</td>\n",
       "      <td>0.157895</td>\n",
       "      <td>0.183099</td>\n",
       "      <td>0.181818</td>\n",
       "      <td>0.182482</td>\n",
       "      <td>0.200000</td>\n",
       "      <td>0.224490</td>\n",
       "      <td>0.222222</td>\n",
       "    </tr>\n",
       "    <tr>\n",
       "      <th>4</th>\n",
       "      <td>204</td>\n",
       "      <td>0</td>\n",
       "      <td>36</td>\n",
       "      <td>Russia</td>\n",
       "      <td>Anzhero-Sudzhensk</td>\n",
       "      <td>3</td>\n",
       "      <td>0.125000</td>\n",
       "      <td>0.258065</td>\n",
       "      <td>0.200000</td>\n",
       "      <td>0.140625</td>\n",
       "      <td>0.100000</td>\n",
       "      <td>0.117647</td>\n",
       "      <td>0.333333</td>\n",
       "    </tr>\n",
       "    <tr>\n",
       "      <th>...</th>\n",
       "      <td>...</td>\n",
       "      <td>...</td>\n",
       "      <td>...</td>\n",
       "      <td>...</td>\n",
       "      <td>...</td>\n",
       "      <td>...</td>\n",
       "      <td>...</td>\n",
       "      <td>...</td>\n",
       "      <td>...</td>\n",
       "      <td>...</td>\n",
       "      <td>...</td>\n",
       "      <td>...</td>\n",
       "      <td>...</td>\n",
       "    </tr>\n",
       "    <tr>\n",
       "      <th>163200</th>\n",
       "      <td>168548</td>\n",
       "      <td>0</td>\n",
       "      <td>36</td>\n",
       "      <td>Russia</td>\n",
       "      <td>Kaliningrad</td>\n",
       "      <td>4</td>\n",
       "      <td>0.083333</td>\n",
       "      <td>0.072289</td>\n",
       "      <td>0.105263</td>\n",
       "      <td>0.047945</td>\n",
       "      <td>0.025641</td>\n",
       "      <td>0.000000</td>\n",
       "      <td>0.250000</td>\n",
       "    </tr>\n",
       "    <tr>\n",
       "      <th>163201</th>\n",
       "      <td>168549</td>\n",
       "      <td>0</td>\n",
       "      <td>18</td>\n",
       "      <td>Russia</td>\n",
       "      <td>Tula</td>\n",
       "      <td>2</td>\n",
       "      <td>0.000000</td>\n",
       "      <td>0.074627</td>\n",
       "      <td>0.000000</td>\n",
       "      <td>0.063158</td>\n",
       "      <td>0.225806</td>\n",
       "      <td>0.160000</td>\n",
       "      <td>0.000000</td>\n",
       "    </tr>\n",
       "    <tr>\n",
       "      <th>163202</th>\n",
       "      <td>168550</td>\n",
       "      <td>1</td>\n",
       "      <td>41</td>\n",
       "      <td>Russia</td>\n",
       "      <td>Yekaterinburg</td>\n",
       "      <td>4</td>\n",
       "      <td>0.034483</td>\n",
       "      <td>0.117647</td>\n",
       "      <td>0.086957</td>\n",
       "      <td>0.135802</td>\n",
       "      <td>0.000000</td>\n",
       "      <td>0.030303</td>\n",
       "      <td>0.142857</td>\n",
       "    </tr>\n",
       "    <tr>\n",
       "      <th>163203</th>\n",
       "      <td>168551</td>\n",
       "      <td>0</td>\n",
       "      <td>38</td>\n",
       "      <td>Russia</td>\n",
       "      <td>Moscow</td>\n",
       "      <td>3</td>\n",
       "      <td>0.047619</td>\n",
       "      <td>0.131148</td>\n",
       "      <td>0.176471</td>\n",
       "      <td>0.110000</td>\n",
       "      <td>0.026316</td>\n",
       "      <td>0.062500</td>\n",
       "      <td>0.066667</td>\n",
       "    </tr>\n",
       "    <tr>\n",
       "      <th>163204</th>\n",
       "      <td>168552</td>\n",
       "      <td>1</td>\n",
       "      <td>16</td>\n",
       "      <td>Russia</td>\n",
       "      <td>Ivanteyevka</td>\n",
       "      <td>4</td>\n",
       "      <td>0.000000</td>\n",
       "      <td>0.060606</td>\n",
       "      <td>0.000000</td>\n",
       "      <td>0.039216</td>\n",
       "      <td>0.000000</td>\n",
       "      <td>0.185185</td>\n",
       "      <td>0.000000</td>\n",
       "    </tr>\n",
       "  </tbody>\n",
       "</table>\n",
       "<p>163205 rows × 13 columns</p>\n",
       "</div>"
      ],
      "text/plain": [
       "        user_id  gender  age country               city  exp_group  business  \\\n",
       "0           200       1   34  Russia          Degtyarsk          3  0.071429   \n",
       "1           201       0   37  Russia             Abakan          0  0.103448   \n",
       "2           202       1   17  Russia           Smolensk          4  0.052632   \n",
       "3           203       0   18  Russia             Moscow          1  0.157895   \n",
       "4           204       0   36  Russia  Anzhero-Sudzhensk          3  0.125000   \n",
       "...         ...     ...  ...     ...                ...        ...       ...   \n",
       "163200   168548       0   36  Russia        Kaliningrad          4  0.083333   \n",
       "163201   168549       0   18  Russia               Tula          2  0.000000   \n",
       "163202   168550       1   41  Russia      Yekaterinburg          4  0.034483   \n",
       "163203   168551       0   38  Russia             Moscow          3  0.047619   \n",
       "163204   168552       1   16  Russia        Ivanteyevka          4  0.000000   \n",
       "\n",
       "           covid  entertainment     movie  politics     sport      tech  \n",
       "0       0.096774       0.285714  0.170455  0.068966  0.109375  0.153846  \n",
       "1       0.063953       0.121212  0.122677  0.013889  0.023256  0.137931  \n",
       "2       0.139241       0.037037  0.126812  0.254237  0.168831  0.000000  \n",
       "3       0.183099       0.181818  0.182482  0.200000  0.224490  0.222222  \n",
       "4       0.258065       0.200000  0.140625  0.100000  0.117647  0.333333  \n",
       "...          ...            ...       ...       ...       ...       ...  \n",
       "163200  0.072289       0.105263  0.047945  0.025641  0.000000  0.250000  \n",
       "163201  0.074627       0.000000  0.063158  0.225806  0.160000  0.000000  \n",
       "163202  0.117647       0.086957  0.135802  0.000000  0.030303  0.142857  \n",
       "163203  0.131148       0.176471  0.110000  0.026316  0.062500  0.066667  \n",
       "163204  0.060606       0.000000  0.039216  0.000000  0.185185  0.000000  \n",
       "\n",
       "[163205 rows x 13 columns]"
      ]
     },
     "execution_count": 42,
     "metadata": {},
     "output_type": "execute_result"
    }
   ],
   "source": [
    "user_info_data"
   ]
  },
  {
   "cell_type": "code",
   "execution_count": 43,
   "id": "5e702f86",
   "metadata": {
    "execution": {
     "iopub.execute_input": "2023-04-09T10:35:40.737424Z",
     "iopub.status.busy": "2023-04-09T10:35:40.736964Z",
     "iopub.status.idle": "2023-04-09T10:35:40.779005Z",
     "shell.execute_reply": "2023-04-09T10:35:40.777803Z"
    },
    "papermill": {
     "duration": 0.069212,
     "end_time": "2023-04-09T10:35:40.781974",
     "exception": false,
     "start_time": "2023-04-09T10:35:40.712762",
     "status": "completed"
    },
    "tags": []
   },
   "outputs": [
    {
     "data": {
      "text/plain": [
       "user_id          0\n",
       "gender           0\n",
       "age              0\n",
       "country          0\n",
       "city             0\n",
       "exp_group        0\n",
       "business         0\n",
       "covid            0\n",
       "entertainment    0\n",
       "movie            0\n",
       "politics         0\n",
       "sport            0\n",
       "tech             0\n",
       "dtype: int64"
      ]
     },
     "execution_count": 43,
     "metadata": {},
     "output_type": "execute_result"
    }
   ],
   "source": [
    "# Ещё раз проверим на пустые значения\n",
    "user_info_data.isna().sum()"
   ]
  },
  {
   "cell_type": "markdown",
   "id": "8c5250a0",
   "metadata": {
    "papermill": {
     "duration": 0.022939,
     "end_time": "2023-04-09T10:35:40.827640",
     "exception": false,
     "start_time": "2023-04-09T10:35:40.804701",
     "status": "completed"
    },
    "tags": []
   },
   "source": [
    "Проверим нет ли линейной зависимости от новых признаков пользователей."
   ]
  },
  {
   "cell_type": "code",
   "execution_count": 44,
   "id": "e9d609ad",
   "metadata": {
    "execution": {
     "iopub.execute_input": "2023-04-09T10:35:40.874322Z",
     "iopub.status.busy": "2023-04-09T10:35:40.873890Z",
     "iopub.status.idle": "2023-04-09T10:35:41.911174Z",
     "shell.execute_reply": "2023-04-09T10:35:41.910215Z"
    },
    "papermill": {
     "duration": 1.06402,
     "end_time": "2023-04-09T10:35:41.914056",
     "exception": false,
     "start_time": "2023-04-09T10:35:40.850036",
     "status": "completed"
    },
    "tags": []
   },
   "outputs": [
    {
     "data": {
      "text/plain": [
       "<AxesSubplot:>"
      ]
     },
     "execution_count": 44,
     "metadata": {},
     "output_type": "execute_result"
    },
    {
     "data": {
      "image/png": "[encoded data removed]",
      "text/plain": [
       "<Figure size 640x480 with 2 Axes>"
      ]
     },
     "metadata": {},
     "output_type": "display_data"
    }
   ],
   "source": [
    "sns.heatmap(user_info_data.corr(method='pearson'), annot=True, fmt=\".1f\")"
   ]
  },
  {
   "cell_type": "markdown",
   "id": "fae49278",
   "metadata": {
    "papermill": {
     "duration": 0.024174,
     "end_time": "2023-04-09T10:35:41.963704",
     "exception": false,
     "start_time": "2023-04-09T10:35:41.939530",
     "status": "completed"
    },
    "tags": []
   },
   "source": [
    "Есть заметная зависимость между covid и movie. И между politics и sport. Также присутствует умеренная обратная зависимость между age и sport. И есть довольно много умеренных зависимостей между новыми признаками. Уже по этим новым данным можно составить определённую картину пользователей. Например, те кому нравятся посты по теме политики, определённо предпочтут посты по спорту."
   ]
  },
  {
   "cell_type": "markdown",
   "id": "37039ff0",
   "metadata": {
    "papermill": {
     "duration": 0.023532,
     "end_time": "2023-04-09T10:35:42.010896",
     "exception": false,
     "start_time": "2023-04-09T10:35:41.987364",
     "status": "completed"
    },
    "tags": []
   },
   "source": [
    "Запишем таблицу в БД."
   ]
  },
  {
   "cell_type": "code",
   "execution_count": 45,
   "id": "7ae498e1",
   "metadata": {
    "execution": {
     "iopub.execute_input": "2023-04-09T10:35:42.061740Z",
     "iopub.status.busy": "2023-04-09T10:35:42.060361Z",
     "iopub.status.idle": "2023-04-09T10:36:47.303484Z",
     "shell.execute_reply": "2023-04-09T10:36:47.302442Z"
    },
    "papermill": {
     "duration": 65.27169,
     "end_time": "2023-04-09T10:36:47.306355",
     "exception": false,
     "start_time": "2023-04-09T10:35:42.034665",
     "status": "completed"
    },
    "tags": []
   },
   "outputs": [],
   "source": [
    "user_info_data.to_sql('pavel55645_users_lesson_22', con=engine, if_exists='replace')"
   ]
  },
  {
   "cell_type": "markdown",
   "id": "90375a07",
   "metadata": {
    "papermill": {
     "duration": 0.023692,
     "end_time": "2023-04-09T10:36:47.354020",
     "exception": false,
     "start_time": "2023-04-09T10:36:47.330328",
     "status": "completed"
    },
    "tags": []
   },
   "source": [
    "# Таблица с постами. Выделение признаков постов."
   ]
  },
  {
   "cell_type": "code",
   "execution_count": 46,
   "id": "cf034b44",
   "metadata": {
    "execution": {
     "iopub.execute_input": "2023-04-09T10:36:47.404036Z",
     "iopub.status.busy": "2023-04-09T10:36:47.403346Z",
     "iopub.status.idle": "2023-04-09T10:36:47.414870Z",
     "shell.execute_reply": "2023-04-09T10:36:47.413519Z"
    },
    "papermill": {
     "duration": 0.039843,
     "end_time": "2023-04-09T10:36:47.417811",
     "exception": false,
     "start_time": "2023-04-09T10:36:47.377968",
     "status": "completed"
    },
    "tags": []
   },
   "outputs": [
    {
     "data": {
      "text/html": [
       "<div>\n",
       "<style scoped>\n",
       "    .dataframe tbody tr th:only-of-type {\n",
       "        vertical-align: middle;\n",
       "    }\n",
       "\n",
       "    .dataframe tbody tr th {\n",
       "        vertical-align: top;\n",
       "    }\n",
       "\n",
       "    .dataframe thead th {\n",
       "        text-align: right;\n",
       "    }\n",
       "</style>\n",
       "<table border=\"1\" class=\"dataframe\">\n",
       "  <thead>\n",
       "    <tr style=\"text-align: right;\">\n",
       "      <th></th>\n",
       "      <th>post_id</th>\n",
       "      <th>text</th>\n",
       "      <th>topic</th>\n",
       "    </tr>\n",
       "  </thead>\n",
       "  <tbody>\n",
       "    <tr>\n",
       "      <th>0</th>\n",
       "      <td>1</td>\n",
       "      <td>UK economy facing major risks\\n\\nThe UK manufa...</td>\n",
       "      <td>business</td>\n",
       "    </tr>\n",
       "    <tr>\n",
       "      <th>1</th>\n",
       "      <td>2</td>\n",
       "      <td>Aids and climate top Davos agenda\\n\\nClimate c...</td>\n",
       "      <td>business</td>\n",
       "    </tr>\n",
       "    <tr>\n",
       "      <th>2</th>\n",
       "      <td>3</td>\n",
       "      <td>Asian quake hits European shares\\n\\nShares in ...</td>\n",
       "      <td>business</td>\n",
       "    </tr>\n",
       "    <tr>\n",
       "      <th>3</th>\n",
       "      <td>4</td>\n",
       "      <td>India power shares jump on debut\\n\\nShares in ...</td>\n",
       "      <td>business</td>\n",
       "    </tr>\n",
       "    <tr>\n",
       "      <th>4</th>\n",
       "      <td>5</td>\n",
       "      <td>Lacroix label bought by US firm\\n\\nLuxury good...</td>\n",
       "      <td>business</td>\n",
       "    </tr>\n",
       "  </tbody>\n",
       "</table>\n",
       "</div>"
      ],
      "text/plain": [
       "   post_id                                               text     topic\n",
       "0        1  UK economy facing major risks\\n\\nThe UK manufa...  business\n",
       "1        2  Aids and climate top Davos agenda\\n\\nClimate c...  business\n",
       "2        3  Asian quake hits European shares\\n\\nShares in ...  business\n",
       "3        4  India power shares jump on debut\\n\\nShares in ...  business\n",
       "4        5  Lacroix label bought by US firm\\n\\nLuxury good...  business"
      ]
     },
     "execution_count": 46,
     "metadata": {},
     "output_type": "execute_result"
    }
   ],
   "source": [
    "posts_info.head()"
   ]
  },
  {
   "cell_type": "markdown",
   "id": "617045c0",
   "metadata": {
    "papermill": {
     "duration": 0.024236,
     "end_time": "2023-04-09T10:36:47.466507",
     "exception": false,
     "start_time": "2023-04-09T10:36:47.442271",
     "status": "completed"
    },
    "tags": []
   },
   "source": [
    "Выполним лематизацию постов и преобразуем в tfidf."
   ]
  },
  {
   "cell_type": "code",
   "execution_count": 47,
   "id": "afe34cb1",
   "metadata": {
    "execution": {
     "iopub.execute_input": "2023-04-09T10:36:47.516969Z",
     "iopub.status.busy": "2023-04-09T10:36:47.516547Z",
     "iopub.status.idle": "2023-04-09T10:36:47.524347Z",
     "shell.execute_reply": "2023-04-09T10:36:47.522966Z"
    },
    "papermill": {
     "duration": 0.036527,
     "end_time": "2023-04-09T10:36:47.527319",
     "exception": false,
     "start_time": "2023-04-09T10:36:47.490792",
     "status": "completed"
    },
    "tags": []
   },
   "outputs": [],
   "source": [
    "wnl = WordNetLemmatizer()\n",
    "\n",
    "def preprocessing(line: str, token=wnl) -> str:\n",
    "    line = line.lower()\n",
    "    line = re.sub(r'[{}]'.format(string.punctuation), ' ', line)\n",
    "    line = line.replace(r'\\n\\n', ' ').replace(r'\\n', ' ')\n",
    "    line = ' '.join([token.lemmatize(x) for x in line.split(' ')])\n",
    "    return line\n",
    "\n",
    "tfidf = TfidfVectorizer(stop_words='english', preprocessor=preprocessing)"
   ]
  },
  {
   "cell_type": "code",
   "execution_count": 48,
   "id": "05224d94",
   "metadata": {
    "execution": {
     "iopub.execute_input": "2023-04-09T10:36:47.579458Z",
     "iopub.status.busy": "2023-04-09T10:36:47.579009Z",
     "iopub.status.idle": "2023-04-09T10:37:01.341306Z",
     "shell.execute_reply": "2023-04-09T10:37:01.339797Z"
    },
    "papermill": {
     "duration": 13.792369,
     "end_time": "2023-04-09T10:37:01.344466",
     "exception": false,
     "start_time": "2023-04-09T10:36:47.552097",
     "status": "completed"
    },
    "tags": []
   },
   "outputs": [
    {
     "name": "stderr",
     "output_type": "stream",
     "text": [
      "/opt/conda/lib/python3.7/site-packages/sklearn/feature_extraction/text.py:401: UserWarning: Your stop_words may be inconsistent with your preprocessing. Tokenizing the stop words generated tokens ['ha', 'le', 'wa'] not in stop_words.\n",
      "  % sorted(inconsistent)\n"
     ]
    }
   ],
   "source": [
    "tfidf_data = tfidf.fit_transform(posts_info['text']).toarray()"
   ]
  },
  {
   "cell_type": "code",
   "execution_count": 49,
   "id": "b23eb3fc",
   "metadata": {
    "execution": {
     "iopub.execute_input": "2023-04-09T10:37:01.402304Z",
     "iopub.status.busy": "2023-04-09T10:37:01.401554Z",
     "iopub.status.idle": "2023-04-09T10:37:01.410924Z",
     "shell.execute_reply": "2023-04-09T10:37:01.409587Z"
    },
    "papermill": {
     "duration": 0.042585,
     "end_time": "2023-04-09T10:37:01.414599",
     "exception": false,
     "start_time": "2023-04-09T10:37:01.372014",
     "status": "completed"
    },
    "tags": []
   },
   "outputs": [
    {
     "data": {
      "text/plain": [
       "array([[0.        , 0.        , 0.        , ..., 0.        , 0.        ,\n",
       "        0.        ],\n",
       "       [0.        , 0.13279494, 0.        , ..., 0.        , 0.        ,\n",
       "        0.        ],\n",
       "       [0.        , 0.05136483, 0.        , ..., 0.        , 0.        ,\n",
       "        0.        ],\n",
       "       ...,\n",
       "       [0.        , 0.        , 0.        , ..., 0.        , 0.        ,\n",
       "        0.        ],\n",
       "       [0.        , 0.        , 0.        , ..., 0.        , 0.        ,\n",
       "        0.        ],\n",
       "       [0.        , 0.        , 0.        , ..., 0.        , 0.        ,\n",
       "        0.        ]])"
      ]
     },
     "execution_count": 49,
     "metadata": {},
     "output_type": "execute_result"
    }
   ],
   "source": [
    "tfidf_data"
   ]
  },
  {
   "cell_type": "code",
   "execution_count": 50,
   "id": "be6db9c2",
   "metadata": {
    "execution": {
     "iopub.execute_input": "2023-04-09T10:37:01.466451Z",
     "iopub.status.busy": "2023-04-09T10:37:01.465439Z",
     "iopub.status.idle": "2023-04-09T10:37:01.524265Z",
     "shell.execute_reply": "2023-04-09T10:37:01.522894Z"
    },
    "papermill": {
     "duration": 0.088134,
     "end_time": "2023-04-09T10:37:01.527463",
     "exception": false,
     "start_time": "2023-04-09T10:37:01.439329",
     "status": "completed"
    },
    "tags": []
   },
   "outputs": [
    {
     "name": "stderr",
     "output_type": "stream",
     "text": [
      "/opt/conda/lib/python3.7/site-packages/sklearn/utils/deprecation.py:87: FutureWarning: Function get_feature_names is deprecated; get_feature_names is deprecated in 1.0 and will be removed in 1.2. Please use get_feature_names_out instead.\n",
      "  warnings.warn(msg, category=FutureWarning)\n"
     ]
    }
   ],
   "source": [
    "tfidf_data = pd.DataFrame(tfidf_data, index=posts_info.post_id, columns=tfidf.get_feature_names())"
   ]
  },
  {
   "cell_type": "code",
   "execution_count": 51,
   "id": "e144e070",
   "metadata": {
    "execution": {
     "iopub.execute_input": "2023-04-09T10:37:01.580096Z",
     "iopub.status.busy": "2023-04-09T10:37:01.579375Z",
     "iopub.status.idle": "2023-04-09T10:37:01.641041Z",
     "shell.execute_reply": "2023-04-09T10:37:01.639708Z"
    },
    "papermill": {
     "duration": 0.090848,
     "end_time": "2023-04-09T10:37:01.643735",
     "exception": false,
     "start_time": "2023-04-09T10:37:01.552887",
     "status": "completed"
    },
    "tags": []
   },
   "outputs": [
    {
     "data": {
      "text/html": [
       "<div>\n",
       "<style scoped>\n",
       "    .dataframe tbody tr th:only-of-type {\n",
       "        vertical-align: middle;\n",
       "    }\n",
       "\n",
       "    .dataframe tbody tr th {\n",
       "        vertical-align: top;\n",
       "    }\n",
       "\n",
       "    .dataframe thead th {\n",
       "        text-align: right;\n",
       "    }\n",
       "</style>\n",
       "<table border=\"1\" class=\"dataframe\">\n",
       "  <thead>\n",
       "    <tr style=\"text-align: right;\">\n",
       "      <th></th>\n",
       "      <th>00</th>\n",
       "      <th>000</th>\n",
       "      <th>0001</th>\n",
       "      <th>000bn</th>\n",
       "      <th>000m</th>\n",
       "      <th>000s</th>\n",
       "      <th>000th</th>\n",
       "      <th>001</th>\n",
       "      <th>001and</th>\n",
       "      <th>001st</th>\n",
       "      <th>...</th>\n",
       "      <th>𝓫𝓮</th>\n",
       "      <th>𝓫𝓮𝓽𝓽𝓮𝓻</th>\n",
       "      <th>𝓬𝓸𝓾𝓻𝓽𝓼</th>\n",
       "      <th>𝓱𝓮𝓪𝓻𝓲𝓷𝓰</th>\n",
       "      <th>𝓶𝓪𝔂</th>\n",
       "      <th>𝓹𝓱𝔂𝓼𝓲𝓬𝓪𝓵</th>\n",
       "      <th>𝓼𝓸𝓸𝓷𝓮𝓻</th>\n",
       "      <th>𝓼𝓾𝓫𝓸𝓻𝓭𝓲𝓷𝓪𝓽𝓮</th>\n",
       "      <th>𝓽𝓱𝓮</th>\n",
       "      <th>𝓽𝓸</th>\n",
       "    </tr>\n",
       "    <tr>\n",
       "      <th>post_id</th>\n",
       "      <th></th>\n",
       "      <th></th>\n",
       "      <th></th>\n",
       "      <th></th>\n",
       "      <th></th>\n",
       "      <th></th>\n",
       "      <th></th>\n",
       "      <th></th>\n",
       "      <th></th>\n",
       "      <th></th>\n",
       "      <th></th>\n",
       "      <th></th>\n",
       "      <th></th>\n",
       "      <th></th>\n",
       "      <th></th>\n",
       "      <th></th>\n",
       "      <th></th>\n",
       "      <th></th>\n",
       "      <th></th>\n",
       "      <th></th>\n",
       "      <th></th>\n",
       "    </tr>\n",
       "  </thead>\n",
       "  <tbody>\n",
       "    <tr>\n",
       "      <th>1</th>\n",
       "      <td>0.0</td>\n",
       "      <td>0.000000</td>\n",
       "      <td>0.0</td>\n",
       "      <td>0.0</td>\n",
       "      <td>0.0</td>\n",
       "      <td>0.0</td>\n",
       "      <td>0.0</td>\n",
       "      <td>0.0</td>\n",
       "      <td>0.0</td>\n",
       "      <td>0.0</td>\n",
       "      <td>...</td>\n",
       "      <td>0.0</td>\n",
       "      <td>0.0</td>\n",
       "      <td>0.0</td>\n",
       "      <td>0.0</td>\n",
       "      <td>0.0</td>\n",
       "      <td>0.0</td>\n",
       "      <td>0.0</td>\n",
       "      <td>0.0</td>\n",
       "      <td>0.0</td>\n",
       "      <td>0.0</td>\n",
       "    </tr>\n",
       "    <tr>\n",
       "      <th>2</th>\n",
       "      <td>0.0</td>\n",
       "      <td>0.132795</td>\n",
       "      <td>0.0</td>\n",
       "      <td>0.0</td>\n",
       "      <td>0.0</td>\n",
       "      <td>0.0</td>\n",
       "      <td>0.0</td>\n",
       "      <td>0.0</td>\n",
       "      <td>0.0</td>\n",
       "      <td>0.0</td>\n",
       "      <td>...</td>\n",
       "      <td>0.0</td>\n",
       "      <td>0.0</td>\n",
       "      <td>0.0</td>\n",
       "      <td>0.0</td>\n",
       "      <td>0.0</td>\n",
       "      <td>0.0</td>\n",
       "      <td>0.0</td>\n",
       "      <td>0.0</td>\n",
       "      <td>0.0</td>\n",
       "      <td>0.0</td>\n",
       "    </tr>\n",
       "    <tr>\n",
       "      <th>3</th>\n",
       "      <td>0.0</td>\n",
       "      <td>0.051365</td>\n",
       "      <td>0.0</td>\n",
       "      <td>0.0</td>\n",
       "      <td>0.0</td>\n",
       "      <td>0.0</td>\n",
       "      <td>0.0</td>\n",
       "      <td>0.0</td>\n",
       "      <td>0.0</td>\n",
       "      <td>0.0</td>\n",
       "      <td>...</td>\n",
       "      <td>0.0</td>\n",
       "      <td>0.0</td>\n",
       "      <td>0.0</td>\n",
       "      <td>0.0</td>\n",
       "      <td>0.0</td>\n",
       "      <td>0.0</td>\n",
       "      <td>0.0</td>\n",
       "      <td>0.0</td>\n",
       "      <td>0.0</td>\n",
       "      <td>0.0</td>\n",
       "    </tr>\n",
       "    <tr>\n",
       "      <th>4</th>\n",
       "      <td>0.0</td>\n",
       "      <td>0.000000</td>\n",
       "      <td>0.0</td>\n",
       "      <td>0.0</td>\n",
       "      <td>0.0</td>\n",
       "      <td>0.0</td>\n",
       "      <td>0.0</td>\n",
       "      <td>0.0</td>\n",
       "      <td>0.0</td>\n",
       "      <td>0.0</td>\n",
       "      <td>...</td>\n",
       "      <td>0.0</td>\n",
       "      <td>0.0</td>\n",
       "      <td>0.0</td>\n",
       "      <td>0.0</td>\n",
       "      <td>0.0</td>\n",
       "      <td>0.0</td>\n",
       "      <td>0.0</td>\n",
       "      <td>0.0</td>\n",
       "      <td>0.0</td>\n",
       "      <td>0.0</td>\n",
       "    </tr>\n",
       "    <tr>\n",
       "      <th>5</th>\n",
       "      <td>0.0</td>\n",
       "      <td>0.000000</td>\n",
       "      <td>0.0</td>\n",
       "      <td>0.0</td>\n",
       "      <td>0.0</td>\n",
       "      <td>0.0</td>\n",
       "      <td>0.0</td>\n",
       "      <td>0.0</td>\n",
       "      <td>0.0</td>\n",
       "      <td>0.0</td>\n",
       "      <td>...</td>\n",
       "      <td>0.0</td>\n",
       "      <td>0.0</td>\n",
       "      <td>0.0</td>\n",
       "      <td>0.0</td>\n",
       "      <td>0.0</td>\n",
       "      <td>0.0</td>\n",
       "      <td>0.0</td>\n",
       "      <td>0.0</td>\n",
       "      <td>0.0</td>\n",
       "      <td>0.0</td>\n",
       "    </tr>\n",
       "    <tr>\n",
       "      <th>...</th>\n",
       "      <td>...</td>\n",
       "      <td>...</td>\n",
       "      <td>...</td>\n",
       "      <td>...</td>\n",
       "      <td>...</td>\n",
       "      <td>...</td>\n",
       "      <td>...</td>\n",
       "      <td>...</td>\n",
       "      <td>...</td>\n",
       "      <td>...</td>\n",
       "      <td>...</td>\n",
       "      <td>...</td>\n",
       "      <td>...</td>\n",
       "      <td>...</td>\n",
       "      <td>...</td>\n",
       "      <td>...</td>\n",
       "      <td>...</td>\n",
       "      <td>...</td>\n",
       "      <td>...</td>\n",
       "      <td>...</td>\n",
       "      <td>...</td>\n",
       "    </tr>\n",
       "    <tr>\n",
       "      <th>7315</th>\n",
       "      <td>0.0</td>\n",
       "      <td>0.000000</td>\n",
       "      <td>0.0</td>\n",
       "      <td>0.0</td>\n",
       "      <td>0.0</td>\n",
       "      <td>0.0</td>\n",
       "      <td>0.0</td>\n",
       "      <td>0.0</td>\n",
       "      <td>0.0</td>\n",
       "      <td>0.0</td>\n",
       "      <td>...</td>\n",
       "      <td>0.0</td>\n",
       "      <td>0.0</td>\n",
       "      <td>0.0</td>\n",
       "      <td>0.0</td>\n",
       "      <td>0.0</td>\n",
       "      <td>0.0</td>\n",
       "      <td>0.0</td>\n",
       "      <td>0.0</td>\n",
       "      <td>0.0</td>\n",
       "      <td>0.0</td>\n",
       "    </tr>\n",
       "    <tr>\n",
       "      <th>7316</th>\n",
       "      <td>0.0</td>\n",
       "      <td>0.000000</td>\n",
       "      <td>0.0</td>\n",
       "      <td>0.0</td>\n",
       "      <td>0.0</td>\n",
       "      <td>0.0</td>\n",
       "      <td>0.0</td>\n",
       "      <td>0.0</td>\n",
       "      <td>0.0</td>\n",
       "      <td>0.0</td>\n",
       "      <td>...</td>\n",
       "      <td>0.0</td>\n",
       "      <td>0.0</td>\n",
       "      <td>0.0</td>\n",
       "      <td>0.0</td>\n",
       "      <td>0.0</td>\n",
       "      <td>0.0</td>\n",
       "      <td>0.0</td>\n",
       "      <td>0.0</td>\n",
       "      <td>0.0</td>\n",
       "      <td>0.0</td>\n",
       "    </tr>\n",
       "    <tr>\n",
       "      <th>7317</th>\n",
       "      <td>0.0</td>\n",
       "      <td>0.000000</td>\n",
       "      <td>0.0</td>\n",
       "      <td>0.0</td>\n",
       "      <td>0.0</td>\n",
       "      <td>0.0</td>\n",
       "      <td>0.0</td>\n",
       "      <td>0.0</td>\n",
       "      <td>0.0</td>\n",
       "      <td>0.0</td>\n",
       "      <td>...</td>\n",
       "      <td>0.0</td>\n",
       "      <td>0.0</td>\n",
       "      <td>0.0</td>\n",
       "      <td>0.0</td>\n",
       "      <td>0.0</td>\n",
       "      <td>0.0</td>\n",
       "      <td>0.0</td>\n",
       "      <td>0.0</td>\n",
       "      <td>0.0</td>\n",
       "      <td>0.0</td>\n",
       "    </tr>\n",
       "    <tr>\n",
       "      <th>7318</th>\n",
       "      <td>0.0</td>\n",
       "      <td>0.000000</td>\n",
       "      <td>0.0</td>\n",
       "      <td>0.0</td>\n",
       "      <td>0.0</td>\n",
       "      <td>0.0</td>\n",
       "      <td>0.0</td>\n",
       "      <td>0.0</td>\n",
       "      <td>0.0</td>\n",
       "      <td>0.0</td>\n",
       "      <td>...</td>\n",
       "      <td>0.0</td>\n",
       "      <td>0.0</td>\n",
       "      <td>0.0</td>\n",
       "      <td>0.0</td>\n",
       "      <td>0.0</td>\n",
       "      <td>0.0</td>\n",
       "      <td>0.0</td>\n",
       "      <td>0.0</td>\n",
       "      <td>0.0</td>\n",
       "      <td>0.0</td>\n",
       "    </tr>\n",
       "    <tr>\n",
       "      <th>7319</th>\n",
       "      <td>0.0</td>\n",
       "      <td>0.000000</td>\n",
       "      <td>0.0</td>\n",
       "      <td>0.0</td>\n",
       "      <td>0.0</td>\n",
       "      <td>0.0</td>\n",
       "      <td>0.0</td>\n",
       "      <td>0.0</td>\n",
       "      <td>0.0</td>\n",
       "      <td>0.0</td>\n",
       "      <td>...</td>\n",
       "      <td>0.0</td>\n",
       "      <td>0.0</td>\n",
       "      <td>0.0</td>\n",
       "      <td>0.0</td>\n",
       "      <td>0.0</td>\n",
       "      <td>0.0</td>\n",
       "      <td>0.0</td>\n",
       "      <td>0.0</td>\n",
       "      <td>0.0</td>\n",
       "      <td>0.0</td>\n",
       "    </tr>\n",
       "  </tbody>\n",
       "</table>\n",
       "<p>7023 rows × 46493 columns</p>\n",
       "</div>"
      ],
      "text/plain": [
       "          00       000  0001  000bn  000m  000s  000th  001  001and  001st  \\\n",
       "post_id                                                                      \n",
       "1        0.0  0.000000   0.0    0.0   0.0   0.0    0.0  0.0     0.0    0.0   \n",
       "2        0.0  0.132795   0.0    0.0   0.0   0.0    0.0  0.0     0.0    0.0   \n",
       "3        0.0  0.051365   0.0    0.0   0.0   0.0    0.0  0.0     0.0    0.0   \n",
       "4        0.0  0.000000   0.0    0.0   0.0   0.0    0.0  0.0     0.0    0.0   \n",
       "5        0.0  0.000000   0.0    0.0   0.0   0.0    0.0  0.0     0.0    0.0   \n",
       "...      ...       ...   ...    ...   ...   ...    ...  ...     ...    ...   \n",
       "7315     0.0  0.000000   0.0    0.0   0.0   0.0    0.0  0.0     0.0    0.0   \n",
       "7316     0.0  0.000000   0.0    0.0   0.0   0.0    0.0  0.0     0.0    0.0   \n",
       "7317     0.0  0.000000   0.0    0.0   0.0   0.0    0.0  0.0     0.0    0.0   \n",
       "7318     0.0  0.000000   0.0    0.0   0.0   0.0    0.0  0.0     0.0    0.0   \n",
       "7319     0.0  0.000000   0.0    0.0   0.0   0.0    0.0  0.0     0.0    0.0   \n",
       "\n",
       "         ...   𝓫𝓮  𝓫𝓮𝓽𝓽𝓮𝓻  𝓬𝓸𝓾𝓻𝓽𝓼  𝓱𝓮𝓪𝓻𝓲𝓷𝓰  𝓶𝓪𝔂  𝓹𝓱𝔂𝓼𝓲𝓬𝓪𝓵  𝓼𝓸𝓸𝓷𝓮𝓻  \\\n",
       "post_id  ...                                                        \n",
       "1        ...  0.0     0.0     0.0      0.0  0.0       0.0     0.0   \n",
       "2        ...  0.0     0.0     0.0      0.0  0.0       0.0     0.0   \n",
       "3        ...  0.0     0.0     0.0      0.0  0.0       0.0     0.0   \n",
       "4        ...  0.0     0.0     0.0      0.0  0.0       0.0     0.0   \n",
       "5        ...  0.0     0.0     0.0      0.0  0.0       0.0     0.0   \n",
       "...      ...  ...     ...     ...      ...  ...       ...     ...   \n",
       "7315     ...  0.0     0.0     0.0      0.0  0.0       0.0     0.0   \n",
       "7316     ...  0.0     0.0     0.0      0.0  0.0       0.0     0.0   \n",
       "7317     ...  0.0     0.0     0.0      0.0  0.0       0.0     0.0   \n",
       "7318     ...  0.0     0.0     0.0      0.0  0.0       0.0     0.0   \n",
       "7319     ...  0.0     0.0     0.0      0.0  0.0       0.0     0.0   \n",
       "\n",
       "         𝓼𝓾𝓫𝓸𝓻𝓭𝓲𝓷𝓪𝓽𝓮  𝓽𝓱𝓮   𝓽𝓸  \n",
       "post_id                         \n",
       "1                0.0  0.0  0.0  \n",
       "2                0.0  0.0  0.0  \n",
       "3                0.0  0.0  0.0  \n",
       "4                0.0  0.0  0.0  \n",
       "5                0.0  0.0  0.0  \n",
       "...              ...  ...  ...  \n",
       "7315             0.0  0.0  0.0  \n",
       "7316             0.0  0.0  0.0  \n",
       "7317             0.0  0.0  0.0  \n",
       "7318             0.0  0.0  0.0  \n",
       "7319             0.0  0.0  0.0  \n",
       "\n",
       "[7023 rows x 46493 columns]"
      ]
     },
     "execution_count": 51,
     "metadata": {},
     "output_type": "execute_result"
    }
   ],
   "source": [
    "tfidf_data"
   ]
  },
  {
   "cell_type": "markdown",
   "id": "0da8f289",
   "metadata": {
    "execution": {
     "iopub.execute_input": "2023-04-09T09:59:34.660651Z",
     "iopub.status.busy": "2023-04-09T09:59:34.659848Z",
     "iopub.status.idle": "2023-04-09T09:59:34.668232Z",
     "shell.execute_reply": "2023-04-09T09:59:34.666659Z",
     "shell.execute_reply.started": "2023-04-09T09:59:34.660609Z"
    },
    "papermill": {
     "duration": 0.02607,
     "end_time": "2023-04-09T10:37:01.695096",
     "exception": false,
     "start_time": "2023-04-09T10:37:01.669026",
     "status": "completed"
    },
    "tags": []
   },
   "source": [
    "Получилось слишком много признаков. Будем понижать размерность и кластеризовать посты."
   ]
  },
  {
   "cell_type": "code",
   "execution_count": 52,
   "id": "9d5072b8",
   "metadata": {
    "execution": {
     "iopub.execute_input": "2023-04-09T10:37:01.747762Z",
     "iopub.status.busy": "2023-04-09T10:37:01.747014Z",
     "iopub.status.idle": "2023-04-09T10:37:01.752179Z",
     "shell.execute_reply": "2023-04-09T10:37:01.751311Z"
    },
    "papermill": {
     "duration": 0.034305,
     "end_time": "2023-04-09T10:37:01.754534",
     "exception": false,
     "start_time": "2023-04-09T10:37:01.720229",
     "status": "completed"
    },
    "tags": []
   },
   "outputs": [],
   "source": [
    "posts_info_data = posts_info"
   ]
  },
  {
   "cell_type": "code",
   "execution_count": 53,
   "id": "74fc2840",
   "metadata": {
    "execution": {
     "iopub.execute_input": "2023-04-09T10:37:01.806548Z",
     "iopub.status.busy": "2023-04-09T10:37:01.806068Z",
     "iopub.status.idle": "2023-04-09T10:37:05.113295Z",
     "shell.execute_reply": "2023-04-09T10:37:05.112025Z"
    },
    "papermill": {
     "duration": 3.336957,
     "end_time": "2023-04-09T10:37:05.116343",
     "exception": false,
     "start_time": "2023-04-09T10:37:01.779386",
     "status": "completed"
    },
    "tags": []
   },
   "outputs": [],
   "source": [
    "# Создадим новые признаки постов на основе TfIdf\n",
    "posts_info_data['TotalTfIdf'] = tfidf_data.sum(axis=1).reset_index()[0]\n",
    "posts_info_data['MaxTfIdf'] = tfidf_data.max(axis=1).reset_index()[0]\n",
    "posts_info_data['MeanTfIdf'] = tfidf_data.mean(axis=1).reset_index()[0]"
   ]
  },
  {
   "cell_type": "code",
   "execution_count": 54,
   "id": "67d2e490",
   "metadata": {
    "execution": {
     "iopub.execute_input": "2023-04-09T10:37:05.169384Z",
     "iopub.status.busy": "2023-04-09T10:37:05.168911Z",
     "iopub.status.idle": "2023-04-09T10:37:05.183615Z",
     "shell.execute_reply": "2023-04-09T10:37:05.182214Z"
    },
    "papermill": {
     "duration": 0.044482,
     "end_time": "2023-04-09T10:37:05.186251",
     "exception": false,
     "start_time": "2023-04-09T10:37:05.141769",
     "status": "completed"
    },
    "tags": []
   },
   "outputs": [
    {
     "data": {
      "text/html": [
       "<div>\n",
       "<style scoped>\n",
       "    .dataframe tbody tr th:only-of-type {\n",
       "        vertical-align: middle;\n",
       "    }\n",
       "\n",
       "    .dataframe tbody tr th {\n",
       "        vertical-align: top;\n",
       "    }\n",
       "\n",
       "    .dataframe thead th {\n",
       "        text-align: right;\n",
       "    }\n",
       "</style>\n",
       "<table border=\"1\" class=\"dataframe\">\n",
       "  <thead>\n",
       "    <tr style=\"text-align: right;\">\n",
       "      <th></th>\n",
       "      <th>post_id</th>\n",
       "      <th>text</th>\n",
       "      <th>topic</th>\n",
       "      <th>TotalTfIdf</th>\n",
       "      <th>MaxTfIdf</th>\n",
       "      <th>MeanTfIdf</th>\n",
       "    </tr>\n",
       "  </thead>\n",
       "  <tbody>\n",
       "    <tr>\n",
       "      <th>0</th>\n",
       "      <td>1</td>\n",
       "      <td>UK economy facing major risks\\n\\nThe UK manufa...</td>\n",
       "      <td>business</td>\n",
       "      <td>8.796359</td>\n",
       "      <td>0.494083</td>\n",
       "      <td>0.000189</td>\n",
       "    </tr>\n",
       "    <tr>\n",
       "      <th>1</th>\n",
       "      <td>2</td>\n",
       "      <td>Aids and climate top Davos agenda\\n\\nClimate c...</td>\n",
       "      <td>business</td>\n",
       "      <td>11.909230</td>\n",
       "      <td>0.308132</td>\n",
       "      <td>0.000256</td>\n",
       "    </tr>\n",
       "    <tr>\n",
       "      <th>2</th>\n",
       "      <td>3</td>\n",
       "      <td>Asian quake hits European shares\\n\\nShares in ...</td>\n",
       "      <td>business</td>\n",
       "      <td>12.935175</td>\n",
       "      <td>0.200614</td>\n",
       "      <td>0.000278</td>\n",
       "    </tr>\n",
       "    <tr>\n",
       "      <th>3</th>\n",
       "      <td>4</td>\n",
       "      <td>India power shares jump on debut\\n\\nShares in ...</td>\n",
       "      <td>business</td>\n",
       "      <td>6.714893</td>\n",
       "      <td>0.542900</td>\n",
       "      <td>0.000144</td>\n",
       "    </tr>\n",
       "    <tr>\n",
       "      <th>4</th>\n",
       "      <td>5</td>\n",
       "      <td>Lacroix label bought by US firm\\n\\nLuxury good...</td>\n",
       "      <td>business</td>\n",
       "      <td>6.352120</td>\n",
       "      <td>0.420250</td>\n",
       "      <td>0.000137</td>\n",
       "    </tr>\n",
       "  </tbody>\n",
       "</table>\n",
       "</div>"
      ],
      "text/plain": [
       "   post_id                                               text     topic  \\\n",
       "0        1  UK economy facing major risks\\n\\nThe UK manufa...  business   \n",
       "1        2  Aids and climate top Davos agenda\\n\\nClimate c...  business   \n",
       "2        3  Asian quake hits European shares\\n\\nShares in ...  business   \n",
       "3        4  India power shares jump on debut\\n\\nShares in ...  business   \n",
       "4        5  Lacroix label bought by US firm\\n\\nLuxury good...  business   \n",
       "\n",
       "   TotalTfIdf  MaxTfIdf  MeanTfIdf  \n",
       "0    8.796359  0.494083   0.000189  \n",
       "1   11.909230  0.308132   0.000256  \n",
       "2   12.935175  0.200614   0.000278  \n",
       "3    6.714893  0.542900   0.000144  \n",
       "4    6.352120  0.420250   0.000137  "
      ]
     },
     "execution_count": 54,
     "metadata": {},
     "output_type": "execute_result"
    }
   ],
   "source": [
    "posts_info_data.head()"
   ]
  },
  {
   "cell_type": "markdown",
   "id": "8a753669",
   "metadata": {
    "papermill": {
     "duration": 0.025964,
     "end_time": "2023-04-09T10:37:05.237886",
     "exception": false,
     "start_time": "2023-04-09T10:37:05.211922",
     "status": "completed"
    },
    "tags": []
   },
   "source": [
    "Кластеризуем тексты. Для начала, при помощи PCA понизим размерность признаков tfidf"
   ]
  },
  {
   "cell_type": "code",
   "execution_count": 55,
   "id": "2e75ad1f",
   "metadata": {
    "execution": {
     "iopub.execute_input": "2023-04-09T10:37:05.292372Z",
     "iopub.status.busy": "2023-04-09T10:37:05.291650Z",
     "iopub.status.idle": "2023-04-09T10:37:06.634441Z",
     "shell.execute_reply": "2023-04-09T10:37:06.633485Z"
    },
    "papermill": {
     "duration": 1.373122,
     "end_time": "2023-04-09T10:37:06.637317",
     "exception": false,
     "start_time": "2023-04-09T10:37:05.264195",
     "status": "completed"
    },
    "tags": []
   },
   "outputs": [],
   "source": [
    "# Центруем значения tfidf\n",
    "centered = tfidf_data - tfidf_data.mean()"
   ]
  },
  {
   "cell_type": "code",
   "execution_count": 56,
   "id": "626a2b71",
   "metadata": {
    "execution": {
     "iopub.execute_input": "2023-04-09T10:37:06.694873Z",
     "iopub.status.busy": "2023-04-09T10:37:06.694450Z",
     "iopub.status.idle": "2023-04-09T10:37:06.895016Z",
     "shell.execute_reply": "2023-04-09T10:37:06.893750Z"
    },
    "papermill": {
     "duration": 0.232036,
     "end_time": "2023-04-09T10:37:06.897470",
     "exception": false,
     "start_time": "2023-04-09T10:37:06.665434",
     "status": "completed"
    },
    "tags": []
   },
   "outputs": [
    {
     "data": {
      "text/plain": [
       "141"
      ]
     },
     "execution_count": 56,
     "metadata": {},
     "output_type": "execute_result"
    }
   ],
   "source": [
    "del tfidf_data\n",
    "gc.collect()"
   ]
  },
  {
   "cell_type": "code",
   "execution_count": 57,
   "id": "f952a6c5",
   "metadata": {
    "execution": {
     "iopub.execute_input": "2023-04-09T10:37:06.950379Z",
     "iopub.status.busy": "2023-04-09T10:37:06.949993Z",
     "iopub.status.idle": "2023-04-09T10:37:29.481076Z",
     "shell.execute_reply": "2023-04-09T10:37:29.479698Z"
    },
    "papermill": {
     "duration": 22.561523,
     "end_time": "2023-04-09T10:37:29.484306",
     "exception": false,
     "start_time": "2023-04-09T10:37:06.922783",
     "status": "completed"
    },
    "tags": []
   },
   "outputs": [],
   "source": [
    "# Понижаем размерность признаков.\n",
    "pca = PCA(n_components=20)\n",
    "pca_decomp = pca.fit_transform(centered)"
   ]
  },
  {
   "cell_type": "code",
   "execution_count": 58,
   "id": "91ce29b8",
   "metadata": {
    "execution": {
     "iopub.execute_input": "2023-04-09T10:37:29.538475Z",
     "iopub.status.busy": "2023-04-09T10:37:29.538012Z",
     "iopub.status.idle": "2023-04-09T10:37:31.663166Z",
     "shell.execute_reply": "2023-04-09T10:37:31.662133Z"
    },
    "papermill": {
     "duration": 2.155647,
     "end_time": "2023-04-09T10:37:31.666450",
     "exception": false,
     "start_time": "2023-04-09T10:37:29.510803",
     "status": "completed"
    },
    "tags": []
   },
   "outputs": [
    {
     "data": {
      "text/html": [
       "<div>\n",
       "<style scoped>\n",
       "    .dataframe tbody tr th:only-of-type {\n",
       "        vertical-align: middle;\n",
       "    }\n",
       "\n",
       "    .dataframe tbody tr th {\n",
       "        vertical-align: top;\n",
       "    }\n",
       "\n",
       "    .dataframe thead th {\n",
       "        text-align: right;\n",
       "    }\n",
       "</style>\n",
       "<table border=\"1\" class=\"dataframe\">\n",
       "  <thead>\n",
       "    <tr style=\"text-align: right;\">\n",
       "      <th></th>\n",
       "      <th>DistanceTo1thCluster</th>\n",
       "      <th>DistanceTo2thCluster</th>\n",
       "      <th>DistanceTo3thCluster</th>\n",
       "      <th>DistanceTo4thCluster</th>\n",
       "      <th>DistanceTo5thCluster</th>\n",
       "      <th>DistanceTo6thCluster</th>\n",
       "      <th>DistanceTo7thCluster</th>\n",
       "      <th>DistanceTo8thCluster</th>\n",
       "      <th>DistanceTo9thCluster</th>\n",
       "      <th>DistanceTo10thCluster</th>\n",
       "      <th>DistanceTo11thCluster</th>\n",
       "      <th>DistanceTo12thCluster</th>\n",
       "      <th>DistanceTo13thCluster</th>\n",
       "      <th>DistanceTo14thCluster</th>\n",
       "      <th>DistanceTo15thCluster</th>\n",
       "    </tr>\n",
       "  </thead>\n",
       "  <tbody>\n",
       "    <tr>\n",
       "      <th>0</th>\n",
       "      <td>0.439563</td>\n",
       "      <td>0.476647</td>\n",
       "      <td>0.525989</td>\n",
       "      <td>0.577732</td>\n",
       "      <td>0.448398</td>\n",
       "      <td>0.133566</td>\n",
       "      <td>0.454774</td>\n",
       "      <td>0.491698</td>\n",
       "      <td>0.384825</td>\n",
       "      <td>0.455664</td>\n",
       "      <td>0.528264</td>\n",
       "      <td>0.499950</td>\n",
       "      <td>0.543205</td>\n",
       "      <td>0.457611</td>\n",
       "      <td>0.427875</td>\n",
       "    </tr>\n",
       "    <tr>\n",
       "      <th>1</th>\n",
       "      <td>0.291927</td>\n",
       "      <td>0.341049</td>\n",
       "      <td>0.413877</td>\n",
       "      <td>0.332242</td>\n",
       "      <td>0.308124</td>\n",
       "      <td>0.270574</td>\n",
       "      <td>0.292754</td>\n",
       "      <td>0.363830</td>\n",
       "      <td>0.194770</td>\n",
       "      <td>0.321931</td>\n",
       "      <td>0.420314</td>\n",
       "      <td>0.374802</td>\n",
       "      <td>0.440154</td>\n",
       "      <td>0.307152</td>\n",
       "      <td>0.169212</td>\n",
       "    </tr>\n",
       "    <tr>\n",
       "      <th>2</th>\n",
       "      <td>0.306652</td>\n",
       "      <td>0.355077</td>\n",
       "      <td>0.427654</td>\n",
       "      <td>0.527312</td>\n",
       "      <td>0.326345</td>\n",
       "      <td>0.136852</td>\n",
       "      <td>0.334820</td>\n",
       "      <td>0.382879</td>\n",
       "      <td>0.206098</td>\n",
       "      <td>0.335009</td>\n",
       "      <td>0.439116</td>\n",
       "      <td>0.382722</td>\n",
       "      <td>0.471314</td>\n",
       "      <td>0.355046</td>\n",
       "      <td>0.327838</td>\n",
       "    </tr>\n",
       "    <tr>\n",
       "      <th>3</th>\n",
       "      <td>0.258363</td>\n",
       "      <td>0.316523</td>\n",
       "      <td>0.382000</td>\n",
       "      <td>0.486955</td>\n",
       "      <td>0.270908</td>\n",
       "      <td>0.240676</td>\n",
       "      <td>0.280283</td>\n",
       "      <td>0.313666</td>\n",
       "      <td>0.126942</td>\n",
       "      <td>0.304548</td>\n",
       "      <td>0.406651</td>\n",
       "      <td>0.348495</td>\n",
       "      <td>0.436034</td>\n",
       "      <td>0.317959</td>\n",
       "      <td>0.260532</td>\n",
       "    </tr>\n",
       "    <tr>\n",
       "      <th>4</th>\n",
       "      <td>0.177380</td>\n",
       "      <td>0.258599</td>\n",
       "      <td>0.343021</td>\n",
       "      <td>0.456168</td>\n",
       "      <td>0.194749</td>\n",
       "      <td>0.301233</td>\n",
       "      <td>0.238320</td>\n",
       "      <td>0.284530</td>\n",
       "      <td>0.065982</td>\n",
       "      <td>0.238080</td>\n",
       "      <td>0.398268</td>\n",
       "      <td>0.295108</td>\n",
       "      <td>0.396876</td>\n",
       "      <td>0.277128</td>\n",
       "      <td>0.219711</td>\n",
       "    </tr>\n",
       "  </tbody>\n",
       "</table>\n",
       "</div>"
      ],
      "text/plain": [
       "   DistanceTo1thCluster  DistanceTo2thCluster  DistanceTo3thCluster  \\\n",
       "0              0.439563              0.476647              0.525989   \n",
       "1              0.291927              0.341049              0.413877   \n",
       "2              0.306652              0.355077              0.427654   \n",
       "3              0.258363              0.316523              0.382000   \n",
       "4              0.177380              0.258599              0.343021   \n",
       "\n",
       "   DistanceTo4thCluster  DistanceTo5thCluster  DistanceTo6thCluster  \\\n",
       "0              0.577732              0.448398              0.133566   \n",
       "1              0.332242              0.308124              0.270574   \n",
       "2              0.527312              0.326345              0.136852   \n",
       "3              0.486955              0.270908              0.240676   \n",
       "4              0.456168              0.194749              0.301233   \n",
       "\n",
       "   DistanceTo7thCluster  DistanceTo8thCluster  DistanceTo9thCluster  \\\n",
       "0              0.454774              0.491698              0.384825   \n",
       "1              0.292754              0.363830              0.194770   \n",
       "2              0.334820              0.382879              0.206098   \n",
       "3              0.280283              0.313666              0.126942   \n",
       "4              0.238320              0.284530              0.065982   \n",
       "\n",
       "   DistanceTo10thCluster  DistanceTo11thCluster  DistanceTo12thCluster  \\\n",
       "0               0.455664               0.528264               0.499950   \n",
       "1               0.321931               0.420314               0.374802   \n",
       "2               0.335009               0.439116               0.382722   \n",
       "3               0.304548               0.406651               0.348495   \n",
       "4               0.238080               0.398268               0.295108   \n",
       "\n",
       "   DistanceTo13thCluster  DistanceTo14thCluster  DistanceTo15thCluster  \n",
       "0               0.543205               0.457611               0.427875  \n",
       "1               0.440154               0.307152               0.169212  \n",
       "2               0.471314               0.355046               0.327838  \n",
       "3               0.436034               0.317959               0.260532  \n",
       "4               0.396876               0.277128               0.219711  "
      ]
     },
     "execution_count": 58,
     "metadata": {},
     "output_type": "execute_result"
    }
   ],
   "source": [
    "# Разделим тексты постов на 15 кластеров, при помощи метода к-средних. И для каждого поста вычислим расстояние для каждого кластера.\n",
    "n_clusters = 15\n",
    "\n",
    "kmeans = KMeans(n_clusters=n_clusters, random_state=0).fit(pca_decomp)\n",
    "\n",
    "# Добавляем признак метка кластера, для каждого поста.\n",
    "posts_info_data['TextCluster'] = kmeans.labels_\n",
    "\n",
    "dists_columns = [f\"DistanceTo{ith}thCluster\" for ith in range(1, n_clusters + 1)]\n",
    "\n",
    "dists_df = pd.DataFrame(\n",
    "    data=kmeans.transform(pca_decomp),\n",
    "    columns=dists_columns\n",
    ")\n",
    "\n",
    "dists_df.head()"
   ]
  },
  {
   "cell_type": "code",
   "execution_count": 59,
   "id": "40fab81f",
   "metadata": {
    "execution": {
     "iopub.execute_input": "2023-04-09T10:37:31.772917Z",
     "iopub.status.busy": "2023-04-09T10:37:31.772487Z",
     "iopub.status.idle": "2023-04-09T10:37:31.802440Z",
     "shell.execute_reply": "2023-04-09T10:37:31.801236Z"
    },
    "papermill": {
     "duration": 0.085941,
     "end_time": "2023-04-09T10:37:31.805015",
     "exception": false,
     "start_time": "2023-04-09T10:37:31.719074",
     "status": "completed"
    },
    "tags": []
   },
   "outputs": [
    {
     "data": {
      "text/html": [
       "<div>\n",
       "<style scoped>\n",
       "    .dataframe tbody tr th:only-of-type {\n",
       "        vertical-align: middle;\n",
       "    }\n",
       "\n",
       "    .dataframe tbody tr th {\n",
       "        vertical-align: top;\n",
       "    }\n",
       "\n",
       "    .dataframe thead th {\n",
       "        text-align: right;\n",
       "    }\n",
       "</style>\n",
       "<table border=\"1\" class=\"dataframe\">\n",
       "  <thead>\n",
       "    <tr style=\"text-align: right;\">\n",
       "      <th></th>\n",
       "      <th>post_id</th>\n",
       "      <th>text</th>\n",
       "      <th>topic</th>\n",
       "      <th>TotalTfIdf</th>\n",
       "      <th>MaxTfIdf</th>\n",
       "      <th>MeanTfIdf</th>\n",
       "      <th>TextCluster</th>\n",
       "      <th>DistanceTo1thCluster</th>\n",
       "      <th>DistanceTo2thCluster</th>\n",
       "      <th>DistanceTo3thCluster</th>\n",
       "      <th>...</th>\n",
       "      <th>DistanceTo6thCluster</th>\n",
       "      <th>DistanceTo7thCluster</th>\n",
       "      <th>DistanceTo8thCluster</th>\n",
       "      <th>DistanceTo9thCluster</th>\n",
       "      <th>DistanceTo10thCluster</th>\n",
       "      <th>DistanceTo11thCluster</th>\n",
       "      <th>DistanceTo12thCluster</th>\n",
       "      <th>DistanceTo13thCluster</th>\n",
       "      <th>DistanceTo14thCluster</th>\n",
       "      <th>DistanceTo15thCluster</th>\n",
       "    </tr>\n",
       "  </thead>\n",
       "  <tbody>\n",
       "    <tr>\n",
       "      <th>0</th>\n",
       "      <td>1</td>\n",
       "      <td>UK economy facing major risks\\n\\nThe UK manufa...</td>\n",
       "      <td>business</td>\n",
       "      <td>8.796359</td>\n",
       "      <td>0.494083</td>\n",
       "      <td>0.000189</td>\n",
       "      <td>5</td>\n",
       "      <td>0.439563</td>\n",
       "      <td>0.476647</td>\n",
       "      <td>0.525989</td>\n",
       "      <td>...</td>\n",
       "      <td>0.133566</td>\n",
       "      <td>0.454774</td>\n",
       "      <td>0.491698</td>\n",
       "      <td>0.384825</td>\n",
       "      <td>0.455664</td>\n",
       "      <td>0.528264</td>\n",
       "      <td>0.499950</td>\n",
       "      <td>0.543205</td>\n",
       "      <td>0.457611</td>\n",
       "      <td>0.427875</td>\n",
       "    </tr>\n",
       "    <tr>\n",
       "      <th>1</th>\n",
       "      <td>2</td>\n",
       "      <td>Aids and climate top Davos agenda\\n\\nClimate c...</td>\n",
       "      <td>business</td>\n",
       "      <td>11.909230</td>\n",
       "      <td>0.308132</td>\n",
       "      <td>0.000256</td>\n",
       "      <td>14</td>\n",
       "      <td>0.291927</td>\n",
       "      <td>0.341049</td>\n",
       "      <td>0.413877</td>\n",
       "      <td>...</td>\n",
       "      <td>0.270574</td>\n",
       "      <td>0.292754</td>\n",
       "      <td>0.363830</td>\n",
       "      <td>0.194770</td>\n",
       "      <td>0.321931</td>\n",
       "      <td>0.420314</td>\n",
       "      <td>0.374802</td>\n",
       "      <td>0.440154</td>\n",
       "      <td>0.307152</td>\n",
       "      <td>0.169212</td>\n",
       "    </tr>\n",
       "    <tr>\n",
       "      <th>2</th>\n",
       "      <td>3</td>\n",
       "      <td>Asian quake hits European shares\\n\\nShares in ...</td>\n",
       "      <td>business</td>\n",
       "      <td>12.935175</td>\n",
       "      <td>0.200614</td>\n",
       "      <td>0.000278</td>\n",
       "      <td>5</td>\n",
       "      <td>0.306652</td>\n",
       "      <td>0.355077</td>\n",
       "      <td>0.427654</td>\n",
       "      <td>...</td>\n",
       "      <td>0.136852</td>\n",
       "      <td>0.334820</td>\n",
       "      <td>0.382879</td>\n",
       "      <td>0.206098</td>\n",
       "      <td>0.335009</td>\n",
       "      <td>0.439116</td>\n",
       "      <td>0.382722</td>\n",
       "      <td>0.471314</td>\n",
       "      <td>0.355046</td>\n",
       "      <td>0.327838</td>\n",
       "    </tr>\n",
       "    <tr>\n",
       "      <th>3</th>\n",
       "      <td>4</td>\n",
       "      <td>India power shares jump on debut\\n\\nShares in ...</td>\n",
       "      <td>business</td>\n",
       "      <td>6.714893</td>\n",
       "      <td>0.542900</td>\n",
       "      <td>0.000144</td>\n",
       "      <td>8</td>\n",
       "      <td>0.258363</td>\n",
       "      <td>0.316523</td>\n",
       "      <td>0.382000</td>\n",
       "      <td>...</td>\n",
       "      <td>0.240676</td>\n",
       "      <td>0.280283</td>\n",
       "      <td>0.313666</td>\n",
       "      <td>0.126942</td>\n",
       "      <td>0.304548</td>\n",
       "      <td>0.406651</td>\n",
       "      <td>0.348495</td>\n",
       "      <td>0.436034</td>\n",
       "      <td>0.317959</td>\n",
       "      <td>0.260532</td>\n",
       "    </tr>\n",
       "    <tr>\n",
       "      <th>4</th>\n",
       "      <td>5</td>\n",
       "      <td>Lacroix label bought by US firm\\n\\nLuxury good...</td>\n",
       "      <td>business</td>\n",
       "      <td>6.352120</td>\n",
       "      <td>0.420250</td>\n",
       "      <td>0.000137</td>\n",
       "      <td>8</td>\n",
       "      <td>0.177380</td>\n",
       "      <td>0.258599</td>\n",
       "      <td>0.343021</td>\n",
       "      <td>...</td>\n",
       "      <td>0.301233</td>\n",
       "      <td>0.238320</td>\n",
       "      <td>0.284530</td>\n",
       "      <td>0.065982</td>\n",
       "      <td>0.238080</td>\n",
       "      <td>0.398268</td>\n",
       "      <td>0.295108</td>\n",
       "      <td>0.396876</td>\n",
       "      <td>0.277128</td>\n",
       "      <td>0.219711</td>\n",
       "    </tr>\n",
       "  </tbody>\n",
       "</table>\n",
       "<p>5 rows × 22 columns</p>\n",
       "</div>"
      ],
      "text/plain": [
       "   post_id                                               text     topic  \\\n",
       "0        1  UK economy facing major risks\\n\\nThe UK manufa...  business   \n",
       "1        2  Aids and climate top Davos agenda\\n\\nClimate c...  business   \n",
       "2        3  Asian quake hits European shares\\n\\nShares in ...  business   \n",
       "3        4  India power shares jump on debut\\n\\nShares in ...  business   \n",
       "4        5  Lacroix label bought by US firm\\n\\nLuxury good...  business   \n",
       "\n",
       "   TotalTfIdf  MaxTfIdf  MeanTfIdf  TextCluster  DistanceTo1thCluster  \\\n",
       "0    8.796359  0.494083   0.000189            5              0.439563   \n",
       "1   11.909230  0.308132   0.000256           14              0.291927   \n",
       "2   12.935175  0.200614   0.000278            5              0.306652   \n",
       "3    6.714893  0.542900   0.000144            8              0.258363   \n",
       "4    6.352120  0.420250   0.000137            8              0.177380   \n",
       "\n",
       "   DistanceTo2thCluster  DistanceTo3thCluster  ...  DistanceTo6thCluster  \\\n",
       "0              0.476647              0.525989  ...              0.133566   \n",
       "1              0.341049              0.413877  ...              0.270574   \n",
       "2              0.355077              0.427654  ...              0.136852   \n",
       "3              0.316523              0.382000  ...              0.240676   \n",
       "4              0.258599              0.343021  ...              0.301233   \n",
       "\n",
       "   DistanceTo7thCluster  DistanceTo8thCluster  DistanceTo9thCluster  \\\n",
       "0              0.454774              0.491698              0.384825   \n",
       "1              0.292754              0.363830              0.194770   \n",
       "2              0.334820              0.382879              0.206098   \n",
       "3              0.280283              0.313666              0.126942   \n",
       "4              0.238320              0.284530              0.065982   \n",
       "\n",
       "   DistanceTo10thCluster  DistanceTo11thCluster  DistanceTo12thCluster  \\\n",
       "0               0.455664               0.528264               0.499950   \n",
       "1               0.321931               0.420314               0.374802   \n",
       "2               0.335009               0.439116               0.382722   \n",
       "3               0.304548               0.406651               0.348495   \n",
       "4               0.238080               0.398268               0.295108   \n",
       "\n",
       "   DistanceTo13thCluster  DistanceTo14thCluster  DistanceTo15thCluster  \n",
       "0               0.543205               0.457611               0.427875  \n",
       "1               0.440154               0.307152               0.169212  \n",
       "2               0.471314               0.355046               0.327838  \n",
       "3               0.436034               0.317959               0.260532  \n",
       "4               0.396876               0.277128               0.219711  \n",
       "\n",
       "[5 rows x 22 columns]"
      ]
     },
     "execution_count": 59,
     "metadata": {},
     "output_type": "execute_result"
    }
   ],
   "source": [
    "# Объединим все признаки постов.\n",
    "posts_info_data = pd.concat((posts_info_data,dists_df), axis=1)\n",
    "posts_info_data.head()"
   ]
  },
  {
   "cell_type": "code",
   "execution_count": 60,
   "id": "0a694eaa",
   "metadata": {
    "execution": {
     "iopub.execute_input": "2023-04-09T10:37:31.860067Z",
     "iopub.status.busy": "2023-04-09T10:37:31.859173Z",
     "iopub.status.idle": "2023-04-09T10:37:46.755763Z",
     "shell.execute_reply": "2023-04-09T10:37:46.754251Z"
    },
    "papermill": {
     "duration": 14.929425,
     "end_time": "2023-04-09T10:37:46.760803",
     "exception": false,
     "start_time": "2023-04-09T10:37:31.831378",
     "status": "completed"
    },
    "tags": []
   },
   "outputs": [],
   "source": [
    "# Запишем признаки постов в таблицу БД.\n",
    "posts_info_data.to_sql('pavel55645_posts_info_lesson_22', con=engine, if_exists='replace')"
   ]
  },
  {
   "cell_type": "markdown",
   "id": "99b87e1c",
   "metadata": {
    "execution": {
     "iopub.execute_input": "2023-04-09T09:15:19.673013Z",
     "iopub.status.busy": "2023-04-09T09:15:19.672455Z",
     "iopub.status.idle": "2023-04-09T09:15:19.680305Z",
     "shell.execute_reply": "2023-04-09T09:15:19.678956Z",
     "shell.execute_reply.started": "2023-04-09T09:15:19.672964Z"
    },
    "papermill": {
     "duration": 0.026903,
     "end_time": "2023-04-09T10:37:46.817103",
     "exception": false,
     "start_time": "2023-04-09T10:37:46.790200",
     "status": "completed"
    },
    "tags": []
   },
   "source": [
    "В итоге имеем выгрузку данных с таблицы feed_data и таблицы с признаками пользователей и постов, можно обучать модели."
   ]
  }
 ],
 "metadata": {
  "kernelspec": {
   "display_name": "Python 3",
   "language": "python",
   "name": "python3"
  },
  "language_info": {
   "codemirror_mode": {
    "name": "ipython",
    "version": 3
   },
   "file_extension": ".py",
   "mimetype": "text/x-python",
   "name": "python",
   "nbconvert_exporter": "python",
   "pygments_lexer": "ipython3",
   "version": "3.7.12"
  },
  "papermill": {
   "default_parameters": {},
   "duration": 472.681857,
   "end_time": "2023-04-09T10:37:48.271573",
   "environment_variables": {},
   "exception": null,
   "input_path": "__notebook__.ipynb",
   "output_path": "__notebook__.ipynb",
   "parameters": {},
   "start_time": "2023-04-09T10:29:55.589716",
   "version": "2.4.0"
  }
 },
 "nbformat": 4,
 "nbformat_minor": 5
}
