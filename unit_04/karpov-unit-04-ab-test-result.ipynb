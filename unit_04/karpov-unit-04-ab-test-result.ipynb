{
 "cells": [
  {
   "cell_type": "markdown",
   "id": "5f8355e1",
   "metadata": {
    "papermill": {
     "duration": 0.017159,
     "end_time": "2023-04-23T12:47:49.240637",
     "exception": false,
     "start_time": "2023-04-23T12:47:49.223478",
     "status": "completed"
    },
    "tags": []
   },
   "source": [
    "# Обработка результатов A/B эксперимента по рекомендации постов пользователям."
   ]
  },
  {
   "cell_type": "markdown",
   "id": "168a94c2",
   "metadata": {
    "papermill": {
     "duration": 0.015347,
     "end_time": "2023-04-23T12:47:49.271873",
     "exception": false,
     "start_time": "2023-04-23T12:47:49.256526",
     "status": "completed"
    },
    "tags": []
   },
   "source": [
    "Ранее был написан код для экспериментирования с двумя моделями в нашем сервисе. Этот код вместе с рекомендациями возвращает группу, в которую попал пользователь.  \n",
    "Представим, что мы проводили этот эксперимент на пользователях в течение 2 недель. В результаты мы получили сырые данные об эксперименте, которые будут обработаны этой работе.  \n",
    "__Таблица likes__ - данные о лайках пользователей.  \n",
    "__Таблица views__ - данные о просмотрах пользователей.  "
   ]
  },
  {
   "cell_type": "code",
   "execution_count": 1,
   "id": "42ff444e",
   "metadata": {
    "execution": {
     "iopub.execute_input": "2023-04-23T12:47:49.306640Z",
     "iopub.status.busy": "2023-04-23T12:47:49.306228Z",
     "iopub.status.idle": "2023-04-23T12:47:50.574912Z",
     "shell.execute_reply": "2023-04-23T12:47:50.573002Z"
    },
    "papermill": {
     "duration": 1.290055,
     "end_time": "2023-04-23T12:47:50.579140",
     "exception": false,
     "start_time": "2023-04-23T12:47:49.289085",
     "status": "completed"
    },
    "tags": []
   },
   "outputs": [],
   "source": [
    "import pandas as pd\n",
    "import numpy as np\n",
    "import seaborn as sns\n",
    "import matplotlib.pyplot as plt\n",
    "from statsmodels.stats.proportion import proportion_confint\n",
    "from scipy.stats import binomtest\n",
    "from scipy.stats import mannwhitneyu\n",
    "import hashlib"
   ]
  },
  {
   "cell_type": "code",
   "execution_count": 2,
   "id": "267148e7",
   "metadata": {
    "execution": {
     "iopub.execute_input": "2023-04-23T12:47:50.614934Z",
     "iopub.status.busy": "2023-04-23T12:47:50.613879Z",
     "iopub.status.idle": "2023-04-23T12:47:51.285397Z",
     "shell.execute_reply": "2023-04-23T12:47:51.284412Z"
    },
    "papermill": {
     "duration": 0.691779,
     "end_time": "2023-04-23T12:47:51.288034",
     "exception": false,
     "start_time": "2023-04-23T12:47:50.596255",
     "status": "completed"
    },
    "tags": []
   },
   "outputs": [],
   "source": [
    "likes = pd.read_csv(r'/kaggle/input/karpov-ab-test-result/likes.csv')\n",
    "views = pd.read_csv(r'/kaggle/input/karpov-ab-test-result/views.csv')"
   ]
  },
  {
   "cell_type": "code",
   "execution_count": 3,
   "id": "1d3678ab",
   "metadata": {
    "execution": {
     "iopub.execute_input": "2023-04-23T12:47:51.321582Z",
     "iopub.status.busy": "2023-04-23T12:47:51.321145Z",
     "iopub.status.idle": "2023-04-23T12:47:51.348576Z",
     "shell.execute_reply": "2023-04-23T12:47:51.347299Z"
    },
    "papermill": {
     "duration": 0.048116,
     "end_time": "2023-04-23T12:47:51.352002",
     "exception": false,
     "start_time": "2023-04-23T12:47:51.303886",
     "status": "completed"
    },
    "tags": []
   },
   "outputs": [
    {
     "data": {
      "text/html": [
       "<div>\n",
       "<style scoped>\n",
       "    .dataframe tbody tr th:only-of-type {\n",
       "        vertical-align: middle;\n",
       "    }\n",
       "\n",
       "    .dataframe tbody tr th {\n",
       "        vertical-align: top;\n",
       "    }\n",
       "\n",
       "    .dataframe thead th {\n",
       "        text-align: right;\n",
       "    }\n",
       "</style>\n",
       "<table border=\"1\" class=\"dataframe\">\n",
       "  <thead>\n",
       "    <tr style=\"text-align: right;\">\n",
       "      <th></th>\n",
       "      <th>user_id</th>\n",
       "      <th>post_id</th>\n",
       "      <th>timestamp</th>\n",
       "    </tr>\n",
       "  </thead>\n",
       "  <tbody>\n",
       "    <tr>\n",
       "      <th>0</th>\n",
       "      <td>128381</td>\n",
       "      <td>4704</td>\n",
       "      <td>1654030804</td>\n",
       "    </tr>\n",
       "    <tr>\n",
       "      <th>1</th>\n",
       "      <td>146885</td>\n",
       "      <td>1399</td>\n",
       "      <td>1654030816</td>\n",
       "    </tr>\n",
       "    <tr>\n",
       "      <th>2</th>\n",
       "      <td>50948</td>\n",
       "      <td>2315</td>\n",
       "      <td>1654030828</td>\n",
       "    </tr>\n",
       "    <tr>\n",
       "      <th>3</th>\n",
       "      <td>14661</td>\n",
       "      <td>673</td>\n",
       "      <td>1654030831</td>\n",
       "    </tr>\n",
       "    <tr>\n",
       "      <th>4</th>\n",
       "      <td>37703</td>\n",
       "      <td>1588</td>\n",
       "      <td>1654030833</td>\n",
       "    </tr>\n",
       "  </tbody>\n",
       "</table>\n",
       "</div>"
      ],
      "text/plain": [
       "   user_id  post_id   timestamp\n",
       "0   128381     4704  1654030804\n",
       "1   146885     1399  1654030816\n",
       "2    50948     2315  1654030828\n",
       "3    14661      673  1654030831\n",
       "4    37703     1588  1654030833"
      ]
     },
     "execution_count": 3,
     "metadata": {},
     "output_type": "execute_result"
    }
   ],
   "source": [
    "likes.head()"
   ]
  },
  {
   "cell_type": "code",
   "execution_count": 4,
   "id": "0795bae9",
   "metadata": {
    "execution": {
     "iopub.execute_input": "2023-04-23T12:47:51.386389Z",
     "iopub.status.busy": "2023-04-23T12:47:51.385993Z",
     "iopub.status.idle": "2023-04-23T12:47:51.397240Z",
     "shell.execute_reply": "2023-04-23T12:47:51.396110Z"
    },
    "papermill": {
     "duration": 0.031593,
     "end_time": "2023-04-23T12:47:51.399620",
     "exception": false,
     "start_time": "2023-04-23T12:47:51.368027",
     "status": "completed"
    },
    "tags": []
   },
   "outputs": [
    {
     "data": {
      "text/html": [
       "<div>\n",
       "<style scoped>\n",
       "    .dataframe tbody tr th:only-of-type {\n",
       "        vertical-align: middle;\n",
       "    }\n",
       "\n",
       "    .dataframe tbody tr th {\n",
       "        vertical-align: top;\n",
       "    }\n",
       "\n",
       "    .dataframe thead th {\n",
       "        text-align: right;\n",
       "    }\n",
       "</style>\n",
       "<table border=\"1\" class=\"dataframe\">\n",
       "  <thead>\n",
       "    <tr style=\"text-align: right;\">\n",
       "      <th></th>\n",
       "      <th>user_id</th>\n",
       "      <th>exp_group</th>\n",
       "      <th>recommendations</th>\n",
       "      <th>timestamp</th>\n",
       "    </tr>\n",
       "  </thead>\n",
       "  <tbody>\n",
       "    <tr>\n",
       "      <th>0</th>\n",
       "      <td>128381</td>\n",
       "      <td>control</td>\n",
       "      <td>[3644 4529 4704 5294 4808]</td>\n",
       "      <td>1654030803</td>\n",
       "    </tr>\n",
       "    <tr>\n",
       "      <th>1</th>\n",
       "      <td>146885</td>\n",
       "      <td>test</td>\n",
       "      <td>[1399 1076  797 7015 5942]</td>\n",
       "      <td>1654030811</td>\n",
       "    </tr>\n",
       "    <tr>\n",
       "      <th>2</th>\n",
       "      <td>50948</td>\n",
       "      <td>test</td>\n",
       "      <td>[2315 3037 1861 6567 4093]</td>\n",
       "      <td>1654030825</td>\n",
       "    </tr>\n",
       "    <tr>\n",
       "      <th>3</th>\n",
       "      <td>37703</td>\n",
       "      <td>test</td>\n",
       "      <td>[2842 1949  162 1588 6794]</td>\n",
       "      <td>1654030826</td>\n",
       "    </tr>\n",
       "    <tr>\n",
       "      <th>4</th>\n",
       "      <td>14661</td>\n",
       "      <td>test</td>\n",
       "      <td>[2395 5881 5648 3417  673]</td>\n",
       "      <td>1654030829</td>\n",
       "    </tr>\n",
       "  </tbody>\n",
       "</table>\n",
       "</div>"
      ],
      "text/plain": [
       "   user_id exp_group             recommendations   timestamp\n",
       "0   128381   control  [3644 4529 4704 5294 4808]  1654030803\n",
       "1   146885      test  [1399 1076  797 7015 5942]  1654030811\n",
       "2    50948      test  [2315 3037 1861 6567 4093]  1654030825\n",
       "3    37703      test  [2842 1949  162 1588 6794]  1654030826\n",
       "4    14661      test  [2395 5881 5648 3417  673]  1654030829"
      ]
     },
     "execution_count": 4,
     "metadata": {},
     "output_type": "execute_result"
    }
   ],
   "source": [
    "views.head()"
   ]
  },
  {
   "cell_type": "code",
   "execution_count": 5,
   "id": "60f95e71",
   "metadata": {
    "execution": {
     "iopub.execute_input": "2023-04-23T12:47:51.433650Z",
     "iopub.status.busy": "2023-04-23T12:47:51.433235Z",
     "iopub.status.idle": "2023-04-23T12:47:51.458234Z",
     "shell.execute_reply": "2023-04-23T12:47:51.456908Z"
    },
    "papermill": {
     "duration": 0.044917,
     "end_time": "2023-04-23T12:47:51.460590",
     "exception": false,
     "start_time": "2023-04-23T12:47:51.415673",
     "status": "completed"
    },
    "tags": []
   },
   "outputs": [
    {
     "data": {
      "text/plain": [
       "test       96917\n",
       "control    96378\n",
       "Name: exp_group, dtype: int64"
      ]
     },
     "execution_count": 5,
     "metadata": {},
     "output_type": "execute_result"
    }
   ],
   "source": [
    "views.exp_group.value_counts()"
   ]
  },
  {
   "cell_type": "markdown",
   "id": "16c6c61a",
   "metadata": {
    "execution": {
     "iopub.execute_input": "2023-04-19T08:00:51.011942Z",
     "iopub.status.busy": "2023-04-19T08:00:51.011526Z",
     "iopub.status.idle": "2023-04-19T08:00:51.021437Z",
     "shell.execute_reply": "2023-04-19T08:00:51.019239Z",
     "shell.execute_reply.started": "2023-04-19T08:00:51.011907Z"
    },
    "papermill": {
     "duration": 0.015735,
     "end_time": "2023-04-23T12:47:51.492586",
     "exception": false,
     "start_time": "2023-04-23T12:47:51.476851",
     "status": "completed"
    },
    "tags": []
   },
   "source": [
    "В обоих группах, примерно одинаковое число просмотров постов. Проверим, нет ли у нас пользователей, которые попали в обе группы. Если их совсем немного, то удалим их из обеих выборок."
   ]
  },
  {
   "cell_type": "code",
   "execution_count": 6,
   "id": "e0f961b9",
   "metadata": {
    "execution": {
     "iopub.execute_input": "2023-04-23T12:47:51.527459Z",
     "iopub.status.busy": "2023-04-23T12:47:51.526520Z",
     "iopub.status.idle": "2023-04-23T12:47:51.596293Z",
     "shell.execute_reply": "2023-04-23T12:47:51.595152Z"
    },
    "papermill": {
     "duration": 0.089953,
     "end_time": "2023-04-23T12:47:51.598956",
     "exception": false,
     "start_time": "2023-04-23T12:47:51.509003",
     "status": "completed"
    },
    "tags": []
   },
   "outputs": [],
   "source": [
    "control = set(views[views.exp_group == 'control']['user_id'].unique())\n",
    "test = set(views[views.exp_group == 'test']['user_id'].unique())\n",
    "control_test = control.intersection(test)"
   ]
  },
  {
   "cell_type": "markdown",
   "id": "a99f3468",
   "metadata": {
    "papermill": {
     "duration": 0.016087,
     "end_time": "2023-04-23T12:47:51.632977",
     "exception": false,
     "start_time": "2023-04-23T12:47:51.616890",
     "status": "completed"
    },
    "tags": []
   },
   "source": [
    "Просмотры пользователей, которые попали в обе группы control и test."
   ]
  },
  {
   "cell_type": "code",
   "execution_count": 7,
   "id": "0443eb08",
   "metadata": {
    "execution": {
     "iopub.execute_input": "2023-04-23T12:47:51.667340Z",
     "iopub.status.busy": "2023-04-23T12:47:51.666888Z",
     "iopub.status.idle": "2023-04-23T12:47:51.687726Z",
     "shell.execute_reply": "2023-04-23T12:47:51.686784Z"
    },
    "papermill": {
     "duration": 0.040752,
     "end_time": "2023-04-23T12:47:51.690006",
     "exception": false,
     "start_time": "2023-04-23T12:47:51.649254",
     "status": "completed"
    },
    "tags": []
   },
   "outputs": [
    {
     "data": {
      "text/html": [
       "<div>\n",
       "<style scoped>\n",
       "    .dataframe tbody tr th:only-of-type {\n",
       "        vertical-align: middle;\n",
       "    }\n",
       "\n",
       "    .dataframe tbody tr th {\n",
       "        vertical-align: top;\n",
       "    }\n",
       "\n",
       "    .dataframe thead th {\n",
       "        text-align: right;\n",
       "    }\n",
       "</style>\n",
       "<table border=\"1\" class=\"dataframe\">\n",
       "  <thead>\n",
       "    <tr style=\"text-align: right;\">\n",
       "      <th></th>\n",
       "      <th>user_id</th>\n",
       "      <th>exp_group</th>\n",
       "      <th>recommendations</th>\n",
       "      <th>timestamp</th>\n",
       "    </tr>\n",
       "  </thead>\n",
       "  <tbody>\n",
       "    <tr>\n",
       "      <th>1311</th>\n",
       "      <td>148670</td>\n",
       "      <td>test</td>\n",
       "      <td>[2992 1368 1261 3901 4471]</td>\n",
       "      <td>1654039282</td>\n",
       "    </tr>\n",
       "    <tr>\n",
       "      <th>6179</th>\n",
       "      <td>142283</td>\n",
       "      <td>control</td>\n",
       "      <td>[1109  101 5288 4941  132]</td>\n",
       "      <td>1654069529</td>\n",
       "    </tr>\n",
       "    <tr>\n",
       "      <th>29724</th>\n",
       "      <td>148670</td>\n",
       "      <td>test</td>\n",
       "      <td>[5053 1563 7194  633 1392]</td>\n",
       "      <td>1654217190</td>\n",
       "    </tr>\n",
       "    <tr>\n",
       "      <th>30748</th>\n",
       "      <td>148670</td>\n",
       "      <td>test</td>\n",
       "      <td>[7128 1023 1388 6807 5945]</td>\n",
       "      <td>1654223589</td>\n",
       "    </tr>\n",
       "    <tr>\n",
       "      <th>39653</th>\n",
       "      <td>55788</td>\n",
       "      <td>test</td>\n",
       "      <td>[3747 6638 5214 2801 5740]</td>\n",
       "      <td>1654279384</td>\n",
       "    </tr>\n",
       "    <tr>\n",
       "      <th>39787</th>\n",
       "      <td>25623</td>\n",
       "      <td>test</td>\n",
       "      <td>[1529 6456 1549 4870 4651]</td>\n",
       "      <td>1654280154</td>\n",
       "    </tr>\n",
       "    <tr>\n",
       "      <th>41040</th>\n",
       "      <td>148670</td>\n",
       "      <td>test</td>\n",
       "      <td>[1866  622 4374 3756 5424]</td>\n",
       "      <td>1654288069</td>\n",
       "    </tr>\n",
       "    <tr>\n",
       "      <th>45925</th>\n",
       "      <td>142283</td>\n",
       "      <td>control</td>\n",
       "      <td>[4181 3410  751 1880 1682]</td>\n",
       "      <td>1654318631</td>\n",
       "    </tr>\n",
       "    <tr>\n",
       "      <th>46348</th>\n",
       "      <td>142283</td>\n",
       "      <td>test</td>\n",
       "      <td>[6484  611  395 5678 7295]</td>\n",
       "      <td>1654321430</td>\n",
       "    </tr>\n",
       "    <tr>\n",
       "      <th>82515</th>\n",
       "      <td>55788</td>\n",
       "      <td>control</td>\n",
       "      <td>[4970 2990 4592 6611 5483]</td>\n",
       "      <td>1654545938</td>\n",
       "    </tr>\n",
       "    <tr>\n",
       "      <th>87340</th>\n",
       "      <td>25623</td>\n",
       "      <td>test</td>\n",
       "      <td>[3775 3680  627 1800 1020]</td>\n",
       "      <td>1654576014</td>\n",
       "    </tr>\n",
       "    <tr>\n",
       "      <th>100158</th>\n",
       "      <td>148670</td>\n",
       "      <td>test</td>\n",
       "      <td>[1280 1665  878 1134 1820]</td>\n",
       "      <td>1654656225</td>\n",
       "    </tr>\n",
       "    <tr>\n",
       "      <th>100929</th>\n",
       "      <td>142283</td>\n",
       "      <td>control</td>\n",
       "      <td>[5603 4388 1450 6309  545]</td>\n",
       "      <td>1654661140</td>\n",
       "    </tr>\n",
       "    <tr>\n",
       "      <th>102601</th>\n",
       "      <td>148670</td>\n",
       "      <td>test</td>\n",
       "      <td>[2441 6189 3291 6900 5053]</td>\n",
       "      <td>1654671597</td>\n",
       "    </tr>\n",
       "    <tr>\n",
       "      <th>117468</th>\n",
       "      <td>55788</td>\n",
       "      <td>test</td>\n",
       "      <td>[1174 4769 1487 5370  894]</td>\n",
       "      <td>1654764129</td>\n",
       "    </tr>\n",
       "    <tr>\n",
       "      <th>121023</th>\n",
       "      <td>148670</td>\n",
       "      <td>test</td>\n",
       "      <td>[3368 1422 6188 1596 2961]</td>\n",
       "      <td>1654786924</td>\n",
       "    </tr>\n",
       "    <tr>\n",
       "      <th>124435</th>\n",
       "      <td>148670</td>\n",
       "      <td>test</td>\n",
       "      <td>[4300 1768 5846 1520 2736]</td>\n",
       "      <td>1654808298</td>\n",
       "    </tr>\n",
       "    <tr>\n",
       "      <th>129374</th>\n",
       "      <td>142283</td>\n",
       "      <td>control</td>\n",
       "      <td>[3556  763 3832 1128  163]</td>\n",
       "      <td>1654838897</td>\n",
       "    </tr>\n",
       "    <tr>\n",
       "      <th>133592</th>\n",
       "      <td>25623</td>\n",
       "      <td>test</td>\n",
       "      <td>[7042 5439 7185 3703 7128]</td>\n",
       "      <td>1654864699</td>\n",
       "    </tr>\n",
       "    <tr>\n",
       "      <th>145119</th>\n",
       "      <td>25623</td>\n",
       "      <td>control</td>\n",
       "      <td>[3101 2130 3378  998 6071]</td>\n",
       "      <td>1654936834</td>\n",
       "    </tr>\n",
       "    <tr>\n",
       "      <th>155144</th>\n",
       "      <td>148670</td>\n",
       "      <td>test</td>\n",
       "      <td>[2905  117 5442 7069 3009]</td>\n",
       "      <td>1654999980</td>\n",
       "    </tr>\n",
       "    <tr>\n",
       "      <th>158581</th>\n",
       "      <td>148670</td>\n",
       "      <td>test</td>\n",
       "      <td>[2449 1671 3132 2767 5652]</td>\n",
       "      <td>1655021443</td>\n",
       "    </tr>\n",
       "    <tr>\n",
       "      <th>158674</th>\n",
       "      <td>25623</td>\n",
       "      <td>test</td>\n",
       "      <td>[3106 2705  962 4876 6378]</td>\n",
       "      <td>1655021971</td>\n",
       "    </tr>\n",
       "    <tr>\n",
       "      <th>163129</th>\n",
       "      <td>142283</td>\n",
       "      <td>control</td>\n",
       "      <td>[ 810  993 1744 7281   87]</td>\n",
       "      <td>1655050520</td>\n",
       "    </tr>\n",
       "    <tr>\n",
       "      <th>168931</th>\n",
       "      <td>148670</td>\n",
       "      <td>test</td>\n",
       "      <td>[ 606 4533  328 6133 4954]</td>\n",
       "      <td>1655087470</td>\n",
       "    </tr>\n",
       "    <tr>\n",
       "      <th>177552</th>\n",
       "      <td>148670</td>\n",
       "      <td>control</td>\n",
       "      <td>[1476  700 6716  684 5242]</td>\n",
       "      <td>1655141736</td>\n",
       "    </tr>\n",
       "    <tr>\n",
       "      <th>178457</th>\n",
       "      <td>55788</td>\n",
       "      <td>test</td>\n",
       "      <td>[2669 3922 4123 6220 3425]</td>\n",
       "      <td>1655147577</td>\n",
       "    </tr>\n",
       "  </tbody>\n",
       "</table>\n",
       "</div>"
      ],
      "text/plain": [
       "        user_id exp_group             recommendations   timestamp\n",
       "1311     148670      test  [2992 1368 1261 3901 4471]  1654039282\n",
       "6179     142283   control  [1109  101 5288 4941  132]  1654069529\n",
       "29724    148670      test  [5053 1563 7194  633 1392]  1654217190\n",
       "30748    148670      test  [7128 1023 1388 6807 5945]  1654223589\n",
       "39653     55788      test  [3747 6638 5214 2801 5740]  1654279384\n",
       "39787     25623      test  [1529 6456 1549 4870 4651]  1654280154\n",
       "41040    148670      test  [1866  622 4374 3756 5424]  1654288069\n",
       "45925    142283   control  [4181 3410  751 1880 1682]  1654318631\n",
       "46348    142283      test  [6484  611  395 5678 7295]  1654321430\n",
       "82515     55788   control  [4970 2990 4592 6611 5483]  1654545938\n",
       "87340     25623      test  [3775 3680  627 1800 1020]  1654576014\n",
       "100158   148670      test  [1280 1665  878 1134 1820]  1654656225\n",
       "100929   142283   control  [5603 4388 1450 6309  545]  1654661140\n",
       "102601   148670      test  [2441 6189 3291 6900 5053]  1654671597\n",
       "117468    55788      test  [1174 4769 1487 5370  894]  1654764129\n",
       "121023   148670      test  [3368 1422 6188 1596 2961]  1654786924\n",
       "124435   148670      test  [4300 1768 5846 1520 2736]  1654808298\n",
       "129374   142283   control  [3556  763 3832 1128  163]  1654838897\n",
       "133592    25623      test  [7042 5439 7185 3703 7128]  1654864699\n",
       "145119    25623   control  [3101 2130 3378  998 6071]  1654936834\n",
       "155144   148670      test  [2905  117 5442 7069 3009]  1654999980\n",
       "158581   148670      test  [2449 1671 3132 2767 5652]  1655021443\n",
       "158674    25623      test  [3106 2705  962 4876 6378]  1655021971\n",
       "163129   142283   control  [ 810  993 1744 7281   87]  1655050520\n",
       "168931   148670      test  [ 606 4533  328 6133 4954]  1655087470\n",
       "177552   148670   control  [1476  700 6716  684 5242]  1655141736\n",
       "178457    55788      test  [2669 3922 4123 6220 3425]  1655147577"
      ]
     },
     "execution_count": 7,
     "metadata": {},
     "output_type": "execute_result"
    }
   ],
   "source": [
    "views[views.user_id.isin(control_test)]"
   ]
  },
  {
   "cell_type": "markdown",
   "id": "f8f8ac7a",
   "metadata": {
    "papermill": {
     "duration": 0.016154,
     "end_time": "2023-04-23T12:47:51.723180",
     "exception": false,
     "start_time": "2023-04-23T12:47:51.707026",
     "status": "completed"
    },
    "tags": []
   },
   "source": [
    "Лайки сделанные этими пользователями."
   ]
  },
  {
   "cell_type": "code",
   "execution_count": 8,
   "id": "650a12a0",
   "metadata": {
    "execution": {
     "iopub.execute_input": "2023-04-23T12:47:51.758297Z",
     "iopub.status.busy": "2023-04-23T12:47:51.757914Z",
     "iopub.status.idle": "2023-04-23T12:47:51.775799Z",
     "shell.execute_reply": "2023-04-23T12:47:51.774606Z"
    },
    "papermill": {
     "duration": 0.038889,
     "end_time": "2023-04-23T12:47:51.778655",
     "exception": false,
     "start_time": "2023-04-23T12:47:51.739766",
     "status": "completed"
    },
    "tags": []
   },
   "outputs": [
    {
     "data": {
      "text/html": [
       "<div>\n",
       "<style scoped>\n",
       "    .dataframe tbody tr th:only-of-type {\n",
       "        vertical-align: middle;\n",
       "    }\n",
       "\n",
       "    .dataframe tbody tr th {\n",
       "        vertical-align: top;\n",
       "    }\n",
       "\n",
       "    .dataframe thead th {\n",
       "        text-align: right;\n",
       "    }\n",
       "</style>\n",
       "<table border=\"1\" class=\"dataframe\">\n",
       "  <thead>\n",
       "    <tr style=\"text-align: right;\">\n",
       "      <th></th>\n",
       "      <th>user_id</th>\n",
       "      <th>post_id</th>\n",
       "      <th>timestamp</th>\n",
       "    </tr>\n",
       "  </thead>\n",
       "  <tbody>\n",
       "    <tr>\n",
       "      <th>1438</th>\n",
       "      <td>148670</td>\n",
       "      <td>2992</td>\n",
       "      <td>1654039320</td>\n",
       "    </tr>\n",
       "    <tr>\n",
       "      <th>1577</th>\n",
       "      <td>148670</td>\n",
       "      <td>1368</td>\n",
       "      <td>1654040074</td>\n",
       "    </tr>\n",
       "    <tr>\n",
       "      <th>7177</th>\n",
       "      <td>142283</td>\n",
       "      <td>132</td>\n",
       "      <td>1654069531</td>\n",
       "    </tr>\n",
       "    <tr>\n",
       "      <th>35765</th>\n",
       "      <td>148670</td>\n",
       "      <td>633</td>\n",
       "      <td>1654220670</td>\n",
       "    </tr>\n",
       "    <tr>\n",
       "      <th>36280</th>\n",
       "      <td>148670</td>\n",
       "      <td>1388</td>\n",
       "      <td>1654223590</td>\n",
       "    </tr>\n",
       "    <tr>\n",
       "      <th>36284</th>\n",
       "      <td>148670</td>\n",
       "      <td>6807</td>\n",
       "      <td>1654223593</td>\n",
       "    </tr>\n",
       "    <tr>\n",
       "      <th>36295</th>\n",
       "      <td>148670</td>\n",
       "      <td>5945</td>\n",
       "      <td>1654223616</td>\n",
       "    </tr>\n",
       "    <tr>\n",
       "      <th>36297</th>\n",
       "      <td>148670</td>\n",
       "      <td>7128</td>\n",
       "      <td>1654223621</td>\n",
       "    </tr>\n",
       "    <tr>\n",
       "      <th>46888</th>\n",
       "      <td>55788</td>\n",
       "      <td>3747</td>\n",
       "      <td>1654279385</td>\n",
       "    </tr>\n",
       "    <tr>\n",
       "      <th>47066</th>\n",
       "      <td>25623</td>\n",
       "      <td>4870</td>\n",
       "      <td>1654280155</td>\n",
       "    </tr>\n",
       "    <tr>\n",
       "      <th>47071</th>\n",
       "      <td>25623</td>\n",
       "      <td>4651</td>\n",
       "      <td>1654280182</td>\n",
       "    </tr>\n",
       "    <tr>\n",
       "      <th>54498</th>\n",
       "      <td>142283</td>\n",
       "      <td>4181</td>\n",
       "      <td>1654318632</td>\n",
       "    </tr>\n",
       "    <tr>\n",
       "      <th>54711</th>\n",
       "      <td>142283</td>\n",
       "      <td>1880</td>\n",
       "      <td>1654319955</td>\n",
       "    </tr>\n",
       "    <tr>\n",
       "      <th>54990</th>\n",
       "      <td>142283</td>\n",
       "      <td>611</td>\n",
       "      <td>1654321463</td>\n",
       "    </tr>\n",
       "    <tr>\n",
       "      <th>103827</th>\n",
       "      <td>25623</td>\n",
       "      <td>1020</td>\n",
       "      <td>1654576015</td>\n",
       "    </tr>\n",
       "    <tr>\n",
       "      <th>103848</th>\n",
       "      <td>25623</td>\n",
       "      <td>3775</td>\n",
       "      <td>1654576085</td>\n",
       "    </tr>\n",
       "    <tr>\n",
       "      <th>119037</th>\n",
       "      <td>148670</td>\n",
       "      <td>878</td>\n",
       "      <td>1654656235</td>\n",
       "    </tr>\n",
       "    <tr>\n",
       "      <th>119959</th>\n",
       "      <td>142283</td>\n",
       "      <td>4388</td>\n",
       "      <td>1654661141</td>\n",
       "    </tr>\n",
       "    <tr>\n",
       "      <th>119961</th>\n",
       "      <td>142283</td>\n",
       "      <td>5603</td>\n",
       "      <td>1654661144</td>\n",
       "    </tr>\n",
       "    <tr>\n",
       "      <th>139812</th>\n",
       "      <td>55788</td>\n",
       "      <td>1487</td>\n",
       "      <td>1654764136</td>\n",
       "    </tr>\n",
       "    <tr>\n",
       "      <th>139813</th>\n",
       "      <td>55788</td>\n",
       "      <td>1174</td>\n",
       "      <td>1654764137</td>\n",
       "    </tr>\n",
       "    <tr>\n",
       "      <th>139814</th>\n",
       "      <td>55788</td>\n",
       "      <td>894</td>\n",
       "      <td>1654764142</td>\n",
       "    </tr>\n",
       "    <tr>\n",
       "      <th>144111</th>\n",
       "      <td>148670</td>\n",
       "      <td>6188</td>\n",
       "      <td>1654787121</td>\n",
       "    </tr>\n",
       "    <tr>\n",
       "      <th>148150</th>\n",
       "      <td>148670</td>\n",
       "      <td>4300</td>\n",
       "      <td>1654808299</td>\n",
       "    </tr>\n",
       "    <tr>\n",
       "      <th>148678</th>\n",
       "      <td>148670</td>\n",
       "      <td>1520</td>\n",
       "      <td>1654811229</td>\n",
       "    </tr>\n",
       "    <tr>\n",
       "      <th>154014</th>\n",
       "      <td>142283</td>\n",
       "      <td>3556</td>\n",
       "      <td>1654838898</td>\n",
       "    </tr>\n",
       "    <tr>\n",
       "      <th>159007</th>\n",
       "      <td>25623</td>\n",
       "      <td>5439</td>\n",
       "      <td>1654864700</td>\n",
       "    </tr>\n",
       "    <tr>\n",
       "      <th>159440</th>\n",
       "      <td>25623</td>\n",
       "      <td>3703</td>\n",
       "      <td>1654867003</td>\n",
       "    </tr>\n",
       "    <tr>\n",
       "      <th>159638</th>\n",
       "      <td>25623</td>\n",
       "      <td>7042</td>\n",
       "      <td>1654868179</td>\n",
       "    </tr>\n",
       "    <tr>\n",
       "      <th>172911</th>\n",
       "      <td>25623</td>\n",
       "      <td>2130</td>\n",
       "      <td>1654936835</td>\n",
       "    </tr>\n",
       "    <tr>\n",
       "      <th>173282</th>\n",
       "      <td>25623</td>\n",
       "      <td>998</td>\n",
       "      <td>1654938970</td>\n",
       "    </tr>\n",
       "    <tr>\n",
       "      <th>189064</th>\n",
       "      <td>25623</td>\n",
       "      <td>6378</td>\n",
       "      <td>1655021977</td>\n",
       "    </tr>\n",
       "    <tr>\n",
       "      <th>189071</th>\n",
       "      <td>25623</td>\n",
       "      <td>962</td>\n",
       "      <td>1655022010</td>\n",
       "    </tr>\n",
       "    <tr>\n",
       "      <th>189102</th>\n",
       "      <td>25623</td>\n",
       "      <td>4876</td>\n",
       "      <td>1655022184</td>\n",
       "    </tr>\n",
       "    <tr>\n",
       "      <th>194442</th>\n",
       "      <td>142283</td>\n",
       "      <td>87</td>\n",
       "      <td>1655050521</td>\n",
       "    </tr>\n",
       "    <tr>\n",
       "      <th>194443</th>\n",
       "      <td>142283</td>\n",
       "      <td>810</td>\n",
       "      <td>1655050521</td>\n",
       "    </tr>\n",
       "    <tr>\n",
       "      <th>194463</th>\n",
       "      <td>142283</td>\n",
       "      <td>1744</td>\n",
       "      <td>1655050640</td>\n",
       "    </tr>\n",
       "    <tr>\n",
       "      <th>201485</th>\n",
       "      <td>148670</td>\n",
       "      <td>606</td>\n",
       "      <td>1655087471</td>\n",
       "    </tr>\n",
       "    <tr>\n",
       "      <th>212733</th>\n",
       "      <td>55788</td>\n",
       "      <td>3922</td>\n",
       "      <td>1655147578</td>\n",
       "    </tr>\n",
       "  </tbody>\n",
       "</table>\n",
       "</div>"
      ],
      "text/plain": [
       "        user_id  post_id   timestamp\n",
       "1438     148670     2992  1654039320\n",
       "1577     148670     1368  1654040074\n",
       "7177     142283      132  1654069531\n",
       "35765    148670      633  1654220670\n",
       "36280    148670     1388  1654223590\n",
       "36284    148670     6807  1654223593\n",
       "36295    148670     5945  1654223616\n",
       "36297    148670     7128  1654223621\n",
       "46888     55788     3747  1654279385\n",
       "47066     25623     4870  1654280155\n",
       "47071     25623     4651  1654280182\n",
       "54498    142283     4181  1654318632\n",
       "54711    142283     1880  1654319955\n",
       "54990    142283      611  1654321463\n",
       "103827    25623     1020  1654576015\n",
       "103848    25623     3775  1654576085\n",
       "119037   148670      878  1654656235\n",
       "119959   142283     4388  1654661141\n",
       "119961   142283     5603  1654661144\n",
       "139812    55788     1487  1654764136\n",
       "139813    55788     1174  1654764137\n",
       "139814    55788      894  1654764142\n",
       "144111   148670     6188  1654787121\n",
       "148150   148670     4300  1654808299\n",
       "148678   148670     1520  1654811229\n",
       "154014   142283     3556  1654838898\n",
       "159007    25623     5439  1654864700\n",
       "159440    25623     3703  1654867003\n",
       "159638    25623     7042  1654868179\n",
       "172911    25623     2130  1654936835\n",
       "173282    25623      998  1654938970\n",
       "189064    25623     6378  1655021977\n",
       "189071    25623      962  1655022010\n",
       "189102    25623     4876  1655022184\n",
       "194442   142283       87  1655050521\n",
       "194443   142283      810  1655050521\n",
       "194463   142283     1744  1655050640\n",
       "201485   148670      606  1655087471\n",
       "212733    55788     3922  1655147578"
      ]
     },
     "execution_count": 8,
     "metadata": {},
     "output_type": "execute_result"
    }
   ],
   "source": [
    "likes[likes.user_id.isin(control_test)]"
   ]
  },
  {
   "cell_type": "markdown",
   "id": "c2ce8649",
   "metadata": {
    "papermill": {
     "duration": 0.017006,
     "end_time": "2023-04-23T12:47:51.812936",
     "exception": false,
     "start_time": "2023-04-23T12:47:51.795930",
     "status": "completed"
    },
    "tags": []
   },
   "source": [
    "Пользователи, которые попали в обе группы."
   ]
  },
  {
   "cell_type": "code",
   "execution_count": 9,
   "id": "c4dcb080",
   "metadata": {
    "execution": {
     "iopub.execute_input": "2023-04-23T12:47:51.850057Z",
     "iopub.status.busy": "2023-04-23T12:47:51.849591Z",
     "iopub.status.idle": "2023-04-23T12:47:51.861787Z",
     "shell.execute_reply": "2023-04-23T12:47:51.860743Z"
    },
    "papermill": {
     "duration": 0.033916,
     "end_time": "2023-04-23T12:47:51.864224",
     "exception": false,
     "start_time": "2023-04-23T12:47:51.830308",
     "status": "completed"
    },
    "tags": []
   },
   "outputs": [
    {
     "data": {
      "text/plain": [
       "{25623, 55788, 142283, 148670}"
      ]
     },
     "execution_count": 9,
     "metadata": {},
     "output_type": "execute_result"
    }
   ],
   "source": [
    "control_test"
   ]
  },
  {
   "cell_type": "markdown",
   "id": "ec53a2a8",
   "metadata": {
    "papermill": {
     "duration": 0.01714,
     "end_time": "2023-04-23T12:47:51.898774",
     "exception": false,
     "start_time": "2023-04-23T12:47:51.881634",
     "status": "completed"
    },
    "tags": []
   },
   "source": [
    "Всего 4 пользователя. Удалим их."
   ]
  },
  {
   "cell_type": "code",
   "execution_count": 10,
   "id": "1ef9f09c",
   "metadata": {
    "execution": {
     "iopub.execute_input": "2023-04-23T12:47:51.935213Z",
     "iopub.status.busy": "2023-04-23T12:47:51.934774Z",
     "iopub.status.idle": "2023-04-23T12:47:51.970474Z",
     "shell.execute_reply": "2023-04-23T12:47:51.969132Z"
    },
    "papermill": {
     "duration": 0.057267,
     "end_time": "2023-04-23T12:47:51.973329",
     "exception": false,
     "start_time": "2023-04-23T12:47:51.916062",
     "status": "completed"
    },
    "tags": []
   },
   "outputs": [],
   "source": [
    "views = views[~views.user_id.isin(control_test)]\n",
    "likes = likes[~likes.user_id.isin(control_test)]"
   ]
  },
  {
   "cell_type": "markdown",
   "id": "8635d279",
   "metadata": {
    "papermill": {
     "duration": 0.016841,
     "end_time": "2023-04-23T12:47:52.007422",
     "exception": false,
     "start_time": "2023-04-23T12:47:51.990581",
     "status": "completed"
    },
    "tags": []
   },
   "source": [
    "Проверим число просмотров."
   ]
  },
  {
   "cell_type": "code",
   "execution_count": 11,
   "id": "80344c36",
   "metadata": {
    "execution": {
     "iopub.execute_input": "2023-04-23T12:47:52.044600Z",
     "iopub.status.busy": "2023-04-23T12:47:52.043645Z",
     "iopub.status.idle": "2023-04-23T12:47:52.063776Z",
     "shell.execute_reply": "2023-04-23T12:47:52.062427Z"
    },
    "papermill": {
     "duration": 0.041265,
     "end_time": "2023-04-23T12:47:52.066322",
     "exception": false,
     "start_time": "2023-04-23T12:47:52.025057",
     "status": "completed"
    },
    "tags": []
   },
   "outputs": [
    {
     "data": {
      "text/plain": [
       "test       96898\n",
       "control    96370\n",
       "Name: exp_group, dtype: int64"
      ]
     },
     "execution_count": 11,
     "metadata": {},
     "output_type": "execute_result"
    }
   ],
   "source": [
    "views.exp_group.value_counts()"
   ]
  },
  {
   "cell_type": "markdown",
   "id": "3a2c13cf",
   "metadata": {
    "papermill": {
     "duration": 0.017197,
     "end_time": "2023-04-23T12:47:52.101307",
     "exception": false,
     "start_time": "2023-04-23T12:47:52.084110",
     "status": "completed"
    },
    "tags": []
   },
   "source": [
    "Проверим в таблице views число пользователей в каждой группе."
   ]
  },
  {
   "cell_type": "code",
   "execution_count": 12,
   "id": "022b48ba",
   "metadata": {
    "execution": {
     "iopub.execute_input": "2023-04-23T12:47:52.138930Z",
     "iopub.status.busy": "2023-04-23T12:47:52.137799Z",
     "iopub.status.idle": "2023-04-23T12:47:52.226939Z",
     "shell.execute_reply": "2023-04-23T12:47:52.225748Z"
    },
    "papermill": {
     "duration": 0.110819,
     "end_time": "2023-04-23T12:47:52.229574",
     "exception": false,
     "start_time": "2023-04-23T12:47:52.118755",
     "status": "completed"
    },
    "tags": []
   },
   "outputs": [
    {
     "data": {
      "text/plain": [
       "test       32659\n",
       "control    32350\n",
       "Name: exp_group, dtype: int64"
      ]
     },
     "execution_count": 12,
     "metadata": {},
     "output_type": "execute_result"
    }
   ],
   "source": [
    "views.groupby('user_id').first().exp_group.value_counts()"
   ]
  },
  {
   "cell_type": "code",
   "execution_count": 13,
   "id": "0e6f0bc1",
   "metadata": {
    "execution": {
     "iopub.execute_input": "2023-04-23T12:47:52.267188Z",
     "iopub.status.busy": "2023-04-23T12:47:52.265984Z",
     "iopub.status.idle": "2023-04-23T12:47:52.346180Z",
     "shell.execute_reply": "2023-04-23T12:47:52.345037Z"
    },
    "papermill": {
     "duration": 0.101401,
     "end_time": "2023-04-23T12:47:52.348609",
     "exception": false,
     "start_time": "2023-04-23T12:47:52.247208",
     "status": "completed"
    },
    "tags": []
   },
   "outputs": [
    {
     "data": {
      "text/plain": [
       "test       0.502377\n",
       "control    0.497623\n",
       "Name: exp_group, dtype: float64"
      ]
     },
     "execution_count": 13,
     "metadata": {},
     "output_type": "execute_result"
    }
   ],
   "source": [
    "views.groupby('user_id').first().exp_group.value_counts(normalize='True')"
   ]
  },
  {
   "cell_type": "markdown",
   "id": "8f31f252",
   "metadata": {
    "papermill": {
     "duration": 0.017272,
     "end_time": "2023-04-23T12:47:52.384212",
     "exception": false,
     "start_time": "2023-04-23T12:47:52.366940",
     "status": "completed"
    },
    "tags": []
   },
   "source": [
    "В обоих группах примерно одинаковое число пользователей. Применим критерий для долей (биномиальный тест), чтобы проверить соответствие этой доли группы test ожидаемым 0.5."
   ]
  },
  {
   "cell_type": "code",
   "execution_count": 14,
   "id": "c2c40390",
   "metadata": {
    "execution": {
     "iopub.execute_input": "2023-04-23T12:47:52.421809Z",
     "iopub.status.busy": "2023-04-23T12:47:52.421385Z",
     "iopub.status.idle": "2023-04-23T12:47:52.572903Z",
     "shell.execute_reply": "2023-04-23T12:47:52.571646Z"
    },
    "papermill": {
     "duration": 0.173583,
     "end_time": "2023-04-23T12:47:52.575808",
     "exception": false,
     "start_time": "2023-04-23T12:47:52.402225",
     "status": "completed"
    },
    "tags": []
   },
   "outputs": [],
   "source": [
    "N_test  = views.groupby('user_id').first().exp_group.value_counts().test\n",
    "N = views.groupby('user_id').first().exp_group.count()"
   ]
  },
  {
   "cell_type": "code",
   "execution_count": 15,
   "id": "92827e7e",
   "metadata": {
    "execution": {
     "iopub.execute_input": "2023-04-23T12:47:52.613807Z",
     "iopub.status.busy": "2023-04-23T12:47:52.613363Z",
     "iopub.status.idle": "2023-04-23T12:47:52.621747Z",
     "shell.execute_reply": "2023-04-23T12:47:52.620550Z"
    },
    "papermill": {
     "duration": 0.02996,
     "end_time": "2023-04-23T12:47:52.623993",
     "exception": false,
     "start_time": "2023-04-23T12:47:52.594033",
     "status": "completed"
    },
    "tags": []
   },
   "outputs": [
    {
     "data": {
      "text/plain": [
       "(0.49853309789386646, 0.5062200901262539)"
      ]
     },
     "execution_count": 15,
     "metadata": {},
     "output_type": "execute_result"
    }
   ],
   "source": [
    "proportion_confint(N_test, N, alpha=0.05, method='normal')"
   ]
  },
  {
   "cell_type": "markdown",
   "id": "16a59a69",
   "metadata": {
    "papermill": {
     "duration": 0.017716,
     "end_time": "2023-04-23T12:47:52.659358",
     "exception": false,
     "start_time": "2023-04-23T12:47:52.641642",
     "status": "completed"
    },
    "tags": []
   },
   "source": [
    "95-процентный доверительный интервал значения доли тестовой группы составляет от 0.4985 до 0.5052, что довольно близко к значению 0.5."
   ]
  },
  {
   "cell_type": "code",
   "execution_count": 16,
   "id": "be22da4d",
   "metadata": {
    "execution": {
     "iopub.execute_input": "2023-04-23T12:47:52.696490Z",
     "iopub.status.busy": "2023-04-23T12:47:52.695644Z",
     "iopub.status.idle": "2023-04-23T12:47:52.706177Z",
     "shell.execute_reply": "2023-04-23T12:47:52.705257Z"
    },
    "papermill": {
     "duration": 0.031638,
     "end_time": "2023-04-23T12:47:52.708472",
     "exception": false,
     "start_time": "2023-04-23T12:47:52.676834",
     "status": "completed"
    },
    "tags": []
   },
   "outputs": [
    {
     "data": {
      "text/plain": [
       "BinomTestResult(k=32659, n=65009, alternative='two-sided', proportion_estimate=0.5023765940100602, pvalue=0.2270501563614752)"
      ]
     },
     "execution_count": 16,
     "metadata": {},
     "output_type": "execute_result"
    }
   ],
   "source": [
    "binomtest(k=N_test, n=N, p=0.5)"
   ]
  },
  {
   "cell_type": "markdown",
   "id": "5930586a",
   "metadata": {
    "papermill": {
     "duration": 0.017412,
     "end_time": "2023-04-23T12:47:52.744232",
     "exception": false,
     "start_time": "2023-04-23T12:47:52.726820",
     "status": "completed"
    },
    "tags": []
   },
   "source": [
    "Принимаем нулевую гипотезу, что группы имеют биноминальное распределение с вероятностью 0.5."
   ]
  },
  {
   "cell_type": "markdown",
   "id": "e1d7bc27",
   "metadata": {
    "papermill": {
     "duration": 0.018368,
     "end_time": "2023-04-23T12:47:52.781995",
     "exception": false,
     "start_time": "2023-04-23T12:47:52.763627",
     "status": "completed"
    },
    "tags": []
   },
   "source": [
    "## Подсчёт количества лайков пользователей."
   ]
  },
  {
   "cell_type": "markdown",
   "id": "0ace161a",
   "metadata": {
    "papermill": {
     "duration": 0.017914,
     "end_time": "2023-04-23T12:47:52.817882",
     "exception": false,
     "start_time": "2023-04-23T12:47:52.799968",
     "status": "completed"
    },
    "tags": []
   },
   "source": [
    "Соберём таблицу, в которой будут пользователи, попавшие в наш эксперимент (т. е. те, для которых мы строили хотя бы одну рекомендацию). Посчитаем, кто из них сколько лайков сделал. Возможно будут пользователи, которые не сделали ни один лайк. \n",
    "Подсчитаем долю пользователей, которая сделала хотя бы один лайк за время эксперимента без разбивки на группы."
   ]
  },
  {
   "cell_type": "code",
   "execution_count": 17,
   "id": "35119aff",
   "metadata": {
    "execution": {
     "iopub.execute_input": "2023-04-23T12:47:52.855862Z",
     "iopub.status.busy": "2023-04-23T12:47:52.855432Z",
     "iopub.status.idle": "2023-04-23T12:47:52.944539Z",
     "shell.execute_reply": "2023-04-23T12:47:52.943221Z"
    },
    "papermill": {
     "duration": 0.111795,
     "end_time": "2023-04-23T12:47:52.947561",
     "exception": false,
     "start_time": "2023-04-23T12:47:52.835766",
     "status": "completed"
    },
    "tags": []
   },
   "outputs": [],
   "source": [
    "# Таблица соотнесения пользователя к экспериментальной группе.\n",
    "groups = views.groupby('user_id').first().reset_index()[['user_id', 'exp_group']]"
   ]
  },
  {
   "cell_type": "code",
   "execution_count": 18,
   "id": "f097f76b",
   "metadata": {
    "execution": {
     "iopub.execute_input": "2023-04-23T12:47:52.986837Z",
     "iopub.status.busy": "2023-04-23T12:47:52.985498Z",
     "iopub.status.idle": "2023-04-23T12:47:53.000956Z",
     "shell.execute_reply": "2023-04-23T12:47:52.999652Z"
    },
    "papermill": {
     "duration": 0.037959,
     "end_time": "2023-04-23T12:47:53.003869",
     "exception": false,
     "start_time": "2023-04-23T12:47:52.965910",
     "status": "completed"
    },
    "tags": []
   },
   "outputs": [
    {
     "data": {
      "text/html": [
       "<div>\n",
       "<style scoped>\n",
       "    .dataframe tbody tr th:only-of-type {\n",
       "        vertical-align: middle;\n",
       "    }\n",
       "\n",
       "    .dataframe tbody tr th {\n",
       "        vertical-align: top;\n",
       "    }\n",
       "\n",
       "    .dataframe thead th {\n",
       "        text-align: right;\n",
       "    }\n",
       "</style>\n",
       "<table border=\"1\" class=\"dataframe\">\n",
       "  <thead>\n",
       "    <tr style=\"text-align: right;\">\n",
       "      <th></th>\n",
       "      <th>user_id</th>\n",
       "      <th>exp_group</th>\n",
       "    </tr>\n",
       "  </thead>\n",
       "  <tbody>\n",
       "    <tr>\n",
       "      <th>0</th>\n",
       "      <td>200</td>\n",
       "      <td>test</td>\n",
       "    </tr>\n",
       "    <tr>\n",
       "      <th>1</th>\n",
       "      <td>201</td>\n",
       "      <td>test</td>\n",
       "    </tr>\n",
       "    <tr>\n",
       "      <th>2</th>\n",
       "      <td>202</td>\n",
       "      <td>test</td>\n",
       "    </tr>\n",
       "    <tr>\n",
       "      <th>3</th>\n",
       "      <td>212</td>\n",
       "      <td>test</td>\n",
       "    </tr>\n",
       "    <tr>\n",
       "      <th>4</th>\n",
       "      <td>213</td>\n",
       "      <td>test</td>\n",
       "    </tr>\n",
       "    <tr>\n",
       "      <th>...</th>\n",
       "      <td>...</td>\n",
       "      <td>...</td>\n",
       "    </tr>\n",
       "    <tr>\n",
       "      <th>65004</th>\n",
       "      <td>168538</td>\n",
       "      <td>test</td>\n",
       "    </tr>\n",
       "    <tr>\n",
       "      <th>65005</th>\n",
       "      <td>168541</td>\n",
       "      <td>control</td>\n",
       "    </tr>\n",
       "    <tr>\n",
       "      <th>65006</th>\n",
       "      <td>168544</td>\n",
       "      <td>test</td>\n",
       "    </tr>\n",
       "    <tr>\n",
       "      <th>65007</th>\n",
       "      <td>168545</td>\n",
       "      <td>test</td>\n",
       "    </tr>\n",
       "    <tr>\n",
       "      <th>65008</th>\n",
       "      <td>168552</td>\n",
       "      <td>control</td>\n",
       "    </tr>\n",
       "  </tbody>\n",
       "</table>\n",
       "<p>65009 rows × 2 columns</p>\n",
       "</div>"
      ],
      "text/plain": [
       "       user_id exp_group\n",
       "0          200      test\n",
       "1          201      test\n",
       "2          202      test\n",
       "3          212      test\n",
       "4          213      test\n",
       "...        ...       ...\n",
       "65004   168538      test\n",
       "65005   168541   control\n",
       "65006   168544      test\n",
       "65007   168545      test\n",
       "65008   168552   control\n",
       "\n",
       "[65009 rows x 2 columns]"
      ]
     },
     "execution_count": 18,
     "metadata": {},
     "output_type": "execute_result"
    }
   ],
   "source": [
    "groups"
   ]
  },
  {
   "cell_type": "markdown",
   "id": "737adb4e",
   "metadata": {
    "papermill": {
     "duration": 0.018309,
     "end_time": "2023-04-23T12:47:53.040410",
     "exception": false,
     "start_time": "2023-04-23T12:47:53.022101",
     "status": "completed"
    },
    "tags": []
   },
   "source": [
    "Число лайков каждого пользователя, во время проведения эксперимента."
   ]
  },
  {
   "cell_type": "code",
   "execution_count": 19,
   "id": "44dc4193",
   "metadata": {
    "execution": {
     "iopub.execute_input": "2023-04-23T12:47:53.078289Z",
     "iopub.status.busy": "2023-04-23T12:47:53.077869Z",
     "iopub.status.idle": "2023-04-23T12:47:53.113047Z",
     "shell.execute_reply": "2023-04-23T12:47:53.111711Z"
    },
    "papermill": {
     "duration": 0.057282,
     "end_time": "2023-04-23T12:47:53.115808",
     "exception": false,
     "start_time": "2023-04-23T12:47:53.058526",
     "status": "completed"
    },
    "tags": []
   },
   "outputs": [],
   "source": [
    "users_likes = likes.groupby('user_id').post_id.count().reset_index().rename(columns={'post_id': 'like_num'})"
   ]
  },
  {
   "cell_type": "code",
   "execution_count": 20,
   "id": "5af718b5",
   "metadata": {
    "execution": {
     "iopub.execute_input": "2023-04-23T12:47:53.154022Z",
     "iopub.status.busy": "2023-04-23T12:47:53.153593Z",
     "iopub.status.idle": "2023-04-23T12:47:53.165020Z",
     "shell.execute_reply": "2023-04-23T12:47:53.164158Z"
    },
    "papermill": {
     "duration": 0.033355,
     "end_time": "2023-04-23T12:47:53.167600",
     "exception": false,
     "start_time": "2023-04-23T12:47:53.134245",
     "status": "completed"
    },
    "tags": []
   },
   "outputs": [
    {
     "data": {
      "text/html": [
       "<div>\n",
       "<style scoped>\n",
       "    .dataframe tbody tr th:only-of-type {\n",
       "        vertical-align: middle;\n",
       "    }\n",
       "\n",
       "    .dataframe tbody tr th {\n",
       "        vertical-align: top;\n",
       "    }\n",
       "\n",
       "    .dataframe thead th {\n",
       "        text-align: right;\n",
       "    }\n",
       "</style>\n",
       "<table border=\"1\" class=\"dataframe\">\n",
       "  <thead>\n",
       "    <tr style=\"text-align: right;\">\n",
       "      <th></th>\n",
       "      <th>user_id</th>\n",
       "      <th>like_num</th>\n",
       "    </tr>\n",
       "  </thead>\n",
       "  <tbody>\n",
       "    <tr>\n",
       "      <th>0</th>\n",
       "      <td>200</td>\n",
       "      <td>1</td>\n",
       "    </tr>\n",
       "    <tr>\n",
       "      <th>1</th>\n",
       "      <td>201</td>\n",
       "      <td>3</td>\n",
       "    </tr>\n",
       "    <tr>\n",
       "      <th>2</th>\n",
       "      <td>202</td>\n",
       "      <td>2</td>\n",
       "    </tr>\n",
       "    <tr>\n",
       "      <th>3</th>\n",
       "      <td>212</td>\n",
       "      <td>4</td>\n",
       "    </tr>\n",
       "    <tr>\n",
       "      <th>4</th>\n",
       "      <td>213</td>\n",
       "      <td>7</td>\n",
       "    </tr>\n",
       "    <tr>\n",
       "      <th>...</th>\n",
       "      <td>...</td>\n",
       "      <td>...</td>\n",
       "    </tr>\n",
       "    <tr>\n",
       "      <th>58162</th>\n",
       "      <td>168525</td>\n",
       "      <td>2</td>\n",
       "    </tr>\n",
       "    <tr>\n",
       "      <th>58163</th>\n",
       "      <td>168532</td>\n",
       "      <td>4</td>\n",
       "    </tr>\n",
       "    <tr>\n",
       "      <th>58164</th>\n",
       "      <td>168538</td>\n",
       "      <td>5</td>\n",
       "    </tr>\n",
       "    <tr>\n",
       "      <th>58165</th>\n",
       "      <td>168541</td>\n",
       "      <td>2</td>\n",
       "    </tr>\n",
       "    <tr>\n",
       "      <th>58166</th>\n",
       "      <td>168545</td>\n",
       "      <td>5</td>\n",
       "    </tr>\n",
       "  </tbody>\n",
       "</table>\n",
       "<p>58167 rows × 2 columns</p>\n",
       "</div>"
      ],
      "text/plain": [
       "       user_id  like_num\n",
       "0          200         1\n",
       "1          201         3\n",
       "2          202         2\n",
       "3          212         4\n",
       "4          213         7\n",
       "...        ...       ...\n",
       "58162   168525         2\n",
       "58163   168532         4\n",
       "58164   168538         5\n",
       "58165   168541         2\n",
       "58166   168545         5\n",
       "\n",
       "[58167 rows x 2 columns]"
      ]
     },
     "execution_count": 20,
     "metadata": {},
     "output_type": "execute_result"
    }
   ],
   "source": [
    "users_likes"
   ]
  },
  {
   "cell_type": "markdown",
   "id": "f727a617",
   "metadata": {
    "papermill": {
     "duration": 0.018504,
     "end_time": "2023-04-23T12:47:53.204924",
     "exception": false,
     "start_time": "2023-04-23T12:47:53.186420",
     "status": "completed"
    },
    "tags": []
   },
   "source": [
    "Соединим с таблицей пользователь-группа.\n",
    "Отсутствующие значения означают, что пользователь не делал лайков, заполним их нулями."
   ]
  },
  {
   "cell_type": "code",
   "execution_count": 21,
   "id": "49e11a90",
   "metadata": {
    "execution": {
     "iopub.execute_input": "2023-04-23T12:47:53.245074Z",
     "iopub.status.busy": "2023-04-23T12:47:53.244036Z",
     "iopub.status.idle": "2023-04-23T12:47:53.276532Z",
     "shell.execute_reply": "2023-04-23T12:47:53.275080Z"
    },
    "papermill": {
     "duration": 0.055595,
     "end_time": "2023-04-23T12:47:53.279426",
     "exception": false,
     "start_time": "2023-04-23T12:47:53.223831",
     "status": "completed"
    },
    "tags": []
   },
   "outputs": [],
   "source": [
    "group_likes = pd.merge(groups, users_likes, on='user_id', how='left')\n",
    "group_likes.like_num = group_likes.like_num.fillna(0)"
   ]
  },
  {
   "cell_type": "code",
   "execution_count": 22,
   "id": "b10c1725",
   "metadata": {
    "execution": {
     "iopub.execute_input": "2023-04-23T12:47:53.319201Z",
     "iopub.status.busy": "2023-04-23T12:47:53.318752Z",
     "iopub.status.idle": "2023-04-23T12:47:53.333003Z",
     "shell.execute_reply": "2023-04-23T12:47:53.331767Z"
    },
    "papermill": {
     "duration": 0.036897,
     "end_time": "2023-04-23T12:47:53.335394",
     "exception": false,
     "start_time": "2023-04-23T12:47:53.298497",
     "status": "completed"
    },
    "tags": []
   },
   "outputs": [
    {
     "data": {
      "text/html": [
       "<div>\n",
       "<style scoped>\n",
       "    .dataframe tbody tr th:only-of-type {\n",
       "        vertical-align: middle;\n",
       "    }\n",
       "\n",
       "    .dataframe tbody tr th {\n",
       "        vertical-align: top;\n",
       "    }\n",
       "\n",
       "    .dataframe thead th {\n",
       "        text-align: right;\n",
       "    }\n",
       "</style>\n",
       "<table border=\"1\" class=\"dataframe\">\n",
       "  <thead>\n",
       "    <tr style=\"text-align: right;\">\n",
       "      <th></th>\n",
       "      <th>user_id</th>\n",
       "      <th>exp_group</th>\n",
       "      <th>like_num</th>\n",
       "    </tr>\n",
       "  </thead>\n",
       "  <tbody>\n",
       "    <tr>\n",
       "      <th>0</th>\n",
       "      <td>200</td>\n",
       "      <td>test</td>\n",
       "      <td>1.0</td>\n",
       "    </tr>\n",
       "    <tr>\n",
       "      <th>1</th>\n",
       "      <td>201</td>\n",
       "      <td>test</td>\n",
       "      <td>3.0</td>\n",
       "    </tr>\n",
       "    <tr>\n",
       "      <th>2</th>\n",
       "      <td>202</td>\n",
       "      <td>test</td>\n",
       "      <td>2.0</td>\n",
       "    </tr>\n",
       "    <tr>\n",
       "      <th>3</th>\n",
       "      <td>212</td>\n",
       "      <td>test</td>\n",
       "      <td>4.0</td>\n",
       "    </tr>\n",
       "    <tr>\n",
       "      <th>4</th>\n",
       "      <td>213</td>\n",
       "      <td>test</td>\n",
       "      <td>7.0</td>\n",
       "    </tr>\n",
       "    <tr>\n",
       "      <th>...</th>\n",
       "      <td>...</td>\n",
       "      <td>...</td>\n",
       "      <td>...</td>\n",
       "    </tr>\n",
       "    <tr>\n",
       "      <th>65004</th>\n",
       "      <td>168538</td>\n",
       "      <td>test</td>\n",
       "      <td>5.0</td>\n",
       "    </tr>\n",
       "    <tr>\n",
       "      <th>65005</th>\n",
       "      <td>168541</td>\n",
       "      <td>control</td>\n",
       "      <td>2.0</td>\n",
       "    </tr>\n",
       "    <tr>\n",
       "      <th>65006</th>\n",
       "      <td>168544</td>\n",
       "      <td>test</td>\n",
       "      <td>0.0</td>\n",
       "    </tr>\n",
       "    <tr>\n",
       "      <th>65007</th>\n",
       "      <td>168545</td>\n",
       "      <td>test</td>\n",
       "      <td>5.0</td>\n",
       "    </tr>\n",
       "    <tr>\n",
       "      <th>65008</th>\n",
       "      <td>168552</td>\n",
       "      <td>control</td>\n",
       "      <td>0.0</td>\n",
       "    </tr>\n",
       "  </tbody>\n",
       "</table>\n",
       "<p>65009 rows × 3 columns</p>\n",
       "</div>"
      ],
      "text/plain": [
       "       user_id exp_group  like_num\n",
       "0          200      test       1.0\n",
       "1          201      test       3.0\n",
       "2          202      test       2.0\n",
       "3          212      test       4.0\n",
       "4          213      test       7.0\n",
       "...        ...       ...       ...\n",
       "65004   168538      test       5.0\n",
       "65005   168541   control       2.0\n",
       "65006   168544      test       0.0\n",
       "65007   168545      test       5.0\n",
       "65008   168552   control       0.0\n",
       "\n",
       "[65009 rows x 3 columns]"
      ]
     },
     "execution_count": 22,
     "metadata": {},
     "output_type": "execute_result"
    }
   ],
   "source": [
    "group_likes"
   ]
  },
  {
   "cell_type": "markdown",
   "id": "987833af",
   "metadata": {
    "papermill": {
     "duration": 0.018295,
     "end_time": "2023-04-23T12:47:53.372611",
     "exception": false,
     "start_time": "2023-04-23T12:47:53.354316",
     "status": "completed"
    },
    "tags": []
   },
   "source": [
    "Пользователь сделал хоть один лайк?"
   ]
  },
  {
   "cell_type": "code",
   "execution_count": 23,
   "id": "1a436e58",
   "metadata": {
    "execution": {
     "iopub.execute_input": "2023-04-23T12:47:53.411915Z",
     "iopub.status.busy": "2023-04-23T12:47:53.411099Z",
     "iopub.status.idle": "2023-04-23T12:47:53.417670Z",
     "shell.execute_reply": "2023-04-23T12:47:53.416674Z"
    },
    "papermill": {
     "duration": 0.029007,
     "end_time": "2023-04-23T12:47:53.420197",
     "exception": false,
     "start_time": "2023-04-23T12:47:53.391190",
     "status": "completed"
    },
    "tags": []
   },
   "outputs": [],
   "source": [
    "group_likes['has_like'] = (group_likes['like_num'] > 0).astype(int)"
   ]
  },
  {
   "cell_type": "code",
   "execution_count": 24,
   "id": "fe0e4ee9",
   "metadata": {
    "execution": {
     "iopub.execute_input": "2023-04-23T12:47:53.459485Z",
     "iopub.status.busy": "2023-04-23T12:47:53.458734Z",
     "iopub.status.idle": "2023-04-23T12:47:53.479216Z",
     "shell.execute_reply": "2023-04-23T12:47:53.478199Z"
    },
    "papermill": {
     "duration": 0.04301,
     "end_time": "2023-04-23T12:47:53.481650",
     "exception": false,
     "start_time": "2023-04-23T12:47:53.438640",
     "status": "completed"
    },
    "tags": []
   },
   "outputs": [
    {
     "data": {
      "text/html": [
       "<div>\n",
       "<style scoped>\n",
       "    .dataframe tbody tr th:only-of-type {\n",
       "        vertical-align: middle;\n",
       "    }\n",
       "\n",
       "    .dataframe tbody tr th {\n",
       "        vertical-align: top;\n",
       "    }\n",
       "\n",
       "    .dataframe thead th {\n",
       "        text-align: right;\n",
       "    }\n",
       "</style>\n",
       "<table border=\"1\" class=\"dataframe\">\n",
       "  <thead>\n",
       "    <tr style=\"text-align: right;\">\n",
       "      <th></th>\n",
       "      <th>user_id</th>\n",
       "      <th>exp_group</th>\n",
       "      <th>like_num</th>\n",
       "      <th>has_like</th>\n",
       "    </tr>\n",
       "  </thead>\n",
       "  <tbody>\n",
       "    <tr>\n",
       "      <th>0</th>\n",
       "      <td>200</td>\n",
       "      <td>test</td>\n",
       "      <td>1.0</td>\n",
       "      <td>1</td>\n",
       "    </tr>\n",
       "    <tr>\n",
       "      <th>1</th>\n",
       "      <td>201</td>\n",
       "      <td>test</td>\n",
       "      <td>3.0</td>\n",
       "      <td>1</td>\n",
       "    </tr>\n",
       "    <tr>\n",
       "      <th>2</th>\n",
       "      <td>202</td>\n",
       "      <td>test</td>\n",
       "      <td>2.0</td>\n",
       "      <td>1</td>\n",
       "    </tr>\n",
       "    <tr>\n",
       "      <th>3</th>\n",
       "      <td>212</td>\n",
       "      <td>test</td>\n",
       "      <td>4.0</td>\n",
       "      <td>1</td>\n",
       "    </tr>\n",
       "    <tr>\n",
       "      <th>4</th>\n",
       "      <td>213</td>\n",
       "      <td>test</td>\n",
       "      <td>7.0</td>\n",
       "      <td>1</td>\n",
       "    </tr>\n",
       "    <tr>\n",
       "      <th>...</th>\n",
       "      <td>...</td>\n",
       "      <td>...</td>\n",
       "      <td>...</td>\n",
       "      <td>...</td>\n",
       "    </tr>\n",
       "    <tr>\n",
       "      <th>65004</th>\n",
       "      <td>168538</td>\n",
       "      <td>test</td>\n",
       "      <td>5.0</td>\n",
       "      <td>1</td>\n",
       "    </tr>\n",
       "    <tr>\n",
       "      <th>65005</th>\n",
       "      <td>168541</td>\n",
       "      <td>control</td>\n",
       "      <td>2.0</td>\n",
       "      <td>1</td>\n",
       "    </tr>\n",
       "    <tr>\n",
       "      <th>65006</th>\n",
       "      <td>168544</td>\n",
       "      <td>test</td>\n",
       "      <td>0.0</td>\n",
       "      <td>0</td>\n",
       "    </tr>\n",
       "    <tr>\n",
       "      <th>65007</th>\n",
       "      <td>168545</td>\n",
       "      <td>test</td>\n",
       "      <td>5.0</td>\n",
       "      <td>1</td>\n",
       "    </tr>\n",
       "    <tr>\n",
       "      <th>65008</th>\n",
       "      <td>168552</td>\n",
       "      <td>control</td>\n",
       "      <td>0.0</td>\n",
       "      <td>0</td>\n",
       "    </tr>\n",
       "  </tbody>\n",
       "</table>\n",
       "<p>65009 rows × 4 columns</p>\n",
       "</div>"
      ],
      "text/plain": [
       "       user_id exp_group  like_num  has_like\n",
       "0          200      test       1.0         1\n",
       "1          201      test       3.0         1\n",
       "2          202      test       2.0         1\n",
       "3          212      test       4.0         1\n",
       "4          213      test       7.0         1\n",
       "...        ...       ...       ...       ...\n",
       "65004   168538      test       5.0         1\n",
       "65005   168541   control       2.0         1\n",
       "65006   168544      test       0.0         0\n",
       "65007   168545      test       5.0         1\n",
       "65008   168552   control       0.0         0\n",
       "\n",
       "[65009 rows x 4 columns]"
      ]
     },
     "execution_count": 24,
     "metadata": {},
     "output_type": "execute_result"
    }
   ],
   "source": [
    "group_likes"
   ]
  },
  {
   "cell_type": "markdown",
   "id": "186e3b06",
   "metadata": {
    "papermill": {
     "duration": 0.018395,
     "end_time": "2023-04-23T12:47:53.518760",
     "exception": false,
     "start_time": "2023-04-23T12:47:53.500365",
     "status": "completed"
    },
    "tags": []
   },
   "source": [
    "Доля всех пользователей сделавших хоть один лайк, без разбивки на группы."
   ]
  },
  {
   "cell_type": "code",
   "execution_count": 25,
   "id": "7db82c94",
   "metadata": {
    "execution": {
     "iopub.execute_input": "2023-04-23T12:47:53.558457Z",
     "iopub.status.busy": "2023-04-23T12:47:53.557728Z",
     "iopub.status.idle": "2023-04-23T12:47:53.564903Z",
     "shell.execute_reply": "2023-04-23T12:47:53.563725Z"
    },
    "papermill": {
     "duration": 0.029948,
     "end_time": "2023-04-23T12:47:53.567357",
     "exception": false,
     "start_time": "2023-04-23T12:47:53.537409",
     "status": "completed"
    },
    "tags": []
   },
   "outputs": [
    {
     "data": {
      "text/plain": [
       "0.8947530341952653"
      ]
     },
     "execution_count": 25,
     "metadata": {},
     "output_type": "execute_result"
    }
   ],
   "source": [
    "group_likes.has_like.mean()"
   ]
  },
  {
   "cell_type": "markdown",
   "id": "949be134",
   "metadata": {
    "papermill": {
     "duration": 0.018572,
     "end_time": "2023-04-23T12:47:53.605350",
     "exception": false,
     "start_time": "2023-04-23T12:47:53.586778",
     "status": "completed"
    },
    "tags": []
   },
   "source": [
    "Доля всех пользователей сделавших хоть один лайк, в пределах каждой группы."
   ]
  },
  {
   "cell_type": "code",
   "execution_count": 26,
   "id": "ba4730db",
   "metadata": {
    "execution": {
     "iopub.execute_input": "2023-04-23T12:47:53.645513Z",
     "iopub.status.busy": "2023-04-23T12:47:53.644335Z",
     "iopub.status.idle": "2023-04-23T12:47:53.667067Z",
     "shell.execute_reply": "2023-04-23T12:47:53.665829Z"
    },
    "papermill": {
     "duration": 0.04532,
     "end_time": "2023-04-23T12:47:53.669438",
     "exception": false,
     "start_time": "2023-04-23T12:47:53.624118",
     "status": "completed"
    },
    "tags": []
   },
   "outputs": [
    {
     "data": {
      "text/html": [
       "<div>\n",
       "<style scoped>\n",
       "    .dataframe tbody tr th:only-of-type {\n",
       "        vertical-align: middle;\n",
       "    }\n",
       "\n",
       "    .dataframe tbody tr th {\n",
       "        vertical-align: top;\n",
       "    }\n",
       "\n",
       "    .dataframe thead th {\n",
       "        text-align: right;\n",
       "    }\n",
       "</style>\n",
       "<table border=\"1\" class=\"dataframe\">\n",
       "  <thead>\n",
       "    <tr style=\"text-align: right;\">\n",
       "      <th></th>\n",
       "      <th>has_like</th>\n",
       "      <th>like_num</th>\n",
       "    </tr>\n",
       "    <tr>\n",
       "      <th>exp_group</th>\n",
       "      <th></th>\n",
       "      <th></th>\n",
       "    </tr>\n",
       "  </thead>\n",
       "  <tbody>\n",
       "    <tr>\n",
       "      <th>control</th>\n",
       "      <td>0.891314</td>\n",
       "      <td>3.487079</td>\n",
       "    </tr>\n",
       "    <tr>\n",
       "      <th>test</th>\n",
       "      <td>0.898160</td>\n",
       "      <td>3.592578</td>\n",
       "    </tr>\n",
       "  </tbody>\n",
       "</table>\n",
       "</div>"
      ],
      "text/plain": [
       "           has_like  like_num\n",
       "exp_group                    \n",
       "control    0.891314  3.487079\n",
       "test       0.898160  3.592578"
      ]
     },
     "execution_count": 26,
     "metadata": {},
     "output_type": "execute_result"
    }
   ],
   "source": [
    "sum_group_likes = group_likes.groupby('exp_group')[['has_like', 'like_num']].mean()\n",
    "sum_group_likes"
   ]
  },
  {
   "cell_type": "markdown",
   "id": "5ac0aa73",
   "metadata": {
    "papermill": {
     "duration": 0.019109,
     "end_time": "2023-04-23T12:47:53.707671",
     "exception": false,
     "start_time": "2023-04-23T12:47:53.688562",
     "status": "completed"
    },
    "tags": []
   },
   "source": [
    "## Оценим, различаются ли число лайков между группами."
   ]
  },
  {
   "cell_type": "markdown",
   "id": "b7e76999",
   "metadata": {
    "papermill": {
     "duration": 0.018415,
     "end_time": "2023-04-23T12:47:53.745337",
     "exception": false,
     "start_time": "2023-04-23T12:47:53.726922",
     "status": "completed"
    },
    "tags": []
   },
   "source": [
    "Число кликов на пользователя распределено логнормально, если его визуализировать. Поэтому применим непараметрический критерии Манна-Уитни-Уилкоксона к числу лайков каждого пользователя."
   ]
  },
  {
   "cell_type": "code",
   "execution_count": 27,
   "id": "c5b80afc",
   "metadata": {
    "execution": {
     "iopub.execute_input": "2023-04-23T12:47:53.784826Z",
     "iopub.status.busy": "2023-04-23T12:47:53.784364Z",
     "iopub.status.idle": "2023-04-23T12:47:54.515013Z",
     "shell.execute_reply": "2023-04-23T12:47:54.513674Z"
    },
    "papermill": {
     "duration": 0.753675,
     "end_time": "2023-04-23T12:47:54.517609",
     "exception": false,
     "start_time": "2023-04-23T12:47:53.763934",
     "status": "completed"
    },
    "tags": []
   },
   "outputs": [
    {
     "data": {
      "image/png": "[encoded data removed]",
      "text/plain": [
       "<Figure size 640x480 with 1 Axes>"
      ]
     },
     "metadata": {},
     "output_type": "display_data"
    }
   ],
   "source": [
    "p = sns.histplot(group_likes[group_likes.exp_group == 'control'].like_num, kde=True)\n",
    "p.set(ylabel = 'Кол-во пользователей в control')\n",
    "plt.show()"
   ]
  },
  {
   "cell_type": "code",
   "execution_count": 28,
   "id": "c2637dba",
   "metadata": {
    "execution": {
     "iopub.execute_input": "2023-04-23T12:47:54.560664Z",
     "iopub.status.busy": "2023-04-23T12:47:54.559804Z",
     "iopub.status.idle": "2023-04-23T12:47:55.306703Z",
     "shell.execute_reply": "2023-04-23T12:47:55.305742Z"
    },
    "papermill": {
     "duration": 0.77067,
     "end_time": "2023-04-23T12:47:55.308953",
     "exception": false,
     "start_time": "2023-04-23T12:47:54.538283",
     "status": "completed"
    },
    "tags": []
   },
   "outputs": [
    {
     "data": {
      "image/png": "[encoded data removed]",
      "text/plain": [
       "<Figure size 640x480 with 1 Axes>"
      ]
     },
     "metadata": {},
     "output_type": "display_data"
    }
   ],
   "source": [
    "p = sns.histplot(group_likes[group_likes.exp_group == 'test'].like_num, kde=True)\n",
    "p.set(ylabel = 'Кол-во пользователей в test')\n",
    "plt.show()"
   ]
  },
  {
   "cell_type": "markdown",
   "id": "3965529c",
   "metadata": {
    "papermill": {
     "duration": 0.020728,
     "end_time": "2023-04-23T12:47:55.350394",
     "exception": false,
     "start_time": "2023-04-23T12:47:55.329666",
     "status": "completed"
    },
    "tags": []
   },
   "source": [
    "Число лайков каждого пользователя для разных групп."
   ]
  },
  {
   "cell_type": "code",
   "execution_count": 29,
   "id": "5081da7d",
   "metadata": {
    "execution": {
     "iopub.execute_input": "2023-04-23T12:47:55.393056Z",
     "iopub.status.busy": "2023-04-23T12:47:55.392191Z",
     "iopub.status.idle": "2023-04-23T12:47:55.410721Z",
     "shell.execute_reply": "2023-04-23T12:47:55.409727Z"
    },
    "papermill": {
     "duration": 0.042531,
     "end_time": "2023-04-23T12:47:55.413102",
     "exception": false,
     "start_time": "2023-04-23T12:47:55.370571",
     "status": "completed"
    },
    "tags": []
   },
   "outputs": [
    {
     "data": {
      "text/plain": [
       "6        4.0\n",
       "7        5.0\n",
       "9        3.0\n",
       "10       3.0\n",
       "11       4.0\n",
       "        ... \n",
       "64999    0.0\n",
       "65001    2.0\n",
       "65002    0.0\n",
       "65005    2.0\n",
       "65008    0.0\n",
       "Name: like_num, Length: 32350, dtype: float64"
      ]
     },
     "execution_count": 29,
     "metadata": {},
     "output_type": "execute_result"
    }
   ],
   "source": [
    "group_likes[group_likes.exp_group == 'control'].like_num"
   ]
  },
  {
   "cell_type": "code",
   "execution_count": 30,
   "id": "515ba280",
   "metadata": {
    "execution": {
     "iopub.execute_input": "2023-04-23T12:47:55.455643Z",
     "iopub.status.busy": "2023-04-23T12:47:55.454509Z",
     "iopub.status.idle": "2023-04-23T12:47:55.471811Z",
     "shell.execute_reply": "2023-04-23T12:47:55.470872Z"
    },
    "papermill": {
     "duration": 0.040927,
     "end_time": "2023-04-23T12:47:55.474022",
     "exception": false,
     "start_time": "2023-04-23T12:47:55.433095",
     "status": "completed"
    },
    "tags": []
   },
   "outputs": [
    {
     "data": {
      "text/plain": [
       "0        1.0\n",
       "1        3.0\n",
       "2        2.0\n",
       "3        4.0\n",
       "4        7.0\n",
       "        ... \n",
       "65000    3.0\n",
       "65003    4.0\n",
       "65004    5.0\n",
       "65006    0.0\n",
       "65007    5.0\n",
       "Name: like_num, Length: 32659, dtype: float64"
      ]
     },
     "execution_count": 30,
     "metadata": {},
     "output_type": "execute_result"
    }
   ],
   "source": [
    "group_likes[group_likes.exp_group == 'test'].like_num"
   ]
  },
  {
   "cell_type": "code",
   "execution_count": 31,
   "id": "821658cf",
   "metadata": {
    "execution": {
     "iopub.execute_input": "2023-04-23T12:47:55.517120Z",
     "iopub.status.busy": "2023-04-23T12:47:55.516260Z",
     "iopub.status.idle": "2023-04-23T12:47:55.579629Z",
     "shell.execute_reply": "2023-04-23T12:47:55.578609Z"
    },
    "papermill": {
     "duration": 0.087842,
     "end_time": "2023-04-23T12:47:55.582053",
     "exception": false,
     "start_time": "2023-04-23T12:47:55.494211",
     "status": "completed"
    },
    "tags": []
   },
   "outputs": [
    {
     "data": {
      "text/plain": [
       "MannwhitneyuResult(statistic=518358073.0, pvalue=2.9585062792441964e-05)"
      ]
     },
     "execution_count": 31,
     "metadata": {},
     "output_type": "execute_result"
    }
   ],
   "source": [
    "mannwhitneyu(\n",
    "    group_likes[group_likes.exp_group == 'control'].like_num,\n",
    "    group_likes[group_likes.exp_group == 'test'].like_num,\n",
    ")"
   ]
  },
  {
   "cell_type": "markdown",
   "id": "ed69cb34",
   "metadata": {
    "papermill": {
     "duration": 0.020163,
     "end_time": "2023-04-23T12:47:55.622732",
     "exception": false,
     "start_time": "2023-04-23T12:47:55.602569",
     "status": "completed"
    },
    "tags": []
   },
   "source": [
    "Отвергаем нулевую гипотезу, что значимых изменений в группах нет."
   ]
  },
  {
   "cell_type": "markdown",
   "id": "d74baac3",
   "metadata": {
    "papermill": {
     "duration": 0.019999,
     "end_time": "2023-04-23T12:47:55.663305",
     "exception": false,
     "start_time": "2023-04-23T12:47:55.643306",
     "status": "completed"
    },
    "tags": []
   },
   "source": [
    "Доля пользователей, которые поставили хоть один лайк."
   ]
  },
  {
   "cell_type": "code",
   "execution_count": 32,
   "id": "28409259",
   "metadata": {
    "execution": {
     "iopub.execute_input": "2023-04-23T12:47:55.706485Z",
     "iopub.status.busy": "2023-04-23T12:47:55.705709Z",
     "iopub.status.idle": "2023-04-23T12:47:55.715832Z",
     "shell.execute_reply": "2023-04-23T12:47:55.714593Z"
    },
    "papermill": {
     "duration": 0.034505,
     "end_time": "2023-04-23T12:47:55.718139",
     "exception": false,
     "start_time": "2023-04-23T12:47:55.683634",
     "status": "completed"
    },
    "tags": []
   },
   "outputs": [
    {
     "data": {
      "text/html": [
       "<div>\n",
       "<style scoped>\n",
       "    .dataframe tbody tr th:only-of-type {\n",
       "        vertical-align: middle;\n",
       "    }\n",
       "\n",
       "    .dataframe tbody tr th {\n",
       "        vertical-align: top;\n",
       "    }\n",
       "\n",
       "    .dataframe thead th {\n",
       "        text-align: right;\n",
       "    }\n",
       "</style>\n",
       "<table border=\"1\" class=\"dataframe\">\n",
       "  <thead>\n",
       "    <tr style=\"text-align: right;\">\n",
       "      <th></th>\n",
       "      <th>has_like</th>\n",
       "      <th>like_num</th>\n",
       "    </tr>\n",
       "    <tr>\n",
       "      <th>exp_group</th>\n",
       "      <th></th>\n",
       "      <th></th>\n",
       "    </tr>\n",
       "  </thead>\n",
       "  <tbody>\n",
       "    <tr>\n",
       "      <th>control</th>\n",
       "      <td>0.891314</td>\n",
       "      <td>3.487079</td>\n",
       "    </tr>\n",
       "    <tr>\n",
       "      <th>test</th>\n",
       "      <td>0.898160</td>\n",
       "      <td>3.592578</td>\n",
       "    </tr>\n",
       "  </tbody>\n",
       "</table>\n",
       "</div>"
      ],
      "text/plain": [
       "           has_like  like_num\n",
       "exp_group                    \n",
       "control    0.891314  3.487079\n",
       "test       0.898160  3.592578"
      ]
     },
     "execution_count": 32,
     "metadata": {},
     "output_type": "execute_result"
    }
   ],
   "source": [
    "sum_group_likes"
   ]
  },
  {
   "cell_type": "markdown",
   "id": "40fb175c",
   "metadata": {
    "papermill": {
     "duration": 0.020644,
     "end_time": "2023-04-23T12:47:55.760451",
     "exception": false,
     "start_time": "2023-04-23T12:47:55.739807",
     "status": "completed"
    },
    "tags": []
   },
   "source": [
    "В группе test увеличилась доля пользователей, которая поставила хоть один лайк и среднее кол-во лайков."
   ]
  },
  {
   "cell_type": "markdown",
   "id": "8460ff2e",
   "metadata": {
    "papermill": {
     "duration": 0.020337,
     "end_time": "2023-04-23T12:47:55.801738",
     "exception": false,
     "start_time": "2023-04-23T12:47:55.781401",
     "status": "completed"
    },
    "tags": []
   },
   "source": [
    "## Подсчёт метрики Hitrate@5."
   ]
  },
  {
   "cell_type": "markdown",
   "id": "15e9e0d1",
   "metadata": {
    "papermill": {
     "duration": 0.020397,
     "end_time": "2023-04-23T12:47:55.843365",
     "exception": false,
     "start_time": "2023-04-23T12:47:55.822968",
     "status": "completed"
    },
    "tags": []
   },
   "source": [
    "Соединим слева таблицу views с таблицей likes, по полю user_id. Значения NaN заполним -1. Значения NaN будут означать, что после нашей рекомендации пользователь не поставил лайк ни одному посту или пара рекомендация - пост не имеет смысла, например, когда время проставления лайка меньше времени рекомендации."
   ]
  },
  {
   "cell_type": "code",
   "execution_count": 33,
   "id": "61de1cba",
   "metadata": {
    "execution": {
     "iopub.execute_input": "2023-04-23T12:47:55.886576Z",
     "iopub.status.busy": "2023-04-23T12:47:55.886154Z",
     "iopub.status.idle": "2023-04-23T12:47:56.095499Z",
     "shell.execute_reply": "2023-04-23T12:47:56.094099Z"
    },
    "papermill": {
     "duration": 0.234566,
     "end_time": "2023-04-23T12:47:56.098464",
     "exception": false,
     "start_time": "2023-04-23T12:47:55.863898",
     "status": "completed"
    },
    "tags": []
   },
   "outputs": [],
   "source": [
    "views_likes = pd.merge(views, likes, on='user_id', how='left')\n",
    "views_likes.post_id = views_likes.post_id.fillna(-1).astype(int)"
   ]
  },
  {
   "cell_type": "markdown",
   "id": "ae33ee2a",
   "metadata": {
    "papermill": {
     "duration": 0.020846,
     "end_time": "2023-04-23T12:47:56.139917",
     "exception": false,
     "start_time": "2023-04-23T12:47:56.119071",
     "status": "completed"
    },
    "tags": []
   },
   "source": [
    "Распарсим рекомендации из строки в список."
   ]
  },
  {
   "cell_type": "code",
   "execution_count": 34,
   "id": "449f8f23",
   "metadata": {
    "execution": {
     "iopub.execute_input": "2023-04-23T12:47:56.183829Z",
     "iopub.status.busy": "2023-04-23T12:47:56.182588Z",
     "iopub.status.idle": "2023-04-23T12:47:59.651468Z",
     "shell.execute_reply": "2023-04-23T12:47:59.650069Z"
    },
    "papermill": {
     "duration": 3.493619,
     "end_time": "2023-04-23T12:47:59.654165",
     "exception": false,
     "start_time": "2023-04-23T12:47:56.160546",
     "status": "completed"
    },
    "tags": []
   },
   "outputs": [],
   "source": [
    "views_likes['recommendations'] = views_likes.recommendations.apply(\n",
    "    lambda x: list(map(int, filter(bool, x[1:-1].split(' '))))\n",
    ")"
   ]
  },
  {
   "cell_type": "code",
   "execution_count": 35,
   "id": "a191bb8b",
   "metadata": {
    "execution": {
     "iopub.execute_input": "2023-04-23T12:47:59.705344Z",
     "iopub.status.busy": "2023-04-23T12:47:59.704118Z",
     "iopub.status.idle": "2023-04-23T12:47:59.724715Z",
     "shell.execute_reply": "2023-04-23T12:47:59.723392Z"
    },
    "papermill": {
     "duration": 0.044847,
     "end_time": "2023-04-23T12:47:59.727042",
     "exception": false,
     "start_time": "2023-04-23T12:47:59.682195",
     "status": "completed"
    },
    "tags": []
   },
   "outputs": [
    {
     "data": {
      "text/html": [
       "<div>\n",
       "<style scoped>\n",
       "    .dataframe tbody tr th:only-of-type {\n",
       "        vertical-align: middle;\n",
       "    }\n",
       "\n",
       "    .dataframe tbody tr th {\n",
       "        vertical-align: top;\n",
       "    }\n",
       "\n",
       "    .dataframe thead th {\n",
       "        text-align: right;\n",
       "    }\n",
       "</style>\n",
       "<table border=\"1\" class=\"dataframe\">\n",
       "  <thead>\n",
       "    <tr style=\"text-align: right;\">\n",
       "      <th></th>\n",
       "      <th>user_id</th>\n",
       "      <th>exp_group</th>\n",
       "      <th>recommendations</th>\n",
       "      <th>timestamp_x</th>\n",
       "      <th>post_id</th>\n",
       "      <th>timestamp_y</th>\n",
       "    </tr>\n",
       "  </thead>\n",
       "  <tbody>\n",
       "    <tr>\n",
       "      <th>0</th>\n",
       "      <td>128381</td>\n",
       "      <td>control</td>\n",
       "      <td>[3644, 4529, 4704, 5294, 4808]</td>\n",
       "      <td>1654030803</td>\n",
       "      <td>4704</td>\n",
       "      <td>1.654031e+09</td>\n",
       "    </tr>\n",
       "    <tr>\n",
       "      <th>1</th>\n",
       "      <td>128381</td>\n",
       "      <td>control</td>\n",
       "      <td>[3644, 4529, 4704, 5294, 4808]</td>\n",
       "      <td>1654030803</td>\n",
       "      <td>5294</td>\n",
       "      <td>1.654031e+09</td>\n",
       "    </tr>\n",
       "    <tr>\n",
       "      <th>2</th>\n",
       "      <td>128381</td>\n",
       "      <td>control</td>\n",
       "      <td>[3644, 4529, 4704, 5294, 4808]</td>\n",
       "      <td>1654030803</td>\n",
       "      <td>3608</td>\n",
       "      <td>1.655049e+09</td>\n",
       "    </tr>\n",
       "    <tr>\n",
       "      <th>3</th>\n",
       "      <td>128381</td>\n",
       "      <td>control</td>\n",
       "      <td>[3644, 4529, 4704, 5294, 4808]</td>\n",
       "      <td>1654030803</td>\n",
       "      <td>2542</td>\n",
       "      <td>1.655049e+09</td>\n",
       "    </tr>\n",
       "    <tr>\n",
       "      <th>4</th>\n",
       "      <td>128381</td>\n",
       "      <td>control</td>\n",
       "      <td>[3644, 4529, 4704, 5294, 4808]</td>\n",
       "      <td>1654030803</td>\n",
       "      <td>4165</td>\n",
       "      <td>1.655053e+09</td>\n",
       "    </tr>\n",
       "    <tr>\n",
       "      <th>...</th>\n",
       "      <td>...</td>\n",
       "      <td>...</td>\n",
       "      <td>...</td>\n",
       "      <td>...</td>\n",
       "      <td>...</td>\n",
       "      <td>...</td>\n",
       "    </tr>\n",
       "    <tr>\n",
       "      <th>1016884</th>\n",
       "      <td>52169</td>\n",
       "      <td>test</td>\n",
       "      <td>[1368, 1709, 1616, 798, 5305]</td>\n",
       "      <td>1655240354</td>\n",
       "      <td>1709</td>\n",
       "      <td>1.655240e+09</td>\n",
       "    </tr>\n",
       "    <tr>\n",
       "      <th>1016885</th>\n",
       "      <td>142402</td>\n",
       "      <td>test</td>\n",
       "      <td>[5895, 6984, 1978, 6548, 6106]</td>\n",
       "      <td>1655240373</td>\n",
       "      <td>6548</td>\n",
       "      <td>1.655240e+09</td>\n",
       "    </tr>\n",
       "    <tr>\n",
       "      <th>1016886</th>\n",
       "      <td>72259</td>\n",
       "      <td>control</td>\n",
       "      <td>[6117, 1255, 6567, 3587, 3811]</td>\n",
       "      <td>1655240388</td>\n",
       "      <td>1712</td>\n",
       "      <td>1.654305e+09</td>\n",
       "    </tr>\n",
       "    <tr>\n",
       "      <th>1016887</th>\n",
       "      <td>72259</td>\n",
       "      <td>control</td>\n",
       "      <td>[6117, 1255, 6567, 3587, 3811]</td>\n",
       "      <td>1655240388</td>\n",
       "      <td>5070</td>\n",
       "      <td>1.654309e+09</td>\n",
       "    </tr>\n",
       "    <tr>\n",
       "      <th>1016888</th>\n",
       "      <td>72259</td>\n",
       "      <td>control</td>\n",
       "      <td>[6117, 1255, 6567, 3587, 3811]</td>\n",
       "      <td>1655240388</td>\n",
       "      <td>4711</td>\n",
       "      <td>1.654949e+09</td>\n",
       "    </tr>\n",
       "  </tbody>\n",
       "</table>\n",
       "<p>1016889 rows × 6 columns</p>\n",
       "</div>"
      ],
      "text/plain": [
       "         user_id exp_group                 recommendations  timestamp_x  \\\n",
       "0         128381   control  [3644, 4529, 4704, 5294, 4808]   1654030803   \n",
       "1         128381   control  [3644, 4529, 4704, 5294, 4808]   1654030803   \n",
       "2         128381   control  [3644, 4529, 4704, 5294, 4808]   1654030803   \n",
       "3         128381   control  [3644, 4529, 4704, 5294, 4808]   1654030803   \n",
       "4         128381   control  [3644, 4529, 4704, 5294, 4808]   1654030803   \n",
       "...          ...       ...                             ...          ...   \n",
       "1016884    52169      test   [1368, 1709, 1616, 798, 5305]   1655240354   \n",
       "1016885   142402      test  [5895, 6984, 1978, 6548, 6106]   1655240373   \n",
       "1016886    72259   control  [6117, 1255, 6567, 3587, 3811]   1655240388   \n",
       "1016887    72259   control  [6117, 1255, 6567, 3587, 3811]   1655240388   \n",
       "1016888    72259   control  [6117, 1255, 6567, 3587, 3811]   1655240388   \n",
       "\n",
       "         post_id   timestamp_y  \n",
       "0           4704  1.654031e+09  \n",
       "1           5294  1.654031e+09  \n",
       "2           3608  1.655049e+09  \n",
       "3           2542  1.655049e+09  \n",
       "4           4165  1.655053e+09  \n",
       "...          ...           ...  \n",
       "1016884     1709  1.655240e+09  \n",
       "1016885     6548  1.655240e+09  \n",
       "1016886     1712  1.654305e+09  \n",
       "1016887     5070  1.654309e+09  \n",
       "1016888     4711  1.654949e+09  \n",
       "\n",
       "[1016889 rows x 6 columns]"
      ]
     },
     "execution_count": 35,
     "metadata": {},
     "output_type": "execute_result"
    }
   ],
   "source": [
    "views_likes"
   ]
  },
  {
   "cell_type": "markdown",
   "id": "7f047cdd",
   "metadata": {
    "papermill": {
     "duration": 0.020405,
     "end_time": "2023-04-23T12:47:59.768187",
     "exception": false,
     "start_time": "2023-04-23T12:47:59.747782",
     "status": "completed"
    },
    "tags": []
   },
   "source": [
    "post_id - это id поста, которому пользователь поставил лайк. Пометим это поле -1 для следующих случаев:   \n",
    "* если значение post_id == -1;  \n",
    "* если время рекомендации больше, чем время лайка;  \n",
    "* если лайк поста был больше, чем через час, после рекомендаций;  \n",
    "* если лайкнутого поста нет в рекомендациях.\n"
   ]
  },
  {
   "cell_type": "code",
   "execution_count": 36,
   "id": "3766be45",
   "metadata": {
    "execution": {
     "iopub.execute_input": "2023-04-23T12:47:59.811622Z",
     "iopub.status.busy": "2023-04-23T12:47:59.811195Z",
     "iopub.status.idle": "2023-04-23T12:49:05.235424Z",
     "shell.execute_reply": "2023-04-23T12:49:05.234313Z"
    },
    "papermill": {
     "duration": 65.448963,
     "end_time": "2023-04-23T12:49:05.238085",
     "exception": false,
     "start_time": "2023-04-23T12:47:59.789122",
     "status": "completed"
    },
    "tags": []
   },
   "outputs": [],
   "source": [
    "views_likes.post_id = views_likes.apply(\n",
    "    lambda row:\n",
    "    -1\n",
    "    if\n",
    "        (row.post_id == -1) | \n",
    "        ((row.timestamp_x > row.timestamp_y) |\n",
    "         (row.timestamp_x + 60 * 60 < row.timestamp_y)) |\n",
    "        (row.post_id not in row.recommendations)\n",
    "    else\n",
    "    row.post_id, axis=1)"
   ]
  },
  {
   "cell_type": "markdown",
   "id": "fd7b278c",
   "metadata": {
    "papermill": {
     "duration": 0.020195,
     "end_time": "2023-04-23T12:49:05.280236",
     "exception": false,
     "start_time": "2023-04-23T12:49:05.260041",
     "status": "completed"
    },
    "tags": []
   },
   "source": [
    "Проверим размерности таблиц."
   ]
  },
  {
   "cell_type": "code",
   "execution_count": 37,
   "id": "41b2cc45",
   "metadata": {
    "execution": {
     "iopub.execute_input": "2023-04-23T12:49:05.323282Z",
     "iopub.status.busy": "2023-04-23T12:49:05.322316Z",
     "iopub.status.idle": "2023-04-23T12:49:05.329076Z",
     "shell.execute_reply": "2023-04-23T12:49:05.328110Z"
    },
    "papermill": {
     "duration": 0.030605,
     "end_time": "2023-04-23T12:49:05.331247",
     "exception": false,
     "start_time": "2023-04-23T12:49:05.300642",
     "status": "completed"
    },
    "tags": []
   },
   "outputs": [
    {
     "data": {
      "text/plain": [
       "(193268, 1016889)"
      ]
     },
     "execution_count": 37,
     "metadata": {},
     "output_type": "execute_result"
    }
   ],
   "source": [
    "len(views), len(views_likes)"
   ]
  },
  {
   "cell_type": "code",
   "execution_count": 38,
   "id": "61b7b4d9",
   "metadata": {
    "execution": {
     "iopub.execute_input": "2023-04-23T12:49:05.374580Z",
     "iopub.status.busy": "2023-04-23T12:49:05.374185Z",
     "iopub.status.idle": "2023-04-23T12:49:05.773637Z",
     "shell.execute_reply": "2023-04-23T12:49:05.772401Z"
    },
    "papermill": {
     "duration": 0.424089,
     "end_time": "2023-04-23T12:49:05.776075",
     "exception": false,
     "start_time": "2023-04-23T12:49:05.351986",
     "status": "completed"
    },
    "tags": []
   },
   "outputs": [
    {
     "data": {
      "text/plain": [
       "(193268, 4)"
      ]
     },
     "execution_count": 38,
     "metadata": {},
     "output_type": "execute_result"
    }
   ],
   "source": [
    "views_likes.groupby(['user_id', 'timestamp_x']).first().shape"
   ]
  },
  {
   "cell_type": "markdown",
   "id": "1866aa48",
   "metadata": {
    "papermill": {
     "duration": 0.020308,
     "end_time": "2023-04-23T12:49:05.816968",
     "exception": false,
     "start_time": "2023-04-23T12:49:05.796660",
     "status": "completed"
    },
    "tags": []
   },
   "source": [
    "Напишем специальную агрегирующую функцию для post_id и сгруппируем по user_id, exp_group, timestamp_x. Для групп post_id функция будет возвращать 1 если:  \n",
    "* значение post_id == -1 содержится среди уникальных значений группы, в которой два и более элемента (т.е. пользователь лайкнул, хотя бы один пост из рекомендаций);\n",
    "* в группе уникальных значений post_id нет значения -1.  \n",
    "\n",
    "Т.е. значение 1 означает, что пользователь лайкнул хоть один пост из наших рекомендаций."
   ]
  },
  {
   "cell_type": "code",
   "execution_count": 39,
   "id": "40f833b7",
   "metadata": {
    "execution": {
     "iopub.execute_input": "2023-04-23T12:49:05.860962Z",
     "iopub.status.busy": "2023-04-23T12:49:05.860543Z",
     "iopub.status.idle": "2023-04-23T12:49:07.482057Z",
     "shell.execute_reply": "2023-04-23T12:49:07.481052Z"
    },
    "papermill": {
     "duration": 1.646534,
     "end_time": "2023-04-23T12:49:07.484755",
     "exception": false,
     "start_time": "2023-04-23T12:49:05.838221",
     "status": "completed"
    },
    "tags": []
   },
   "outputs": [],
   "source": [
    "def my_agg(values):\n",
    "    values = set(values)\n",
    "    if -1 in values and len(values) >= 2:\n",
    "        return 1\n",
    "    elif -1 not in values:\n",
    "        return 1\n",
    "    return 0\n",
    "\n",
    "tmp_agg = views_likes.groupby(['user_id', 'exp_group', 'timestamp_x']).post_id.agg(my_agg)"
   ]
  },
  {
   "cell_type": "code",
   "execution_count": 40,
   "id": "cabf952f",
   "metadata": {
    "execution": {
     "iopub.execute_input": "2023-04-23T12:49:07.528950Z",
     "iopub.status.busy": "2023-04-23T12:49:07.528544Z",
     "iopub.status.idle": "2023-04-23T12:49:07.543484Z",
     "shell.execute_reply": "2023-04-23T12:49:07.542390Z"
    },
    "papermill": {
     "duration": 0.040056,
     "end_time": "2023-04-23T12:49:07.545901",
     "exception": false,
     "start_time": "2023-04-23T12:49:07.505845",
     "status": "completed"
    },
    "tags": []
   },
   "outputs": [
    {
     "data": {
      "text/plain": [
       "user_id  exp_group  timestamp_x\n",
       "200      test       1655009047     1\n",
       "201      test       1654043283     0\n",
       "                    1654173790     0\n",
       "                    1654444704     1\n",
       "                    1654517459     0\n",
       "                                  ..\n",
       "168545   test       1654295281     1\n",
       "                    1654412184     1\n",
       "                    1654887207     1\n",
       "168552   control    1654516294     0\n",
       "                    1654885693     0\n",
       "Name: post_id, Length: 193268, dtype: int64"
      ]
     },
     "execution_count": 40,
     "metadata": {},
     "output_type": "execute_result"
    }
   ],
   "source": [
    "tmp_agg"
   ]
  },
  {
   "cell_type": "markdown",
   "id": "39b09148",
   "metadata": {
    "papermill": {
     "duration": 0.020745,
     "end_time": "2023-04-23T12:49:07.587634",
     "exception": false,
     "start_time": "2023-04-23T12:49:07.566889",
     "status": "completed"
    },
    "tags": []
   },
   "source": [
    "Итоговое значение метрики Hitrate@5:"
   ]
  },
  {
   "cell_type": "code",
   "execution_count": 41,
   "id": "ce3ce102",
   "metadata": {
    "execution": {
     "iopub.execute_input": "2023-04-23T12:49:07.634899Z",
     "iopub.status.busy": "2023-04-23T12:49:07.633705Z",
     "iopub.status.idle": "2023-04-23T12:49:07.652578Z",
     "shell.execute_reply": "2023-04-23T12:49:07.651278Z"
    },
    "papermill": {
     "duration": 0.046072,
     "end_time": "2023-04-23T12:49:07.655170",
     "exception": false,
     "start_time": "2023-04-23T12:49:07.609098",
     "status": "completed"
    },
    "tags": []
   },
   "outputs": [
    {
     "data": {
      "text/plain": [
       "0.7132582734855227"
      ]
     },
     "execution_count": 41,
     "metadata": {},
     "output_type": "execute_result"
    }
   ],
   "source": [
    "tmp_agg.reset_index().post_id.mean()"
   ]
  },
  {
   "cell_type": "markdown",
   "id": "940d0cd3",
   "metadata": {
    "papermill": {
     "duration": 0.02046,
     "end_time": "2023-04-23T12:49:07.697023",
     "exception": false,
     "start_time": "2023-04-23T12:49:07.676563",
     "status": "completed"
    },
    "tags": []
   },
   "source": [
    "### Оценка различий между группами."
   ]
  },
  {
   "cell_type": "markdown",
   "id": "a7637793",
   "metadata": {
    "papermill": {
     "duration": 0.02087,
     "end_time": "2023-04-23T12:49:07.738781",
     "exception": false,
     "start_time": "2023-04-23T12:49:07.717911",
     "status": "completed"
    },
    "tags": []
   },
   "source": [
    "z-критерий для долей мы здесь не можем применять, так как у нас в каждой выборке один и тот же пользователь может встречаться несколько раз. Будем применять бакетный подход (то есть перейдём к бакетам и по ним оценим значимость), чтобы подсчитать групповой hitrate (или CTR) — доля hitrate по группе/бакету. Будем использовать 100 бакетов. Уровень значимости останется тем же на уровне 0.05."
   ]
  },
  {
   "cell_type": "code",
   "execution_count": 42,
   "id": "3f9c4858",
   "metadata": {
    "execution": {
     "iopub.execute_input": "2023-04-23T12:49:07.782535Z",
     "iopub.status.busy": "2023-04-23T12:49:07.781870Z",
     "iopub.status.idle": "2023-04-23T12:49:07.800279Z",
     "shell.execute_reply": "2023-04-23T12:49:07.799333Z"
    },
    "papermill": {
     "duration": 0.043191,
     "end_time": "2023-04-23T12:49:07.802907",
     "exception": false,
     "start_time": "2023-04-23T12:49:07.759716",
     "status": "completed"
    },
    "tags": []
   },
   "outputs": [],
   "source": [
    "tmp_agg = tmp_agg.reset_index().rename(columns={'post_id': 'hitrate'})"
   ]
  },
  {
   "cell_type": "code",
   "execution_count": 43,
   "id": "c38a778f",
   "metadata": {
    "execution": {
     "iopub.execute_input": "2023-04-23T12:49:07.846984Z",
     "iopub.status.busy": "2023-04-23T12:49:07.846577Z",
     "iopub.status.idle": "2023-04-23T12:49:08.219913Z",
     "shell.execute_reply": "2023-04-23T12:49:08.218968Z"
    },
    "papermill": {
     "duration": 0.398385,
     "end_time": "2023-04-23T12:49:08.222572",
     "exception": false,
     "start_time": "2023-04-23T12:49:07.824187",
     "status": "completed"
    },
    "tags": []
   },
   "outputs": [],
   "source": [
    "import hashlib\n",
    "\n",
    "tmp_agg['bucket'] = tmp_agg['user_id'].apply(\n",
    "    lambda x: int(hashlib.md5((str(x) + 'my_salt').encode()).hexdigest(), 16) % 100\n",
    ")"
   ]
  },
  {
   "cell_type": "code",
   "execution_count": 44,
   "id": "4170e2df",
   "metadata": {
    "execution": {
     "iopub.execute_input": "2023-04-23T12:49:08.266867Z",
     "iopub.status.busy": "2023-04-23T12:49:08.266462Z",
     "iopub.status.idle": "2023-04-23T12:49:08.311311Z",
     "shell.execute_reply": "2023-04-23T12:49:08.310118Z"
    },
    "papermill": {
     "duration": 0.070064,
     "end_time": "2023-04-23T12:49:08.313780",
     "exception": false,
     "start_time": "2023-04-23T12:49:08.243716",
     "status": "completed"
    },
    "tags": []
   },
   "outputs": [
    {
     "data": {
      "text/html": [
       "<div>\n",
       "<style scoped>\n",
       "    .dataframe tbody tr th:only-of-type {\n",
       "        vertical-align: middle;\n",
       "    }\n",
       "\n",
       "    .dataframe tbody tr th {\n",
       "        vertical-align: top;\n",
       "    }\n",
       "\n",
       "    .dataframe thead th {\n",
       "        text-align: right;\n",
       "    }\n",
       "</style>\n",
       "<table border=\"1\" class=\"dataframe\">\n",
       "  <thead>\n",
       "    <tr style=\"text-align: right;\">\n",
       "      <th></th>\n",
       "      <th>exp_group</th>\n",
       "      <th>bucket</th>\n",
       "      <th>user_id</th>\n",
       "      <th>timestamp_x</th>\n",
       "      <th>hitrate</th>\n",
       "      <th>view</th>\n",
       "      <th>hitrate_bucket</th>\n",
       "    </tr>\n",
       "  </thead>\n",
       "  <tbody>\n",
       "    <tr>\n",
       "      <th>0</th>\n",
       "      <td>control</td>\n",
       "      <td>0</td>\n",
       "      <td>77778737</td>\n",
       "      <td>1507360555437</td>\n",
       "      <td>635</td>\n",
       "      <td>911</td>\n",
       "      <td>0.697036</td>\n",
       "    </tr>\n",
       "    <tr>\n",
       "      <th>1</th>\n",
       "      <td>control</td>\n",
       "      <td>1</td>\n",
       "      <td>82853383</td>\n",
       "      <td>1525568975208</td>\n",
       "      <td>652</td>\n",
       "      <td>922</td>\n",
       "      <td>0.707158</td>\n",
       "    </tr>\n",
       "    <tr>\n",
       "      <th>2</th>\n",
       "      <td>control</td>\n",
       "      <td>2</td>\n",
       "      <td>96371589</td>\n",
       "      <td>1712551288046</td>\n",
       "      <td>741</td>\n",
       "      <td>1035</td>\n",
       "      <td>0.715942</td>\n",
       "    </tr>\n",
       "    <tr>\n",
       "      <th>3</th>\n",
       "      <td>control</td>\n",
       "      <td>3</td>\n",
       "      <td>81600187</td>\n",
       "      <td>1523924283634</td>\n",
       "      <td>682</td>\n",
       "      <td>921</td>\n",
       "      <td>0.740499</td>\n",
       "    </tr>\n",
       "    <tr>\n",
       "      <th>4</th>\n",
       "      <td>control</td>\n",
       "      <td>4</td>\n",
       "      <td>77182250</td>\n",
       "      <td>1570243133349</td>\n",
       "      <td>664</td>\n",
       "      <td>949</td>\n",
       "      <td>0.699684</td>\n",
       "    </tr>\n",
       "  </tbody>\n",
       "</table>\n",
       "</div>"
      ],
      "text/plain": [
       "  exp_group  bucket   user_id    timestamp_x  hitrate  view  hitrate_bucket\n",
       "0   control       0  77778737  1507360555437      635   911        0.697036\n",
       "1   control       1  82853383  1525568975208      652   922        0.707158\n",
       "2   control       2  96371589  1712551288046      741  1035        0.715942\n",
       "3   control       3  81600187  1523924283634      682   921        0.740499\n",
       "4   control       4  77182250  1570243133349      664   949        0.699684"
      ]
     },
     "execution_count": 44,
     "metadata": {},
     "output_type": "execute_result"
    }
   ],
   "source": [
    "tmp_agg['view'] = 1\n",
    "\n",
    "new_df = tmp_agg.groupby(['exp_group', 'bucket']).sum(['hitrate', 'view']).reset_index()\n",
    "new_df['hitrate_bucket'] = new_df.hitrate / new_df.view\n",
    "\n",
    "new_df.head()"
   ]
  },
  {
   "cell_type": "code",
   "execution_count": 45,
   "id": "a6519f18",
   "metadata": {
    "execution": {
     "iopub.execute_input": "2023-04-23T12:49:08.357827Z",
     "iopub.status.busy": "2023-04-23T12:49:08.357398Z",
     "iopub.status.idle": "2023-04-23T12:49:08.382220Z",
     "shell.execute_reply": "2023-04-23T12:49:08.381099Z"
    },
    "papermill": {
     "duration": 0.049568,
     "end_time": "2023-04-23T12:49:08.384425",
     "exception": false,
     "start_time": "2023-04-23T12:49:08.334857",
     "status": "completed"
    },
    "tags": []
   },
   "outputs": [
    {
     "data": {
      "text/plain": [
       "exp_group\n",
       "control    0.706651\n",
       "test       0.719829\n",
       "Name: hitrate, dtype: float64"
      ]
     },
     "execution_count": 45,
     "metadata": {},
     "output_type": "execute_result"
    }
   ],
   "source": [
    "tmp_agg.groupby('exp_group').hitrate.mean()"
   ]
  },
  {
   "cell_type": "code",
   "execution_count": 46,
   "id": "6054a1bb",
   "metadata": {
    "execution": {
     "iopub.execute_input": "2023-04-23T12:49:08.429744Z",
     "iopub.status.busy": "2023-04-23T12:49:08.428567Z",
     "iopub.status.idle": "2023-04-23T12:49:08.433988Z",
     "shell.execute_reply": "2023-04-23T12:49:08.433040Z"
    },
    "papermill": {
     "duration": 0.030494,
     "end_time": "2023-04-23T12:49:08.436134",
     "exception": false,
     "start_time": "2023-04-23T12:49:08.405640",
     "status": "completed"
    },
    "tags": []
   },
   "outputs": [],
   "source": [
    "from scipy.stats import mannwhitneyu, ttest_ind"
   ]
  },
  {
   "cell_type": "code",
   "execution_count": 47,
   "id": "328f6179",
   "metadata": {
    "execution": {
     "iopub.execute_input": "2023-04-23T12:49:08.480654Z",
     "iopub.status.busy": "2023-04-23T12:49:08.480245Z",
     "iopub.status.idle": "2023-04-23T12:49:08.491794Z",
     "shell.execute_reply": "2023-04-23T12:49:08.490633Z"
    },
    "papermill": {
     "duration": 0.0365,
     "end_time": "2023-04-23T12:49:08.494038",
     "exception": false,
     "start_time": "2023-04-23T12:49:08.457538",
     "status": "completed"
    },
    "tags": []
   },
   "outputs": [
    {
     "data": {
      "text/plain": [
       "MannwhitneyuResult(statistic=2750.0, pvalue=3.876018970118259e-08)"
      ]
     },
     "execution_count": 47,
     "metadata": {},
     "output_type": "execute_result"
    }
   ],
   "source": [
    "mannwhitneyu(\n",
    "    new_df[new_df.exp_group == 'control'].hitrate_bucket,\n",
    "    new_df[new_df.exp_group == 'test'].hitrate_bucket,\n",
    ")"
   ]
  },
  {
   "cell_type": "code",
   "execution_count": 48,
   "id": "ebcf5565",
   "metadata": {
    "execution": {
     "iopub.execute_input": "2023-04-23T12:49:08.539064Z",
     "iopub.status.busy": "2023-04-23T12:49:08.538600Z",
     "iopub.status.idle": "2023-04-23T12:49:08.550065Z",
     "shell.execute_reply": "2023-04-23T12:49:08.548944Z"
    },
    "papermill": {
     "duration": 0.036548,
     "end_time": "2023-04-23T12:49:08.552325",
     "exception": false,
     "start_time": "2023-04-23T12:49:08.515777",
     "status": "completed"
    },
    "tags": []
   },
   "outputs": [
    {
     "data": {
      "text/plain": [
       "Ttest_indResult(statistic=-5.790457073344514, pvalue=2.7195475906984277e-08)"
      ]
     },
     "execution_count": 48,
     "metadata": {},
     "output_type": "execute_result"
    }
   ],
   "source": [
    "ttest_ind(\n",
    "    new_df[new_df.exp_group == 'control'].hitrate_bucket,\n",
    "    new_df[new_df.exp_group == 'test'].hitrate_bucket,\n",
    ")"
   ]
  },
  {
   "cell_type": "markdown",
   "id": "ccfd8e3a",
   "metadata": {
    "papermill": {
     "duration": 0.021075,
     "end_time": "2023-04-23T12:49:08.594858",
     "exception": false,
     "start_time": "2023-04-23T12:49:08.573783",
     "status": "completed"
    },
    "tags": []
   },
   "source": [
    "Значимые изменения. Средние в группах не равны. Метрика Hitrate@5 улучшилась. Вторая модель делает более эффективные рекомендации."
   ]
  }
 ],
 "metadata": {
  "kernelspec": {
   "display_name": "Python 3",
   "language": "python",
   "name": "python3"
  },
  "language_info": {
   "codemirror_mode": {
    "name": "ipython",
    "version": 3
   },
   "file_extension": ".py",
   "mimetype": "text/x-python",
   "name": "python",
   "nbconvert_exporter": "python",
   "pygments_lexer": "ipython3",
   "version": "3.7.12"
  },
  "papermill": {
   "default_parameters": {},
   "duration": 90.747018,
   "end_time": "2023-04-23T12:49:09.540276",
   "environment_variables": {},
   "exception": null,
   "input_path": "__notebook__.ipynb",
   "output_path": "__notebook__.ipynb",
   "parameters": {},
   "start_time": "2023-04-23T12:47:38.793258",
   "version": "2.4.0"
  }
 },
 "nbformat": 4,
 "nbformat_minor": 5
}
